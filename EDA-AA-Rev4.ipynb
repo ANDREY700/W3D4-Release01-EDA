{
 "cells": [
  {
   "cell_type": "markdown",
   "metadata": {},
   "source": [
    "- ELBRUSE Bootcamp \n",
    "- 03-12-2024\n",
    "- Home Work Week 1 Day 2\n",
    "- Andrey Abramov\n",
    "- abramov.andre@yandex.ru"
   ]
  },
  {
   "cell_type": "markdown",
   "metadata": {},
   "source": [
    "# Часть 1 / 3"
   ]
  },
  {
   "cell_type": "markdown",
   "metadata": {},
   "source": [
    "## Exploratory Data Analysis"
   ]
  },
  {
   "cell_type": "markdown",
   "metadata": {},
   "source": [
    "разведочного анализа данных по данным международного сервиса по продаже и аренде жилой недвижимости Alyona Ivanovna Real Estate Agency / AI REA Ltd. \n",
    "\n",
    "Для проведения анализа получены данные: файл _data.csv."
   ]
  },
  {
   "cell_type": "markdown",
   "metadata": {},
   "source": [
    "#  Содержание"
   ]
  },
  {
   "cell_type": "markdown",
   "metadata": {},
   "source": [
    "0. Загрузка библиотек и вспомогательные функции\n",
    "1. Загрузка данных\n",
    "2. Обзор массива\n",
    "3. Разбиение массива по городам\n",
    "4. Детальная структура массива\n",
    "5. Подготовка массива к машинному обучению - план"
   ]
  },
  {
   "cell_type": "markdown",
   "metadata": {},
   "source": [
    "# 0. Загрузка библиотек и вспомогательные функции"
   ]
  },
  {
   "cell_type": "markdown",
   "metadata": {},
   "source": [
    "## Загрузка библиотек"
   ]
  },
  {
   "cell_type": "code",
   "execution_count": 49,
   "metadata": {},
   "outputs": [],
   "source": [
    "import pandas as pd\n",
    "import numpy as np\n",
    "import matplotlib.pyplot as plt\n",
    "import sklearn\n",
    "from sklearn.preprocessing import LabelEncoder\n",
    "import re\n",
    "import statsmodels.api as sm\n",
    "from sklearn.preprocessing import LabelEncoder\n",
    "from sklearn.linear_model import LinearRegression\n",
    "from statsmodels.api import OLS \n",
    "import matplotlib.pyplot as plt\n",
    "import seaborn as sns"
   ]
  },
  {
   "cell_type": "markdown",
   "metadata": {},
   "source": [
    "# Вспомогательные функции"
   ]
  },
  {
   "cell_type": "code",
   "execution_count": 50,
   "metadata": {},
   "outputs": [],
   "source": [
    "# вспомогательная функция для оценки типов данных в столбце по первой строке\n",
    "def column_type(test : pd.DataFrame):\n",
    "    answer = pd.DataFrame([], columns=['Columns', 'Type'])\n",
    "    for i in test.columns.to_list():\n",
    "        answer.loc[len(answer)] =  [i, type(test[i][0])]\n",
    "        answer.reset_index(drop=True)\n",
    "    return answer\n",
    "\n",
    "# построение типовых barplot графиков по ходу анализа\n",
    "def plot_it(df, x_column, y_column, \n",
    "            plot_title, x_label, y_label, x_vertical=False):\n",
    "    plt.style.use('default')\n",
    "\n",
    "    plt.figure(figsize=(10, 7), dpi=50)\n",
    "    sns.barplot(x=x_column, y=y_column, data=df)\n",
    "\n",
    "    plt.title(plot_title, size=22)\n",
    "    plt.xlabel(x_label, size=18)\n",
    "    plt.ylabel(y_label, size=18)\n",
    "    if x_vertical: \n",
    "        plt.xticks(rotation = \"vertical\" )\n",
    "    plt.xticks(size=15)\n",
    "    plt.yticks(size=15)\n",
    "\n",
    "    plt.show()\n",
    "\n",
    "# поиск категориальных данных по структуре массива\n",
    "def find_categories(data):\n",
    "    answer = []   \n",
    "    a2 = ['', '', '']\n",
    "    for name in data.columns:       \n",
    "        a2[0] = name\n",
    "        if (type(data[name][0]) == str):\n",
    "            a2[1] = 'строка'\n",
    "        a2[2] = str(data[name].nunique())\n",
    "        answer.append(a2.copy())\n",
    "    return print(pd.DataFrame(answer, columns=['Столбец', 'Тип', 'Уникальных']))\n"
   ]
  },
  {
   "cell_type": "markdown",
   "metadata": {},
   "source": []
  },
  {
   "cell_type": "markdown",
   "metadata": {},
   "source": [
    "# 1. Загрузка данных"
   ]
  },
  {
   "cell_type": "code",
   "execution_count": 51,
   "metadata": {},
   "outputs": [
    {
     "data": {
      "text/html": [
       "<div>\n",
       "<style scoped>\n",
       "    .dataframe tbody tr th:only-of-type {\n",
       "        vertical-align: middle;\n",
       "    }\n",
       "\n",
       "    .dataframe tbody tr th {\n",
       "        vertical-align: top;\n",
       "    }\n",
       "\n",
       "    .dataframe thead th {\n",
       "        text-align: right;\n",
       "    }\n",
       "</style>\n",
       "<table border=\"1\" class=\"dataframe\">\n",
       "  <thead>\n",
       "    <tr style=\"text-align: right;\">\n",
       "      <th></th>\n",
       "      <th>ID  объявления</th>\n",
       "      <th>Количество комнат</th>\n",
       "      <th>Тип</th>\n",
       "      <th>Метро</th>\n",
       "      <th>Адрес</th>\n",
       "      <th>Площадь, м2</th>\n",
       "      <th>Дом</th>\n",
       "      <th>Парковка</th>\n",
       "      <th>Цена</th>\n",
       "      <th>Телефоны</th>\n",
       "      <th>...</th>\n",
       "      <th>Окна</th>\n",
       "      <th>Санузел</th>\n",
       "      <th>Можно с детьми/животными</th>\n",
       "      <th>Дополнительно</th>\n",
       "      <th>Название ЖК</th>\n",
       "      <th>Серия дома</th>\n",
       "      <th>Высота потолков, м</th>\n",
       "      <th>Лифт</th>\n",
       "      <th>Мусоропровод</th>\n",
       "      <th>Ссылка на объявление</th>\n",
       "    </tr>\n",
       "  </thead>\n",
       "  <tbody>\n",
       "    <tr>\n",
       "      <th>0</th>\n",
       "      <td>271271157</td>\n",
       "      <td>4</td>\n",
       "      <td>Квартира</td>\n",
       "      <td>м. Смоленская (9 мин пешком)</td>\n",
       "      <td>Москва, улица Новый Арбат, 27</td>\n",
       "      <td>200.0/20.0</td>\n",
       "      <td>5/16, Монолитный</td>\n",
       "      <td>подземная</td>\n",
       "      <td>500000.0 руб./ За месяц, Залог - 500000 руб., ...</td>\n",
       "      <td>+79166369231</td>\n",
       "      <td>...</td>\n",
       "      <td>NaN</td>\n",
       "      <td>NaN</td>\n",
       "      <td>Можно с детьми, Можно с животными</td>\n",
       "      <td>Мебель в комнатах, Мебель на кухне, Ванна, Душ...</td>\n",
       "      <td>Новый Арбат, 2010</td>\n",
       "      <td>NaN</td>\n",
       "      <td>3.0</td>\n",
       "      <td>Пасс (4), Груз (1)</td>\n",
       "      <td>Да</td>\n",
       "      <td>https://www.cian.ru/rent/flat/271271157</td>\n",
       "    </tr>\n",
       "    <tr>\n",
       "      <th>1</th>\n",
       "      <td>271634126</td>\n",
       "      <td>4</td>\n",
       "      <td>Квартира</td>\n",
       "      <td>м. Смоленская (8 мин пешком)</td>\n",
       "      <td>Москва, улица Новый Арбат, 27</td>\n",
       "      <td>198.0/95.0/18.0</td>\n",
       "      <td>5/16, Монолитно-кирпичный</td>\n",
       "      <td>подземная</td>\n",
       "      <td>500000.0 руб./ За месяц, Залог - 500000 руб., ...</td>\n",
       "      <td>+79850608590</td>\n",
       "      <td>...</td>\n",
       "      <td>На улицу и двор</td>\n",
       "      <td>Совмещенный (2), Раздельный (1)</td>\n",
       "      <td>Можно с детьми</td>\n",
       "      <td>Мебель в комнатах, Мебель на кухне, Ванна, Душ...</td>\n",
       "      <td>Новый Арбат</td>\n",
       "      <td>NaN</td>\n",
       "      <td>3.5</td>\n",
       "      <td>Пасс (1), Груз (1)</td>\n",
       "      <td>Нет</td>\n",
       "      <td>https://www.cian.ru/rent/flat/271634126</td>\n",
       "    </tr>\n",
       "    <tr>\n",
       "      <th>2</th>\n",
       "      <td>271173086</td>\n",
       "      <td>4, Оба варианта</td>\n",
       "      <td>Квартира</td>\n",
       "      <td>м. Смоленская (7 мин пешком)</td>\n",
       "      <td>Москва, улица Новый Арбат, 27</td>\n",
       "      <td>200.0/116.0/4.0</td>\n",
       "      <td>5/16</td>\n",
       "      <td>подземная</td>\n",
       "      <td>500000.0 руб./ За месяц, Залог - 500000 руб., ...</td>\n",
       "      <td>+79672086536, +79099269384</td>\n",
       "      <td>...</td>\n",
       "      <td>На улицу и двор</td>\n",
       "      <td>Совмещенный (3)</td>\n",
       "      <td>Можно с детьми</td>\n",
       "      <td>Мебель в комнатах, Мебель на кухне, Ванна, Душ...</td>\n",
       "      <td>Новый Арбат</td>\n",
       "      <td>NaN</td>\n",
       "      <td>3.2</td>\n",
       "      <td>Пасс (1)</td>\n",
       "      <td>NaN</td>\n",
       "      <td>https://www.cian.ru/rent/flat/271173086</td>\n",
       "    </tr>\n",
       "  </tbody>\n",
       "</table>\n",
       "<p>3 rows × 24 columns</p>\n",
       "</div>"
      ],
      "text/plain": [
       "   ID  объявления Количество комнат       Тип                         Метро  \\\n",
       "0       271271157                 4  Квартира  м. Смоленская (9 мин пешком)   \n",
       "1       271634126                 4  Квартира  м. Смоленская (8 мин пешком)   \n",
       "2       271173086   4, Оба варианта  Квартира  м. Смоленская (7 мин пешком)   \n",
       "\n",
       "                           Адрес      Площадь, м2                        Дом  \\\n",
       "0  Москва, улица Новый Арбат, 27       200.0/20.0           5/16, Монолитный   \n",
       "1  Москва, улица Новый Арбат, 27  198.0/95.0/18.0  5/16, Монолитно-кирпичный   \n",
       "2  Москва, улица Новый Арбат, 27  200.0/116.0/4.0                       5/16   \n",
       "\n",
       "    Парковка                                               Цена  \\\n",
       "0  подземная  500000.0 руб./ За месяц, Залог - 500000 руб., ...   \n",
       "1  подземная  500000.0 руб./ За месяц, Залог - 500000 руб., ...   \n",
       "2  подземная  500000.0 руб./ За месяц, Залог - 500000 руб., ...   \n",
       "\n",
       "                     Телефоны  ...             Окна  \\\n",
       "0                +79166369231  ...              NaN   \n",
       "1                +79850608590  ...  На улицу и двор   \n",
       "2  +79672086536, +79099269384  ...  На улицу и двор   \n",
       "\n",
       "                           Санузел           Можно с детьми/животными  \\\n",
       "0                              NaN  Можно с детьми, Можно с животными   \n",
       "1  Совмещенный (2), Раздельный (1)                     Можно с детьми   \n",
       "2                  Совмещенный (3)                     Можно с детьми   \n",
       "\n",
       "                                       Дополнительно        Название ЖК  \\\n",
       "0  Мебель в комнатах, Мебель на кухне, Ванна, Душ...  Новый Арбат, 2010   \n",
       "1  Мебель в комнатах, Мебель на кухне, Ванна, Душ...        Новый Арбат   \n",
       "2  Мебель в комнатах, Мебель на кухне, Ванна, Душ...        Новый Арбат   \n",
       "\n",
       "  Серия дома Высота потолков, м                Лифт Мусоропровод  \\\n",
       "0        NaN                3.0  Пасс (4), Груз (1)           Да   \n",
       "1        NaN                3.5  Пасс (1), Груз (1)          Нет   \n",
       "2        NaN                3.2            Пасс (1)          NaN   \n",
       "\n",
       "                      Ссылка на объявление  \n",
       "0  https://www.cian.ru/rent/flat/271271157  \n",
       "1  https://www.cian.ru/rent/flat/271634126  \n",
       "2  https://www.cian.ru/rent/flat/271173086  \n",
       "\n",
       "[3 rows x 24 columns]"
      ]
     },
     "execution_count": 51,
     "metadata": {},
     "output_type": "execute_result"
    }
   ],
   "source": [
    "path = '/home/andrey/Documents/Working/W3D4-real/data/_data.csv'\n",
    "data = pd.read_csv(path, index_col=[0])\n",
    "data.reset_index()\n",
    "data.head(3)"
   ]
  },
  {
   "cell_type": "markdown",
   "metadata": {},
   "source": []
  },
  {
   "cell_type": "markdown",
   "metadata": {},
   "source": [
    "# 2. Обзор массива"
   ]
  },
  {
   "cell_type": "markdown",
   "metadata": {},
   "source": [
    "## Единичная запись предоставленного массива данных:"
   ]
  },
  {
   "cell_type": "code",
   "execution_count": 52,
   "metadata": {},
   "outputs": [
    {
     "data": {
      "text/plain": [
       "ID  объявления                                                      271271157\n",
       "Количество комнат                                                           4\n",
       "Тип                                                                  Квартира\n",
       "Метро                                            м. Смоленская (9 мин пешком)\n",
       "Адрес                                           Москва, улица Новый Арбат, 27\n",
       "Площадь, м2                                                        200.0/20.0\n",
       "Дом                                                          5/16, Монолитный\n",
       "Парковка                                                            подземная\n",
       "Цена                        500000.0 руб./ За месяц, Залог - 500000 руб., ...\n",
       "Телефоны                                                         +79166369231\n",
       "Описание                    Без комиссии для нанимателя! Бонус коллегам 12...\n",
       "Ремонт                                                           Дизайнерский\n",
       "Площадь комнат, м2                                                        NaN\n",
       "Балкон                                                                    NaN\n",
       "Окна                                                                      NaN\n",
       "Санузел                                                                   NaN\n",
       "Можно с детьми/животными                    Можно с детьми, Можно с животными\n",
       "Дополнительно               Мебель в комнатах, Мебель на кухне, Ванна, Душ...\n",
       "Название ЖК                                                 Новый Арбат, 2010\n",
       "Серия дома                                                                NaN\n",
       "Высота потолков, м                                                        3.0\n",
       "Лифт                                                       Пасс (4), Груз (1)\n",
       "Мусоропровод                                                               Да\n",
       "Ссылка на объявление                  https://www.cian.ru/rent/flat/271271157\n",
       "Name: 0, dtype: object"
      ]
     },
     "execution_count": 52,
     "metadata": {},
     "output_type": "execute_result"
    }
   ],
   "source": [
    "data.loc[0, :]"
   ]
  },
  {
   "cell_type": "code",
   "execution_count": 53,
   "metadata": {},
   "outputs": [
    {
     "data": {
      "text/plain": [
       "Index(['ID  объявления', 'Количество комнат', 'Тип', 'Метро', 'Адрес',\n",
       "       'Площадь, м2', 'Дом', 'Парковка', 'Цена', 'Телефоны', 'Описание',\n",
       "       'Ремонт', 'Площадь комнат, м2', 'Балкон', 'Окна', 'Санузел',\n",
       "       'Можно с детьми/животными', 'Дополнительно', 'Название ЖК',\n",
       "       'Серия дома', 'Высота потолков, м', 'Лифт', 'Мусоропровод',\n",
       "       'Ссылка на объявление'],\n",
       "      dtype='object')"
      ]
     },
     "execution_count": 53,
     "metadata": {},
     "output_type": "execute_result"
    }
   ],
   "source": [
    "data.columns"
   ]
  },
  {
   "cell_type": "code",
   "execution_count": 54,
   "metadata": {},
   "outputs": [],
   "source": [
    "# чилсо столшбцов и записей\n",
    "data.shape\n",
    "data_length = data.shape[0]"
   ]
  },
  {
   "cell_type": "markdown",
   "metadata": {},
   "source": [
    "## 3. Разбиение массива по городам"
   ]
  },
  {
   "cell_type": "code",
   "execution_count": 55,
   "metadata": {},
   "outputs": [
    {
     "data": {
      "text/html": [
       "<div>\n",
       "<style scoped>\n",
       "    .dataframe tbody tr th:only-of-type {\n",
       "        vertical-align: middle;\n",
       "    }\n",
       "\n",
       "    .dataframe tbody tr th {\n",
       "        vertical-align: top;\n",
       "    }\n",
       "\n",
       "    .dataframe thead th {\n",
       "        text-align: right;\n",
       "    }\n",
       "</style>\n",
       "<table border=\"1\" class=\"dataframe\">\n",
       "  <thead>\n",
       "    <tr style=\"text-align: right;\">\n",
       "      <th></th>\n",
       "      <th>Адрес</th>\n",
       "      <th>count</th>\n",
       "    </tr>\n",
       "  </thead>\n",
       "  <tbody>\n",
       "    <tr>\n",
       "      <th>0</th>\n",
       "      <td>Москва</td>\n",
       "      <td>19737</td>\n",
       "    </tr>\n",
       "    <tr>\n",
       "      <th>1</th>\n",
       "      <td>Санкт-Петербург</td>\n",
       "      <td>3028</td>\n",
       "    </tr>\n",
       "    <tr>\n",
       "      <th>2</th>\n",
       "      <td>Краснодарский край</td>\n",
       "      <td>603</td>\n",
       "    </tr>\n",
       "  </tbody>\n",
       "</table>\n",
       "</div>"
      ],
      "text/plain": [
       "                Адрес  count\n",
       "0              Москва  19737\n",
       "1     Санкт-Петербург   3028\n",
       "2  Краснодарский край    603"
      ]
     },
     "execution_count": 55,
     "metadata": {},
     "output_type": "execute_result"
    }
   ],
   "source": [
    "data_by_towns = pd.DataFrame(data['Адрес'].apply(lambda x: x.split(', ')[0]).value_counts())\n",
    "data_by_towns.reset_index(inplace=True)\n",
    "data_by_towns"
   ]
  },
  {
   "cell_type": "code",
   "execution_count": 56,
   "metadata": {},
   "outputs": [
    {
     "data": {
      "image/png": "[encoded data removed]",
      "text/plain": [
       "<Figure size 500x350 with 1 Axes>"
      ]
     },
     "metadata": {},
     "output_type": "display_data"
    }
   ],
   "source": [
    "plot_it(data_by_towns, 'Адрес', 'count', 'Сдающиеся квартиры в арнеду', \n",
    "        'города расположения', 'число квартир')"
   ]
  },
  {
   "cell_type": "markdown",
   "metadata": {},
   "source": [
    "## 4. Детальная структура массива"
   ]
  },
  {
   "cell_type": "code",
   "execution_count": 57,
   "metadata": {},
   "outputs": [
    {
     "name": "stdout",
     "output_type": "stream",
     "text": [
      "                     Столбец     Тип Уникальных\n",
      "0             ID  объявления              23368\n",
      "1          Количество комнат  строка         24\n",
      "2                        Тип  строка          1\n",
      "3                      Метро  строка       5866\n",
      "4                      Адрес  строка      12850\n",
      "5                Площадь, м2  строка      11255\n",
      "6                        Дом  строка       2565\n",
      "7                   Парковка  строка          5\n",
      "8                       Цена  строка       3922\n",
      "9                   Телефоны  строка      13172\n",
      "10                  Описание  строка      23078\n",
      "11                    Ремонт  строка          4\n",
      "12        Площадь комнат, м2  строка       3990\n",
      "13                    Балкон  строка         18\n",
      "14                      Окна  строка          3\n",
      "15                   Санузел  строка         20\n",
      "16  Можно с детьми/животными  строка          3\n",
      "17             Дополнительно  строка        528\n",
      "18               Название ЖК  строка       1798\n",
      "19                Серия дома  строка        393\n",
      "20        Высота потолков, м  строка         95\n",
      "21                      Лифт  строка         34\n",
      "22              Мусоропровод  строка          2\n",
      "23      Ссылка на объявление  строка      23368\n"
     ]
    }
   ],
   "source": [
    "find_categories(data)"
   ]
  },
  {
   "cell_type": "markdown",
   "metadata": {},
   "source": [
    "- такие колонки как Ссылка на объявление, Описание, ID имеют слишком большую долю уникальных значений и их, вероятно, невозможно будет использовать.\n",
    "- такие столбцы как Парковка, Ремонт, Окна, Можно с детьми/животными и прочие имеют достаточное количество уникальных значений чтобы быть полезными при анализе\n",
    "- остальные колонки будут проанализированы на полезность в процессе"
   ]
  },
  {
   "cell_type": "code",
   "execution_count": 58,
   "metadata": {},
   "outputs": [
    {
     "data": {
      "text/html": [
       "<div>\n",
       "<style scoped>\n",
       "    .dataframe tbody tr th:only-of-type {\n",
       "        vertical-align: middle;\n",
       "    }\n",
       "\n",
       "    .dataframe tbody tr th {\n",
       "        vertical-align: top;\n",
       "    }\n",
       "\n",
       "    .dataframe thead th {\n",
       "        text-align: right;\n",
       "    }\n",
       "</style>\n",
       "<table border=\"1\" class=\"dataframe\">\n",
       "  <thead>\n",
       "    <tr style=\"text-align: right;\">\n",
       "      <th></th>\n",
       "      <th>Число пропущенных</th>\n",
       "      <th>Доля из записей, %</th>\n",
       "    </tr>\n",
       "  </thead>\n",
       "  <tbody>\n",
       "    <tr>\n",
       "      <th>ID  объявления</th>\n",
       "      <td>0</td>\n",
       "      <td>0.0</td>\n",
       "    </tr>\n",
       "    <tr>\n",
       "      <th>Количество комнат</th>\n",
       "      <td>1041</td>\n",
       "      <td>4.5</td>\n",
       "    </tr>\n",
       "    <tr>\n",
       "      <th>Тип</th>\n",
       "      <td>0</td>\n",
       "      <td>0.0</td>\n",
       "    </tr>\n",
       "    <tr>\n",
       "      <th>Метро</th>\n",
       "      <td>1315</td>\n",
       "      <td>5.6</td>\n",
       "    </tr>\n",
       "    <tr>\n",
       "      <th>Адрес</th>\n",
       "      <td>0</td>\n",
       "      <td>0.0</td>\n",
       "    </tr>\n",
       "    <tr>\n",
       "      <th>Площадь, м2</th>\n",
       "      <td>0</td>\n",
       "      <td>0.0</td>\n",
       "    </tr>\n",
       "    <tr>\n",
       "      <th>Дом</th>\n",
       "      <td>0</td>\n",
       "      <td>0.0</td>\n",
       "    </tr>\n",
       "    <tr>\n",
       "      <th>Парковка</th>\n",
       "      <td>13417</td>\n",
       "      <td>57.4</td>\n",
       "    </tr>\n",
       "    <tr>\n",
       "      <th>Цена</th>\n",
       "      <td>0</td>\n",
       "      <td>0.0</td>\n",
       "    </tr>\n",
       "    <tr>\n",
       "      <th>Телефоны</th>\n",
       "      <td>0</td>\n",
       "      <td>0.0</td>\n",
       "    </tr>\n",
       "    <tr>\n",
       "      <th>Описание</th>\n",
       "      <td>0</td>\n",
       "      <td>0.0</td>\n",
       "    </tr>\n",
       "    <tr>\n",
       "      <th>Ремонт</th>\n",
       "      <td>2755</td>\n",
       "      <td>11.8</td>\n",
       "    </tr>\n",
       "    <tr>\n",
       "      <th>Площадь комнат, м2</th>\n",
       "      <td>8910</td>\n",
       "      <td>38.1</td>\n",
       "    </tr>\n",
       "    <tr>\n",
       "      <th>Балкон</th>\n",
       "      <td>7978</td>\n",
       "      <td>34.1</td>\n",
       "    </tr>\n",
       "    <tr>\n",
       "      <th>Окна</th>\n",
       "      <td>6613</td>\n",
       "      <td>28.3</td>\n",
       "    </tr>\n",
       "    <tr>\n",
       "      <th>Санузел</th>\n",
       "      <td>2672</td>\n",
       "      <td>11.4</td>\n",
       "    </tr>\n",
       "    <tr>\n",
       "      <th>Можно с детьми/животными</th>\n",
       "      <td>6096</td>\n",
       "      <td>26.1</td>\n",
       "    </tr>\n",
       "    <tr>\n",
       "      <th>Дополнительно</th>\n",
       "      <td>357</td>\n",
       "      <td>1.5</td>\n",
       "    </tr>\n",
       "    <tr>\n",
       "      <th>Название ЖК</th>\n",
       "      <td>17520</td>\n",
       "      <td>75.0</td>\n",
       "    </tr>\n",
       "    <tr>\n",
       "      <th>Серия дома</th>\n",
       "      <td>21205</td>\n",
       "      <td>90.7</td>\n",
       "    </tr>\n",
       "    <tr>\n",
       "      <th>Высота потолков, м</th>\n",
       "      <td>12162</td>\n",
       "      <td>52.0</td>\n",
       "    </tr>\n",
       "    <tr>\n",
       "      <th>Лифт</th>\n",
       "      <td>5500</td>\n",
       "      <td>23.5</td>\n",
       "    </tr>\n",
       "    <tr>\n",
       "      <th>Мусоропровод</th>\n",
       "      <td>10522</td>\n",
       "      <td>45.0</td>\n",
       "    </tr>\n",
       "    <tr>\n",
       "      <th>Ссылка на объявление</th>\n",
       "      <td>0</td>\n",
       "      <td>0.0</td>\n",
       "    </tr>\n",
       "  </tbody>\n",
       "</table>\n",
       "</div>"
      ],
      "text/plain": [
       "                          Число пропущенных  Доля из записей, %\n",
       "ID  объявления                            0                 0.0\n",
       "Количество комнат                      1041                 4.5\n",
       "Тип                                       0                 0.0\n",
       "Метро                                  1315                 5.6\n",
       "Адрес                                     0                 0.0\n",
       "Площадь, м2                               0                 0.0\n",
       "Дом                                       0                 0.0\n",
       "Парковка                              13417                57.4\n",
       "Цена                                      0                 0.0\n",
       "Телефоны                                  0                 0.0\n",
       "Описание                                  0                 0.0\n",
       "Ремонт                                 2755                11.8\n",
       "Площадь комнат, м2                     8910                38.1\n",
       "Балкон                                 7978                34.1\n",
       "Окна                                   6613                28.3\n",
       "Санузел                                2672                11.4\n",
       "Можно с детьми/животными               6096                26.1\n",
       "Дополнительно                           357                 1.5\n",
       "Название ЖК                           17520                75.0\n",
       "Серия дома                            21205                90.7\n",
       "Высота потолков, м                    12162                52.0\n",
       "Лифт                                   5500                23.5\n",
       "Мусоропровод                          10522                45.0\n",
       "Ссылка на объявление                      0                 0.0"
      ]
     },
     "execution_count": 58,
     "metadata": {},
     "output_type": "execute_result"
    }
   ],
   "source": [
    "pd.DataFrame({'Число пропущенных' : data.isnull().sum(), \n",
    "              'Доля из записей, %' : round(data.isnull().sum()/data_length*100, ndigits=1)})"
   ]
  },
  {
   "cell_type": "markdown",
   "metadata": {},
   "source": [
    "- Число пропущенных значений впечатляет! \n",
    "- Посмотрим сколько останется записей, если удалить все строки с пропущенными занчениями."
   ]
  },
  {
   "cell_type": "code",
   "execution_count": 59,
   "metadata": {},
   "outputs": [
    {
     "data": {
      "image/png": "[encoded data removed]",
      "text/plain": [
       "<Figure size 500x350 with 1 Axes>"
      ]
     },
     "metadata": {},
     "output_type": "display_data"
    }
   ],
   "source": [
    "data_left = pd.DataFrame({'Параметр':data.columns.to_list(), 'Число пропущенных' : data.isnull().sum(), \n",
    "              'Доля из записей, %' : round(data.isnull().sum()/data_length*100, ndigits=1)})\n",
    "\n",
    "plot_it(data_left, 'Параметр', 'Доля из записей, %', 'Доля пропущенных значений массива', \n",
    "        'характеристики записей', 'долдя пропущенных значений', x_vertical=True)"
   ]
  },
  {
   "cell_type": "markdown",
   "metadata": {},
   "source": [
    "- доля пропущенных значений для Названия ЖК, Серии дома, Парковка слишком высока. Велика вероятность что в процессе анализа их невозможно будет использовать\n",
    "- такие столбцы как Ремонт, Метро, количество комнат, Лифт и прочие на том же уровне - вполне практичны для анализа\n",
    "- столбцы Ссылка на объявление, ID, Телефон, Описание - скорее всего использовать не получится"
   ]
  },
  {
   "cell_type": "markdown",
   "metadata": {},
   "source": [
    "## 5. Подготовка массива к машинному обучению"
   ]
  },
  {
   "cell_type": "markdown",
   "metadata": {},
   "source": [
    "- по каждому столбцу:\n",
    "    - по возможности заменить пропущенные значения\n",
    "    - проверить на дубликаты \n",
    "    - разбить строковые ячейки на составляющие для повышения описания сдающихся квартир, \n",
    "    создание дополнительных признаков\n",
    "    - очистка и проверка на адекватность данных в столбцах\n",
    "    - запись нового массива данных в файл"
   ]
  }
 ],
 "metadata": {
  "kernelspec": {
   "display_name": ".venv01",
   "language": "python",
   "name": "python3"
  },
  "language_info": {
   "codemirror_mode": {
    "name": "ipython",
    "version": 3
   },
   "file_extension": ".py",
   "mimetype": "text/x-python",
   "name": "python",
   "nbconvert_exporter": "python",
   "pygments_lexer": "ipython3",
   "version": "3.12.3"
  }
 },
 "nbformat": 4,
 "nbformat_minor": 4
}
