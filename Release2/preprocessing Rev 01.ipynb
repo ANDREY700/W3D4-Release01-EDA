{
 "cells": [
  {
   "cell_type": "markdown",
   "metadata": {},
   "source": [
    "# Часть 2 / 3"
   ]
  },
  {
   "cell_type": "markdown",
   "metadata": {},
   "source": [
    "разведочного анализа данных по данным международного сервиса по продаже и аренде жилой недвижимости Alyona Ivanovna Real Estate Agency / AI REA Ltd. \n",
    "\n",
    "Задача данной Части - закоммитить результаты очистки данных от пропусков.\n",
    "\n",
    "Для проведения анализа получены данные: файл _data.csv."
   ]
  },
  {
   "cell_type": "code",
   "execution_count": 566,
   "metadata": {},
   "outputs": [],
   "source": [
    "import pandas as pd\n",
    "import numpy as np\n",
    "import matplotlib.pyplot as plt\n",
    "import sklearn\n",
    "from sklearn.preprocessing import LabelEncoder\n",
    "import re\n",
    "import statsmodels.api as sm\n",
    "from sklearn.preprocessing import LabelEncoder\n",
    "from sklearn.linear_model import LinearRegression\n",
    "from statsmodels.api import OLS \n",
    "import matplotlib.pyplot as plt\n",
    "import seaborn as sns"
   ]
  },
  {
   "cell_type": "code",
   "execution_count": 567,
   "metadata": {},
   "outputs": [],
   "source": [
    "# вспомогательная функция для оценки типов данных в столбце по первой строке\n",
    "def column_type(test : pd.DataFrame):\n",
    "    answer = pd.DataFrame([], columns=['Columns', 'Type'])\n",
    "    for i in test.columns.to_list():\n",
    "        answer.loc[len(answer)] =  [i, type(test[i][0])]\n",
    "        answer.reset_index(drop=True)\n",
    "    return answer"
   ]
  },
  {
   "cell_type": "markdown",
   "metadata": {},
   "source": [
    "## Загрузка данных"
   ]
  },
  {
   "cell_type": "code",
   "execution_count": 568,
   "metadata": {},
   "outputs": [
    {
     "data": {
      "text/html": [
       "<div>\n",
       "<style scoped>\n",
       "    .dataframe tbody tr th:only-of-type {\n",
       "        vertical-align: middle;\n",
       "    }\n",
       "\n",
       "    .dataframe tbody tr th {\n",
       "        vertical-align: top;\n",
       "    }\n",
       "\n",
       "    .dataframe thead th {\n",
       "        text-align: right;\n",
       "    }\n",
       "</style>\n",
       "<table border=\"1\" class=\"dataframe\">\n",
       "  <thead>\n",
       "    <tr style=\"text-align: right;\">\n",
       "      <th></th>\n",
       "      <th>Unnamed: 0</th>\n",
       "      <th>ID  объявления</th>\n",
       "      <th>Количество комнат</th>\n",
       "      <th>Тип</th>\n",
       "      <th>Метро</th>\n",
       "      <th>Адрес</th>\n",
       "      <th>Площадь, м2</th>\n",
       "      <th>Дом</th>\n",
       "      <th>Парковка</th>\n",
       "      <th>Цена</th>\n",
       "      <th>...</th>\n",
       "      <th>Окна</th>\n",
       "      <th>Санузел</th>\n",
       "      <th>Можно с детьми/животными</th>\n",
       "      <th>Дополнительно</th>\n",
       "      <th>Название ЖК</th>\n",
       "      <th>Серия дома</th>\n",
       "      <th>Высота потолков, м</th>\n",
       "      <th>Лифт</th>\n",
       "      <th>Мусоропровод</th>\n",
       "      <th>Ссылка на объявление</th>\n",
       "    </tr>\n",
       "  </thead>\n",
       "  <tbody>\n",
       "    <tr>\n",
       "      <th>0</th>\n",
       "      <td>0</td>\n",
       "      <td>271271157</td>\n",
       "      <td>4</td>\n",
       "      <td>Квартира</td>\n",
       "      <td>м. Смоленская (9 мин пешком)</td>\n",
       "      <td>Москва, улица Новый Арбат, 27</td>\n",
       "      <td>200.0/20.0</td>\n",
       "      <td>5/16, Монолитный</td>\n",
       "      <td>подземная</td>\n",
       "      <td>500000.0 руб./ За месяц, Залог - 500000 руб., ...</td>\n",
       "      <td>...</td>\n",
       "      <td>NaN</td>\n",
       "      <td>NaN</td>\n",
       "      <td>Можно с детьми, Можно с животными</td>\n",
       "      <td>Мебель в комнатах, Мебель на кухне, Ванна, Душ...</td>\n",
       "      <td>Новый Арбат, 2010</td>\n",
       "      <td>NaN</td>\n",
       "      <td>3.0</td>\n",
       "      <td>Пасс (4), Груз (1)</td>\n",
       "      <td>Да</td>\n",
       "      <td>https://www.cian.ru/rent/flat/271271157</td>\n",
       "    </tr>\n",
       "    <tr>\n",
       "      <th>1</th>\n",
       "      <td>1</td>\n",
       "      <td>271634126</td>\n",
       "      <td>4</td>\n",
       "      <td>Квартира</td>\n",
       "      <td>м. Смоленская (8 мин пешком)</td>\n",
       "      <td>Москва, улица Новый Арбат, 27</td>\n",
       "      <td>198.0/95.0/18.0</td>\n",
       "      <td>5/16, Монолитно-кирпичный</td>\n",
       "      <td>подземная</td>\n",
       "      <td>500000.0 руб./ За месяц, Залог - 500000 руб., ...</td>\n",
       "      <td>...</td>\n",
       "      <td>На улицу и двор</td>\n",
       "      <td>Совмещенный (2), Раздельный (1)</td>\n",
       "      <td>Можно с детьми</td>\n",
       "      <td>Мебель в комнатах, Мебель на кухне, Ванна, Душ...</td>\n",
       "      <td>Новый Арбат</td>\n",
       "      <td>NaN</td>\n",
       "      <td>3.5</td>\n",
       "      <td>Пасс (1), Груз (1)</td>\n",
       "      <td>Нет</td>\n",
       "      <td>https://www.cian.ru/rent/flat/271634126</td>\n",
       "    </tr>\n",
       "    <tr>\n",
       "      <th>2</th>\n",
       "      <td>2</td>\n",
       "      <td>271173086</td>\n",
       "      <td>4, Оба варианта</td>\n",
       "      <td>Квартира</td>\n",
       "      <td>м. Смоленская (7 мин пешком)</td>\n",
       "      <td>Москва, улица Новый Арбат, 27</td>\n",
       "      <td>200.0/116.0/4.0</td>\n",
       "      <td>5/16</td>\n",
       "      <td>подземная</td>\n",
       "      <td>500000.0 руб./ За месяц, Залог - 500000 руб., ...</td>\n",
       "      <td>...</td>\n",
       "      <td>На улицу и двор</td>\n",
       "      <td>Совмещенный (3)</td>\n",
       "      <td>Можно с детьми</td>\n",
       "      <td>Мебель в комнатах, Мебель на кухне, Ванна, Душ...</td>\n",
       "      <td>Новый Арбат</td>\n",
       "      <td>NaN</td>\n",
       "      <td>3.2</td>\n",
       "      <td>Пасс (1)</td>\n",
       "      <td>NaN</td>\n",
       "      <td>https://www.cian.ru/rent/flat/271173086</td>\n",
       "    </tr>\n",
       "  </tbody>\n",
       "</table>\n",
       "<p>3 rows × 25 columns</p>\n",
       "</div>"
      ],
      "text/plain": [
       "   Unnamed: 0  ID  объявления Количество комнат       Тип  \\\n",
       "0           0       271271157                 4  Квартира   \n",
       "1           1       271634126                 4  Квартира   \n",
       "2           2       271173086   4, Оба варианта  Квартира   \n",
       "\n",
       "                          Метро                          Адрес  \\\n",
       "0  м. Смоленская (9 мин пешком)  Москва, улица Новый Арбат, 27   \n",
       "1  м. Смоленская (8 мин пешком)  Москва, улица Новый Арбат, 27   \n",
       "2  м. Смоленская (7 мин пешком)  Москва, улица Новый Арбат, 27   \n",
       "\n",
       "       Площадь, м2                        Дом   Парковка  \\\n",
       "0       200.0/20.0           5/16, Монолитный  подземная   \n",
       "1  198.0/95.0/18.0  5/16, Монолитно-кирпичный  подземная   \n",
       "2  200.0/116.0/4.0                       5/16  подземная   \n",
       "\n",
       "                                                Цена  ...             Окна  \\\n",
       "0  500000.0 руб./ За месяц, Залог - 500000 руб., ...  ...              NaN   \n",
       "1  500000.0 руб./ За месяц, Залог - 500000 руб., ...  ...  На улицу и двор   \n",
       "2  500000.0 руб./ За месяц, Залог - 500000 руб., ...  ...  На улицу и двор   \n",
       "\n",
       "                           Санузел           Можно с детьми/животными  \\\n",
       "0                              NaN  Можно с детьми, Можно с животными   \n",
       "1  Совмещенный (2), Раздельный (1)                     Можно с детьми   \n",
       "2                  Совмещенный (3)                     Можно с детьми   \n",
       "\n",
       "                                       Дополнительно        Название ЖК  \\\n",
       "0  Мебель в комнатах, Мебель на кухне, Ванна, Душ...  Новый Арбат, 2010   \n",
       "1  Мебель в комнатах, Мебель на кухне, Ванна, Душ...        Новый Арбат   \n",
       "2  Мебель в комнатах, Мебель на кухне, Ванна, Душ...        Новый Арбат   \n",
       "\n",
       "  Серия дома Высота потолков, м                Лифт Мусоропровод  \\\n",
       "0        NaN                3.0  Пасс (4), Груз (1)           Да   \n",
       "1        NaN                3.5  Пасс (1), Груз (1)          Нет   \n",
       "2        NaN                3.2            Пасс (1)          NaN   \n",
       "\n",
       "                      Ссылка на объявление  \n",
       "0  https://www.cian.ru/rent/flat/271271157  \n",
       "1  https://www.cian.ru/rent/flat/271634126  \n",
       "2  https://www.cian.ru/rent/flat/271173086  \n",
       "\n",
       "[3 rows x 25 columns]"
      ]
     },
     "execution_count": 568,
     "metadata": {},
     "output_type": "execute_result"
    }
   ],
   "source": [
    "path = '/home/andrey/Documents/Working/W3D4-real/data/_data.csv'\n",
    "data = pd.read_csv(path)\n",
    "data.reset_index()\n",
    "data.head(3)"
   ]
  },
  {
   "cell_type": "markdown",
   "metadata": {},
   "source": [
    "Посмотрим на первую запись предоставленного массива данных:"
   ]
  },
  {
   "cell_type": "code",
   "execution_count": 569,
   "metadata": {},
   "outputs": [
    {
     "data": {
      "text/plain": [
       "Unnamed: 0                                                                  0\n",
       "ID  объявления                                                      271271157\n",
       "Количество комнат                                                           4\n",
       "Тип                                                                  Квартира\n",
       "Метро                                            м. Смоленская (9 мин пешком)\n",
       "Адрес                                           Москва, улица Новый Арбат, 27\n",
       "Площадь, м2                                                        200.0/20.0\n",
       "Дом                                                          5/16, Монолитный\n",
       "Парковка                                                            подземная\n",
       "Цена                        500000.0 руб./ За месяц, Залог - 500000 руб., ...\n",
       "Телефоны                                                         +79166369231\n",
       "Описание                    Без комиссии для нанимателя! Бонус коллегам 12...\n",
       "Ремонт                                                           Дизайнерский\n",
       "Площадь комнат, м2                                                        NaN\n",
       "Балкон                                                                    NaN\n",
       "Окна                                                                      NaN\n",
       "Санузел                                                                   NaN\n",
       "Можно с детьми/животными                    Можно с детьми, Можно с животными\n",
       "Дополнительно               Мебель в комнатах, Мебель на кухне, Ванна, Душ...\n",
       "Название ЖК                                                 Новый Арбат, 2010\n",
       "Серия дома                                                                NaN\n",
       "Высота потолков, м                                                        3.0\n",
       "Лифт                                                       Пасс (4), Груз (1)\n",
       "Мусоропровод                                                               Да\n",
       "Ссылка на объявление                  https://www.cian.ru/rent/flat/271271157\n",
       "Name: 0, dtype: object"
      ]
     },
     "execution_count": 569,
     "metadata": {},
     "output_type": "execute_result"
    }
   ],
   "source": [
    "data.loc[0, :]"
   ]
  },
  {
   "cell_type": "markdown",
   "metadata": {},
   "source": [
    "#Поиск категориальных данных (по визуальному анализу практически все даные категориальные):"
   ]
  },
  {
   "cell_type": "code",
   "execution_count": 570,
   "metadata": {},
   "outputs": [
    {
     "name": "stdout",
     "output_type": "stream",
     "text": [
      "                     Столбец     Тип Уникальных\n",
      "0                 Unnamed: 0              23368\n",
      "1             ID  объявления              23368\n",
      "2          Количество комнат  строка         24\n",
      "3                        Тип  строка          1\n",
      "4                      Метро  строка       5866\n",
      "5                      Адрес  строка      12850\n",
      "6                Площадь, м2  строка      11255\n",
      "7                        Дом  строка       2565\n",
      "8                   Парковка  строка          5\n",
      "9                       Цена  строка       3922\n",
      "10                  Телефоны  строка      13172\n",
      "11                  Описание  строка      23078\n",
      "12                    Ремонт  строка          4\n",
      "13        Площадь комнат, м2  строка       3990\n",
      "14                    Балкон  строка         18\n",
      "15                      Окна  строка          3\n",
      "16                   Санузел  строка         20\n",
      "17  Можно с детьми/животными  строка          3\n",
      "18             Дополнительно  строка        528\n",
      "19               Название ЖК  строка       1798\n",
      "20                Серия дома  строка        393\n",
      "21        Высота потолков, м  строка         95\n",
      "22                      Лифт  строка         34\n",
      "23              Мусоропровод  строка          2\n",
      "24      Ссылка на объявление  строка      23368\n"
     ]
    }
   ],
   "source": [
    "def find_categories(data):\n",
    "    answer = []   \n",
    "    a2 = ['', '', '']\n",
    "    for name in data.columns:       \n",
    "        a2[0] = name\n",
    "        if (type(data[name][0]) == str):\n",
    "            a2[1] = 'строка'\n",
    "        a2[2] = str(data[name].nunique())\n",
    "        # if (data[name].nunique() <= 3):\n",
    "        #     a2[2] = 'мало'\n",
    "        # else: \n",
    "        #     a2[2] = 'много'\n",
    "        answer.append(a2.copy())\n",
    "        #if (s!=name): print(s)\n",
    "    return print(pd.DataFrame(answer, columns=['Столбец', 'Тип', 'Уникальных']))\n",
    "\n",
    "find_categories(data)"
   ]
  },
  {
   "cell_type": "markdown",
   "metadata": {},
   "source": [
    "Практически все столбцы - строки. Для обработки методами машинного обучения необходимо преобразовать в цифровое описание.\n",
    "\n",
    "Посмотрим на пропущенные значения."
   ]
  },
  {
   "cell_type": "code",
   "execution_count": 571,
   "metadata": {},
   "outputs": [
    {
     "data": {
      "text/html": [
       "<div>\n",
       "<style scoped>\n",
       "    .dataframe tbody tr th:only-of-type {\n",
       "        vertical-align: middle;\n",
       "    }\n",
       "\n",
       "    .dataframe tbody tr th {\n",
       "        vertical-align: top;\n",
       "    }\n",
       "\n",
       "    .dataframe thead th {\n",
       "        text-align: right;\n",
       "    }\n",
       "</style>\n",
       "<table border=\"1\" class=\"dataframe\">\n",
       "  <thead>\n",
       "    <tr style=\"text-align: right;\">\n",
       "      <th></th>\n",
       "      <th>Число пропущенных</th>\n",
       "      <th>Доля из записей, %</th>\n",
       "    </tr>\n",
       "  </thead>\n",
       "  <tbody>\n",
       "    <tr>\n",
       "      <th>Unnamed: 0</th>\n",
       "      <td>0</td>\n",
       "      <td>0.0</td>\n",
       "    </tr>\n",
       "    <tr>\n",
       "      <th>ID  объявления</th>\n",
       "      <td>0</td>\n",
       "      <td>0.0</td>\n",
       "    </tr>\n",
       "    <tr>\n",
       "      <th>Количество комнат</th>\n",
       "      <td>1041</td>\n",
       "      <td>4.5</td>\n",
       "    </tr>\n",
       "    <tr>\n",
       "      <th>Тип</th>\n",
       "      <td>0</td>\n",
       "      <td>0.0</td>\n",
       "    </tr>\n",
       "    <tr>\n",
       "      <th>Метро</th>\n",
       "      <td>1315</td>\n",
       "      <td>5.6</td>\n",
       "    </tr>\n",
       "    <tr>\n",
       "      <th>Адрес</th>\n",
       "      <td>0</td>\n",
       "      <td>0.0</td>\n",
       "    </tr>\n",
       "    <tr>\n",
       "      <th>Площадь, м2</th>\n",
       "      <td>0</td>\n",
       "      <td>0.0</td>\n",
       "    </tr>\n",
       "    <tr>\n",
       "      <th>Дом</th>\n",
       "      <td>0</td>\n",
       "      <td>0.0</td>\n",
       "    </tr>\n",
       "    <tr>\n",
       "      <th>Парковка</th>\n",
       "      <td>13417</td>\n",
       "      <td>57.4</td>\n",
       "    </tr>\n",
       "    <tr>\n",
       "      <th>Цена</th>\n",
       "      <td>0</td>\n",
       "      <td>0.0</td>\n",
       "    </tr>\n",
       "    <tr>\n",
       "      <th>Телефоны</th>\n",
       "      <td>0</td>\n",
       "      <td>0.0</td>\n",
       "    </tr>\n",
       "    <tr>\n",
       "      <th>Описание</th>\n",
       "      <td>0</td>\n",
       "      <td>0.0</td>\n",
       "    </tr>\n",
       "    <tr>\n",
       "      <th>Ремонт</th>\n",
       "      <td>2755</td>\n",
       "      <td>11.8</td>\n",
       "    </tr>\n",
       "    <tr>\n",
       "      <th>Площадь комнат, м2</th>\n",
       "      <td>8910</td>\n",
       "      <td>38.1</td>\n",
       "    </tr>\n",
       "    <tr>\n",
       "      <th>Балкон</th>\n",
       "      <td>7978</td>\n",
       "      <td>34.1</td>\n",
       "    </tr>\n",
       "    <tr>\n",
       "      <th>Окна</th>\n",
       "      <td>6613</td>\n",
       "      <td>28.3</td>\n",
       "    </tr>\n",
       "    <tr>\n",
       "      <th>Санузел</th>\n",
       "      <td>2672</td>\n",
       "      <td>11.4</td>\n",
       "    </tr>\n",
       "    <tr>\n",
       "      <th>Можно с детьми/животными</th>\n",
       "      <td>6096</td>\n",
       "      <td>26.1</td>\n",
       "    </tr>\n",
       "    <tr>\n",
       "      <th>Дополнительно</th>\n",
       "      <td>357</td>\n",
       "      <td>1.5</td>\n",
       "    </tr>\n",
       "    <tr>\n",
       "      <th>Название ЖК</th>\n",
       "      <td>17520</td>\n",
       "      <td>75.0</td>\n",
       "    </tr>\n",
       "    <tr>\n",
       "      <th>Серия дома</th>\n",
       "      <td>21205</td>\n",
       "      <td>90.7</td>\n",
       "    </tr>\n",
       "    <tr>\n",
       "      <th>Высота потолков, м</th>\n",
       "      <td>12162</td>\n",
       "      <td>52.0</td>\n",
       "    </tr>\n",
       "    <tr>\n",
       "      <th>Лифт</th>\n",
       "      <td>5500</td>\n",
       "      <td>23.5</td>\n",
       "    </tr>\n",
       "    <tr>\n",
       "      <th>Мусоропровод</th>\n",
       "      <td>10522</td>\n",
       "      <td>45.0</td>\n",
       "    </tr>\n",
       "    <tr>\n",
       "      <th>Ссылка на объявление</th>\n",
       "      <td>0</td>\n",
       "      <td>0.0</td>\n",
       "    </tr>\n",
       "  </tbody>\n",
       "</table>\n",
       "</div>"
      ],
      "text/plain": [
       "                          Число пропущенных  Доля из записей, %\n",
       "Unnamed: 0                                0                 0.0\n",
       "ID  объявления                            0                 0.0\n",
       "Количество комнат                      1041                 4.5\n",
       "Тип                                       0                 0.0\n",
       "Метро                                  1315                 5.6\n",
       "Адрес                                     0                 0.0\n",
       "Площадь, м2                               0                 0.0\n",
       "Дом                                       0                 0.0\n",
       "Парковка                              13417                57.4\n",
       "Цена                                      0                 0.0\n",
       "Телефоны                                  0                 0.0\n",
       "Описание                                  0                 0.0\n",
       "Ремонт                                 2755                11.8\n",
       "Площадь комнат, м2                     8910                38.1\n",
       "Балкон                                 7978                34.1\n",
       "Окна                                   6613                28.3\n",
       "Санузел                                2672                11.4\n",
       "Можно с детьми/животными               6096                26.1\n",
       "Дополнительно                           357                 1.5\n",
       "Название ЖК                           17520                75.0\n",
       "Серия дома                            21205                90.7\n",
       "Высота потолков, м                    12162                52.0\n",
       "Лифт                                   5500                23.5\n",
       "Мусоропровод                          10522                45.0\n",
       "Ссылка на объявление                      0                 0.0"
      ]
     },
     "execution_count": 571,
     "metadata": {},
     "output_type": "execute_result"
    }
   ],
   "source": [
    "data.shape\n",
    "data_length = data.shape[0]\n",
    "pd.DataFrame({'Число пропущенных' : data.isnull().sum(), \n",
    "              'Доля из записей, %' : round(data.isnull().sum()/data_length*100, ndigits=1)})"
   ]
  },
  {
   "cell_type": "markdown",
   "metadata": {},
   "source": [
    "Число пропущенных значений впечатляет! Делать описание статистики по каждому столбцу на данном этапе бессмысленно - все в категориях. Посмотрим сколько останется записей, если удалить все строки с пропущенными занчениями."
   ]
  },
  {
   "cell_type": "code",
   "execution_count": 572,
   "metadata": {},
   "outputs": [
    {
     "data": {
      "text/plain": [
       "0.03"
      ]
     },
     "execution_count": 572,
     "metadata": {},
     "output_type": "execute_result"
    }
   ],
   "source": [
    "round(len(data.dropna(axis = 0))/len(data)*100, ndigits=2)\n",
    "#df = df.dropna(axis = 0)"
   ]
  },
  {
   "cell_type": "markdown",
   "metadata": {},
   "source": [
    "Остается <1% от первоначальных записей! Это не сработает, ищем вариант заполнения пропущенных значений данными."
   ]
  },
  {
   "cell_type": "code",
   "execution_count": 573,
   "metadata": {},
   "outputs": [],
   "source": [
    "# сразу удалим ячейки, не имеющие смысла при анализе\n",
    "data = data.drop('Unnamed: 0', axis=1) \n",
    "data = data.drop('ID  объявления', axis=1) \n",
    "data = data.drop('Телефоны', axis=1) \n",
    "data = data.drop('Описание', axis=1)\n",
    "data = data.drop('Ссылка на объявление', axis=1) \n"
   ]
  },
  {
   "cell_type": "markdown",
   "metadata": {},
   "source": [
    "## Обработка адреса расположения квартиры"
   ]
  },
  {
   "cell_type": "code",
   "execution_count": 574,
   "metadata": {},
   "outputs": [
    {
     "data": {
      "text/html": [
       "<div>\n",
       "<style scoped>\n",
       "    .dataframe tbody tr th:only-of-type {\n",
       "        vertical-align: middle;\n",
       "    }\n",
       "\n",
       "    .dataframe tbody tr th {\n",
       "        vertical-align: top;\n",
       "    }\n",
       "\n",
       "    .dataframe thead th {\n",
       "        text-align: right;\n",
       "    }\n",
       "</style>\n",
       "<table border=\"1\" class=\"dataframe\">\n",
       "  <thead>\n",
       "    <tr style=\"text-align: right;\">\n",
       "      <th></th>\n",
       "      <th>count</th>\n",
       "    </tr>\n",
       "    <tr>\n",
       "      <th>Адрес</th>\n",
       "      <th></th>\n",
       "    </tr>\n",
       "  </thead>\n",
       "  <tbody>\n",
       "    <tr>\n",
       "      <th>Москва</th>\n",
       "      <td>19737</td>\n",
       "    </tr>\n",
       "    <tr>\n",
       "      <th>Санкт-Петербург</th>\n",
       "      <td>3028</td>\n",
       "    </tr>\n",
       "    <tr>\n",
       "      <th>Краснодарский край</th>\n",
       "      <td>603</td>\n",
       "    </tr>\n",
       "  </tbody>\n",
       "</table>\n",
       "</div>"
      ],
      "text/plain": [
       "                    count\n",
       "Адрес                    \n",
       "Москва              19737\n",
       "Санкт-Петербург      3028\n",
       "Краснодарский край    603"
      ]
     },
     "execution_count": 574,
     "metadata": {},
     "output_type": "execute_result"
    }
   ],
   "source": [
    "pd.DataFrame(data['Адрес'].apply(lambda x: x.split(', ')[0]).value_counts())"
   ]
  },
  {
   "cell_type": "code",
   "execution_count": 575,
   "metadata": {},
   "outputs": [],
   "source": [
    "a14 =  data.drop(data.loc[data['Адрес'].apply(lambda x: x.split(', ')[0] != 'Москва')].index, inplace=True)\n",
    "a14"
   ]
  },
  {
   "cell_type": "code",
   "execution_count": 576,
   "metadata": {},
   "outputs": [
    {
     "data": {
      "text/plain": [
       "0       Москва, улица Новый Арбат, 27\n",
       "1       Москва, улица Новый Арбат, 27\n",
       "2       Москва, улица Новый Арбат, 27\n",
       "3    Москва, переулок Плотников, 21С1\n",
       "4       Москва, улица Новый Арбат, 15\n",
       "Name: Адрес, dtype: object"
      ]
     },
     "execution_count": 576,
     "metadata": {},
     "output_type": "execute_result"
    }
   ],
   "source": [
    "data['Адрес'].head()"
   ]
  },
  {
   "cell_type": "code",
   "execution_count": 577,
   "metadata": {},
   "outputs": [
    {
     "data": {
      "text/plain": [
       "19737"
      ]
     },
     "execution_count": 577,
     "metadata": {},
     "output_type": "execute_result"
    }
   ],
   "source": [
    "len(data) #23368"
   ]
  },
  {
   "cell_type": "code",
   "execution_count": 578,
   "metadata": {},
   "outputs": [
    {
     "data": {
      "text/plain": [
       "{'Москва'}"
      ]
     },
     "execution_count": 578,
     "metadata": {},
     "output_type": "execute_result"
    }
   ],
   "source": [
    "# разбиваем строчку с адресом на составляющие\n",
    "c1 =  data['Адрес'].str.split(', ', expand=True)\n",
    "#data[['city', 'street', 'house', '11', '12']] = c1[[0, 1, 2]]\n",
    "set(c1[0])\n",
    "# в массиве данные о квартирах из нескольких городов\n",
    "# по правилам берем только квартиры из Москвы"
   ]
  },
  {
   "cell_type": "code",
   "execution_count": 579,
   "metadata": {},
   "outputs": [
    {
     "data": {
      "text/plain": [
       "19737"
      ]
     },
     "execution_count": 579,
     "metadata": {},
     "output_type": "execute_result"
    }
   ],
   "source": [
    "# удаляем квартиры не из Москвы\n",
    "data = data[data['Адрес'].str.contains('Москва')]\n",
    "data = data.reset_index(drop=True)\n",
    "len(data) #19737"
   ]
  },
  {
   "cell_type": "code",
   "execution_count": 580,
   "metadata": {},
   "outputs": [
    {
     "data": {
      "text/html": [
       "<div>\n",
       "<style scoped>\n",
       "    .dataframe tbody tr th:only-of-type {\n",
       "        vertical-align: middle;\n",
       "    }\n",
       "\n",
       "    .dataframe tbody tr th {\n",
       "        vertical-align: top;\n",
       "    }\n",
       "\n",
       "    .dataframe thead th {\n",
       "        text-align: right;\n",
       "    }\n",
       "</style>\n",
       "<table border=\"1\" class=\"dataframe\">\n",
       "  <thead>\n",
       "    <tr style=\"text-align: right;\">\n",
       "      <th></th>\n",
       "      <th>0</th>\n",
       "      <th>1</th>\n",
       "      <th>2</th>\n",
       "      <th>3</th>\n",
       "      <th>4</th>\n",
       "      <th>5</th>\n",
       "      <th>6</th>\n",
       "    </tr>\n",
       "  </thead>\n",
       "  <tbody>\n",
       "    <tr>\n",
       "      <th>0</th>\n",
       "      <td>Москва</td>\n",
       "      <td>улица Новый Арбат</td>\n",
       "      <td>27</td>\n",
       "      <td>None</td>\n",
       "      <td>None</td>\n",
       "      <td>None</td>\n",
       "      <td>None</td>\n",
       "    </tr>\n",
       "    <tr>\n",
       "      <th>1</th>\n",
       "      <td>Москва</td>\n",
       "      <td>улица Новый Арбат</td>\n",
       "      <td>27</td>\n",
       "      <td>None</td>\n",
       "      <td>None</td>\n",
       "      <td>None</td>\n",
       "      <td>None</td>\n",
       "    </tr>\n",
       "    <tr>\n",
       "      <th>2</th>\n",
       "      <td>Москва</td>\n",
       "      <td>улица Новый Арбат</td>\n",
       "      <td>27</td>\n",
       "      <td>None</td>\n",
       "      <td>None</td>\n",
       "      <td>None</td>\n",
       "      <td>None</td>\n",
       "    </tr>\n",
       "    <tr>\n",
       "      <th>3</th>\n",
       "      <td>Москва</td>\n",
       "      <td>переулок Плотников</td>\n",
       "      <td>21С1</td>\n",
       "      <td>None</td>\n",
       "      <td>None</td>\n",
       "      <td>None</td>\n",
       "      <td>None</td>\n",
       "    </tr>\n",
       "    <tr>\n",
       "      <th>4</th>\n",
       "      <td>Москва</td>\n",
       "      <td>улица Новый Арбат</td>\n",
       "      <td>15</td>\n",
       "      <td>None</td>\n",
       "      <td>None</td>\n",
       "      <td>None</td>\n",
       "      <td>None</td>\n",
       "    </tr>\n",
       "  </tbody>\n",
       "</table>\n",
       "</div>"
      ],
      "text/plain": [
       "        0                   1     2     3     4     5     6\n",
       "0  Москва   улица Новый Арбат    27  None  None  None  None\n",
       "1  Москва   улица Новый Арбат    27  None  None  None  None\n",
       "2  Москва   улица Новый Арбат    27  None  None  None  None\n",
       "3  Москва  переулок Плотников  21С1  None  None  None  None\n",
       "4  Москва   улица Новый Арбат    15  None  None  None  None"
      ]
     },
     "execution_count": 580,
     "metadata": {},
     "output_type": "execute_result"
    }
   ],
   "source": [
    "# разбиваем строчку еще раз\n",
    "c1 =  data['Адрес'].str.split(', ', expand=True)\n",
    "c1.head()"
   ]
  },
  {
   "cell_type": "code",
   "execution_count": 581,
   "metadata": {},
   "outputs": [
    {
     "data": {
      "text/html": [
       "<div>\n",
       "<style scoped>\n",
       "    .dataframe tbody tr th:only-of-type {\n",
       "        vertical-align: middle;\n",
       "    }\n",
       "\n",
       "    .dataframe tbody tr th {\n",
       "        vertical-align: top;\n",
       "    }\n",
       "\n",
       "    .dataframe thead th {\n",
       "        text-align: right;\n",
       "    }\n",
       "</style>\n",
       "<table border=\"1\" class=\"dataframe\">\n",
       "  <thead>\n",
       "    <tr style=\"text-align: right;\">\n",
       "      <th></th>\n",
       "      <th>0</th>\n",
       "      <th>1</th>\n",
       "      <th>2</th>\n",
       "      <th>3</th>\n",
       "      <th>4</th>\n",
       "      <th>5</th>\n",
       "      <th>6</th>\n",
       "    </tr>\n",
       "  </thead>\n",
       "  <tbody>\n",
       "    <tr>\n",
       "      <th>19732</th>\n",
       "      <td>Москва</td>\n",
       "      <td>Боровское шоссе</td>\n",
       "      <td>2к7</td>\n",
       "      <td>ш. Боровское (3 км до МКАД)</td>\n",
       "      <td>ш. Сколковское (8 км до МКАД)</td>\n",
       "      <td>None</td>\n",
       "      <td>None</td>\n",
       "    </tr>\n",
       "    <tr>\n",
       "      <th>19733</th>\n",
       "      <td>Москва</td>\n",
       "      <td>Производственная улица</td>\n",
       "      <td>8к1</td>\n",
       "      <td>ш. Боровское (5 км до МКАД)</td>\n",
       "      <td>ш. Киевское (7 км до МКАД)</td>\n",
       "      <td>None</td>\n",
       "      <td>None</td>\n",
       "    </tr>\n",
       "    <tr>\n",
       "      <th>19734</th>\n",
       "      <td>Москва</td>\n",
       "      <td>Боровский проезд</td>\n",
       "      <td>11</td>\n",
       "      <td>None</td>\n",
       "      <td>None</td>\n",
       "      <td>None</td>\n",
       "      <td>None</td>\n",
       "    </tr>\n",
       "    <tr>\n",
       "      <th>19735</th>\n",
       "      <td>Москва</td>\n",
       "      <td>улица Богданова</td>\n",
       "      <td>6к1</td>\n",
       "      <td>ш. Боровское (3 км до МКАД)</td>\n",
       "      <td>ш. Сколковское (8 км до МКАД)</td>\n",
       "      <td>None</td>\n",
       "      <td>None</td>\n",
       "    </tr>\n",
       "    <tr>\n",
       "      <th>19736</th>\n",
       "      <td>Москва</td>\n",
       "      <td>улица Богданова</td>\n",
       "      <td>2к1</td>\n",
       "      <td>ш. Боровское (3 км до МКАД)</td>\n",
       "      <td>ш. Киевское (8 км до МКАД)</td>\n",
       "      <td>None</td>\n",
       "      <td>None</td>\n",
       "    </tr>\n",
       "  </tbody>\n",
       "</table>\n",
       "</div>"
      ],
      "text/plain": [
       "            0                       1    2                            3  \\\n",
       "19732  Москва         Боровское шоссе  2к7  ш. Боровское (3 км до МКАД)   \n",
       "19733  Москва  Производственная улица  8к1  ш. Боровское (5 км до МКАД)   \n",
       "19734  Москва        Боровский проезд   11                         None   \n",
       "19735  Москва         улица Богданова  6к1  ш. Боровское (3 км до МКАД)   \n",
       "19736  Москва         улица Богданова  2к1  ш. Боровское (3 км до МКАД)   \n",
       "\n",
       "                                   4     5     6  \n",
       "19732  ш. Сколковское (8 км до МКАД)  None  None  \n",
       "19733     ш. Киевское (7 км до МКАД)  None  None  \n",
       "19734                           None  None  None  \n",
       "19735  ш. Сколковское (8 км до МКАД)  None  None  \n",
       "19736     ш. Киевское (8 км до МКАД)  None  None  "
      ]
     },
     "execution_count": 581,
     "metadata": {},
     "output_type": "execute_result"
    }
   ],
   "source": [
    "c1.tail()\n",
    "# проблема в том, что название улицы и номер дома сдвигается - ловим"
   ]
  },
  {
   "cell_type": "code",
   "execution_count": 582,
   "metadata": {},
   "outputs": [],
   "source": [
    "# определяем типы улиц - к ним привяжемся чтобы вытащить адрес\n",
    "a1_1 = set()\n",
    "pattern = re.compile(\"[0-9#№]\")\n",
    "c1 =  data['Адрес'].str.split(', ', expand=True)\n",
    "a1 = set()\n",
    "\n",
    "for j in range(1, 7):\n",
    "    c2_2 = c1.loc[:, j].str.split(' ', expand=True)\n",
    "    #a1 = set(c2_2.loc[0, :]) # первая строка\n",
    "    for i in range(0, len(c2_2)): #вторые строки\n",
    "        a1.update(set(c2_2.loc[i, :]))\n",
    "    # set готов\n",
    "\n",
    "a1_list = list(a1)\n",
    "a1_1 = list()\n",
    "# i=2\n",
    "for i in range(0, len(a1_list)):\n",
    "        if not pattern.match(str(a1_list[i])[0]):\n",
    "            if str(a1_list[i]).islower():\n",
    "                if not any(x in a1_list[i] for x in '1234567890'):\n",
    "                    a1_1.append(str(a1_list[i]))\n",
    "\n",
    "len(a1_1)\n",
    "a1_1 = list(set(a1_1))\n",
    "\n"
   ]
  },
  {
   "cell_type": "code",
   "execution_count": 583,
   "metadata": {},
   "outputs": [
    {
     "data": {
      "text/plain": [
       "['переулок',\n",
       " 'рощи',\n",
       " 'улица',\n",
       " 'ао',\n",
       " 'аллея',\n",
       " 'тер.',\n",
       " 'мкр',\n",
       " 'проезд',\n",
       " 'проспект',\n",
       " 'центра',\n",
       " 'кв-л',\n",
       " 'линия',\n",
       " 'года',\n",
       " 'бульвар',\n",
       " 'шоссе',\n",
       " 'набережная',\n",
       " 'тупик',\n",
       " 'лет',\n",
       " 'площадь',\n",
       " 'пос.',\n",
       " 'и',\n",
       " 'деревня',\n",
       " 'до',\n",
       " 'км',\n",
       " 'ш.',\n",
       " 'инновационного',\n",
       " 'р-н',\n",
       " 'зона']"
      ]
     },
     "execution_count": 583,
     "metadata": {},
     "output_type": "execute_result"
    }
   ],
   "source": [
    "# перечень всех слов, похожих на назщвание адреса\n",
    "a1_1"
   ]
  },
  {
   "cell_type": "code",
   "execution_count": 584,
   "metadata": {},
   "outputs": [],
   "source": [
    "# укорачиваем до реального списка\n",
    "pattern_streets = ['бульвар', 'тупик', 'линия', 'проезд', 'аллея', 'улица', \n",
    "                   'лет', 'переулок', 'шоссе', 'кв-л', 'площадь', 'проспект',\n",
    "                     'набережная']\n",
    "# остальные - пустышки"
   ]
  },
  {
   "cell_type": "code",
   "execution_count": 585,
   "metadata": {},
   "outputs": [
    {
     "data": {
      "text/html": [
       "<div>\n",
       "<style scoped>\n",
       "    .dataframe tbody tr th:only-of-type {\n",
       "        vertical-align: middle;\n",
       "    }\n",
       "\n",
       "    .dataframe tbody tr th {\n",
       "        vertical-align: top;\n",
       "    }\n",
       "\n",
       "    .dataframe thead th {\n",
       "        text-align: right;\n",
       "    }\n",
       "</style>\n",
       "<table border=\"1\" class=\"dataframe\">\n",
       "  <thead>\n",
       "    <tr style=\"text-align: right;\">\n",
       "      <th></th>\n",
       "      <th>0</th>\n",
       "      <th>1</th>\n",
       "      <th>2</th>\n",
       "      <th>3</th>\n",
       "      <th>4</th>\n",
       "      <th>5</th>\n",
       "      <th>6</th>\n",
       "      <th>x1</th>\n",
       "    </tr>\n",
       "  </thead>\n",
       "  <tbody>\n",
       "    <tr>\n",
       "      <th>0</th>\n",
       "      <td>Москва</td>\n",
       "      <td>улица Новый Арбат</td>\n",
       "      <td>27</td>\n",
       "      <td>None</td>\n",
       "      <td>None</td>\n",
       "      <td>None</td>\n",
       "      <td>None</td>\n",
       "      <td>1</td>\n",
       "    </tr>\n",
       "    <tr>\n",
       "      <th>1</th>\n",
       "      <td>Москва</td>\n",
       "      <td>улица Новый Арбат</td>\n",
       "      <td>27</td>\n",
       "      <td>None</td>\n",
       "      <td>None</td>\n",
       "      <td>None</td>\n",
       "      <td>None</td>\n",
       "      <td>1</td>\n",
       "    </tr>\n",
       "    <tr>\n",
       "      <th>2</th>\n",
       "      <td>Москва</td>\n",
       "      <td>улица Новый Арбат</td>\n",
       "      <td>27</td>\n",
       "      <td>None</td>\n",
       "      <td>None</td>\n",
       "      <td>None</td>\n",
       "      <td>None</td>\n",
       "      <td>1</td>\n",
       "    </tr>\n",
       "    <tr>\n",
       "      <th>3</th>\n",
       "      <td>Москва</td>\n",
       "      <td>переулок Плотников</td>\n",
       "      <td>21С1</td>\n",
       "      <td>None</td>\n",
       "      <td>None</td>\n",
       "      <td>None</td>\n",
       "      <td>None</td>\n",
       "      <td>1</td>\n",
       "    </tr>\n",
       "    <tr>\n",
       "      <th>4</th>\n",
       "      <td>Москва</td>\n",
       "      <td>улица Новый Арбат</td>\n",
       "      <td>15</td>\n",
       "      <td>None</td>\n",
       "      <td>None</td>\n",
       "      <td>None</td>\n",
       "      <td>None</td>\n",
       "      <td>1</td>\n",
       "    </tr>\n",
       "  </tbody>\n",
       "</table>\n",
       "</div>"
      ],
      "text/plain": [
       "        0                   1     2     3     4     5     6 x1\n",
       "0  Москва   улица Новый Арбат    27  None  None  None  None  1\n",
       "1  Москва   улица Новый Арбат    27  None  None  None  None  1\n",
       "2  Москва   улица Новый Арбат    27  None  None  None  None  1\n",
       "3  Москва  переулок Плотников  21С1  None  None  None  None  1\n",
       "4  Москва   улица Новый Арбат    15  None  None  None  None  1"
      ]
     },
     "execution_count": 585,
     "metadata": {},
     "output_type": "execute_result"
    }
   ],
   "source": [
    "# сейчас нужны только строки\n",
    "for i  in range(1, 7):\n",
    "    c1[i] = c1[i].astype(str)\n",
    "# находим все что в списке и помечаем номер столбца\n",
    "c1['x1'] = ''\n",
    "for i in range(0, len(c1)):\n",
    "    for j in range(1, 7):\n",
    "        if any(x in c1.loc[i, j] for x in pattern_streets):\n",
    "            c1.loc[i, 'x1'] = c1.loc[i, 'x1'] + str(j)\n",
    "c1.head()\n",
    "# x1 - столбец с номер где нашли адрес"
   ]
  },
  {
   "cell_type": "code",
   "execution_count": 586,
   "metadata": {},
   "outputs": [
    {
     "data": {
      "text/plain": [
       "count    19737.000000\n",
       "mean         0.989512\n",
       "std          0.101875\n",
       "min          0.000000\n",
       "25%          1.000000\n",
       "50%          1.000000\n",
       "75%          1.000000\n",
       "max          1.000000\n",
       "Name: x1_len, dtype: float64"
      ]
     },
     "execution_count": 586,
     "metadata": {},
     "output_type": "execute_result"
    }
   ],
   "source": [
    "# смотрим сколько нашлось столбцов с адресом\n",
    "c1['x1_len'] = c1['x1'].str.len()\n",
    "c1['x1_len'].describe()\n",
    "# максимум =1 - супер, только один столбец"
   ]
  },
  {
   "cell_type": "code",
   "execution_count": 587,
   "metadata": {},
   "outputs": [
    {
     "data": {
      "text/plain": [
       "207"
      ]
     },
     "execution_count": 587,
     "metadata": {},
     "output_type": "execute_result"
    }
   ],
   "source": [
    "c1_04 = c1[c1['x1_len']==0]\n",
    "len(c1_04) #207\n",
    "# при этом 207 строк с плохим адресом"
   ]
  },
  {
   "cell_type": "code",
   "execution_count": 588,
   "metadata": {},
   "outputs": [
    {
     "data": {
      "text/html": [
       "<div>\n",
       "<style scoped>\n",
       "    .dataframe tbody tr th:only-of-type {\n",
       "        vertical-align: middle;\n",
       "    }\n",
       "\n",
       "    .dataframe tbody tr th {\n",
       "        vertical-align: top;\n",
       "    }\n",
       "\n",
       "    .dataframe thead th {\n",
       "        text-align: right;\n",
       "    }\n",
       "</style>\n",
       "<table border=\"1\" class=\"dataframe\">\n",
       "  <thead>\n",
       "    <tr style=\"text-align: right;\">\n",
       "      <th></th>\n",
       "      <th>0</th>\n",
       "      <th>1</th>\n",
       "      <th>2</th>\n",
       "      <th>3</th>\n",
       "      <th>4</th>\n",
       "      <th>5</th>\n",
       "      <th>6</th>\n",
       "      <th>x1</th>\n",
       "      <th>x1_len</th>\n",
       "      <th>street</th>\n",
       "      <th>house</th>\n",
       "    </tr>\n",
       "  </thead>\n",
       "  <tbody>\n",
       "    <tr>\n",
       "      <th>0</th>\n",
       "      <td>Москва</td>\n",
       "      <td>улица Новый Арбат</td>\n",
       "      <td>27</td>\n",
       "      <td>None</td>\n",
       "      <td>None</td>\n",
       "      <td>None</td>\n",
       "      <td>None</td>\n",
       "      <td>1</td>\n",
       "      <td>1</td>\n",
       "      <td>улица Новый Арбат</td>\n",
       "      <td>27</td>\n",
       "    </tr>\n",
       "    <tr>\n",
       "      <th>1</th>\n",
       "      <td>Москва</td>\n",
       "      <td>улица Новый Арбат</td>\n",
       "      <td>27</td>\n",
       "      <td>None</td>\n",
       "      <td>None</td>\n",
       "      <td>None</td>\n",
       "      <td>None</td>\n",
       "      <td>1</td>\n",
       "      <td>1</td>\n",
       "      <td>улица Новый Арбат</td>\n",
       "      <td>27</td>\n",
       "    </tr>\n",
       "    <tr>\n",
       "      <th>2</th>\n",
       "      <td>Москва</td>\n",
       "      <td>улица Новый Арбат</td>\n",
       "      <td>27</td>\n",
       "      <td>None</td>\n",
       "      <td>None</td>\n",
       "      <td>None</td>\n",
       "      <td>None</td>\n",
       "      <td>1</td>\n",
       "      <td>1</td>\n",
       "      <td>улица Новый Арбат</td>\n",
       "      <td>27</td>\n",
       "    </tr>\n",
       "    <tr>\n",
       "      <th>3</th>\n",
       "      <td>Москва</td>\n",
       "      <td>переулок Плотников</td>\n",
       "      <td>21С1</td>\n",
       "      <td>None</td>\n",
       "      <td>None</td>\n",
       "      <td>None</td>\n",
       "      <td>None</td>\n",
       "      <td>1</td>\n",
       "      <td>1</td>\n",
       "      <td>переулок Плотников</td>\n",
       "      <td>21С1</td>\n",
       "    </tr>\n",
       "    <tr>\n",
       "      <th>4</th>\n",
       "      <td>Москва</td>\n",
       "      <td>улица Новый Арбат</td>\n",
       "      <td>15</td>\n",
       "      <td>None</td>\n",
       "      <td>None</td>\n",
       "      <td>None</td>\n",
       "      <td>None</td>\n",
       "      <td>1</td>\n",
       "      <td>1</td>\n",
       "      <td>улица Новый Арбат</td>\n",
       "      <td>15</td>\n",
       "    </tr>\n",
       "  </tbody>\n",
       "</table>\n",
       "</div>"
      ],
      "text/plain": [
       "        0                   1     2     3     4     5     6 x1  x1_len  \\\n",
       "0  Москва   улица Новый Арбат    27  None  None  None  None  1       1   \n",
       "1  Москва   улица Новый Арбат    27  None  None  None  None  1       1   \n",
       "2  Москва   улица Новый Арбат    27  None  None  None  None  1       1   \n",
       "3  Москва  переулок Плотников  21С1  None  None  None  None  1       1   \n",
       "4  Москва   улица Новый Арбат    15  None  None  None  None  1       1   \n",
       "\n",
       "               street house  \n",
       "0   улица Новый Арбат    27  \n",
       "1   улица Новый Арбат    27  \n",
       "2   улица Новый Арбат    27  \n",
       "3  переулок Плотников  21С1  \n",
       "4   улица Новый Арбат    15  "
      ]
     },
     "execution_count": 588,
     "metadata": {},
     "output_type": "execute_result"
    }
   ],
   "source": [
    "# переносим в отдельные столбцы\n",
    "c1['street'] = ''\n",
    "c1['house'] = ''\n",
    "\n",
    "for i in range(0, len(c1)):\n",
    "    if c1.loc[i, 'x1_len'] != 0:\n",
    "        c1.loc[i, 'street'] = c1.loc[i, int(c1.loc[i, 'x1'])]\n",
    "        c1.loc[i, 'house'] = c1.loc[i, int(c1.loc[i, 'x1'])+1]\n",
    "\n",
    "c1.head()"
   ]
  },
  {
   "cell_type": "code",
   "execution_count": 589,
   "metadata": {},
   "outputs": [
    {
     "data": {
      "text/html": [
       "<div>\n",
       "<style scoped>\n",
       "    .dataframe tbody tr th:only-of-type {\n",
       "        vertical-align: middle;\n",
       "    }\n",
       "\n",
       "    .dataframe tbody tr th {\n",
       "        vertical-align: top;\n",
       "    }\n",
       "\n",
       "    .dataframe thead th {\n",
       "        text-align: right;\n",
       "    }\n",
       "</style>\n",
       "<table border=\"1\" class=\"dataframe\">\n",
       "  <thead>\n",
       "    <tr style=\"text-align: right;\">\n",
       "      <th></th>\n",
       "      <th>Адрес</th>\n",
       "      <th>street</th>\n",
       "      <th>house</th>\n",
       "    </tr>\n",
       "  </thead>\n",
       "  <tbody>\n",
       "    <tr>\n",
       "      <th>0</th>\n",
       "      <td>Москва, улица Новый Арбат, 27</td>\n",
       "      <td>улица Новый Арбат</td>\n",
       "      <td>27</td>\n",
       "    </tr>\n",
       "    <tr>\n",
       "      <th>1</th>\n",
       "      <td>Москва, улица Новый Арбат, 27</td>\n",
       "      <td>улица Новый Арбат</td>\n",
       "      <td>27</td>\n",
       "    </tr>\n",
       "    <tr>\n",
       "      <th>2</th>\n",
       "      <td>Москва, улица Новый Арбат, 27</td>\n",
       "      <td>улица Новый Арбат</td>\n",
       "      <td>27</td>\n",
       "    </tr>\n",
       "    <tr>\n",
       "      <th>3</th>\n",
       "      <td>Москва, переулок Плотников, 21С1</td>\n",
       "      <td>переулок Плотников</td>\n",
       "      <td>21С1</td>\n",
       "    </tr>\n",
       "    <tr>\n",
       "      <th>4</th>\n",
       "      <td>Москва, улица Новый Арбат, 15</td>\n",
       "      <td>улица Новый Арбат</td>\n",
       "      <td>15</td>\n",
       "    </tr>\n",
       "  </tbody>\n",
       "</table>\n",
       "</div>"
      ],
      "text/plain": [
       "                              Адрес              street house\n",
       "0     Москва, улица Новый Арбат, 27   улица Новый Арбат    27\n",
       "1     Москва, улица Новый Арбат, 27   улица Новый Арбат    27\n",
       "2     Москва, улица Новый Арбат, 27   улица Новый Арбат    27\n",
       "3  Москва, переулок Плотников, 21С1  переулок Плотников  21С1\n",
       "4     Москва, улица Новый Арбат, 15   улица Новый Арбат    15"
      ]
     },
     "execution_count": 589,
     "metadata": {},
     "output_type": "execute_result"
    }
   ],
   "source": [
    "# переносим в основной массив\n",
    "data['street'] = c1['street']\n",
    "data['house'] = c1['house']\n",
    "data[['Адрес', 'street','house']].head()\n",
    "# вроде получилось"
   ]
  },
  {
   "cell_type": "code",
   "execution_count": 590,
   "metadata": {},
   "outputs": [
    {
     "data": {
      "text/plain": [
       "207"
      ]
     },
     "execution_count": 590,
     "metadata": {},
     "output_type": "execute_result"
    }
   ],
   "source": [
    "len(data[data['street']=='']) #207"
   ]
  },
  {
   "cell_type": "code",
   "execution_count": 591,
   "metadata": {},
   "outputs": [
    {
     "data": {
      "text/plain": [
       "19530"
      ]
     },
     "execution_count": 591,
     "metadata": {},
     "output_type": "execute_result"
    }
   ],
   "source": [
    "data = data.drop('Адрес', axis=1) # удаляем столбец с адресом\n",
    "data = data.loc[data['street'] !='', :] \n",
    "data = data.reset_index(drop=True)\n",
    "len(data)"
   ]
  },
  {
   "cell_type": "code",
   "execution_count": 592,
   "metadata": {},
   "outputs": [],
   "source": [
    "# кодируем Улицу\n",
    "le01 = LabelEncoder()\n",
    "le01.fit(data['street'])\n",
    "data['street'] = le01.transform(data['street'])"
   ]
  },
  {
   "cell_type": "code",
   "execution_count": 593,
   "metadata": {},
   "outputs": [],
   "source": [
    "# кодируем Номер дома\n",
    "le01 = LabelEncoder()\n",
    "le01.fit(data['house'])\n",
    "data['house'] = le01.transform(data['house'])"
   ]
  },
  {
   "cell_type": "code",
   "execution_count": 594,
   "metadata": {},
   "outputs": [
    {
     "data": {
      "text/html": [
       "<div>\n",
       "<style scoped>\n",
       "    .dataframe tbody tr th:only-of-type {\n",
       "        vertical-align: middle;\n",
       "    }\n",
       "\n",
       "    .dataframe tbody tr th {\n",
       "        vertical-align: top;\n",
       "    }\n",
       "\n",
       "    .dataframe thead th {\n",
       "        text-align: right;\n",
       "    }\n",
       "</style>\n",
       "<table border=\"1\" class=\"dataframe\">\n",
       "  <thead>\n",
       "    <tr style=\"text-align: right;\">\n",
       "      <th></th>\n",
       "      <th>street</th>\n",
       "      <th>house</th>\n",
       "    </tr>\n",
       "  </thead>\n",
       "  <tbody>\n",
       "    <tr>\n",
       "      <th>0</th>\n",
       "      <td>1579</td>\n",
       "      <td>877</td>\n",
       "    </tr>\n",
       "    <tr>\n",
       "      <th>1</th>\n",
       "      <td>1579</td>\n",
       "      <td>877</td>\n",
       "    </tr>\n",
       "    <tr>\n",
       "      <th>2</th>\n",
       "      <td>1579</td>\n",
       "      <td>877</td>\n",
       "    </tr>\n",
       "    <tr>\n",
       "      <th>3</th>\n",
       "      <td>1180</td>\n",
       "      <td>729</td>\n",
       "    </tr>\n",
       "    <tr>\n",
       "      <th>4</th>\n",
       "      <td>1579</td>\n",
       "      <td>400</td>\n",
       "    </tr>\n",
       "  </tbody>\n",
       "</table>\n",
       "</div>"
      ],
      "text/plain": [
       "   street  house\n",
       "0    1579    877\n",
       "1    1579    877\n",
       "2    1579    877\n",
       "3    1180    729\n",
       "4    1579    400"
      ]
     },
     "execution_count": 594,
     "metadata": {},
     "output_type": "execute_result"
    }
   ],
   "source": [
    "data[['street', 'house']].head()"
   ]
  },
  {
   "cell_type": "markdown",
   "metadata": {},
   "source": [
    "## Стоимость аренды"
   ]
  },
  {
   "cell_type": "code",
   "execution_count": 595,
   "metadata": {},
   "outputs": [
    {
     "data": {
      "text/plain": [
       "19530"
      ]
     },
     "execution_count": 595,
     "metadata": {},
     "output_type": "execute_result"
    }
   ],
   "source": [
    "# заглянем сколько строк\n",
    "len(data) # 19737 records"
   ]
  },
  {
   "cell_type": "code",
   "execution_count": 596,
   "metadata": {},
   "outputs": [
    {
     "data": {
      "text/plain": [
       "2202"
      ]
     },
     "execution_count": 596,
     "metadata": {},
     "output_type": "execute_result"
    }
   ],
   "source": [
    "# число уникальных\n",
    "len(set(data['Цена'])) # 2219 - не удивительно"
   ]
  },
  {
   "cell_type": "code",
   "execution_count": 597,
   "metadata": {},
   "outputs": [
    {
     "data": {
      "text/plain": [
       "0"
      ]
     },
     "execution_count": 597,
     "metadata": {},
     "output_type": "execute_result"
    }
   ],
   "source": [
    "# пустышек: \n",
    "len(data[data['Цена'].isna()]) # 0 - не удивительно"
   ]
  },
  {
   "cell_type": "code",
   "execution_count": 598,
   "metadata": {},
   "outputs": [
    {
     "data": {
      "text/plain": [
       "1    500000.0 руб./ За месяц, Залог - 500000 руб., ...\n",
       "2    500000.0 руб./ За месяц, Залог - 500000 руб., ...\n",
       "3    400000.0 руб./ За месяц, Залог - 400000 руб., ...\n",
       "4    225000.0 руб./ За месяц, Залог - 225000 руб., ...\n",
       "5    470000.0 руб./ За месяц, Залог - 470000 руб., ...\n",
       "Name: Цена, dtype: object"
      ]
     },
     "execution_count": 598,
     "metadata": {},
     "output_type": "execute_result"
    }
   ],
   "source": [
    "data.loc[1:20, 'Цена'].head()"
   ]
  },
  {
   "cell_type": "code",
   "execution_count": 599,
   "metadata": {},
   "outputs": [
    {
     "data": {
      "text/html": [
       "<div>\n",
       "<style scoped>\n",
       "    .dataframe tbody tr th:only-of-type {\n",
       "        vertical-align: middle;\n",
       "    }\n",
       "\n",
       "    .dataframe tbody tr th {\n",
       "        vertical-align: top;\n",
       "    }\n",
       "\n",
       "    .dataframe thead th {\n",
       "        text-align: right;\n",
       "    }\n",
       "</style>\n",
       "<table border=\"1\" class=\"dataframe\">\n",
       "  <thead>\n",
       "    <tr style=\"text-align: right;\">\n",
       "      <th></th>\n",
       "      <th>0</th>\n",
       "      <th>1</th>\n",
       "      <th>2</th>\n",
       "      <th>3</th>\n",
       "      <th>4</th>\n",
       "      <th>5</th>\n",
       "    </tr>\n",
       "  </thead>\n",
       "  <tbody>\n",
       "    <tr>\n",
       "      <th>0</th>\n",
       "      <td>500000.0 руб./ За месяц</td>\n",
       "      <td>Залог - 500000 руб.</td>\n",
       "      <td>Коммунальные услуги включены</td>\n",
       "      <td>Срок аренды - Длительный</td>\n",
       "      <td>Предоплата 1 мес</td>\n",
       "      <td>None</td>\n",
       "    </tr>\n",
       "    <tr>\n",
       "      <th>1</th>\n",
       "      <td>500000.0 руб./ За месяц</td>\n",
       "      <td>Залог - 500000 руб.</td>\n",
       "      <td>Коммунальные услуги включены</td>\n",
       "      <td>Срок аренды - Длительный</td>\n",
       "      <td>Предоплата 1 мес</td>\n",
       "      <td>None</td>\n",
       "    </tr>\n",
       "  </tbody>\n",
       "</table>\n",
       "</div>"
      ],
      "text/plain": [
       "                         0                    1                             2  \\\n",
       "0  500000.0 руб./ За месяц  Залог - 500000 руб.  Коммунальные услуги включены   \n",
       "1  500000.0 руб./ За месяц  Залог - 500000 руб.  Коммунальные услуги включены   \n",
       "\n",
       "                          3                 4     5  \n",
       "0  Срок аренды - Длительный  Предоплата 1 мес  None  \n",
       "1  Срок аренды - Длительный  Предоплата 1 мес  None  "
      ]
     },
     "execution_count": 599,
     "metadata": {},
     "output_type": "execute_result"
    }
   ],
   "source": [
    "# разделим столбец на составляющие - а их много\n",
    "c4 =  data.loc[: ,'Цена'].str.split(', ', expand=True)\n",
    "c4.head(2)"
   ]
  },
  {
   "cell_type": "code",
   "execution_count": 600,
   "metadata": {},
   "outputs": [],
   "source": [
    "# ожидаемый состав столбцов из одного столбца Цена:\n",
    "#0 - цена за месяц price\n",
    "#1 - сумма коммуналки utilities.cost\n",
    "#2 - сумма залога deposit\n",
    "#3 - коммунальные услуги включены utilities.included\n",
    "#4 - срок аренды rent.length\n",
    "#5 - предоплата price.advance"
   ]
  },
  {
   "cell_type": "code",
   "execution_count": 601,
   "metadata": {},
   "outputs": [
    {
     "data": {
      "text/html": [
       "<div>\n",
       "<style scoped>\n",
       "    .dataframe tbody tr th:only-of-type {\n",
       "        vertical-align: middle;\n",
       "    }\n",
       "\n",
       "    .dataframe tbody tr th {\n",
       "        vertical-align: top;\n",
       "    }\n",
       "\n",
       "    .dataframe thead th {\n",
       "        text-align: right;\n",
       "    }\n",
       "</style>\n",
       "<table border=\"1\" class=\"dataframe\">\n",
       "  <thead>\n",
       "    <tr style=\"text-align: right;\">\n",
       "      <th></th>\n",
       "      <th>0</th>\n",
       "      <th>1</th>\n",
       "      <th>2</th>\n",
       "      <th>3</th>\n",
       "      <th>4</th>\n",
       "      <th>5</th>\n",
       "    </tr>\n",
       "  </thead>\n",
       "  <tbody>\n",
       "    <tr>\n",
       "      <th>1178</th>\n",
       "      <td>36000.0 руб./ За месяц</td>\n",
       "      <td>Сумма коммунальных платежей - 2000.0 руб.</td>\n",
       "      <td>Залог - 36000 руб.</td>\n",
       "      <td>Коммунальные услуги включены</td>\n",
       "      <td>Срок аренды - Длительный</td>\n",
       "      <td>Предоплата 1 мес</td>\n",
       "    </tr>\n",
       "    <tr>\n",
       "      <th>2135</th>\n",
       "      <td>140000.0 руб./ За месяц</td>\n",
       "      <td>Сумма коммунальных платежей - 13000.0 руб.</td>\n",
       "      <td>Залог - 125000 руб.</td>\n",
       "      <td>Коммунальные услуги включены</td>\n",
       "      <td>Срок аренды - Длительный</td>\n",
       "      <td>Предоплата 1 мес</td>\n",
       "    </tr>\n",
       "  </tbody>\n",
       "</table>\n",
       "</div>"
      ],
      "text/plain": [
       "                            0                                           1  \\\n",
       "1178   36000.0 руб./ За месяц   Сумма коммунальных платежей - 2000.0 руб.   \n",
       "2135  140000.0 руб./ За месяц  Сумма коммунальных платежей - 13000.0 руб.   \n",
       "\n",
       "                        2                             3  \\\n",
       "1178   Залог - 36000 руб.  Коммунальные услуги включены   \n",
       "2135  Залог - 125000 руб.  Коммунальные услуги включены   \n",
       "\n",
       "                             4                 5  \n",
       "1178  Срок аренды - Длительный  Предоплата 1 мес  \n",
       "2135  Срок аренды - Длительный  Предоплата 1 мес  "
      ]
     },
     "execution_count": 601,
     "metadata": {},
     "output_type": "execute_result"
    }
   ],
   "source": [
    "# посмотрим на строчку с максимальным заполнением\n",
    "c4.loc[c4[5].notna(), :].head(2)"
   ]
  },
  {
   "cell_type": "code",
   "execution_count": 602,
   "metadata": {},
   "outputs": [],
   "source": [
    "# готовим новые столбцы\n",
    "data['price'] = '0'\n",
    "data['utilities_cost'] = '0'\n",
    "data['deposit'] = '0'\n",
    "data['utilities_included'] = '0' #предположу что лишнее - оставим на конец\n",
    "data['rent_length'] = '0'\n",
    "data['price_advance'] = '0'\n",
    "# data['flag'] = '0'"
   ]
  },
  {
   "cell_type": "code",
   "execution_count": 603,
   "metadata": {},
   "outputs": [],
   "source": [
    "# в столбце цены обнаружились не только рубли:\n",
    "# 23 такие записи:\n",
    "# 356      5000.0 $/ За месяц, Залог - 5409 $, Коммунальн...\n",
    "# 443      5000.0 $/ За месяц, Залог - 5000 $, Срок аренд...\n",
    "# 444      5000.0 $/ За месяц, Залог - 5000 $, Коммунальн...\n",
    "# 10101    5000.0 $/ За месяц, Залог - 5000 $, Коммунальн...\n",
    "# 11539    10000.0 $/ За месяц, Залог - 10000 $, Коммунал...\n",
    "# 11540    10000.0 $/ За месяц, Залог - 10000 $, Срок аре...\n",
    "# 12054    9800.0 €/ За месяц, Залог - 9800 €, Коммунальн...\n",
    "\n",
    "# так как есть разные курсы - делаем котировки\n",
    "rate_USD = 100\n",
    "rate_EUR = 105"
   ]
  },
  {
   "cell_type": "code",
   "execution_count": 604,
   "metadata": {},
   "outputs": [
    {
     "data": {
      "text/html": [
       "<div>\n",
       "<style scoped>\n",
       "    .dataframe tbody tr th:only-of-type {\n",
       "        vertical-align: middle;\n",
       "    }\n",
       "\n",
       "    .dataframe tbody tr th {\n",
       "        vertical-align: top;\n",
       "    }\n",
       "\n",
       "    .dataframe thead th {\n",
       "        text-align: right;\n",
       "    }\n",
       "</style>\n",
       "<table border=\"1\" class=\"dataframe\">\n",
       "  <thead>\n",
       "    <tr style=\"text-align: right;\">\n",
       "      <th></th>\n",
       "      <th>Columns</th>\n",
       "      <th>Type</th>\n",
       "    </tr>\n",
       "  </thead>\n",
       "  <tbody>\n",
       "    <tr>\n",
       "      <th>0</th>\n",
       "      <td>0</td>\n",
       "      <td>&lt;class 'str'&gt;</td>\n",
       "    </tr>\n",
       "    <tr>\n",
       "      <th>1</th>\n",
       "      <td>1</td>\n",
       "      <td>&lt;class 'str'&gt;</td>\n",
       "    </tr>\n",
       "    <tr>\n",
       "      <th>2</th>\n",
       "      <td>2</td>\n",
       "      <td>&lt;class 'str'&gt;</td>\n",
       "    </tr>\n",
       "    <tr>\n",
       "      <th>3</th>\n",
       "      <td>3</td>\n",
       "      <td>&lt;class 'str'&gt;</td>\n",
       "    </tr>\n",
       "    <tr>\n",
       "      <th>4</th>\n",
       "      <td>4</td>\n",
       "      <td>&lt;class 'str'&gt;</td>\n",
       "    </tr>\n",
       "    <tr>\n",
       "      <th>5</th>\n",
       "      <td>5</td>\n",
       "      <td>&lt;class 'NoneType'&gt;</td>\n",
       "    </tr>\n",
       "  </tbody>\n",
       "</table>\n",
       "</div>"
      ],
      "text/plain": [
       "   Columns                Type\n",
       "0        0       <class 'str'>\n",
       "1        1       <class 'str'>\n",
       "2        2       <class 'str'>\n",
       "3        3       <class 'str'>\n",
       "4        4       <class 'str'>\n",
       "5        5  <class 'NoneType'>"
      ]
     },
     "execution_count": 604,
     "metadata": {},
     "output_type": "execute_result"
    }
   ],
   "source": [
    "column_type(c4)"
   ]
  },
  {
   "cell_type": "code",
   "execution_count": 605,
   "metadata": {},
   "outputs": [],
   "source": [
    "\n",
    "#a_price =  \n",
    "for i in range(0,len(c4)):\n",
    "    a_price =  float(re.findall(r'\\d+', c4.loc[i, 0])[0])"
   ]
  },
  {
   "cell_type": "code",
   "execution_count": 606,
   "metadata": {},
   "outputs": [],
   "source": [
    "# разносим полученные столбцы в несколько в нашем массиве\n",
    "\n",
    "for i in range(0,len(data)):\n",
    "    # цена за месяц\n",
    "    a_price =  float(re.findall(r'\\d+', c4.loc[i, 0])[0])\n",
    "    if c4.loc[i, 0].find('€') != -1: # то цена не в евро\n",
    "        data.loc[i, 'price'] = str(a_price*rate_EUR)  # должна быть цена в рублях\n",
    "    else:\n",
    "        if c4.loc[i, 0].find('$') != -1: # то цена не в долларах\n",
    "            data.loc[i, 'price'] = str(a_price*rate_USD) \n",
    "        else: # тогда цена в рублях\n",
    "            data.loc[i, 'price'] = str(a_price)\n",
    "\n",
    "\n",
    "    for j in range(1, 5): # идем по оставшимся столбцам\n",
    "        # ищем сумму по коммунальным платежам\n",
    "        if c4.loc[i, j] is not None:\n",
    "            if re.match(r'^Сумма [а-яА-Я0-9.,?() -]+руб.$', c4.loc[i, j]): \n",
    "                data.loc[i, 'utilities_cost'] = re.findall(r'\\d+', c4.loc[i, j])[0] \n",
    "\n",
    "            # ищем залог 'Залог - 500000 руб.'\n",
    "            if re.match(r'^Залог[а-яА-Я0-9.,?() ]+', c4.loc[i, j]): \n",
    "                a_deposit = float(re.findall(r'\\d+', c4.loc[i, j])[0])\n",
    "                if c4.loc[i, j].find('€') != -1: # то цена не в евро\n",
    "                    data.loc[i, 'deposit'] = str(a_deposit*rate_EUR)  # должна быть цена в рублях\n",
    "                else:\n",
    "                    if c4.loc[i, j].find('$') != -1: # то цена не в долларах\n",
    "                        data.loc[i, 'deposit'] = str(a_deposit*rate_USD) \n",
    "                    else: # тогда цена в рублях\n",
    "                        data.loc[i, 'deposit'] = str(a_deposit)\n",
    "                # if not re.match(r'^[а-яА-Я0-9.,?() -]* руб.$', c4.loc[i, j]): \n",
    "                #     data.loc[i, 'flag'] = data.loc[i, 'flag'] + '1'\n",
    "\n",
    "            # ищем Коммунальные услуги\n",
    "            if re.match(r'Коммунальные услуги включены$', c4.loc[i, j]): \n",
    "                data.loc[i, 'utilities_included'] = c4.loc[i, j].split(' ')[-1]\n",
    "\n",
    "            # ищем Срок аренды \n",
    "            if re.match(r'^Срок аренды [а-яА-Я0-9.,?() -]+', c4.loc[i, j]): \n",
    "                a_length = c4.loc[i, j].split(' ')[-1]\n",
    "                if a_length == 'месяцев':\n",
    "                    data.loc[i, 'rent_length'] =  c4.loc[i, j].split(' ')[-2] + a_length\n",
    "                else:\n",
    "                    data.loc[i, 'rent_length'] =  a_length\n",
    "\n",
    "            # ищем Предоплата\n",
    "            if re.match(r'^Предоплата [а-яА-Я0-9.,?() -]+$', c4.loc[i, j]): \n",
    "                data.loc[i, 'price_advance'] = re.findall(r'\\d+', c4.loc[i, j])[0] \n",
    "\n"
   ]
  },
  {
   "cell_type": "code",
   "execution_count": 607,
   "metadata": {},
   "outputs": [
    {
     "data": {
      "text/html": [
       "<div>\n",
       "<style scoped>\n",
       "    .dataframe tbody tr th:only-of-type {\n",
       "        vertical-align: middle;\n",
       "    }\n",
       "\n",
       "    .dataframe tbody tr th {\n",
       "        vertical-align: top;\n",
       "    }\n",
       "\n",
       "    .dataframe thead th {\n",
       "        text-align: right;\n",
       "    }\n",
       "</style>\n",
       "<table border=\"1\" class=\"dataframe\">\n",
       "  <thead>\n",
       "    <tr style=\"text-align: right;\">\n",
       "      <th></th>\n",
       "      <th>Цена</th>\n",
       "      <th>price</th>\n",
       "      <th>utilities_cost</th>\n",
       "      <th>deposit</th>\n",
       "      <th>utilities_included</th>\n",
       "      <th>rent_length</th>\n",
       "      <th>price_advance</th>\n",
       "    </tr>\n",
       "  </thead>\n",
       "  <tbody>\n",
       "    <tr>\n",
       "      <th>0</th>\n",
       "      <td>500000.0 руб./ За месяц, Залог - 500000 руб., ...</td>\n",
       "      <td>500000.0</td>\n",
       "      <td>0</td>\n",
       "      <td>500000.0</td>\n",
       "      <td>включены</td>\n",
       "      <td>Длительный</td>\n",
       "      <td>1</td>\n",
       "    </tr>\n",
       "    <tr>\n",
       "      <th>1</th>\n",
       "      <td>500000.0 руб./ За месяц, Залог - 500000 руб., ...</td>\n",
       "      <td>500000.0</td>\n",
       "      <td>0</td>\n",
       "      <td>500000.0</td>\n",
       "      <td>включены</td>\n",
       "      <td>Длительный</td>\n",
       "      <td>1</td>\n",
       "    </tr>\n",
       "    <tr>\n",
       "      <th>2</th>\n",
       "      <td>500000.0 руб./ За месяц, Залог - 500000 руб., ...</td>\n",
       "      <td>500000.0</td>\n",
       "      <td>0</td>\n",
       "      <td>500000.0</td>\n",
       "      <td>0</td>\n",
       "      <td>Длительный</td>\n",
       "      <td>1</td>\n",
       "    </tr>\n",
       "    <tr>\n",
       "      <th>3</th>\n",
       "      <td>400000.0 руб./ За месяц, Залог - 400000 руб., ...</td>\n",
       "      <td>400000.0</td>\n",
       "      <td>0</td>\n",
       "      <td>400000.0</td>\n",
       "      <td>0</td>\n",
       "      <td>Длительный</td>\n",
       "      <td>1</td>\n",
       "    </tr>\n",
       "    <tr>\n",
       "      <th>4</th>\n",
       "      <td>225000.0 руб./ За месяц, Залог - 225000 руб., ...</td>\n",
       "      <td>225000.0</td>\n",
       "      <td>0</td>\n",
       "      <td>225000.0</td>\n",
       "      <td>включены</td>\n",
       "      <td>Длительный</td>\n",
       "      <td>1</td>\n",
       "    </tr>\n",
       "  </tbody>\n",
       "</table>\n",
       "</div>"
      ],
      "text/plain": [
       "                                                Цена     price utilities_cost  \\\n",
       "0  500000.0 руб./ За месяц, Залог - 500000 руб., ...  500000.0              0   \n",
       "1  500000.0 руб./ За месяц, Залог - 500000 руб., ...  500000.0              0   \n",
       "2  500000.0 руб./ За месяц, Залог - 500000 руб., ...  500000.0              0   \n",
       "3  400000.0 руб./ За месяц, Залог - 400000 руб., ...  400000.0              0   \n",
       "4  225000.0 руб./ За месяц, Залог - 225000 руб., ...  225000.0              0   \n",
       "\n",
       "    deposit utilities_included rent_length price_advance  \n",
       "0  500000.0           включены  Длительный             1  \n",
       "1  500000.0           включены  Длительный             1  \n",
       "2  500000.0                  0  Длительный             1  \n",
       "3  400000.0                  0  Длительный             1  \n",
       "4  225000.0           включены  Длительный             1  "
      ]
     },
     "execution_count": 607,
     "metadata": {},
     "output_type": "execute_result"
    }
   ],
   "source": [
    "# смотрим на то что получилось\n",
    "a11 = data.loc[:, ['Цена', 'price', 'utilities_cost', 'deposit', 'utilities_included', 'rent_length', 'price_advance']]\n",
    "a11.head()"
   ]
  },
  {
   "cell_type": "code",
   "execution_count": 608,
   "metadata": {},
   "outputs": [
    {
     "data": {
      "text/plain": [
       "Цена                  500000.0 руб./ За месяц, Залог - 500000 руб., ...\n",
       "price                                                          500000.0\n",
       "utilities_cost                                                        0\n",
       "deposit                                                        500000.0\n",
       "utilities_included                                             включены\n",
       "rent_length                                                  Длительный\n",
       "price_advance                                                         1\n",
       "Name: 0, dtype: object"
      ]
     },
     "execution_count": 608,
     "metadata": {},
     "output_type": "execute_result"
    }
   ],
   "source": [
    "# единичная запись - вроде все ок\n",
    "a11.iloc[0, :]"
   ]
  },
  {
   "cell_type": "code",
   "execution_count": 609,
   "metadata": {},
   "outputs": [],
   "source": [
    "# обработка rent.length {'несколькомесяцев', 'Длительный'}\n",
    "set(data['rent_length'])\n",
    "data.loc[data['rent_length'] == 'несколькомесяцев', 'rent_length'] = '3'\n",
    "data.loc[data['rent_length'] == 'Длительный', 'rent_length'] = '12'"
   ]
  },
  {
   "cell_type": "code",
   "execution_count": 610,
   "metadata": {},
   "outputs": [],
   "source": [
    "# обработка price.advance {'11', '12', '3', '0', '1', '2', '6'}\n",
    "set(data['price_advance'])\n",
    "# предположу что без авансового платежа никто не заселит\n",
    "data.loc[data['price_advance'] == '0', 'price_advance'] = '1'"
   ]
  },
  {
   "cell_type": "code",
   "execution_count": 611,
   "metadata": {},
   "outputs": [],
   "source": [
    "# обработка подготовленных столбцов\n",
    "data['price'] = data['price'].astype(float)\n",
    "data['utilities_cost'] = data['utilities_cost'].astype(float)\n",
    "data['deposit'] = data['deposit'].astype(float)\n",
    "data['rent_length'] = data['rent_length'].astype(float)\n",
    "data['price_advance'] = data['price_advance'].astype(float)"
   ]
  },
  {
   "cell_type": "code",
   "execution_count": 612,
   "metadata": {},
   "outputs": [
    {
     "data": {
      "text/plain": [
       "{'0': 0, 'включены': 1}"
      ]
     },
     "execution_count": 612,
     "metadata": {},
     "output_type": "execute_result"
    }
   ],
   "source": [
    "# кодируем utilities.included\n",
    "le01 = LabelEncoder()\n",
    "le01.fit(data['utilities_included'])\n",
    "data['utilities_included'] = le01.transform(data['utilities_included'])\n",
    "dict(zip(le01.classes_, range(len(le01.classes_)))) # а вот и словарь\n",
    "# {'0': 0, 'включены': 1}"
   ]
  },
  {
   "cell_type": "code",
   "execution_count": 613,
   "metadata": {},
   "outputs": [],
   "source": [
    "data = data.drop('Цена', axis=1) # удаляем ненужные столбцы"
   ]
  },
  {
   "cell_type": "markdown",
   "metadata": {},
   "source": [
    "## Площадь квартиры"
   ]
  },
  {
   "cell_type": "code",
   "execution_count": 614,
   "metadata": {},
   "outputs": [
    {
     "data": {
      "text/plain": [
       "19530"
      ]
     },
     "execution_count": 614,
     "metadata": {},
     "output_type": "execute_result"
    }
   ],
   "source": [
    "# смотрим на длину\n",
    "len(data) # 19737 records"
   ]
  },
  {
   "cell_type": "code",
   "execution_count": 615,
   "metadata": {},
   "outputs": [
    {
     "data": {
      "text/plain": [
       "9519"
      ]
     },
     "execution_count": 615,
     "metadata": {},
     "output_type": "execute_result"
    }
   ],
   "source": [
    "# число уникальных записей\n",
    "len(set(data['Площадь, м2'])) #"
   ]
  },
  {
   "cell_type": "code",
   "execution_count": 616,
   "metadata": {},
   "outputs": [],
   "source": [
    "# уникальные записи\n",
    "#set(data['Площадь, м2'])\n",
    "# {'42.5/19.0/10.0',\n",
    "#  '38.0/19.1/8.3',\n",
    "#  '32.5/18.3/6.0',\n",
    "#  '55.0/32.0/12.0',"
   ]
  },
  {
   "cell_type": "code",
   "execution_count": 617,
   "metadata": {},
   "outputs": [
    {
     "data": {
      "text/plain": [
       "0"
      ]
     },
     "execution_count": 617,
     "metadata": {},
     "output_type": "execute_result"
    }
   ],
   "source": [
    "# число NaN записей\n",
    "len(data[data['Площадь, м2'].isna()]) # 0 - cool"
   ]
  },
  {
   "cell_type": "code",
   "execution_count": 618,
   "metadata": {},
   "outputs": [],
   "source": [
    "# выглядит как:\n",
    "# 1      198.0/95.0/18.0\n",
    "# 2      200.0/116.0/4.0\n",
    "# 3      170.0/95.0/17.0\n",
    "# 4        58.0/38.0/5.0\n",
    "# 5                 92.0\n",
    "\n",
    "# расшифровываем как:\n",
    "# Общая площадь 198 м²\n",
    "# Жилая площадь 95 м²\n",
    "# Площадь кухни 18 м²"
   ]
  },
  {
   "cell_type": "code",
   "execution_count": 619,
   "metadata": {},
   "outputs": [
    {
     "data": {
      "text/html": [
       "<div>\n",
       "<style scoped>\n",
       "    .dataframe tbody tr th:only-of-type {\n",
       "        vertical-align: middle;\n",
       "    }\n",
       "\n",
       "    .dataframe tbody tr th {\n",
       "        vertical-align: top;\n",
       "    }\n",
       "\n",
       "    .dataframe thead th {\n",
       "        text-align: right;\n",
       "    }\n",
       "</style>\n",
       "<table border=\"1\" class=\"dataframe\">\n",
       "  <thead>\n",
       "    <tr style=\"text-align: right;\">\n",
       "      <th></th>\n",
       "      <th>0</th>\n",
       "      <th>1</th>\n",
       "      <th>2</th>\n",
       "      <th>3</th>\n",
       "    </tr>\n",
       "  </thead>\n",
       "  <tbody>\n",
       "    <tr>\n",
       "      <th>0</th>\n",
       "      <td>200.0</td>\n",
       "      <td>20.0</td>\n",
       "      <td>None</td>\n",
       "      <td>1</td>\n",
       "    </tr>\n",
       "    <tr>\n",
       "      <th>1</th>\n",
       "      <td>198.0</td>\n",
       "      <td>95.0</td>\n",
       "      <td>18.0</td>\n",
       "      <td>2</td>\n",
       "    </tr>\n",
       "    <tr>\n",
       "      <th>2</th>\n",
       "      <td>200.0</td>\n",
       "      <td>116.0</td>\n",
       "      <td>4.0</td>\n",
       "      <td>2</td>\n",
       "    </tr>\n",
       "    <tr>\n",
       "      <th>3</th>\n",
       "      <td>170.0</td>\n",
       "      <td>95.0</td>\n",
       "      <td>17.0</td>\n",
       "      <td>2</td>\n",
       "    </tr>\n",
       "    <tr>\n",
       "      <th>4</th>\n",
       "      <td>58.0</td>\n",
       "      <td>38.0</td>\n",
       "      <td>5.0</td>\n",
       "      <td>2</td>\n",
       "    </tr>\n",
       "  </tbody>\n",
       "</table>\n",
       "</div>"
      ],
      "text/plain": [
       "       0      1     2  3\n",
       "0  200.0   20.0  None  1\n",
       "1  198.0   95.0  18.0  2\n",
       "2  200.0  116.0   4.0  2\n",
       "3  170.0   95.0  17.0  2\n",
       "4   58.0   38.0   5.0  2"
      ]
     },
     "execution_count": 619,
     "metadata": {},
     "output_type": "execute_result"
    }
   ],
   "source": [
    "# собираем вспомогательный массив\n",
    "a = data.loc[:, 'Площадь, м2'].str.count('/') # считаем разделители\n",
    "# делим строку с площадями на максимум три столбца\n",
    "b =  data.loc[: ,'Площадь, м2'].str.split('/', expand=True)\n",
    "b[3] = a # собираем вместе\n",
    "b.head()\n",
    "# пока не очевидно что является второй цифрой, когда их всего 2"
   ]
  },
  {
   "cell_type": "code",
   "execution_count": 620,
   "metadata": {},
   "outputs": [],
   "source": [
    "# ожидаемый состав столбцов:\n",
    "#0 - total.m2 - Общая площадь, м2 \n",
    "#1 - live.m2 - Жилая площадь, м2\n",
    "#2(1) - kitchen.m2 - Площадь кухни, м2"
   ]
  },
  {
   "cell_type": "code",
   "execution_count": 621,
   "metadata": {},
   "outputs": [],
   "source": [
    "b[0] = b[0].astype(float)\n",
    "b[1] = b[1].astype(float)\n",
    "b[2] = b[2].astype(float)"
   ]
  },
  {
   "cell_type": "code",
   "execution_count": 622,
   "metadata": {},
   "outputs": [
    {
     "data": {
      "text/html": [
       "<div>\n",
       "<style scoped>\n",
       "    .dataframe tbody tr th:only-of-type {\n",
       "        vertical-align: middle;\n",
       "    }\n",
       "\n",
       "    .dataframe tbody tr th {\n",
       "        vertical-align: top;\n",
       "    }\n",
       "\n",
       "    .dataframe thead th {\n",
       "        text-align: right;\n",
       "    }\n",
       "</style>\n",
       "<table border=\"1\" class=\"dataframe\">\n",
       "  <thead>\n",
       "    <tr style=\"text-align: right;\">\n",
       "      <th></th>\n",
       "      <th>0</th>\n",
       "      <th>1</th>\n",
       "      <th>2</th>\n",
       "      <th>3</th>\n",
       "    </tr>\n",
       "  </thead>\n",
       "  <tbody>\n",
       "    <tr>\n",
       "      <th>0</th>\n",
       "      <td>200.0</td>\n",
       "      <td>20.0</td>\n",
       "      <td>NaN</td>\n",
       "      <td>1</td>\n",
       "    </tr>\n",
       "    <tr>\n",
       "      <th>1</th>\n",
       "      <td>198.0</td>\n",
       "      <td>95.0</td>\n",
       "      <td>18.0</td>\n",
       "      <td>2</td>\n",
       "    </tr>\n",
       "    <tr>\n",
       "      <th>2</th>\n",
       "      <td>200.0</td>\n",
       "      <td>116.0</td>\n",
       "      <td>4.0</td>\n",
       "      <td>2</td>\n",
       "    </tr>\n",
       "    <tr>\n",
       "      <th>3</th>\n",
       "      <td>170.0</td>\n",
       "      <td>95.0</td>\n",
       "      <td>17.0</td>\n",
       "      <td>2</td>\n",
       "    </tr>\n",
       "    <tr>\n",
       "      <th>4</th>\n",
       "      <td>58.0</td>\n",
       "      <td>38.0</td>\n",
       "      <td>5.0</td>\n",
       "      <td>2</td>\n",
       "    </tr>\n",
       "  </tbody>\n",
       "</table>\n",
       "</div>"
      ],
      "text/plain": [
       "       0      1     2  3\n",
       "0  200.0   20.0   NaN  1\n",
       "1  198.0   95.0  18.0  2\n",
       "2  200.0  116.0   4.0  2\n",
       "3  170.0   95.0  17.0  2\n",
       "4   58.0   38.0   5.0  2"
      ]
     },
     "execution_count": 622,
     "metadata": {},
     "output_type": "execute_result"
    }
   ],
   "source": [
    "b.head()"
   ]
  },
  {
   "cell_type": "code",
   "execution_count": 623,
   "metadata": {},
   "outputs": [
    {
     "name": "stderr",
     "output_type": "stream",
     "text": [
      "/tmp/ipykernel_177212/2880602556.py:8: SettingWithCopyWarning: \n",
      "A value is trying to be set on a copy of a slice from a DataFrame.\n",
      "Try using .loc[row_indexer,col_indexer] = value instead\n",
      "\n",
      "See the caveats in the documentation: https://pandas.pydata.org/pandas-docs/stable/user_guide/indexing.html#returning-a-view-versus-a-copy\n",
      "  b_kitch.loc[:, 'kitch_ave'] = b_kitch.loc[:, 2] /  b_kitch.loc[:, 0]\n"
     ]
    },
    {
     "data": {
      "text/html": [
       "<div>\n",
       "<style scoped>\n",
       "    .dataframe tbody tr th:only-of-type {\n",
       "        vertical-align: middle;\n",
       "    }\n",
       "\n",
       "    .dataframe tbody tr th {\n",
       "        vertical-align: top;\n",
       "    }\n",
       "\n",
       "    .dataframe thead th {\n",
       "        text-align: right;\n",
       "    }\n",
       "</style>\n",
       "<table border=\"1\" class=\"dataframe\">\n",
       "  <thead>\n",
       "    <tr style=\"text-align: right;\">\n",
       "      <th></th>\n",
       "      <th>0</th>\n",
       "      <th>1</th>\n",
       "      <th>2</th>\n",
       "      <th>3</th>\n",
       "      <th>kitch_ave</th>\n",
       "    </tr>\n",
       "  </thead>\n",
       "  <tbody>\n",
       "    <tr>\n",
       "      <th>count</th>\n",
       "      <td>15172.000000</td>\n",
       "      <td>15172.000000</td>\n",
       "      <td>15172.000000</td>\n",
       "      <td>15172.0</td>\n",
       "      <td>15172.000000</td>\n",
       "    </tr>\n",
       "    <tr>\n",
       "      <th>mean</th>\n",
       "      <td>59.946392</td>\n",
       "      <td>35.766900</td>\n",
       "      <td>9.867473</td>\n",
       "      <td>2.0</td>\n",
       "      <td>0.183578</td>\n",
       "    </tr>\n",
       "    <tr>\n",
       "      <th>std</th>\n",
       "      <td>41.318993</td>\n",
       "      <td>26.479526</td>\n",
       "      <td>4.860423</td>\n",
       "      <td>0.0</td>\n",
       "      <td>0.066308</td>\n",
       "    </tr>\n",
       "    <tr>\n",
       "      <th>min</th>\n",
       "      <td>10.000000</td>\n",
       "      <td>5.000000</td>\n",
       "      <td>1.000000</td>\n",
       "      <td>2.0</td>\n",
       "      <td>0.016071</td>\n",
       "    </tr>\n",
       "    <tr>\n",
       "      <th>25%</th>\n",
       "      <td>38.200000</td>\n",
       "      <td>20.000000</td>\n",
       "      <td>7.000000</td>\n",
       "      <td>2.0</td>\n",
       "      <td>0.136364</td>\n",
       "    </tr>\n",
       "    <tr>\n",
       "      <th>50%</th>\n",
       "      <td>47.000000</td>\n",
       "      <td>30.000000</td>\n",
       "      <td>9.000000</td>\n",
       "      <td>2.0</td>\n",
       "      <td>0.175439</td>\n",
       "    </tr>\n",
       "    <tr>\n",
       "      <th>75%</th>\n",
       "      <td>65.000000</td>\n",
       "      <td>40.000000</td>\n",
       "      <td>10.500000</td>\n",
       "      <td>2.0</td>\n",
       "      <td>0.222222</td>\n",
       "    </tr>\n",
       "    <tr>\n",
       "      <th>max</th>\n",
       "      <td>811.000000</td>\n",
       "      <td>490.000000</td>\n",
       "      <td>98.000000</td>\n",
       "      <td>2.0</td>\n",
       "      <td>0.757576</td>\n",
       "    </tr>\n",
       "  </tbody>\n",
       "</table>\n",
       "</div>"
      ],
      "text/plain": [
       "                  0             1             2        3     kitch_ave\n",
       "count  15172.000000  15172.000000  15172.000000  15172.0  15172.000000\n",
       "mean      59.946392     35.766900      9.867473      2.0      0.183578\n",
       "std       41.318993     26.479526      4.860423      0.0      0.066308\n",
       "min       10.000000      5.000000      1.000000      2.0      0.016071\n",
       "25%       38.200000     20.000000      7.000000      2.0      0.136364\n",
       "50%       47.000000     30.000000      9.000000      2.0      0.175439\n",
       "75%       65.000000     40.000000     10.500000      2.0      0.222222\n",
       "max      811.000000    490.000000     98.000000      2.0      0.757576"
      ]
     },
     "execution_count": 623,
     "metadata": {},
     "output_type": "execute_result"
    }
   ],
   "source": [
    "# как оказалось при дальнейшем анализе, \n",
    "# вторая цифра строки Площади из массива\n",
    "# это либо жилая площадь, либо площадь кухни\n",
    "# и какая из них какая, не очень ясно\n",
    "\n",
    "# посмотрим на размер кухни, когда все три значения заполнены\n",
    "b_kitch = b[b[3] == 2]\n",
    "b_kitch.loc[:, 'kitch_ave'] = b_kitch.loc[:, 2] /  b_kitch.loc[:, 0]\n",
    "#b_kitch.head()\n",
    "b_kitch.describe()\n",
    "\n",
    "# предположим, что при значении второй цифры больше 22.2% \n",
    "# это уже не кухня, а жилай зона"
   ]
  },
  {
   "cell_type": "code",
   "execution_count": 624,
   "metadata": {},
   "outputs": [],
   "source": [
    "# новые столбцы в массиве\n",
    "data['total_m2'] = 0\n",
    "data['live_m2'] = 0\n",
    "data['kitchen_m2'] = 0"
   ]
  },
  {
   "cell_type": "code",
   "execution_count": 625,
   "metadata": {},
   "outputs": [
    {
     "name": "stderr",
     "output_type": "stream",
     "text": [
      "/tmp/ipykernel_177212/494371415.py:4: FutureWarning: Setting an item of incompatible dtype is deprecated and will raise an error in a future version of pandas. Value '222.2' has dtype incompatible with int64, please explicitly cast to a compatible dtype first.\n",
      "  data.loc[i, 'total_m2'] = b.at[i, 0]\n",
      "/tmp/ipykernel_177212/494371415.py:11: FutureWarning: Setting an item of incompatible dtype is deprecated and will raise an error in a future version of pandas. Value '10.8' has dtype incompatible with int64, please explicitly cast to a compatible dtype first.\n",
      "  data.loc[i, 'kitchen_m2'] = b.at[i, 1]\n",
      "/tmp/ipykernel_177212/494371415.py:9: FutureWarning: Setting an item of incompatible dtype is deprecated and will raise an error in a future version of pandas. Value '45.6' has dtype incompatible with int64, please explicitly cast to a compatible dtype first.\n",
      "  data.loc[i, 'live_m2'] = b.at[i, 1]\n"
     ]
    },
    {
     "data": {
      "text/html": [
       "<div>\n",
       "<style scoped>\n",
       "    .dataframe tbody tr th:only-of-type {\n",
       "        vertical-align: middle;\n",
       "    }\n",
       "\n",
       "    .dataframe tbody tr th {\n",
       "        vertical-align: top;\n",
       "    }\n",
       "\n",
       "    .dataframe thead th {\n",
       "        text-align: right;\n",
       "    }\n",
       "</style>\n",
       "<table border=\"1\" class=\"dataframe\">\n",
       "  <thead>\n",
       "    <tr style=\"text-align: right;\">\n",
       "      <th></th>\n",
       "      <th>total_m2</th>\n",
       "      <th>live_m2</th>\n",
       "      <th>kitchen_m2</th>\n",
       "    </tr>\n",
       "  </thead>\n",
       "  <tbody>\n",
       "    <tr>\n",
       "      <th>0</th>\n",
       "      <td>200.0</td>\n",
       "      <td>0.0</td>\n",
       "      <td>20.0</td>\n",
       "    </tr>\n",
       "    <tr>\n",
       "      <th>1</th>\n",
       "      <td>198.0</td>\n",
       "      <td>95.0</td>\n",
       "      <td>18.0</td>\n",
       "    </tr>\n",
       "    <tr>\n",
       "      <th>2</th>\n",
       "      <td>200.0</td>\n",
       "      <td>116.0</td>\n",
       "      <td>4.0</td>\n",
       "    </tr>\n",
       "    <tr>\n",
       "      <th>3</th>\n",
       "      <td>170.0</td>\n",
       "      <td>95.0</td>\n",
       "      <td>17.0</td>\n",
       "    </tr>\n",
       "    <tr>\n",
       "      <th>4</th>\n",
       "      <td>58.0</td>\n",
       "      <td>38.0</td>\n",
       "      <td>5.0</td>\n",
       "    </tr>\n",
       "  </tbody>\n",
       "</table>\n",
       "</div>"
      ],
      "text/plain": [
       "   total_m2  live_m2  kitchen_m2\n",
       "0     200.0      0.0        20.0\n",
       "1     198.0     95.0        18.0\n",
       "2     200.0    116.0         4.0\n",
       "3     170.0     95.0        17.0\n",
       "4      58.0     38.0         5.0"
      ]
     },
     "execution_count": 625,
     "metadata": {},
     "output_type": "execute_result"
    }
   ],
   "source": [
    "# переносим из вспомогательного массива данные в основной:\n",
    "for i in range(0, len(b)):\n",
    "    if b.loc[i,3] == 0:    \n",
    "        data.loc[i, 'total_m2'] = b.at[i, 0]\n",
    "    else:\n",
    "        if b.loc[i,3] == 1:\n",
    "            data.loc[i, 'total_m2'] = b.at[i, 0]\n",
    "            if b.at[i, 1]  > b.at[i, 0]*0.22:\n",
    "                data.loc[i, 'live_m2'] = b.at[i, 1] \n",
    "            else:\n",
    "                data.loc[i, 'kitchen_m2'] = b.at[i, 1] \n",
    "        else:\n",
    "            data.loc[i, 'total_m2'] = b.at[i, 0]\n",
    "            data.loc[i, 'live_m2'] = b.at[i, 1] \n",
    "            data.loc[i, 'kitchen_m2'] = b.at[i, 2] \n",
    "\n",
    "# смотрим что получилось\n",
    "data[['total_m2', 'live_m2', 'kitchen_m2']].head()"
   ]
  },
  {
   "cell_type": "code",
   "execution_count": 626,
   "metadata": {},
   "outputs": [
    {
     "data": {
      "text/html": [
       "<div>\n",
       "<style scoped>\n",
       "    .dataframe tbody tr th:only-of-type {\n",
       "        vertical-align: middle;\n",
       "    }\n",
       "\n",
       "    .dataframe tbody tr th {\n",
       "        vertical-align: top;\n",
       "    }\n",
       "\n",
       "    .dataframe thead th {\n",
       "        text-align: right;\n",
       "    }\n",
       "</style>\n",
       "<table border=\"1\" class=\"dataframe\">\n",
       "  <thead>\n",
       "    <tr style=\"text-align: right;\">\n",
       "      <th></th>\n",
       "      <th>Columns</th>\n",
       "      <th>Type</th>\n",
       "    </tr>\n",
       "  </thead>\n",
       "  <tbody>\n",
       "    <tr>\n",
       "      <th>0</th>\n",
       "      <td>kitchen_m2</td>\n",
       "      <td>&lt;class 'numpy.float64'&gt;</td>\n",
       "    </tr>\n",
       "    <tr>\n",
       "      <th>1</th>\n",
       "      <td>total_m2</td>\n",
       "      <td>&lt;class 'numpy.float64'&gt;</td>\n",
       "    </tr>\n",
       "    <tr>\n",
       "      <th>2</th>\n",
       "      <td>live_m2</td>\n",
       "      <td>&lt;class 'numpy.float64'&gt;</td>\n",
       "    </tr>\n",
       "  </tbody>\n",
       "</table>\n",
       "</div>"
      ],
      "text/plain": [
       "      Columns                     Type\n",
       "0  kitchen_m2  <class 'numpy.float64'>\n",
       "1    total_m2  <class 'numpy.float64'>\n",
       "2     live_m2  <class 'numpy.float64'>"
      ]
     },
     "execution_count": 626,
     "metadata": {},
     "output_type": "execute_result"
    }
   ],
   "source": [
    "# теперь нужна цифра\n",
    "# смотрим\n",
    "column_type(data[['kitchen_m2', 'total_m2', 'live_m2']])"
   ]
  },
  {
   "cell_type": "code",
   "execution_count": 627,
   "metadata": {},
   "outputs": [
    {
     "data": {
      "text/html": [
       "<div>\n",
       "<style scoped>\n",
       "    .dataframe tbody tr th:only-of-type {\n",
       "        vertical-align: middle;\n",
       "    }\n",
       "\n",
       "    .dataframe tbody tr th {\n",
       "        vertical-align: top;\n",
       "    }\n",
       "\n",
       "    .dataframe thead th {\n",
       "        text-align: right;\n",
       "    }\n",
       "</style>\n",
       "<table border=\"1\" class=\"dataframe\">\n",
       "  <thead>\n",
       "    <tr style=\"text-align: right;\">\n",
       "      <th></th>\n",
       "      <th>total_m2</th>\n",
       "      <th>live_m2</th>\n",
       "      <th>kitchen_m2</th>\n",
       "    </tr>\n",
       "  </thead>\n",
       "  <tbody>\n",
       "    <tr>\n",
       "      <th>0</th>\n",
       "      <td>200.0</td>\n",
       "      <td>0.0</td>\n",
       "      <td>20.0</td>\n",
       "    </tr>\n",
       "    <tr>\n",
       "      <th>1</th>\n",
       "      <td>198.0</td>\n",
       "      <td>95.0</td>\n",
       "      <td>18.0</td>\n",
       "    </tr>\n",
       "    <tr>\n",
       "      <th>2</th>\n",
       "      <td>200.0</td>\n",
       "      <td>116.0</td>\n",
       "      <td>4.0</td>\n",
       "    </tr>\n",
       "    <tr>\n",
       "      <th>3</th>\n",
       "      <td>170.0</td>\n",
       "      <td>95.0</td>\n",
       "      <td>17.0</td>\n",
       "    </tr>\n",
       "    <tr>\n",
       "      <th>4</th>\n",
       "      <td>58.0</td>\n",
       "      <td>38.0</td>\n",
       "      <td>5.0</td>\n",
       "    </tr>\n",
       "  </tbody>\n",
       "</table>\n",
       "</div>"
      ],
      "text/plain": [
       "   total_m2  live_m2  kitchen_m2\n",
       "0     200.0      0.0        20.0\n",
       "1     198.0     95.0        18.0\n",
       "2     200.0    116.0         4.0\n",
       "3     170.0     95.0        17.0\n",
       "4      58.0     38.0         5.0"
      ]
     },
     "execution_count": 627,
     "metadata": {},
     "output_type": "execute_result"
    }
   ],
   "source": [
    "# предположим мы удачно разделили кухню и жилую зону\n",
    "# используем это для будущим моделей для закрытия NaN\n",
    "data.loc[:, 'total_m2_x2'] = data['total_m2']**2\n",
    "data[['total_m2', 'live_m2', 'kitchen_m2']].head()"
   ]
  },
  {
   "cell_type": "code",
   "execution_count": 628,
   "metadata": {},
   "outputs": [
    {
     "data": {
      "text/plain": [
       "16025"
      ]
     },
     "execution_count": 628,
     "metadata": {},
     "output_type": "execute_result"
    }
   ],
   "source": [
    "# отберем все ненулевые записи - живой вариант без студий\n",
    "b2 = data[data['live_m2'] >0]\n",
    "len(b2) #17312"
   ]
  },
  {
   "cell_type": "code",
   "execution_count": 629,
   "metadata": {},
   "outputs": [
    {
     "data": {
      "text/html": [
       "<div>\n",
       "<style scoped>\n",
       "    .dataframe tbody tr th:only-of-type {\n",
       "        vertical-align: middle;\n",
       "    }\n",
       "\n",
       "    .dataframe tbody tr th {\n",
       "        vertical-align: top;\n",
       "    }\n",
       "\n",
       "    .dataframe thead th {\n",
       "        text-align: right;\n",
       "    }\n",
       "</style>\n",
       "<table border=\"1\" class=\"dataframe\">\n",
       "  <thead>\n",
       "    <tr style=\"text-align: right;\">\n",
       "      <th></th>\n",
       "      <th>Площадь, м2</th>\n",
       "      <th>total_m2</th>\n",
       "      <th>live_m2</th>\n",
       "      <th>kitchen_m2</th>\n",
       "    </tr>\n",
       "  </thead>\n",
       "  <tbody>\n",
       "    <tr>\n",
       "      <th>1</th>\n",
       "      <td>198.0/95.0/18.0</td>\n",
       "      <td>198.0</td>\n",
       "      <td>95.0</td>\n",
       "      <td>18.0</td>\n",
       "    </tr>\n",
       "    <tr>\n",
       "      <th>2</th>\n",
       "      <td>200.0/116.0/4.0</td>\n",
       "      <td>200.0</td>\n",
       "      <td>116.0</td>\n",
       "      <td>4.0</td>\n",
       "    </tr>\n",
       "    <tr>\n",
       "      <th>3</th>\n",
       "      <td>170.0/95.0/17.0</td>\n",
       "      <td>170.0</td>\n",
       "      <td>95.0</td>\n",
       "      <td>17.0</td>\n",
       "    </tr>\n",
       "    <tr>\n",
       "      <th>4</th>\n",
       "      <td>58.0/38.0/5.0</td>\n",
       "      <td>58.0</td>\n",
       "      <td>38.0</td>\n",
       "      <td>5.0</td>\n",
       "    </tr>\n",
       "    <tr>\n",
       "      <th>6</th>\n",
       "      <td>213.0/140.0/20.0</td>\n",
       "      <td>213.0</td>\n",
       "      <td>140.0</td>\n",
       "      <td>20.0</td>\n",
       "    </tr>\n",
       "  </tbody>\n",
       "</table>\n",
       "</div>"
      ],
      "text/plain": [
       "        Площадь, м2  total_m2  live_m2  kitchen_m2\n",
       "1   198.0/95.0/18.0     198.0     95.0        18.0\n",
       "2   200.0/116.0/4.0     200.0    116.0         4.0\n",
       "3   170.0/95.0/17.0     170.0     95.0        17.0\n",
       "4     58.0/38.0/5.0      58.0     38.0         5.0\n",
       "6  213.0/140.0/20.0     213.0    140.0        20.0"
      ]
     },
     "execution_count": 629,
     "metadata": {},
     "output_type": "execute_result"
    }
   ],
   "source": [
    "# оставим только значения для анализа\n",
    "b2[['Площадь, м2', 'total_m2', 'live_m2', 'kitchen_m2']].head()"
   ]
  },
  {
   "cell_type": "code",
   "execution_count": 630,
   "metadata": {},
   "outputs": [
    {
     "name": "stdout",
     "output_type": "stream",
     "text": [
      "                            OLS Regression Results                            \n",
      "==============================================================================\n",
      "Dep. Variable:                live_m2   R-squared:                       0.891\n",
      "Model:                            OLS   Adj. R-squared:                  0.891\n",
      "Method:                 Least Squares   F-statistic:                 6.538e+04\n",
      "Date:                Sun, 29 Dec 2024   Prob (F-statistic):               0.00\n",
      "Time:                        23:32:49   Log-Likelihood:                -58490.\n",
      "No. Observations:               16025   AIC:                         1.170e+05\n",
      "Df Residuals:                   16022   BIC:                         1.170e+05\n",
      "Df Model:                           2                                         \n",
      "Covariance Type:            nonrobust                                         \n",
      "===============================================================================\n",
      "                  coef    std err          t      P>|t|      [0.025      0.975]\n",
      "-------------------------------------------------------------------------------\n",
      "const          -4.1274      0.174    -23.721      0.000      -4.468      -3.786\n",
      "total_m2        0.6814      0.003    211.134      0.000       0.675       0.688\n",
      "total_m2_x2    -0.0002   8.46e-06    -22.102      0.000      -0.000      -0.000\n",
      "==============================================================================\n",
      "Omnibus:                    11555.815   Durbin-Watson:                   1.915\n",
      "Prob(Omnibus):                  0.000   Jarque-Bera (JB):         11039788.113\n",
      "Skew:                          -2.094   Prob(JB):                         0.00\n",
      "Kurtosis:                     131.516   Cond. No.                     4.07e+04\n",
      "==============================================================================\n",
      "\n",
      "Notes:\n",
      "[1] Standard Errors assume that the covariance matrix of the errors is correctly specified.\n",
      "[2] The condition number is large, 4.07e+04. This might indicate that there are\n",
      "strong multicollinearity or other numerical problems.\n"
     ]
    }
   ],
   "source": [
    "#а построим модель?\n",
    "# площадь жилая\n",
    "live01 = sm.add_constant(b2[['total_m2', 'total_m2_x2']])\n",
    "model_live01 = OLS(b2['live_m2'], live01, hasconst=True).fit()\n",
    "\n",
    "print(model_live01.summary())\n",
    "# R2 = 0.891\n",
    "# здесь неплохо"
   ]
  },
  {
   "cell_type": "code",
   "execution_count": 631,
   "metadata": {},
   "outputs": [
    {
     "data": {
      "text/plain": [
       "-4.127387866602192"
      ]
     },
     "execution_count": 631,
     "metadata": {},
     "output_type": "execute_result"
    }
   ],
   "source": [
    "# коэффиуиент const - смотрим\n",
    "live_m2_const = model_live01.params\n",
    "live_m2_const.iloc[0]"
   ]
  },
  {
   "cell_type": "code",
   "execution_count": 632,
   "metadata": {},
   "outputs": [
    {
     "data": {
      "text/html": [
       "<div>\n",
       "<style scoped>\n",
       "    .dataframe tbody tr th:only-of-type {\n",
       "        vertical-align: middle;\n",
       "    }\n",
       "\n",
       "    .dataframe tbody tr th {\n",
       "        vertical-align: top;\n",
       "    }\n",
       "\n",
       "    .dataframe thead th {\n",
       "        text-align: right;\n",
       "    }\n",
       "</style>\n",
       "<table border=\"1\" class=\"dataframe\">\n",
       "  <thead>\n",
       "    <tr style=\"text-align: right;\">\n",
       "      <th></th>\n",
       "      <th>Площадь, м2</th>\n",
       "      <th>total_m2</th>\n",
       "      <th>live_m2</th>\n",
       "      <th>kitchen_m2</th>\n",
       "    </tr>\n",
       "  </thead>\n",
       "  <tbody>\n",
       "    <tr>\n",
       "      <th>0</th>\n",
       "      <td>200.0/20.0</td>\n",
       "      <td>200.0</td>\n",
       "      <td>145.0</td>\n",
       "      <td>20.0</td>\n",
       "    </tr>\n",
       "    <tr>\n",
       "      <th>1</th>\n",
       "      <td>198.0/95.0/18.0</td>\n",
       "      <td>198.0</td>\n",
       "      <td>95.0</td>\n",
       "      <td>18.0</td>\n",
       "    </tr>\n",
       "    <tr>\n",
       "      <th>2</th>\n",
       "      <td>200.0/116.0/4.0</td>\n",
       "      <td>200.0</td>\n",
       "      <td>116.0</td>\n",
       "      <td>4.0</td>\n",
       "    </tr>\n",
       "    <tr>\n",
       "      <th>3</th>\n",
       "      <td>170.0/95.0/17.0</td>\n",
       "      <td>170.0</td>\n",
       "      <td>95.0</td>\n",
       "      <td>17.0</td>\n",
       "    </tr>\n",
       "    <tr>\n",
       "      <th>4</th>\n",
       "      <td>58.0/38.0/5.0</td>\n",
       "      <td>58.0</td>\n",
       "      <td>38.0</td>\n",
       "      <td>5.0</td>\n",
       "    </tr>\n",
       "  </tbody>\n",
       "</table>\n",
       "</div>"
      ],
      "text/plain": [
       "       Площадь, м2  total_m2  live_m2  kitchen_m2\n",
       "0       200.0/20.0     200.0    145.0        20.0\n",
       "1  198.0/95.0/18.0     198.0     95.0        18.0\n",
       "2  200.0/116.0/4.0     200.0    116.0         4.0\n",
       "3  170.0/95.0/17.0     170.0     95.0        17.0\n",
       "4    58.0/38.0/5.0      58.0     38.0         5.0"
      ]
     },
     "execution_count": 632,
     "metadata": {},
     "output_type": "execute_result"
    }
   ],
   "source": [
    "# используем модель для пустых значений\n",
    "# используем копию массива и полученную модель\n",
    "#b3['live_m22'] = 0\n",
    "for i in range(0, len(data)):\n",
    "    if data.loc[i, 'live_m2'] == 0:\n",
    "        data.loc[i, 'live_m2'] = int(model_live01.predict([live_m2_const.iloc[0], data.loc[i, 'total_m2'], data.loc[i, 'total_m2_x2']])[0])\n",
    "data[['Площадь, м2', 'total_m2', 'live_m2', 'kitchen_m2']].head()\n",
    "# позитивно"
   ]
  },
  {
   "cell_type": "code",
   "execution_count": 633,
   "metadata": {},
   "outputs": [
    {
     "name": "stdout",
     "output_type": "stream",
     "text": [
      "                            OLS Regression Results                            \n",
      "==============================================================================\n",
      "Dep. Variable:             kitchen_m2   R-squared:                       0.486\n",
      "Model:                            OLS   Adj. R-squared:                  0.486\n",
      "Method:                 Least Squares   F-statistic:                     3841.\n",
      "Date:                Sun, 29 Dec 2024   Prob (F-statistic):               0.00\n",
      "Time:                        23:32:52   Log-Likelihood:                -43700.\n",
      "No. Observations:               16275   AIC:                         8.741e+04\n",
      "Df Residuals:                   16270   BIC:                         8.745e+04\n",
      "Df Model:                           4                                         \n",
      "Covariance Type:            nonrobust                                         \n",
      "===============================================================================\n",
      "                  coef    std err          t      P>|t|      [0.025      0.975]\n",
      "-------------------------------------------------------------------------------\n",
      "const           3.9754      0.068     58.685      0.000       3.843       4.108\n",
      "total_m2        0.2462      0.003     79.522      0.000       0.240       0.252\n",
      "total_m2_x2    -0.0003   6.42e-06    -47.008      0.000      -0.000      -0.000\n",
      "live_m2        -0.2271      0.005    -47.815      0.000      -0.236      -0.218\n",
      "live_m2_x2      0.0005   1.84e-05     28.509      0.000       0.000       0.001\n",
      "==============================================================================\n",
      "Omnibus:                    10015.591   Durbin-Watson:                   1.852\n",
      "Prob(Omnibus):                  0.000   Jarque-Bera (JB):           418112.980\n",
      "Skew:                           2.348   Prob(JB):                         0.00\n",
      "Kurtosis:                      27.383   Cond. No.                     4.68e+04\n",
      "==============================================================================\n",
      "\n",
      "Notes:\n",
      "[1] Standard Errors assume that the covariance matrix of the errors is correctly specified.\n",
      "[2] The condition number is large, 4.68e+04. This might indicate that there are\n",
      "strong multicollinearity or other numerical problems.\n"
     ]
    }
   ],
   "source": [
    "# готовимся к анализу площади кухни\n",
    "data.loc[:, 'live_m2_x2'] = data['live_m2']**2\n",
    "b2 = data[data['kitchen_m2'] != 0]\n",
    "\n",
    "# теперь площадь кухни\n",
    "kitchen01 = sm.add_constant(b2[['total_m2', 'total_m2_x2', 'live_m2', 'live_m2_x2']])\n",
    "model_kitchen01 = OLS(b2['kitchen_m2'], kitchen01, hasconst=True).fit()\n",
    "#results_kitchen01 = model_kitchen01.fit()\n",
    "print(model_kitchen01.summary())\n",
    "# R2 = 0.486 \n",
    "# очень плохо, но лучше нет"
   ]
  },
  {
   "cell_type": "code",
   "execution_count": 634,
   "metadata": {},
   "outputs": [
    {
     "data": {
      "image/png": "[encoded data removed]",
      "text/plain": [
       "<Figure size 490x280 with 1 Axes>"
      ]
     },
     "metadata": {},
     "output_type": "display_data"
    }
   ],
   "source": [
    "fig08 = plt.figure(figsize=(7, 4), dpi=70)\n",
    "plt.scatter(x=b2['total_m2'], y=b2['kitchen_m2'])\n",
    "plt.show()\n",
    "# график очень сильно расширяется, разброс большой\n",
    "# это и опдтверждает регресионный анализ"
   ]
  },
  {
   "cell_type": "code",
   "execution_count": 635,
   "metadata": {},
   "outputs": [],
   "source": [
    "# модель по кухне слабая, но это все что есть\n",
    "# лучше чем потерять несколько записей целиком\n",
    "# применяем подготовленные модели\n",
    "\n",
    "# коэффиуиент const - смотрим\n",
    "kitchen_m2_const = model_kitchen01.params\n",
    "\n",
    "for i in range(0, len(data)):\n",
    "    if data.loc[i, 'kitchen_m2'] == 0:\n",
    "        data.loc[i, 'kitchen_m2'] = int(model_kitchen01.predict([kitchen_m2_const.iloc[0], \n",
    "                                                              data.loc[i, 'total_m2'], \n",
    "                                                              data.loc[i, 'total_m2_x2'],\n",
    "                                                              data.loc[i, 'live_m2'],\n",
    "                                                              data.loc[i, 'live_m2_x2']\n",
    "                                                              ])[0])\n",
    "#data[['Площадь, м2', 'total_m2', 'live_m2', 'kitchen_m2']].head()\n"
   ]
  },
  {
   "cell_type": "code",
   "execution_count": 636,
   "metadata": {},
   "outputs": [],
   "source": [
    "# удаляем ненужные столбцы\n",
    "data = data.drop('Площадь, м2', axis=1) \n",
    "data = data.drop('live_m2_x2', axis=1) \n",
    "data = data.drop('total_m2_x2', axis=1) "
   ]
  },
  {
   "cell_type": "markdown",
   "metadata": {},
   "source": [
    "# Ремонт квартиры"
   ]
  },
  {
   "cell_type": "code",
   "execution_count": 637,
   "metadata": {},
   "outputs": [
    {
     "data": {
      "text/plain": [
       "{nan, 'Без ремонта', 'Дизайнерский', 'Евроремонт', 'Косметический'}"
      ]
     },
     "execution_count": 637,
     "metadata": {},
     "output_type": "execute_result"
    }
   ],
   "source": [
    " # какие типы ремонтов в массиве\n",
    "set(data['Ремонт']) "
   ]
  },
  {
   "cell_type": "code",
   "execution_count": 638,
   "metadata": {},
   "outputs": [
    {
     "data": {
      "text/plain": [
       "2460"
      ]
     },
     "execution_count": 638,
     "metadata": {},
     "output_type": "execute_result"
    }
   ],
   "source": [
    "# пустышек: \n",
    "len(data[data['Ремонт'].isna()]) # 2460"
   ]
  },
  {
   "cell_type": "code",
   "execution_count": 639,
   "metadata": {},
   "outputs": [],
   "source": [
    "# предлагаю NaN сделать первое значение\n",
    "data.loc[data['Ремонт'].isna(), 'Ремонт'] = 'Без ремонта'\n"
   ]
  },
  {
   "cell_type": "code",
   "execution_count": 640,
   "metadata": {},
   "outputs": [
    {
     "data": {
      "text/plain": [
       "0"
      ]
     },
     "execution_count": 640,
     "metadata": {},
     "output_type": "execute_result"
    }
   ],
   "source": [
    "# пустышек не осталось: \n",
    "len(data[data['Ремонт'].isna()]) # 0"
   ]
  },
  {
   "cell_type": "code",
   "execution_count": 641,
   "metadata": {},
   "outputs": [],
   "source": [
    "# кодируем\n",
    "le01 = LabelEncoder()\n",
    "le01.fit(data['Ремонт'])\n",
    "data['remont'] = le01.transform(data['Ремонт'])"
   ]
  },
  {
   "cell_type": "code",
   "execution_count": 642,
   "metadata": {},
   "outputs": [],
   "source": [
    "# удаляем лишнее\n",
    "data = data.drop('Ремонт', axis=1) "
   ]
  },
  {
   "cell_type": "markdown",
   "metadata": {},
   "source": [
    "# Параметры санузла"
   ]
  },
  {
   "cell_type": "code",
   "execution_count": 643,
   "metadata": {},
   "outputs": [
    {
     "data": {
      "text/plain": [
       "21"
      ]
     },
     "execution_count": 643,
     "metadata": {},
     "output_type": "execute_result"
    }
   ],
   "source": [
    "len(set(data['Санузел'])) #21"
   ]
  },
  {
   "cell_type": "code",
   "execution_count": 644,
   "metadata": {},
   "outputs": [
    {
     "data": {
      "text/plain": [
       "{nan,\n",
       " 'Раздельный (1)',\n",
       " 'Раздельный (2)',\n",
       " 'Раздельный (3)',\n",
       " 'Раздельный (4)',\n",
       " 'Совмещенный (1)',\n",
       " 'Совмещенный (1), Раздельный (1)',\n",
       " 'Совмещенный (1), Раздельный (2)',\n",
       " 'Совмещенный (1), Раздельный (3)',\n",
       " 'Совмещенный (2)',\n",
       " 'Совмещенный (2), Раздельный (1)',\n",
       " 'Совмещенный (2), Раздельный (2)',\n",
       " 'Совмещенный (2), Раздельный (3)',\n",
       " 'Совмещенный (2), Раздельный (4)',\n",
       " 'Совмещенный (3)',\n",
       " 'Совмещенный (3), Раздельный (1)',\n",
       " 'Совмещенный (3), Раздельный (2)',\n",
       " 'Совмещенный (3), Раздельный (3)',\n",
       " 'Совмещенный (4)',\n",
       " 'Совмещенный (4), Раздельный (1)',\n",
       " 'Совмещенный (4), Раздельный (2)'}"
      ]
     },
     "execution_count": 644,
     "metadata": {},
     "output_type": "execute_result"
    }
   ],
   "source": [
    "set(data['Санузел'])\n",
    "# даже если значение пропущено, то туалет все равно есть\n",
    "# предположим что пропущенные значения - это совмещенный туалет\n",
    "# удаляем NaN"
   ]
  },
  {
   "cell_type": "code",
   "execution_count": 645,
   "metadata": {},
   "outputs": [
    {
     "data": {
      "text/plain": [
       "0"
      ]
     },
     "execution_count": 645,
     "metadata": {},
     "output_type": "execute_result"
    }
   ],
   "source": [
    "data.loc[data['Санузел'].isna(), 'Санузел'] = 'Совмещенный (1)'\n",
    "len(data[data['Санузел'].isna()]) # =0"
   ]
  },
  {
   "cell_type": "code",
   "execution_count": 646,
   "metadata": {},
   "outputs": [],
   "source": [
    "# готовим новые столбцы\n",
    "data['toilet_sep'] = 0 \n",
    "data['toilet_unted'] = 0"
   ]
  },
  {
   "cell_type": "code",
   "execution_count": 647,
   "metadata": {},
   "outputs": [
    {
     "name": "stderr",
     "output_type": "stream",
     "text": [
      "/tmp/ipykernel_177212/3751369422.py:10: FutureWarning: Setting an item of incompatible dtype is deprecated and will raise an error in a future version of pandas. Value '1' has dtype incompatible with int64, please explicitly cast to a compatible dtype first.\n",
      "  data.loc[i, 'toilet_unted'] = balk[0]\n",
      "/tmp/ipykernel_177212/3751369422.py:5: FutureWarning: Setting an item of incompatible dtype is deprecated and will raise an error in a future version of pandas. Value '1' has dtype incompatible with int64, please explicitly cast to a compatible dtype first.\n",
      "  data.loc[i, 'toilet_unted'], data.loc[i, 'toilet_sep'] = balk\n"
     ]
    }
   ],
   "source": [
    "for i in range(0,len(data)):\n",
    "    if data.loc[i, 'Санузел'] is not np.NaN:\n",
    "        balk = re.findall(r'\\d+', data.loc[i, 'Санузел'])\n",
    "        if len(balk)>1:\n",
    "            data.loc[i, 'toilet_unted'], data.loc[i, 'toilet_sep'] = balk\n",
    "        else:\n",
    "            if re.match(r'^Раздельный', data.loc[i, 'Санузел']):\n",
    "                data.loc[i, 'toilet_sep'] = balk[0]\n",
    "            else:\n",
    "                data.loc[i, 'toilet_unted'] = balk[0]"
   ]
  },
  {
   "cell_type": "code",
   "execution_count": 648,
   "metadata": {},
   "outputs": [
    {
     "data": {
      "text/html": [
       "<div>\n",
       "<style scoped>\n",
       "    .dataframe tbody tr th:only-of-type {\n",
       "        vertical-align: middle;\n",
       "    }\n",
       "\n",
       "    .dataframe tbody tr th {\n",
       "        vertical-align: top;\n",
       "    }\n",
       "\n",
       "    .dataframe thead th {\n",
       "        text-align: right;\n",
       "    }\n",
       "</style>\n",
       "<table border=\"1\" class=\"dataframe\">\n",
       "  <thead>\n",
       "    <tr style=\"text-align: right;\">\n",
       "      <th></th>\n",
       "      <th>Санузел</th>\n",
       "      <th>toilet_sep</th>\n",
       "      <th>toilet_unted</th>\n",
       "    </tr>\n",
       "  </thead>\n",
       "  <tbody>\n",
       "    <tr>\n",
       "      <th>19527</th>\n",
       "      <td>Совмещенный (1)</td>\n",
       "      <td>0</td>\n",
       "      <td>1</td>\n",
       "    </tr>\n",
       "    <tr>\n",
       "      <th>19528</th>\n",
       "      <td>Совмещенный (1), Раздельный (1)</td>\n",
       "      <td>1</td>\n",
       "      <td>1</td>\n",
       "    </tr>\n",
       "    <tr>\n",
       "      <th>19529</th>\n",
       "      <td>Раздельный (1)</td>\n",
       "      <td>1</td>\n",
       "      <td>0</td>\n",
       "    </tr>\n",
       "  </tbody>\n",
       "</table>\n",
       "</div>"
      ],
      "text/plain": [
       "                               Санузел toilet_sep toilet_unted\n",
       "19527                  Совмещенный (1)          0            1\n",
       "19528  Совмещенный (1), Раздельный (1)          1            1\n",
       "19529                   Раздельный (1)          1            0"
      ]
     },
     "execution_count": 648,
     "metadata": {},
     "output_type": "execute_result"
    }
   ],
   "source": [
    "data[['Санузел', 'toilet_sep', 'toilet_unted']].tail(3) #ok"
   ]
  },
  {
   "cell_type": "code",
   "execution_count": 649,
   "metadata": {},
   "outputs": [],
   "source": [
    "data = data.drop('Санузел', axis=1) # удаляем ненужные столбцы\n",
    "data['toilet_sep'] = data['toilet_sep'].astype(float)\n",
    "data['toilet_unted'] = data['toilet_unted'].astype(float)"
   ]
  },
  {
   "cell_type": "markdown",
   "metadata": {},
   "source": [
    "# Окна из квартиры"
   ]
  },
  {
   "cell_type": "code",
   "execution_count": 650,
   "metadata": {},
   "outputs": [
    {
     "data": {
      "text/plain": [
       "4"
      ]
     },
     "execution_count": 650,
     "metadata": {},
     "output_type": "execute_result"
    }
   ],
   "source": [
    "len(set(data['Окна'])) #19"
   ]
  },
  {
   "cell_type": "code",
   "execution_count": 651,
   "metadata": {},
   "outputs": [
    {
     "data": {
      "text/plain": [
       "{nan, 'Во двор', 'На улицу', 'На улицу и двор'}"
      ]
     },
     "execution_count": 651,
     "metadata": {},
     "output_type": "execute_result"
    }
   ],
   "source": [
    "# какие уникальные значения\n",
    "set(data['Окна'])"
   ]
  },
  {
   "cell_type": "code",
   "execution_count": 652,
   "metadata": {},
   "outputs": [
    {
     "data": {
      "text/plain": [
       "5092"
      ]
     },
     "execution_count": 652,
     "metadata": {},
     "output_type": "execute_result"
    }
   ],
   "source": [
    "len(data[data['Окна'].isna()]) # 5092 - очень много\n",
    "# предположим что nan - это окна на улицу "
   ]
  },
  {
   "cell_type": "code",
   "execution_count": 653,
   "metadata": {},
   "outputs": [
    {
     "data": {
      "text/plain": [
       "0"
      ]
     },
     "execution_count": 653,
     "metadata": {},
     "output_type": "execute_result"
    }
   ],
   "source": [
    "data.loc[data['Окна'].isna(), 'Окна'] = 'Во двор'\n",
    "len(data[data['Окна'].isna()]) # 0 - убрали все @metka"
   ]
  },
  {
   "cell_type": "code",
   "execution_count": 654,
   "metadata": {},
   "outputs": [
    {
     "data": {
      "text/plain": [
       "{'Во двор': 0, 'На улицу': 1, 'На улицу и двор': 2}"
      ]
     },
     "execution_count": 654,
     "metadata": {},
     "output_type": "execute_result"
    }
   ],
   "source": [
    "# кодируем\n",
    "le01 = LabelEncoder()\n",
    "le01.fit(data['Окна'])\n",
    "data['windows'] = le01.transform(data['Окна'])\n",
    "\n",
    "dict(zip(le01.classes_, range(len(le01.classes_)))) # а вот и словарь\n",
    "# {'Во двор': 0, 'На улицу': 1, 'На улицу и двор': 2}"
   ]
  },
  {
   "cell_type": "code",
   "execution_count": 655,
   "metadata": {},
   "outputs": [],
   "source": [
    "data = data.drop('Окна', axis=1) # удаляем ненужные столбцы"
   ]
  },
  {
   "cell_type": "markdown",
   "metadata": {},
   "source": [
    "# Балкон"
   ]
  },
  {
   "cell_type": "code",
   "execution_count": 656,
   "metadata": {},
   "outputs": [
    {
     "data": {
      "text/plain": [
       "19"
      ]
     },
     "execution_count": 656,
     "metadata": {},
     "output_type": "execute_result"
    }
   ],
   "source": [
    "len(set(data['Балкон'])) # 19 - всего уникальных"
   ]
  },
  {
   "cell_type": "code",
   "execution_count": 657,
   "metadata": {},
   "outputs": [
    {
     "data": {
      "text/plain": [
       "{nan,\n",
       " 'Балкон (1)',\n",
       " 'Балкон (1), Лоджия (1)',\n",
       " 'Балкон (1), Лоджия (2)',\n",
       " 'Балкон (1), Лоджия (3)',\n",
       " 'Балкон (1), Лоджия (4)',\n",
       " 'Балкон (2)',\n",
       " 'Балкон (2), Лоджия (1)',\n",
       " 'Балкон (2), Лоджия (2)',\n",
       " 'Балкон (2), Лоджия (3)',\n",
       " 'Балкон (3)',\n",
       " 'Балкон (3), Лоджия (1)',\n",
       " 'Балкон (3), Лоджия (3)',\n",
       " 'Балкон (4)',\n",
       " 'Балкон (4), Лоджия (4)',\n",
       " 'Лоджия (1)',\n",
       " 'Лоджия (2)',\n",
       " 'Лоджия (3)',\n",
       " 'Лоджия (4)'}"
      ]
     },
     "execution_count": 657,
     "metadata": {},
     "output_type": "execute_result"
    }
   ],
   "source": [
    "set(data['Балкон'])"
   ]
  },
  {
   "cell_type": "code",
   "execution_count": 658,
   "metadata": {},
   "outputs": [
    {
     "data": {
      "text/plain": [
       "6583"
      ]
     },
     "execution_count": 658,
     "metadata": {},
     "output_type": "execute_result"
    }
   ],
   "source": [
    "len(data[data['Балкон'].isna()]) # 6583 - очень много\n",
    "# если балкон не указан - думаем что его нет"
   ]
  },
  {
   "cell_type": "code",
   "execution_count": 659,
   "metadata": {},
   "outputs": [
    {
     "data": {
      "text/plain": [
       "0"
      ]
     },
     "execution_count": 659,
     "metadata": {},
     "output_type": "execute_result"
    }
   ],
   "source": [
    "data.loc[data['Балкон'].isna(), 'Балкон'] = 'Балкон (1)'\n",
    "len(data[data['Балкон'].isna()]) # 6583 - очень много"
   ]
  },
  {
   "cell_type": "code",
   "execution_count": 660,
   "metadata": {},
   "outputs": [],
   "source": [
    "# готовим новые столбцы\n",
    "data['balcony'] = 0  # число балконов\n",
    "data['loggia'] = 0 # число лоджий"
   ]
  },
  {
   "cell_type": "code",
   "execution_count": 661,
   "metadata": {},
   "outputs": [
    {
     "data": {
      "text/plain": [
       "'Лоджия (1)'"
      ]
     },
     "execution_count": 661,
     "metadata": {},
     "output_type": "execute_result"
    }
   ],
   "source": [
    "data.loc[i, 'Балкон']"
   ]
  },
  {
   "cell_type": "code",
   "execution_count": 662,
   "metadata": {},
   "outputs": [
    {
     "name": "stderr",
     "output_type": "stream",
     "text": [
      "/tmp/ipykernel_177212/122677479.py:8: FutureWarning: Setting an item of incompatible dtype is deprecated and will raise an error in a future version of pandas. Value '1' has dtype incompatible with int64, please explicitly cast to a compatible dtype first.\n",
      "  data.loc[i, 'balcony'] = balk[0]\n",
      "/tmp/ipykernel_177212/122677479.py:10: FutureWarning: Setting an item of incompatible dtype is deprecated and will raise an error in a future version of pandas. Value '1' has dtype incompatible with int64, please explicitly cast to a compatible dtype first.\n",
      "  data.loc[i, 'loggia'] = balk[0]\n"
     ]
    }
   ],
   "source": [
    "for i in range(0,len(data)):\n",
    "    if data.loc[i, 'Балкон'] is not np.NaN:\n",
    "        if data.loc[i, 'Балкон'] != 'Нет':\n",
    "            balk = re.findall(r'\\d+', data.loc[i, 'Балкон'])\n",
    "            if len(balk)>1:\n",
    "                data.loc[i, 'balcony'], data.loc[i, 'loggia'] = balk\n",
    "            if re.match(r'^Балкон', data.loc[i, 'Балкон']):\n",
    "                data.loc[i, 'balcony'] = balk[0]\n",
    "            else:\n",
    "                data.loc[i, 'loggia'] = balk[0]"
   ]
  },
  {
   "cell_type": "code",
   "execution_count": 663,
   "metadata": {},
   "outputs": [],
   "source": [
    "data = data.drop('Балкон', axis=1) #удаляем первоначальный столбец"
   ]
  },
  {
   "cell_type": "code",
   "execution_count": 664,
   "metadata": {},
   "outputs": [],
   "source": [
    "data['balcony'] = data['balcony'].astype(float)\n",
    "data['loggia'] = data['loggia'].astype(float)"
   ]
  },
  {
   "cell_type": "markdown",
   "metadata": {},
   "source": [
    "# Количество комнат"
   ]
  },
  {
   "cell_type": "code",
   "execution_count": 665,
   "metadata": {},
   "outputs": [
    {
     "data": {
      "text/plain": [
       "25"
      ]
     },
     "execution_count": 665,
     "metadata": {},
     "output_type": "execute_result"
    }
   ],
   "source": [
    "len(set(data['Количество комнат'])) #25"
   ]
  },
  {
   "cell_type": "code",
   "execution_count": 666,
   "metadata": {},
   "outputs": [],
   "source": [
    "#set(data['Количество комнат'])\n",
    "# {'1',\n",
    "#  '1, Изолированная',\n",
    "#  '1, Оба варианта',\n",
    "#  '1, Смежная',\n",
    "#  '2',"
   ]
  },
  {
   "cell_type": "markdown",
   "metadata": {},
   "source": [
    "- В колонке доступны две характристики - количество комнат и тип комнат.\n",
    "    - разделяем характеристики из строки\n",
    "    - будем считать что если количество комнат не указано, то она одна и изолированная (естественно)"
   ]
  },
  {
   "cell_type": "code",
   "execution_count": 667,
   "metadata": {},
   "outputs": [
    {
     "data": {
      "text/plain": [
       "533"
      ]
     },
     "execution_count": 667,
     "metadata": {},
     "output_type": "execute_result"
    }
   ],
   "source": [
    "# пропуски в первоначальных записях:\n",
    "len(data[data['Количество комнат'].isna()]) # пропущенных 533 - неплохо, но многовато"
   ]
  },
  {
   "cell_type": "code",
   "execution_count": 668,
   "metadata": {},
   "outputs": [
    {
     "data": {
      "text/plain": [
       "0"
      ]
     },
     "execution_count": 668,
     "metadata": {},
     "output_type": "execute_result"
    }
   ],
   "source": [
    "# предположим что пропущенные значения -'1, Изолированная',\n",
    "# удаляем NaN\n",
    "data.loc[data['Количество комнат'].isna(), 'Количество комнат'] = '1, Изолированная'\n",
    "len(data[data['Количество комнат'].isna()]) # =0 @metka"
   ]
  },
  {
   "cell_type": "code",
   "execution_count": 669,
   "metadata": {},
   "outputs": [],
   "source": [
    "data['rooms_sep'] = 0 #Изолированных\n",
    "data['rooms_unted'] = 0 # Смежных"
   ]
  },
  {
   "cell_type": "code",
   "execution_count": 670,
   "metadata": {},
   "outputs": [
    {
     "name": "stderr",
     "output_type": "stream",
     "text": [
      "/tmp/ipykernel_177212/3749969376.py:6: FutureWarning: Setting an item of incompatible dtype is deprecated and will raise an error in a future version of pandas. Value '4' has dtype incompatible with int64, please explicitly cast to a compatible dtype first.\n",
      "  data.loc[i, 'rooms_sep'] = balk[0]\n",
      "/tmp/ipykernel_177212/3749969376.py:15: FutureWarning: Setting an item of incompatible dtype is deprecated and will raise an error in a future version of pandas. Value '1' has dtype incompatible with int64, please explicitly cast to a compatible dtype first.\n",
      "  data.loc[i, 'rooms_sep'], data.loc[i, 'rooms_unted'] = str(int(balk[0])-f0), str(f0)\n"
     ]
    }
   ],
   "source": [
    "for i in range(0,len(data)):\n",
    "    if data.loc[i, 'Количество комнат'] is not np.NaN:\n",
    "        balk = re.findall(r'\\d+', data.loc[i, 'Количество комнат'])\n",
    "        if len(data.loc[i, 'Количество комнат']) == 1: \n",
    "            # предположим что если указана просто цифра, то все комнаты изолированные\n",
    "            data.loc[i, 'rooms_sep'] = balk[0]\n",
    "        else: # еще дан комментарий\n",
    "            if re.match(r'[а-яА-Я0-9., ]+Изолированная$', data.loc[i, 'Количество комнат']):\n",
    "                data.loc[i, 'rooms_sep'] = balk[0]\n",
    "            else: # иначе смежная\n",
    "                if int(balk[0]) == 2:\n",
    "                    data.loc[i, 'rooms_sep'], data.loc[i, 'rooms_unted'] = '1', '1'\n",
    "                else:\n",
    "                    f0 = int(int(balk[0])/3) # предположим одна смежная на две изолированных\n",
    "                    data.loc[i, 'rooms_sep'], data.loc[i, 'rooms_unted'] = str(int(balk[0])-f0), str(f0)\n",
    "\n"
   ]
  },
  {
   "cell_type": "code",
   "execution_count": 671,
   "metadata": {},
   "outputs": [],
   "source": [
    "data = data.drop('Количество комнат', axis=1) # удаляем ненужные столбцы"
   ]
  },
  {
   "cell_type": "code",
   "execution_count": 672,
   "metadata": {},
   "outputs": [],
   "source": [
    "data['rooms_sep'] = data['rooms_sep'].astype(float)\n",
    "data['rooms_unted'] = data['rooms_unted'].astype(float)"
   ]
  },
  {
   "cell_type": "code",
   "execution_count": 673,
   "metadata": {},
   "outputs": [],
   "source": [
    "# добавим дополнительный столбец с общим количеством комнат\n",
    "data['rooms'] = data['rooms_sep'] + data['rooms_unted']"
   ]
  },
  {
   "cell_type": "code",
   "execution_count": 674,
   "metadata": {},
   "outputs": [
    {
     "data": {
      "text/plain": [
       "0"
      ]
     },
     "execution_count": 674,
     "metadata": {},
     "output_type": "execute_result"
    }
   ],
   "source": [
    "# смотрим на количество пропущенных значений:\n",
    "# полное количество комнат\n",
    "len(data[data['rooms'].isna()]) #0"
   ]
  },
  {
   "cell_type": "code",
   "execution_count": 675,
   "metadata": {},
   "outputs": [
    {
     "data": {
      "text/plain": [
       "0"
      ]
     },
     "execution_count": 675,
     "metadata": {},
     "output_type": "execute_result"
    }
   ],
   "source": [
    "# количество смежных комнат\n",
    "len(data[data['rooms_unted'].isna()]) #0"
   ]
  },
  {
   "cell_type": "code",
   "execution_count": 676,
   "metadata": {},
   "outputs": [
    {
     "data": {
      "text/plain": [
       "0"
      ]
     },
     "execution_count": 676,
     "metadata": {},
     "output_type": "execute_result"
    }
   ],
   "source": [
    "# количество изолированных комнат\n",
    "len(data[data['rooms_sep'].isna()]) #0"
   ]
  },
  {
   "cell_type": "markdown",
   "metadata": {},
   "source": [
    "# Высота потолков"
   ]
  },
  {
   "cell_type": "code",
   "execution_count": 677,
   "metadata": {},
   "outputs": [
    {
     "data": {
      "text/plain": [
       "9209"
      ]
     },
     "execution_count": 677,
     "metadata": {},
     "output_type": "execute_result"
    }
   ],
   "source": [
    "len(set(data['Высота потолков, м'])) #9209"
   ]
  },
  {
   "cell_type": "code",
   "execution_count": 678,
   "metadata": {},
   "outputs": [],
   "source": [
    "#set(data['Высота потолков, м']) # уникальные\n",
    "# {2.5,\n",
    "#  3.5,\n",
    "#  3.0,\n",
    "#  4.0,\n",
    "#  5.5,\n",
    "#  ..."
   ]
  },
  {
   "cell_type": "code",
   "execution_count": 679,
   "metadata": {},
   "outputs": [
    {
     "data": {
      "text/plain": [
       "9120"
      ]
     },
     "execution_count": 679,
     "metadata": {},
     "output_type": "execute_result"
    }
   ],
   "source": [
    "len(data[data['Высота потолков, м'].isna()]) # 9120 - очень много"
   ]
  },
  {
   "cell_type": "code",
   "execution_count": 680,
   "metadata": {},
   "outputs": [
    {
     "data": {
      "text/plain": [
       "count    10410.000000\n",
       "mean         2.996952\n",
       "std          7.899654\n",
       "min          1.200000\n",
       "25%          2.640000\n",
       "50%          2.640000\n",
       "75%          2.800000\n",
       "max        320.000000\n",
       "Name: Высота потолков, м, dtype: float64"
      ]
     },
     "execution_count": 680,
     "metadata": {},
     "output_type": "execute_result"
    }
   ],
   "source": [
    "data['Высота потолков, м'].describe()\n",
    "# куча nan и много странных высот\n",
    "# есть значения 32 и 320"
   ]
  },
  {
   "cell_type": "code",
   "execution_count": 681,
   "metadata": {},
   "outputs": [
    {
     "data": {
      "text/plain": [
       "count    19530.000000\n",
       "mean         2.764888\n",
       "std          5.772627\n",
       "min          1.200000\n",
       "25%          2.500000\n",
       "50%          2.500000\n",
       "75%          2.640000\n",
       "max        320.000000\n",
       "Name: Высота потолков, м, dtype: float64"
      ]
     },
     "execution_count": 681,
     "metadata": {},
     "output_type": "execute_result"
    }
   ],
   "source": [
    "#data['Высота потолков, м'] = data['Высота потолков, м'].astype(str)\n",
    "data.loc[data['Высота потолков, м'].isna(), 'Высота потолков, м'] = 2.5 \n",
    "# поставим нечто среднее\n",
    "data.loc[data['Высота потолков, м'] == 'Не указан', 'Высота потолков, м'] = 2.5 \n",
    "# поставим нечто среднее\n",
    "data['Высота потолков, м'] = data['Высота потолков, м'].astype(float)\n",
    "data['Высота потолков, м'].describe()"
   ]
  },
  {
   "cell_type": "code",
   "execution_count": 682,
   "metadata": {},
   "outputs": [],
   "source": [
    "# корректируем очень высокие потолки - от 13 метров\n",
    "for i in range(0, len(data['Высота потолков, м'])):\n",
    "    if data.loc[i, 'Высота потолков, м'] > 100:\n",
    "        data.loc[i, 'Высота потолков, м'] = data.loc[i, 'Высота потолков, м'] / 100\n",
    "    if data.loc[i, 'Высота потолков, м'] > 13:\n",
    "        data.loc[i, 'Высота потолков, м'] = data.loc[i, 'Высота потолков, м'] / 10\n"
   ]
  },
  {
   "cell_type": "code",
   "execution_count": 683,
   "metadata": {},
   "outputs": [
    {
     "data": {
      "text/plain": [
       "count    19530.000000\n",
       "mean         2.637680\n",
       "std          0.238795\n",
       "min          2.000000\n",
       "25%          2.500000\n",
       "50%          2.500000\n",
       "75%          2.640000\n",
       "max          6.000000\n",
       "Name: Высота потолков, м, dtype: float64"
      ]
     },
     "execution_count": 683,
     "metadata": {},
     "output_type": "execute_result"
    }
   ],
   "source": [
    "data.loc[data['Высота потолков, м']<2,'Высота потолков, м'] = 2.5\n",
    "data.loc[data['Высота потолков, м']>7, 'Высота потолков, м'] = 6.0\n",
    "data['Высота потолков, м'].describe()"
   ]
  },
  {
   "cell_type": "code",
   "execution_count": 684,
   "metadata": {},
   "outputs": [],
   "source": [
    "data['ceiling'] = data['Высота потолков, м']\n",
    "data = data.drop('Высота потолков, м', axis=1)"
   ]
  },
  {
   "cell_type": "code",
   "execution_count": 685,
   "metadata": {},
   "outputs": [],
   "source": [
    "data['ceiling'] = data['ceiling'].astype(float)"
   ]
  },
  {
   "cell_type": "markdown",
   "metadata": {},
   "source": [
    "# Мусоропровод "
   ]
  },
  {
   "cell_type": "code",
   "execution_count": 686,
   "metadata": {},
   "outputs": [
    {
     "data": {
      "text/plain": [
       "{nan, 'Да', 'Нет'}"
      ]
     },
     "execution_count": 686,
     "metadata": {},
     "output_type": "execute_result"
    }
   ],
   "source": [
    "set(data['Мусоропровод']) #{'Нет', 'Да', nan}"
   ]
  },
  {
   "cell_type": "code",
   "execution_count": 687,
   "metadata": {},
   "outputs": [
    {
     "data": {
      "text/plain": [
       "7977"
      ]
     },
     "execution_count": 687,
     "metadata": {},
     "output_type": "execute_result"
    }
   ],
   "source": [
    "# пустышек: \n",
    "len(data[data['Мусоропровод'].isna()]) # 8007"
   ]
  },
  {
   "cell_type": "code",
   "execution_count": 688,
   "metadata": {},
   "outputs": [],
   "source": [
    "# считаем что все квартиры в москве\n",
    "d1 = list(set(data['street']))\n",
    "for i in d1:\n",
    "    # выбираем одну улицу\n",
    "    data10 = data[data['street'] == i]\n",
    "    #делаем список по всем домам\n",
    "    d2 = list(set(data10['house']))\n",
    "    for j in d2:\n",
    "        #выбираем один дом\n",
    "        data22 = data10[data10['house'] == j]\n",
    "        if len(data22) > 1 :\n",
    "            #смотрим на все мусоропроводы\n",
    "            d3 = list(set(data22['Мусоропровод']))\n",
    "            if len(d3) == 2:\n",
    "                if d3[0] == 'NaN':\n",
    "                    dd10 = d3[1]\n",
    "                else:\n",
    "                    dd10 = d3[0]\n",
    "                # вносим изменения в основую таблицу\n",
    "                data.loc[((data['street']==i) & (data['house']==j)), 'Мусоропровод'] = dd10\n"
   ]
  },
  {
   "cell_type": "code",
   "execution_count": 689,
   "metadata": {},
   "outputs": [
    {
     "data": {
      "text/plain": [
       "4960"
      ]
     },
     "execution_count": 689,
     "metadata": {},
     "output_type": "execute_result"
    }
   ],
   "source": [
    "# проверяем как изменились пустышки \n",
    "len(data[data['Мусоропровод'].isna()]) # 4979"
   ]
  },
  {
   "cell_type": "code",
   "execution_count": 690,
   "metadata": {},
   "outputs": [
    {
     "data": {
      "text/plain": [
       "0"
      ]
     },
     "execution_count": 690,
     "metadata": {},
     "output_type": "execute_result"
    }
   ],
   "source": [
    "# предположим что все-таки есть мусоропровод \n",
    "data.loc[data['Мусоропровод'].isna(), 'Мусоропровод'] = 'Нет'\n",
    "# data.loc[data['Мусоропровод'] == '2.5', 'Мусоропровод'] = 'Нет'\n",
    "# data.loc[data['Мусоропровод'] == '6.0', 'Мусоропровод'] = 'Нет'\n",
    "len(data[data['Мусоропровод'].isna()]) # 0"
   ]
  },
  {
   "cell_type": "code",
   "execution_count": 691,
   "metadata": {},
   "outputs": [],
   "source": [
    "data['Мусоропровод'] = data['Мусоропровод'].astype(str)"
   ]
  },
  {
   "cell_type": "code",
   "execution_count": 692,
   "metadata": {},
   "outputs": [
    {
     "data": {
      "text/plain": [
       "{'Да': 0, 'Нет': 1}"
      ]
     },
     "execution_count": 692,
     "metadata": {},
     "output_type": "execute_result"
    }
   ],
   "source": [
    "# кодируем\n",
    "le01 = LabelEncoder()\n",
    "le01.fit(data['Мусоропровод'])\n",
    "data['g_chute'] = le01.transform(data['Мусоропровод'])\n",
    "dict(zip(le01.classes_, range(len(le01.classes_)))) # а вот и словарь"
   ]
  },
  {
   "cell_type": "code",
   "execution_count": 693,
   "metadata": {},
   "outputs": [],
   "source": [
    "data = data.drop('Мусоропровод', axis=1)"
   ]
  },
  {
   "cell_type": "markdown",
   "metadata": {},
   "source": [
    "# Удаленность от метро"
   ]
  },
  {
   "cell_type": "code",
   "execution_count": 694,
   "metadata": {},
   "outputs": [
    {
     "data": {
      "text/plain": [
       "4857"
      ]
     },
     "execution_count": 694,
     "metadata": {},
     "output_type": "execute_result"
    }
   ],
   "source": [
    "data = data.reset_index(drop=True)\n",
    "len(set(data['Метро'])) #4872"
   ]
  },
  {
   "cell_type": "code",
   "execution_count": 695,
   "metadata": {},
   "outputs": [],
   "source": [
    "# set(data['Метро'])\n",
    "# 'м. Кузьминки (2 мин пешком)',\n",
    "#  'м. Нагатинская (16 мин пешком)',\n",
    "#  'м. Алма-Атинская (13 мин на машине)',\n",
    "#  'м. Бауманская (8 мин пешком)',\n",
    "# ..."
   ]
  },
  {
   "cell_type": "code",
   "execution_count": 696,
   "metadata": {},
   "outputs": [
    {
     "data": {
      "text/plain": [
       "0"
      ]
     },
     "execution_count": 696,
     "metadata": {},
     "output_type": "execute_result"
    }
   ],
   "source": [
    "data['Метро'] = data['Метро'].astype(str)\n",
    "len(data[data['Метро'].isna()]) # 0 - записи есть по всем позициям"
   ]
  },
  {
   "cell_type": "code",
   "execution_count": 697,
   "metadata": {},
   "outputs": [
    {
     "data": {
      "text/plain": [
       "0"
      ]
     },
     "execution_count": 697,
     "metadata": {},
     "output_type": "execute_result"
    }
   ],
   "source": [
    "# и еще\n",
    "# 36           м. Смоленская (None мин пешком)\n",
    "# 61             м. Киевская (None мин пешком)\n",
    "# убираемм этот мусор\n",
    "data.loc[(data['Метро'].str.find('None') >=0), 'Метро'] = '0'\n",
    "len(data[data['Метро'].isna()]) # 0 -  все ушло в 0"
   ]
  },
  {
   "cell_type": "code",
   "execution_count": 698,
   "metadata": {},
   "outputs": [
    {
     "data": {
      "text/plain": [
       "534"
      ]
     },
     "execution_count": 698,
     "metadata": {},
     "output_type": "execute_result"
    }
   ],
   "source": [
    "# посмотрим на  0\n",
    "len(data[data['Метро'] == '0']) # 534"
   ]
  },
  {
   "cell_type": "code",
   "execution_count": 699,
   "metadata": {},
   "outputs": [],
   "source": [
    "# в одном доме может быть несколько квартиир\n",
    "# при этом не все пишут сколько врмеени до метро\n",
    "# делаем список по всем улицам\n",
    "d1 = list(set(data['street']))\n",
    "for i in d1:\n",
    "    # выбираем одну улицу\n",
    "    data10 = data[data['street'] == i]\n",
    "    #делаем список по всем домам\n",
    "    d2 = list(set(data10['house']))\n",
    "    for j in d2:\n",
    "        #выбираем один дом\n",
    "        data22 = data10[data10['house'] == j]\n",
    "        if len(data22) > 1 :\n",
    "            #смотрим на все указания метро\n",
    "            d3 = list(set(data22['Метро']))\n",
    "            d3 = [x for x in d3 if str(x) != '0']\n",
    "            if len(d3) >0:\n",
    "                #data.loc[((data['street']==i) & (data['house']==j)) & (data['Метро'].isna()), 'Метро'] = d3[0]\n",
    "                data.loc[((data['street']==i) & (data['house']==j)), 'Метро'] = d3[0]"
   ]
  },
  {
   "cell_type": "code",
   "execution_count": 700,
   "metadata": {},
   "outputs": [
    {
     "data": {
      "text/plain": [
       "162"
      ]
     },
     "execution_count": 700,
     "metadata": {},
     "output_type": "execute_result"
    }
   ],
   "source": [
    "# посмотрим на  0\n",
    "len(data[data['Метро'] == '0']) # 162"
   ]
  },
  {
   "cell_type": "code",
   "execution_count": 701,
   "metadata": {},
   "outputs": [],
   "source": [
    "# готовим новые столбцы\n",
    "data['metro_walk'] = '0'\n",
    "data['metro_drive'] = '0'\n",
    "# предположу что ставить два столбца об одном и том же не имеет смысла\n",
    "# разделим в начале, потом сведем к одному столбцу"
   ]
  },
  {
   "cell_type": "code",
   "execution_count": 702,
   "metadata": {},
   "outputs": [
    {
     "data": {
      "text/html": [
       "<div>\n",
       "<style scoped>\n",
       "    .dataframe tbody tr th:only-of-type {\n",
       "        vertical-align: middle;\n",
       "    }\n",
       "\n",
       "    .dataframe tbody tr th {\n",
       "        vertical-align: top;\n",
       "    }\n",
       "\n",
       "    .dataframe thead th {\n",
       "        text-align: right;\n",
       "    }\n",
       "</style>\n",
       "<table border=\"1\" class=\"dataframe\">\n",
       "  <thead>\n",
       "    <tr style=\"text-align: right;\">\n",
       "      <th></th>\n",
       "      <th>Метро</th>\n",
       "      <th>metro_walk</th>\n",
       "      <th>metro_drive</th>\n",
       "    </tr>\n",
       "  </thead>\n",
       "  <tbody>\n",
       "    <tr>\n",
       "      <th>19520</th>\n",
       "      <td>м. Солнцево (4 мин пешком)</td>\n",
       "      <td>4</td>\n",
       "      <td>0</td>\n",
       "    </tr>\n",
       "    <tr>\n",
       "      <th>19521</th>\n",
       "      <td>м. Говорово (11 мин пешком)</td>\n",
       "      <td>11</td>\n",
       "      <td>0</td>\n",
       "    </tr>\n",
       "    <tr>\n",
       "      <th>19522</th>\n",
       "      <td>м. Солнцево (5 мин на машине)</td>\n",
       "      <td>0</td>\n",
       "      <td>5</td>\n",
       "    </tr>\n",
       "    <tr>\n",
       "      <th>19523</th>\n",
       "      <td>м. Солнцево (18 мин пешком)</td>\n",
       "      <td>18</td>\n",
       "      <td>0</td>\n",
       "    </tr>\n",
       "    <tr>\n",
       "      <th>19524</th>\n",
       "      <td>м. Говорово (7 мин пешком)</td>\n",
       "      <td>7</td>\n",
       "      <td>0</td>\n",
       "    </tr>\n",
       "    <tr>\n",
       "      <th>19525</th>\n",
       "      <td>м. Говорово (4 мин пешком)</td>\n",
       "      <td>4</td>\n",
       "      <td>0</td>\n",
       "    </tr>\n",
       "    <tr>\n",
       "      <th>19526</th>\n",
       "      <td>м. Солнцево (7 мин пешком)</td>\n",
       "      <td>7</td>\n",
       "      <td>0</td>\n",
       "    </tr>\n",
       "    <tr>\n",
       "      <th>19527</th>\n",
       "      <td>м. Солнцево (6 мин пешком)</td>\n",
       "      <td>6</td>\n",
       "      <td>0</td>\n",
       "    </tr>\n",
       "    <tr>\n",
       "      <th>19528</th>\n",
       "      <td>м. Солнцево (11 мин пешком)</td>\n",
       "      <td>11</td>\n",
       "      <td>0</td>\n",
       "    </tr>\n",
       "    <tr>\n",
       "      <th>19529</th>\n",
       "      <td>м. Говорово (10 мин пешком)</td>\n",
       "      <td>10</td>\n",
       "      <td>0</td>\n",
       "    </tr>\n",
       "  </tbody>\n",
       "</table>\n",
       "</div>"
      ],
      "text/plain": [
       "                               Метро metro_walk metro_drive\n",
       "19520     м. Солнцево (4 мин пешком)          4           0\n",
       "19521    м. Говорово (11 мин пешком)         11           0\n",
       "19522  м. Солнцево (5 мин на машине)          0           5\n",
       "19523    м. Солнцево (18 мин пешком)         18           0\n",
       "19524     м. Говорово (7 мин пешком)          7           0\n",
       "19525     м. Говорово (4 мин пешком)          4           0\n",
       "19526     м. Солнцево (7 мин пешком)          7           0\n",
       "19527     м. Солнцево (6 мин пешком)          6           0\n",
       "19528    м. Солнцево (11 мин пешком)         11           0\n",
       "19529    м. Говорово (10 мин пешком)         10           0"
      ]
     },
     "execution_count": 702,
     "metadata": {},
     "output_type": "execute_result"
    }
   ],
   "source": [
    "# разносим время по двум столбцам из строки описания\n",
    "for i in range(0,len(data)):\n",
    "    if data.loc[i, 'Метро'] is not np.NaN:\n",
    "        balk = re.findall(r'\\d+', data.loc[i, 'Метро'])\n",
    "        if len(balk) > 0:\n",
    "            if len(balk) == 1:\n",
    "                k = 0\n",
    "            else:\n",
    "                k = 1\n",
    "            #if re.match(r'[а-яА-Я0-9.,?() ]+пешком\\)$', data.loc[i, 'Метро']):\n",
    "            if data.loc[i, 'Метро'] .find('пешком') >= 0:\n",
    "                data.loc[i, 'metro_walk'] = balk[k]\n",
    "            else:\n",
    "                data.loc[i, 'metro_drive'] = balk[k]\n",
    "                \n",
    "data[['Метро', 'metro_walk', 'metro_drive']].tail(10)"
   ]
  },
  {
   "cell_type": "code",
   "execution_count": 703,
   "metadata": {},
   "outputs": [
    {
     "data": {
      "text/plain": [
       "489"
      ]
     },
     "execution_count": 703,
     "metadata": {},
     "output_type": "execute_result"
    }
   ],
   "source": [
    "# посмотрим на нулевые записи\n",
    "len(data[(data['metro_walk'] == '0') & (data['metro_drive'] == '0')]) #489\n",
    "# почему стало больше??"
   ]
  },
  {
   "cell_type": "code",
   "execution_count": 704,
   "metadata": {},
   "outputs": [],
   "source": [
    "data['metro_drive'] = data['metro_drive'].astype(float)\n",
    "data['metro_walk'] = data['metro_walk'].astype(float)"
   ]
  },
  {
   "cell_type": "code",
   "execution_count": 705,
   "metadata": {},
   "outputs": [],
   "source": [
    "data = data.drop('Метро', axis=1) # удаляем ненужные столбцы"
   ]
  },
  {
   "cell_type": "code",
   "execution_count": 706,
   "metadata": {},
   "outputs": [],
   "source": [
    "# на машине в городе скорость 25 км.ч\n",
    "# пешком пусть будет 4 км.ч\n",
    "# пусть проехать придется на 30% больше чем идти\n",
    "# то есть 25/4.5*1.1 = 6.11\n",
    "\n",
    "for i in range(0,len(data)):\n",
    "    if data.loc[i, 'metro_walk'] == 0:\n",
    "        if data.loc[i, 'metro_drive'] > 0:\n",
    "            data.loc[i, 'metro_walk'] = data.loc[i, 'metro_drive'] * 25/4.5*1.1\n",
    "\n",
    "#data.loc[1240:1260, ['metro.drive', 'metro.walk']] # посмотрим?"
   ]
  },
  {
   "cell_type": "code",
   "execution_count": 707,
   "metadata": {},
   "outputs": [],
   "source": [
    "data = data.drop('metro_drive', axis=1) # удаляем ненужные столбцы"
   ]
  },
  {
   "cell_type": "code",
   "execution_count": 708,
   "metadata": {},
   "outputs": [
    {
     "data": {
      "text/plain": [
       "0"
      ]
     },
     "execution_count": 708,
     "metadata": {},
     "output_type": "execute_result"
    }
   ],
   "source": [
    "# проверяем как изменились пустышки \n",
    "len(data[data['metro_walk'].isna()]) \n",
    "#  пустышек не осталось"
   ]
  },
  {
   "cell_type": "code",
   "execution_count": 709,
   "metadata": {},
   "outputs": [
    {
     "data": {
      "text/plain": [
       "489"
      ]
     },
     "execution_count": 709,
     "metadata": {},
     "output_type": "execute_result"
    }
   ],
   "source": [
    "# а сколько нулей?\n",
    "len(data[data['metro_walk'] == 0]) #489"
   ]
  },
  {
   "cell_type": "code",
   "execution_count": 710,
   "metadata": {},
   "outputs": [],
   "source": [
    "data.loc[data['metro_walk'] == 0, 'metro_walk'] = data['metro_walk'].median()"
   ]
  },
  {
   "cell_type": "code",
   "execution_count": 711,
   "metadata": {},
   "outputs": [
    {
     "data": {
      "text/plain": [
       "0"
      ]
     },
     "execution_count": 711,
     "metadata": {},
     "output_type": "execute_result"
    }
   ],
   "source": [
    "# а сколько нулей?\n",
    "len(data[data['metro_walk'] == 0]) #0"
   ]
  },
  {
   "cell_type": "markdown",
   "metadata": {},
   "source": [
    "# Парковка"
   ]
  },
  {
   "cell_type": "code",
   "execution_count": 712,
   "metadata": {},
   "outputs": [
    {
     "data": {
      "text/plain": [
       "6"
      ]
     },
     "execution_count": 712,
     "metadata": {},
     "output_type": "execute_result"
    }
   ],
   "source": [
    "len(set(data['Парковка'])) #6\n",
    "# {'многоуровневая', 'подземная', nan, 'наземная', 'на крыше', 'открытая'}"
   ]
  },
  {
   "cell_type": "code",
   "execution_count": 713,
   "metadata": {},
   "outputs": [
    {
     "data": {
      "text/plain": [
       "11045"
      ]
     },
     "execution_count": 713,
     "metadata": {},
     "output_type": "execute_result"
    }
   ],
   "source": [
    "len(data[data['Парковка'].isna()]) # 10567 - очень много\n",
    "# парковка наверняка есть, видимо наземная вогкруг дома \n",
    "# и ограниченная по объему\n",
    "# предположим что пропущенные значения - это наземная"
   ]
  },
  {
   "cell_type": "code",
   "execution_count": 714,
   "metadata": {},
   "outputs": [
    {
     "data": {
      "text/plain": [
       "0"
      ]
     },
     "execution_count": 714,
     "metadata": {},
     "output_type": "execute_result"
    }
   ],
   "source": [
    "# удаляем NaN\n",
    "data.loc[data['Парковка'].isna(), 'Парковка'] = 'открытая'\n",
    "len(data[data['Парковка'].isna()]) # =0 @Metka"
   ]
  },
  {
   "cell_type": "code",
   "execution_count": 715,
   "metadata": {},
   "outputs": [
    {
     "data": {
      "text/plain": [
       "{'многоуровневая': 0,\n",
       " 'на крыше': 1,\n",
       " 'наземная': 2,\n",
       " 'открытая': 3,\n",
       " 'подземная': 4}"
      ]
     },
     "execution_count": 715,
     "metadata": {},
     "output_type": "execute_result"
    }
   ],
   "source": [
    "# кодируем\n",
    "le01 = LabelEncoder()\n",
    "le01.fit(data['Парковка'])\n",
    "data['parking'] = le01.transform(data['Парковка'])\n",
    "dict(zip(le01.classes_, range(len(le01.classes_)))) # а вот и словарь"
   ]
  },
  {
   "cell_type": "code",
   "execution_count": 716,
   "metadata": {},
   "outputs": [],
   "source": [
    "data = data.drop('Парковка', axis=1) # удаляем ненужные столбцы"
   ]
  },
  {
   "cell_type": "markdown",
   "metadata": {},
   "source": [
    "# Дополнительное описание квартиры"
   ]
  },
  {
   "cell_type": "code",
   "execution_count": 717,
   "metadata": {},
   "outputs": [
    {
     "data": {
      "text/plain": [
       "489"
      ]
     },
     "execution_count": 717,
     "metadata": {},
     "output_type": "execute_result"
    }
   ],
   "source": [
    "len(set(data['Дополнительно'])) #529\n",
    "# 'Мебель в комнатах, Ванна, Стиральная машина, Кондиционер, \n",
    "# Телевизор, Интернет', 'Мебель в комнатах, Мебель на кухне, \n",
    "# Ванна, Кондиционер, Посудомоечная машина, Телевизор, Холодильник, \n",
    "# Интернет, Телефон', 'Мебель в комнатах,"
   ]
  },
  {
   "cell_type": "code",
   "execution_count": 718,
   "metadata": {},
   "outputs": [],
   "source": [
    "#set(data['Дополнительно']) # составляющих много"
   ]
  },
  {
   "cell_type": "code",
   "execution_count": 719,
   "metadata": {},
   "outputs": [
    {
     "data": {
      "text/plain": [
       "267"
      ]
     },
     "execution_count": 719,
     "metadata": {},
     "output_type": "execute_result"
    }
   ],
   "source": [
    "len(data[data['Дополнительно'].isna()]) # 232 - много"
   ]
  },
  {
   "cell_type": "code",
   "execution_count": 720,
   "metadata": {},
   "outputs": [],
   "source": [
    "# если не указано - не сможем вытащить откуда-то\n",
    "data.loc[data['Дополнительно'].isna(), 'Дополнительно'] = ''"
   ]
  },
  {
   "cell_type": "code",
   "execution_count": 721,
   "metadata": {},
   "outputs": [],
   "source": [
    "# надо разделить по составляющим и сделать сет\n",
    "c1 = set()\n",
    "i = 0\n",
    "for i in range(0, len(data)):\n",
    "    c1.update(set(data.loc[i, 'Дополнительно'].split(', ')))"
   ]
  },
  {
   "cell_type": "code",
   "execution_count": 722,
   "metadata": {},
   "outputs": [
    {
     "data": {
      "text/plain": [
       "{'',\n",
       " 'Ванна',\n",
       " 'Душевая кабина',\n",
       " 'Интернет',\n",
       " 'Кондиционер',\n",
       " 'Мебель в комнатах',\n",
       " 'Мебель на кухне',\n",
       " 'Посудомоечная машина',\n",
       " 'Стиральная машина',\n",
       " 'Телевизор',\n",
       " 'Телефон',\n",
       " 'Холодильник'}"
      ]
     },
     "execution_count": 722,
     "metadata": {},
     "output_type": "execute_result"
    }
   ],
   "source": [
    "# что получилось?\n",
    "len(c1) #12\n",
    "c1"
   ]
  },
  {
   "cell_type": "code",
   "execution_count": 723,
   "metadata": {},
   "outputs": [
    {
     "data": {
      "text/plain": [
       "{'Телевизор': 'tv',\n",
       " 'Душевая кабина': 'shower_cabin',\n",
       " 'Ванна': 'bathtub',\n",
       " 'Мебель в комнатах': 'furniture',\n",
       " 'Кондиционер': 'ac',\n",
       " 'Телефон': 'telephone',\n",
       " 'Стиральная машина': 'washing_machine',\n",
       " 'Мебель на кухне': 'kitchen_furniture',\n",
       " 'Холодильник': 'frig',\n",
       " 'Интернет': 'internet',\n",
       " 'Посудомоечная машина': 'dishwasher'}"
      ]
     },
     "execution_count": 723,
     "metadata": {},
     "output_type": "execute_result"
    }
   ],
   "source": [
    "# делаем словарь\n",
    "additional_list = ['Телевизор', 'Душевая кабина', 'Ванна', 'Мебель в комнатах', \n",
    " 'Кондиционер', 'Телефон', 'Стиральная машина', 'Мебель на кухне', \n",
    " 'Холодильник', 'Интернет', 'Посудомоечная машина']\n",
    "# 'TV', 'Shower cabin', 'Bathtub', 'Furniture in the rooms', \n",
    "#  'Air conditioning', 'Telephone', 'Washing machine', 'Kitchen furniture', \n",
    "#  'Refrigerator', 'Internet', 'Dishwasher']\n",
    "additional_key = ['tv', 'shower_cabin', 'bathtub', 'furniture',\n",
    "'ac', 'telephone', 'washing_machine', 'kitchen_furniture',\n",
    "'frig', 'internet', 'dishwasher']\n",
    "additional_dict = dict(zip(additional_list, additional_key))\n",
    "additional_dict"
   ]
  },
  {
   "cell_type": "code",
   "execution_count": 724,
   "metadata": {},
   "outputs": [],
   "source": [
    "# делаем столбцы\n",
    "data['tv'] = 0\n",
    "data['shower_cabin'] = 0\n",
    "data['bathtub'] = 0\n",
    "data['furniture'] = 0\n",
    "data['ac'] = 0\n",
    "data['telephone'] = 0\n",
    "data['washing_machine'] = 0\n",
    "data['kitchen_furniture'] = 0\n",
    "data['frig'] = 0\n",
    "data['internet'] = 0\n",
    "data['dishwasher'] = 0"
   ]
  },
  {
   "cell_type": "code",
   "execution_count": 725,
   "metadata": {},
   "outputs": [],
   "source": [
    "# собираем список ключей\n",
    "all_keys = list(additional_dict.keys())\n",
    "\n",
    "# разносим все по подготовленным столбцам\n",
    "for i in range(0, len(data)) :\n",
    "    for j in range(0, len(all_keys)) :\n",
    "        if data.loc[i, 'Дополнительно'] != '':\n",
    "            if data.loc[i, 'Дополнительно'].find(all_keys[j]) >= 0:\n",
    "                data.loc[i, additional_dict[all_keys[j]]] = 1\n"
   ]
  },
  {
   "cell_type": "code",
   "execution_count": 726,
   "metadata": {},
   "outputs": [
    {
     "data": {
      "text/plain": [
       "Дополнительно        Мебель в комнатах, Мебель на кухне, Ванна, Душ...\n",
       "tv                                                                   1\n",
       "shower_cabin                                                         1\n",
       "bathtub                                                              1\n",
       "furniture                                                            1\n",
       "ac                                                                   1\n",
       "telephone                                                            1\n",
       "washing_machine                                                      1\n",
       "kitchen_furniture                                                    1\n",
       "frig                                                                 1\n",
       "internet                                                             1\n",
       "dishwasher                                                           1\n",
       "Name: 0, dtype: object"
      ]
     },
     "execution_count": 726,
     "metadata": {},
     "output_type": "execute_result"
    }
   ],
   "source": [
    "# проверяем что получилось\n",
    "data.loc[0, ['Дополнительно', 'tv', 'shower_cabin', 'bathtub', 'furniture',\n",
    "    'ac', 'telephone', 'washing_machine', 'kitchen_furniture', 'frig',\n",
    "    'internet', 'dishwasher']]"
   ]
  },
  {
   "cell_type": "code",
   "execution_count": 727,
   "metadata": {},
   "outputs": [],
   "source": [
    "# удаляем ненужное\n",
    "data = data.drop('Дополнительно', axis=1) # удаляем ненужные столбцы"
   ]
  },
  {
   "cell_type": "markdown",
   "metadata": {},
   "source": [
    "# Описание дома"
   ]
  },
  {
   "cell_type": "code",
   "execution_count": 728,
   "metadata": {},
   "outputs": [
    {
     "data": {
      "text/plain": [
       "2401"
      ]
     },
     "execution_count": 728,
     "metadata": {},
     "output_type": "execute_result"
    }
   ],
   "source": [
    "len(set(data['Дом'])) #2310"
   ]
  },
  {
   "cell_type": "code",
   "execution_count": 729,
   "metadata": {},
   "outputs": [],
   "source": [
    "#set(data['Дом']) # - много"
   ]
  },
  {
   "cell_type": "code",
   "execution_count": 730,
   "metadata": {},
   "outputs": [
    {
     "data": {
      "text/plain": [
       "0"
      ]
     },
     "execution_count": 730,
     "metadata": {},
     "output_type": "execute_result"
    }
   ],
   "source": [
    "# смотрим сколько НаН\n",
    "len(data[data['Дом'].isna()]) # 0 - интересно"
   ]
  },
  {
   "cell_type": "code",
   "execution_count": 731,
   "metadata": {},
   "outputs": [
    {
     "data": {
      "text/html": [
       "<div>\n",
       "<style scoped>\n",
       "    .dataframe tbody tr th:only-of-type {\n",
       "        vertical-align: middle;\n",
       "    }\n",
       "\n",
       "    .dataframe tbody tr th {\n",
       "        vertical-align: top;\n",
       "    }\n",
       "\n",
       "    .dataframe thead th {\n",
       "        text-align: right;\n",
       "    }\n",
       "</style>\n",
       "<table border=\"1\" class=\"dataframe\">\n",
       "  <thead>\n",
       "    <tr style=\"text-align: right;\">\n",
       "      <th></th>\n",
       "      <th>0</th>\n",
       "      <th>1</th>\n",
       "      <th>floor</th>\n",
       "      <th>tot_floor</th>\n",
       "      <th>street</th>\n",
       "      <th>house</th>\n",
       "    </tr>\n",
       "  </thead>\n",
       "  <tbody>\n",
       "    <tr>\n",
       "      <th>0</th>\n",
       "      <td>5/16</td>\n",
       "      <td>Монолитный</td>\n",
       "      <td>5</td>\n",
       "      <td>16</td>\n",
       "      <td>1579</td>\n",
       "      <td>877</td>\n",
       "    </tr>\n",
       "    <tr>\n",
       "      <th>1</th>\n",
       "      <td>5/16</td>\n",
       "      <td>Монолитно-кирпичный</td>\n",
       "      <td>5</td>\n",
       "      <td>16</td>\n",
       "      <td>1579</td>\n",
       "      <td>877</td>\n",
       "    </tr>\n",
       "    <tr>\n",
       "      <th>2</th>\n",
       "      <td>5/16</td>\n",
       "      <td>None</td>\n",
       "      <td>5</td>\n",
       "      <td>16</td>\n",
       "      <td>1579</td>\n",
       "      <td>877</td>\n",
       "    </tr>\n",
       "    <tr>\n",
       "      <th>3</th>\n",
       "      <td>5/6</td>\n",
       "      <td>None</td>\n",
       "      <td>5</td>\n",
       "      <td>6</td>\n",
       "      <td>1180</td>\n",
       "      <td>729</td>\n",
       "    </tr>\n",
       "    <tr>\n",
       "      <th>4</th>\n",
       "      <td>12/26</td>\n",
       "      <td>Панельный</td>\n",
       "      <td>12</td>\n",
       "      <td>26</td>\n",
       "      <td>1579</td>\n",
       "      <td>400</td>\n",
       "    </tr>\n",
       "  </tbody>\n",
       "</table>\n",
       "</div>"
      ],
      "text/plain": [
       "       0                    1 floor tot_floor  street  house\n",
       "0   5/16           Монолитный     5        16    1579    877\n",
       "1   5/16  Монолитно-кирпичный     5        16    1579    877\n",
       "2   5/16                 None     5        16    1579    877\n",
       "3    5/6                 None     5         6    1180    729\n",
       "4  12/26            Панельный    12        26    1579    400"
      ]
     },
     "execution_count": 731,
     "metadata": {},
     "output_type": "execute_result"
    }
   ],
   "source": [
    "# распознаем описание дома\n",
    "c11 = data['Дом'].str.split(', ', expand=True)\n",
    "c12 = c11.loc[:, 0].str.split('/', expand=True)\n",
    "c11['floor'] = c12.loc[:, 0]\n",
    "c11['tot_floor'] = c12.loc[:, 1]\n",
    "c11['street'] = data.loc[:, 'street']\n",
    "c11['house'] = data.loc[:, 'house']\n",
    "c11.head()\n",
    "#получили три столбца, смотрим на состав"
   ]
  },
  {
   "cell_type": "code",
   "execution_count": 732,
   "metadata": {},
   "outputs": [],
   "source": [
    "#set(c11.loc[:, 1])\n",
    "#{None, 'Монолитный', 'Кирпичный', 'Монолитно-кирпичный', 'Панельный', \n",
    "# 'Деревянный', 'Газобетонный блок', 'Щитовой', 'старый фонд', 'Блочный', \n",
    "# 'Сталинский'}"
   ]
  },
  {
   "cell_type": "code",
   "execution_count": 733,
   "metadata": {},
   "outputs": [
    {
     "data": {
      "text/plain": [
       "2936"
      ]
     },
     "execution_count": 733,
     "metadata": {},
     "output_type": "execute_result"
    }
   ],
   "source": [
    "len(c11[c11.loc[:, 1].isna()]) # 2714"
   ]
  },
  {
   "cell_type": "code",
   "execution_count": 734,
   "metadata": {},
   "outputs": [
    {
     "data": {
      "text/plain": [
       "0"
      ]
     },
     "execution_count": 734,
     "metadata": {},
     "output_type": "execute_result"
    }
   ],
   "source": [
    "len(c11[c11.loc[:, 'floor'].isna()]) # 0"
   ]
  },
  {
   "cell_type": "code",
   "execution_count": 735,
   "metadata": {},
   "outputs": [
    {
     "data": {
      "text/plain": [
       "0"
      ]
     },
     "execution_count": 735,
     "metadata": {},
     "output_type": "execute_result"
    }
   ],
   "source": [
    "len(c11[c11.loc[:, 'tot_floor'].isna()]) # 0"
   ]
  },
  {
   "cell_type": "code",
   "execution_count": 736,
   "metadata": {},
   "outputs": [],
   "source": [
    "# поиск по другим квартирам в доме - как в Метро\n",
    "# делаем список по всем улицам\n",
    "d1 = list(set(c11['street']))\n",
    "for i in d1:\n",
    "    # выбираем одну улицу\n",
    "    data10 = c11[c11['street'] == i]\n",
    "    #делаем список по всем домам\n",
    "    d2 = list(set(data10['house']))\n",
    "    for j in d2:\n",
    "        #выбираем один дом\n",
    "        data22 = data10[data10['house'] == j]\n",
    "        if len(data22) > 1 :\n",
    "            #смотрим на все указания \n",
    "            d3 = list(set(data22.loc[:, 1]))\n",
    "            d3 = [x for x in d3 if str(x) != 'None']\n",
    "            if len(d3) >0:\n",
    "                c11.loc[(c11['street']==i) & (c11['house']==j), 1] = d3[0]\n"
   ]
  },
  {
   "cell_type": "code",
   "execution_count": 737,
   "metadata": {},
   "outputs": [
    {
     "data": {
      "text/plain": [
       "1080"
      ]
     },
     "execution_count": 737,
     "metadata": {},
     "output_type": "execute_result"
    }
   ],
   "source": [
    "# что изменилось?\n",
    "len(c11[c11.loc[:, 1].isna()]) # 1030"
   ]
  },
  {
   "cell_type": "code",
   "execution_count": 738,
   "metadata": {},
   "outputs": [],
   "source": [
    "# попробуем вот так заменить НаН\n",
    "c11.loc[c11.loc[:, 1].isna(), 1] = 'Панельный' # @Metka"
   ]
  },
  {
   "cell_type": "code",
   "execution_count": 739,
   "metadata": {},
   "outputs": [],
   "source": [
    "# переносим в основной массив\n",
    "data['house_type'] = c11.loc[:, 1]\n",
    "data['floor'] = c11.loc[:, 'floor']\n",
    "data['tot_floor'] = c11.loc[:, 'tot_floor']"
   ]
  },
  {
   "cell_type": "code",
   "execution_count": 740,
   "metadata": {},
   "outputs": [],
   "source": [
    "# убираем лишнее\n",
    "del c11\n",
    "data = data.drop('Дом', axis=1) # удаляем ненужные столбцы"
   ]
  },
  {
   "cell_type": "code",
   "execution_count": 741,
   "metadata": {},
   "outputs": [
    {
     "data": {
      "text/plain": [
       "{'Блочный': 0,\n",
       " 'Деревянный': 1,\n",
       " 'Кирпичный': 2,\n",
       " 'Монолитно-кирпичный': 3,\n",
       " 'Монолитный': 4,\n",
       " 'Панельный': 5,\n",
       " 'Сталинский': 6,\n",
       " 'Щитовой': 7,\n",
       " 'старый фонд': 8}"
      ]
     },
     "execution_count": 741,
     "metadata": {},
     "output_type": "execute_result"
    }
   ],
   "source": [
    "# кодируем\n",
    "le01 = LabelEncoder()\n",
    "le01.fit(data['house_type'])\n",
    "data['house_type'] = le01.transform(data['house_type'])\n",
    "dict(zip(le01.classes_, range(len(le01.classes_)))) # а вот и словарь"
   ]
  },
  {
   "cell_type": "code",
   "execution_count": 742,
   "metadata": {},
   "outputs": [],
   "source": [
    "data['floor'] = data['floor'].astype(int)\n",
    "data['tot_floor'] = data['tot_floor'].astype(int)"
   ]
  },
  {
   "cell_type": "code",
   "execution_count": 743,
   "metadata": {},
   "outputs": [],
   "source": [
    "# дополнительные поля\n",
    "data['floor1'] = 0\n",
    "data.loc[data['floor']  == 1,'floor1'] = 1\n",
    "data['floor_c1'] = round(20/data['floor'], ndigits=0).astype(int)"
   ]
  },
  {
   "cell_type": "markdown",
   "metadata": {},
   "source": [
    "## Площадь комнат"
   ]
  },
  {
   "cell_type": "code",
   "execution_count": 744,
   "metadata": {},
   "outputs": [
    {
     "data": {
      "text/plain": [
       "3448"
      ]
     },
     "execution_count": 744,
     "metadata": {},
     "output_type": "execute_result"
    }
   ],
   "source": [
    "len(set(data['Площадь комнат, м2'])) #3330"
   ]
  },
  {
   "cell_type": "code",
   "execution_count": 745,
   "metadata": {},
   "outputs": [],
   "source": [
    "# Число пропущенных ячеек велико, предлагаю не рассматривать данный столбец\n",
    "data = data.drop('Площадь комнат, м2', axis=1) # удаляем ненужные столбцы"
   ]
  },
  {
   "cell_type": "markdown",
   "metadata": {},
   "source": [
    "## Название ЖК"
   ]
  },
  {
   "cell_type": "code",
   "execution_count": 746,
   "metadata": {},
   "outputs": [
    {
     "data": {
      "text/plain": [
       "1128"
      ]
     },
     "execution_count": 746,
     "metadata": {},
     "output_type": "execute_result"
    }
   ],
   "source": [
    "len(set(data['Название ЖК'])) #1097"
   ]
  },
  {
   "cell_type": "code",
   "execution_count": 747,
   "metadata": {},
   "outputs": [
    {
     "data": {
      "text/plain": [
       "15090"
      ]
     },
     "execution_count": 747,
     "metadata": {},
     "output_type": "execute_result"
    }
   ],
   "source": [
    "# смотрим сколько НаН\n",
    "len(data[data['Название ЖК'].isna()]) # 14554 \n",
    "# пропусков очень много, не вижу смысла использовать столбец"
   ]
  },
  {
   "cell_type": "code",
   "execution_count": 748,
   "metadata": {},
   "outputs": [],
   "source": [
    "data = data.drop('Название ЖК', axis=1) # удаляем ненужные столбцы"
   ]
  },
  {
   "cell_type": "markdown",
   "metadata": {},
   "source": [
    "## Серия дома"
   ]
  },
  {
   "cell_type": "code",
   "execution_count": 749,
   "metadata": {},
   "outputs": [
    {
     "data": {
      "text/plain": [
       "369"
      ]
     },
     "execution_count": 749,
     "metadata": {},
     "output_type": "execute_result"
    }
   ],
   "source": [
    "len(set(data['Серия дома'])) #364"
   ]
  },
  {
   "cell_type": "code",
   "execution_count": 750,
   "metadata": {},
   "outputs": [
    {
     "data": {
      "text/plain": [
       "17442"
      ]
     },
     "execution_count": 750,
     "metadata": {},
     "output_type": "execute_result"
    }
   ],
   "source": [
    "# смотрим сколько НаН\n",
    "len(data[data['Серия дома'].isna()]) # 16626\n",
    "# пропусков очень много, не вижу смысла использовать столбец"
   ]
  },
  {
   "cell_type": "code",
   "execution_count": 751,
   "metadata": {},
   "outputs": [],
   "source": [
    "data = data.drop('Серия дома', axis=1) # удаляем ненужные столбцы"
   ]
  },
  {
   "cell_type": "markdown",
   "metadata": {},
   "source": [
    "# Тип"
   ]
  },
  {
   "cell_type": "code",
   "execution_count": 752,
   "metadata": {},
   "outputs": [
    {
     "data": {
      "text/plain": [
       "1"
      ]
     },
     "execution_count": 752,
     "metadata": {},
     "output_type": "execute_result"
    }
   ],
   "source": [
    "len(set(data['Тип'])) #364"
   ]
  },
  {
   "cell_type": "code",
   "execution_count": 753,
   "metadata": {},
   "outputs": [
    {
     "data": {
      "text/plain": [
       "0"
      ]
     },
     "execution_count": 753,
     "metadata": {},
     "output_type": "execute_result"
    }
   ],
   "source": [
    "# смотрим сколько НаН\n",
    "len(data[data['Тип'].isna()]) # \n",
    "# пропусков очень много, не вижу смысла использовать столбец"
   ]
  },
  {
   "cell_type": "code",
   "execution_count": 754,
   "metadata": {},
   "outputs": [],
   "source": [
    "# столбец не имеет смысла для анализа - удаляем\n",
    "data = data.drop('Тип', axis=1)"
   ]
  },
  {
   "cell_type": "markdown",
   "metadata": {},
   "source": [
    "## 21. Лифт"
   ]
  },
  {
   "cell_type": "code",
   "execution_count": 755,
   "metadata": {},
   "outputs": [
    {
     "data": {
      "text/plain": [
       "34"
      ]
     },
     "execution_count": 755,
     "metadata": {},
     "output_type": "execute_result"
    }
   ],
   "source": [
    "len(set(data['Лифт'])) #34"
   ]
  },
  {
   "cell_type": "code",
   "execution_count": 756,
   "metadata": {},
   "outputs": [],
   "source": [
    "#set(data['Лифт'])\n",
    "# {nan,\n",
    "#  'Груз (1)',\n",
    "#  'Груз (2)',\n",
    "#  'Груз (3)',\n",
    "#  'Груз (4)',\n",
    "#  'Груз (6)',\n",
    "#  'Груз (8)',\n",
    "#  'Пасс (1)',\n",
    "#  'Пасс (1), Груз (1)',"
   ]
  },
  {
   "cell_type": "code",
   "execution_count": 757,
   "metadata": {},
   "outputs": [
    {
     "data": {
      "text/plain": [
       "4180"
      ]
     },
     "execution_count": 757,
     "metadata": {},
     "output_type": "execute_result"
    }
   ],
   "source": [
    "# смотрим сколько НаН\n",
    "len(data[data['Лифт'].isna()]) # 4180 - очень много"
   ]
  },
  {
   "cell_type": "code",
   "execution_count": 758,
   "metadata": {},
   "outputs": [],
   "source": [
    "# поиск по другим квартирам в доме - как в Метро\n",
    "# делаем список по всем улицам\n",
    "d1 = list(set(data['street']))\n",
    "for i in d1:\n",
    "    # выбираем одну улицу\n",
    "    data10 = data[data['street'] == i]\n",
    "    #делаем список по всем домам\n",
    "    d2 = list(set(data10['house']))\n",
    "    for j in d2:\n",
    "        #выбираем один дом\n",
    "        data22 = data10[data10['house'] == j]\n",
    "        if len(data22) > 1 :\n",
    "            #смотрим на все указания \n",
    "            d3 = list(set(data22.loc[:, 'Лифт']))\n",
    "            d3 = [x for x in d3 if str(x) != 'nan']\n",
    "            if len(d3) >0:\n",
    "                data.loc[((data['street']==i) & (data['house']==j) & (data['Лифт'].isna())), 'Лифт'] = d3[0]\n",
    "                #data['Метро'].isna()"
   ]
  },
  {
   "cell_type": "code",
   "execution_count": 759,
   "metadata": {},
   "outputs": [
    {
     "data": {
      "text/plain": [
       "2600"
      ]
     },
     "execution_count": 759,
     "metadata": {},
     "output_type": "execute_result"
    }
   ],
   "source": [
    "# смотрим сколько НаН\n",
    "len(data[data['Лифт'].isna()]) # стало вдвое лучше"
   ]
  },
  {
   "cell_type": "code",
   "execution_count": 760,
   "metadata": {},
   "outputs": [],
   "source": [
    "# попробуем версия с малоэтажками - если 5 этажей или меньше - лифта нет\n",
    "data.loc[(data['Лифт'].isna()) & (data['tot_floor'] <= 5), 'Лифт'] = '0'\n"
   ]
  },
  {
   "cell_type": "code",
   "execution_count": 761,
   "metadata": {},
   "outputs": [
    {
     "data": {
      "text/plain": [
       "410"
      ]
     },
     "execution_count": 761,
     "metadata": {},
     "output_type": "execute_result"
    }
   ],
   "source": [
    "# смотрим сколько НаН\n",
    "len(data[data['Лифт'].isna()]) # 410"
   ]
  },
  {
   "cell_type": "code",
   "execution_count": 762,
   "metadata": {},
   "outputs": [],
   "source": [
    "# остальным сделаем традиционно - по одному \n",
    "data.loc[data['Лифт'].isna(), 'Лифт'] = 'Пасс (1), Груз (1)'"
   ]
  },
  {
   "cell_type": "code",
   "execution_count": 763,
   "metadata": {},
   "outputs": [
    {
     "data": {
      "text/plain": [
       "0"
      ]
     },
     "execution_count": 763,
     "metadata": {},
     "output_type": "execute_result"
    }
   ],
   "source": [
    "# смотрим сколько НаН\n",
    "len(data[data['Лифт'].isna()]) # 0!"
   ]
  },
  {
   "cell_type": "code",
   "execution_count": 764,
   "metadata": {},
   "outputs": [],
   "source": [
    "#['Пасс (1), Груз (1)', 'Пасс (2)']\n",
    "data['elev_pass'] = 0\n",
    "data['elev_serv'] = 0"
   ]
  },
  {
   "cell_type": "code",
   "execution_count": 765,
   "metadata": {},
   "outputs": [],
   "source": [
    "for i in range(0, len(data)):\n",
    "    if data.loc[i, 'Лифт'] != '0':\n",
    "        if data.loc[i, 'Лифт'].find(',') <0: # только один тип лифта\n",
    "            numb_lift = int(re.findall(r'\\d+', data.loc[i, 'Лифт'])[0])\n",
    "            if data.loc[i, 'Лифт'].find('Пасс') >=0:\n",
    "                data.loc[i, 'elev_pass'] = numb_lift\n",
    "            else:\n",
    "                data.loc[i, 'elev_serv'] = numb_lift\n",
    "        else: #два типа лифта            \n",
    "            b10, b11 = data.loc[i, 'Лифт'].split(',')\n",
    "            data.loc[i, 'elev_pass'] = int(*re.findall(r'\\d+', b10))\n",
    "            data.loc[i, 'elev_serv'] = int(*re.findall(r'\\d+', b11))"
   ]
  },
  {
   "cell_type": "code",
   "execution_count": 766,
   "metadata": {},
   "outputs": [
    {
     "data": {
      "text/plain": [
       "0"
      ]
     },
     "execution_count": 766,
     "metadata": {},
     "output_type": "execute_result"
    }
   ],
   "source": [
    "# смотрим сколько НаН\n",
    "len(data[data['elev_pass'].isna()]) # 0!"
   ]
  },
  {
   "cell_type": "code",
   "execution_count": 767,
   "metadata": {},
   "outputs": [
    {
     "data": {
      "text/plain": [
       "0"
      ]
     },
     "execution_count": 767,
     "metadata": {},
     "output_type": "execute_result"
    }
   ],
   "source": [
    "# смотрим сколько НаН\n",
    "len(data[data['elev_serv'].isna()]) # 0!"
   ]
  },
  {
   "cell_type": "code",
   "execution_count": 768,
   "metadata": {},
   "outputs": [],
   "source": [
    "data = data.drop('Лифт', axis=1) # удаляем ненужные столбцы"
   ]
  },
  {
   "cell_type": "markdown",
   "metadata": {},
   "source": [
    "## 16. Можно с детьми и животными"
   ]
  },
  {
   "cell_type": "code",
   "execution_count": 769,
   "metadata": {},
   "outputs": [
    {
     "data": {
      "text/plain": [
       "4"
      ]
     },
     "execution_count": 769,
     "metadata": {},
     "output_type": "execute_result"
    }
   ],
   "source": [
    "len(set(data['Можно с детьми/животными'])) #4"
   ]
  },
  {
   "cell_type": "code",
   "execution_count": 770,
   "metadata": {},
   "outputs": [
    {
     "data": {
      "text/plain": [
       "{nan,\n",
       " 'Можно с детьми',\n",
       " 'Можно с детьми, Можно с животными',\n",
       " 'Можно с животными'}"
      ]
     },
     "execution_count": 770,
     "metadata": {},
     "output_type": "execute_result"
    }
   ],
   "source": [
    "set(data['Можно с детьми/животными'])"
   ]
  },
  {
   "cell_type": "code",
   "execution_count": 771,
   "metadata": {},
   "outputs": [
    {
     "data": {
      "text/plain": [
       "4871"
      ]
     },
     "execution_count": 771,
     "metadata": {},
     "output_type": "execute_result"
    }
   ],
   "source": [
    "# смотрим сколько НаН\n",
    "len(data[data['Можно с детьми/животными'].isna()]) # 4871 - очень много"
   ]
  },
  {
   "cell_type": "code",
   "execution_count": 772,
   "metadata": {},
   "outputs": [],
   "source": [
    "data['child'] = 0\n",
    "data['animal'] = 0"
   ]
  },
  {
   "cell_type": "code",
   "execution_count": 773,
   "metadata": {},
   "outputs": [],
   "source": [
    "data.loc[data['Можно с детьми/животными'].isna(), 'Можно с детьми/животными'] = 'None'"
   ]
  },
  {
   "cell_type": "code",
   "execution_count": 774,
   "metadata": {},
   "outputs": [],
   "source": [
    "for i in range(0, len(data)):\n",
    "    if data.loc[i, 'Можно с детьми/животными'] != 'None':\n",
    "        if data.loc[i, 'Можно с детьми/животными'].find('детьми') >=0:\n",
    "            data.loc[i, 'child'] = 1\n",
    "        if data.loc[i, 'Можно с детьми/животными'].find('животными') >=0:\n",
    "            data.loc[i, 'animal'] = 1"
   ]
  },
  {
   "cell_type": "code",
   "execution_count": 775,
   "metadata": {},
   "outputs": [
    {
     "data": {
      "text/plain": [
       "Можно с детьми/животными    Можно с детьми, Можно с животными\n",
       "child                                                       1\n",
       "animal                                                      1\n",
       "Name: 0, dtype: object"
      ]
     },
     "execution_count": 775,
     "metadata": {},
     "output_type": "execute_result"
    }
   ],
   "source": [
    "# проверим\n",
    "data.loc[0, ['Можно с детьми/животными', 'child', 'animal']]"
   ]
  },
  {
   "cell_type": "code",
   "execution_count": 776,
   "metadata": {},
   "outputs": [],
   "source": [
    "data = data.drop('Можно с детьми/животными', axis=1) # удаляем ненужные столбцы"
   ]
  },
  {
   "cell_type": "markdown",
   "metadata": {},
   "source": [
    "## Предварительная оценка "
   ]
  },
  {
   "cell_type": "code",
   "execution_count": 777,
   "metadata": {},
   "outputs": [],
   "source": [
    "# Описание столцов:\n",
    "#  1 - city - город расположения объекта / Адрес\n",
    "#  2 - street - улица расположения объекта / Адрес\n",
    "#  3 - house - номер дома где располагается объект / Адрес\n",
    "#  4 - price - стоимость арнеды в месяц, руб / Цена\n",
    "#  5 - utilities_cost - расходы на коммунальные услуги в месяц, руб, если указаны. \n",
    "#         0 - если не указаны / Цена\n",
    "#  6 - deposit - демозит при аренде квартиры, руб / Цена  \n",
    "#  7 - utilities_included - вклюбчены ли коммунальные услуги в стоимость арнеды, \n",
    "#         1 = вклоючены, 0 = не включены / Цена\n",
    "#  8 - rent_length - минимальная длительность аренды, мес / Цена\n",
    "#  9 - price_advance - авансовый платеж за несколько месяцев \n",
    "#   вперед, в месяцах / Цена   <удален>\n",
    "# 10 - total_m2 - Общая площадь, м2 / Площадь\n",
    "# 11 - live_m2 - Жилая площадь, м2 / Площадь\n",
    "# 12 - kitchen_m2 - Площадь кухни, м2 / Площадь \n",
    "# 12A- remont - тип ремонта квартиры\n",
    "# 14 - toilet_sep - число изолированных санузлов\n",
    "# 15 - toilet_unted - число совмещенных санузлов\n",
    "# 16 - windows - направление окон из квартиры\n",
    "# 17 - balcony - число балконов в квартире\n",
    "# 18 - loggia - число лоджий в квартире\n",
    "# 19 - rooms_sep - изолированных комнат\n",
    "# 20 - rooms_unted - смежных комнат\n",
    "# 21 - ceiling - высота потолков\n",
    "# 22 - g_chute - мусоропровод\n",
    "# 23 - metro_walk - пешком до метро, мин\n",
    "# 24 - parking - какая парковка \n",
    "# 25 - tv - наличие телевизора/дополнительное\n",
    "# 26 - shower_cabin - наличие душевой кабины/дополнительное\n",
    "# 27 - bathtub - наличие ванной/дополнительное\n",
    "# 28 - furniture - наличие мебели в квартире/дополнительное\n",
    "# 29 - ac - наличие кондиционера/дополнительное\n",
    "# 30 - telephone - наличие телефона/дополнительное\n",
    "# 31 - washing_machine - наличие стиральной машны/дополнительное\n",
    "# 32 - kitchen_furniture - наличие мебели на кухне/дополнительное\n",
    "# 33 - frig - наличие холодильника/дополнительное\n",
    "# 34 - internet - наличие интернета/дополнительное\n",
    "# 35 - dishwasher - наличие посудомойки/дополнительное\n",
    "# 36 - house_type - тип дома (материал)\n",
    "# 37 - floor - этаж дома\n",
    "# 38 - tot_floor - всего этажей в доме\n",
    "# 39 - elev_serv - число грузовых лифтов\n",
    "# 40 - elev_pass - число пассажирских лифтов\n",
    "# 41 - animal - можно с животными\n",
    "# 42 - child\n"
   ]
  },
  {
   "cell_type": "code",
   "execution_count": 778,
   "metadata": {},
   "outputs": [
    {
     "data": {
      "text/html": [
       "<div>\n",
       "<style scoped>\n",
       "    .dataframe tbody tr th:only-of-type {\n",
       "        vertical-align: middle;\n",
       "    }\n",
       "\n",
       "    .dataframe tbody tr th {\n",
       "        vertical-align: top;\n",
       "    }\n",
       "\n",
       "    .dataframe thead th {\n",
       "        text-align: right;\n",
       "    }\n",
       "</style>\n",
       "<table border=\"1\" class=\"dataframe\">\n",
       "  <thead>\n",
       "    <tr style=\"text-align: right;\">\n",
       "      <th></th>\n",
       "      <th>Число пропущенных</th>\n",
       "    </tr>\n",
       "  </thead>\n",
       "  <tbody>\n",
       "    <tr>\n",
       "      <th>Ссылка на объявление</th>\n",
       "      <td>0</td>\n",
       "    </tr>\n",
       "    <tr>\n",
       "      <th>metro_walk</th>\n",
       "      <td>0</td>\n",
       "    </tr>\n",
       "    <tr>\n",
       "      <th>tv</th>\n",
       "      <td>0</td>\n",
       "    </tr>\n",
       "    <tr>\n",
       "      <th>shower_cabin</th>\n",
       "      <td>0</td>\n",
       "    </tr>\n",
       "    <tr>\n",
       "      <th>bathtub</th>\n",
       "      <td>0</td>\n",
       "    </tr>\n",
       "    <tr>\n",
       "      <th>furniture</th>\n",
       "      <td>0</td>\n",
       "    </tr>\n",
       "    <tr>\n",
       "      <th>ac</th>\n",
       "      <td>0</td>\n",
       "    </tr>\n",
       "    <tr>\n",
       "      <th>telephone</th>\n",
       "      <td>0</td>\n",
       "    </tr>\n",
       "    <tr>\n",
       "      <th>washing_machine</th>\n",
       "      <td>0</td>\n",
       "    </tr>\n",
       "    <tr>\n",
       "      <th>kitchen_furniture</th>\n",
       "      <td>0</td>\n",
       "    </tr>\n",
       "    <tr>\n",
       "      <th>frig</th>\n",
       "      <td>0</td>\n",
       "    </tr>\n",
       "    <tr>\n",
       "      <th>internet</th>\n",
       "      <td>0</td>\n",
       "    </tr>\n",
       "    <tr>\n",
       "      <th>dishwasher</th>\n",
       "      <td>0</td>\n",
       "    </tr>\n",
       "    <tr>\n",
       "      <th>house_type</th>\n",
       "      <td>0</td>\n",
       "    </tr>\n",
       "    <tr>\n",
       "      <th>floor</th>\n",
       "      <td>0</td>\n",
       "    </tr>\n",
       "    <tr>\n",
       "      <th>tot_floor</th>\n",
       "      <td>0</td>\n",
       "    </tr>\n",
       "    <tr>\n",
       "      <th>floor1</th>\n",
       "      <td>0</td>\n",
       "    </tr>\n",
       "    <tr>\n",
       "      <th>floor_c1</th>\n",
       "      <td>0</td>\n",
       "    </tr>\n",
       "    <tr>\n",
       "      <th>elev_pass</th>\n",
       "      <td>0</td>\n",
       "    </tr>\n",
       "    <tr>\n",
       "      <th>elev_serv</th>\n",
       "      <td>0</td>\n",
       "    </tr>\n",
       "    <tr>\n",
       "      <th>child</th>\n",
       "      <td>0</td>\n",
       "    </tr>\n",
       "    <tr>\n",
       "      <th>parking</th>\n",
       "      <td>0</td>\n",
       "    </tr>\n",
       "    <tr>\n",
       "      <th>g_chute</th>\n",
       "      <td>0</td>\n",
       "    </tr>\n",
       "    <tr>\n",
       "      <th>street</th>\n",
       "      <td>0</td>\n",
       "    </tr>\n",
       "    <tr>\n",
       "      <th>ceiling</th>\n",
       "      <td>0</td>\n",
       "    </tr>\n",
       "    <tr>\n",
       "      <th>house</th>\n",
       "      <td>0</td>\n",
       "    </tr>\n",
       "    <tr>\n",
       "      <th>price</th>\n",
       "      <td>0</td>\n",
       "    </tr>\n",
       "    <tr>\n",
       "      <th>utilities_cost</th>\n",
       "      <td>0</td>\n",
       "    </tr>\n",
       "    <tr>\n",
       "      <th>deposit</th>\n",
       "      <td>0</td>\n",
       "    </tr>\n",
       "    <tr>\n",
       "      <th>utilities_included</th>\n",
       "      <td>0</td>\n",
       "    </tr>\n",
       "    <tr>\n",
       "      <th>rent_length</th>\n",
       "      <td>0</td>\n",
       "    </tr>\n",
       "    <tr>\n",
       "      <th>price_advance</th>\n",
       "      <td>0</td>\n",
       "    </tr>\n",
       "    <tr>\n",
       "      <th>total_m2</th>\n",
       "      <td>0</td>\n",
       "    </tr>\n",
       "    <tr>\n",
       "      <th>live_m2</th>\n",
       "      <td>0</td>\n",
       "    </tr>\n",
       "    <tr>\n",
       "      <th>kitchen_m2</th>\n",
       "      <td>0</td>\n",
       "    </tr>\n",
       "    <tr>\n",
       "      <th>remont</th>\n",
       "      <td>0</td>\n",
       "    </tr>\n",
       "    <tr>\n",
       "      <th>toilet_sep</th>\n",
       "      <td>0</td>\n",
       "    </tr>\n",
       "    <tr>\n",
       "      <th>toilet_unted</th>\n",
       "      <td>0</td>\n",
       "    </tr>\n",
       "    <tr>\n",
       "      <th>windows</th>\n",
       "      <td>0</td>\n",
       "    </tr>\n",
       "    <tr>\n",
       "      <th>balcony</th>\n",
       "      <td>0</td>\n",
       "    </tr>\n",
       "    <tr>\n",
       "      <th>loggia</th>\n",
       "      <td>0</td>\n",
       "    </tr>\n",
       "    <tr>\n",
       "      <th>rooms_sep</th>\n",
       "      <td>0</td>\n",
       "    </tr>\n",
       "    <tr>\n",
       "      <th>rooms_unted</th>\n",
       "      <td>0</td>\n",
       "    </tr>\n",
       "    <tr>\n",
       "      <th>rooms</th>\n",
       "      <td>0</td>\n",
       "    </tr>\n",
       "    <tr>\n",
       "      <th>animal</th>\n",
       "      <td>0</td>\n",
       "    </tr>\n",
       "  </tbody>\n",
       "</table>\n",
       "</div>"
      ],
      "text/plain": [
       "                      Число пропущенных\n",
       "Ссылка на объявление                  0\n",
       "metro_walk                            0\n",
       "tv                                    0\n",
       "shower_cabin                          0\n",
       "bathtub                               0\n",
       "furniture                             0\n",
       "ac                                    0\n",
       "telephone                             0\n",
       "washing_machine                       0\n",
       "kitchen_furniture                     0\n",
       "frig                                  0\n",
       "internet                              0\n",
       "dishwasher                            0\n",
       "house_type                            0\n",
       "floor                                 0\n",
       "tot_floor                             0\n",
       "floor1                                0\n",
       "floor_c1                              0\n",
       "elev_pass                             0\n",
       "elev_serv                             0\n",
       "child                                 0\n",
       "parking                               0\n",
       "g_chute                               0\n",
       "street                                0\n",
       "ceiling                               0\n",
       "house                                 0\n",
       "price                                 0\n",
       "utilities_cost                        0\n",
       "deposit                               0\n",
       "utilities_included                    0\n",
       "rent_length                           0\n",
       "price_advance                         0\n",
       "total_m2                              0\n",
       "live_m2                               0\n",
       "kitchen_m2                            0\n",
       "remont                                0\n",
       "toilet_sep                            0\n",
       "toilet_unted                          0\n",
       "windows                               0\n",
       "balcony                               0\n",
       "loggia                                0\n",
       "rooms_sep                             0\n",
       "rooms_unted                           0\n",
       "rooms                                 0\n",
       "animal                                0"
      ]
     },
     "execution_count": 778,
     "metadata": {},
     "output_type": "execute_result"
    }
   ],
   "source": [
    "pd.DataFrame(data.isnull().sum().sort_values(ascending=False), \n",
    "             columns=['Число пропущенных'])"
   ]
  },
  {
   "cell_type": "code",
   "execution_count": 779,
   "metadata": {},
   "outputs": [
    {
     "data": {
      "text/plain": [
       "100.0"
      ]
     },
     "execution_count": 779,
     "metadata": {},
     "output_type": "execute_result"
    }
   ],
   "source": [
    "round(len(data.dropna(axis = 0))/len(data)*100, ndigits=2)\n",
    "#df = df.dropna(axis = 0)"
   ]
  },
  {
   "cell_type": "code",
   "execution_count": 780,
   "metadata": {},
   "outputs": [
    {
     "data": {
      "text/plain": [
       "(19530, 45)"
      ]
     },
     "execution_count": 780,
     "metadata": {},
     "output_type": "execute_result"
    }
   ],
   "source": [
    "data.shape"
   ]
  },
  {
   "cell_type": "code",
   "execution_count": 781,
   "metadata": {},
   "outputs": [],
   "source": [
    "# смотрим на массив до обрезки:\n",
    "#data.head(3)"
   ]
  },
  {
   "cell_type": "code",
   "execution_count": 782,
   "metadata": {},
   "outputs": [
    {
     "data": {
      "text/html": [
       "<div>\n",
       "<style scoped>\n",
       "    .dataframe tbody tr th:only-of-type {\n",
       "        vertical-align: middle;\n",
       "    }\n",
       "\n",
       "    .dataframe tbody tr th {\n",
       "        vertical-align: top;\n",
       "    }\n",
       "\n",
       "    .dataframe thead th {\n",
       "        text-align: right;\n",
       "    }\n",
       "</style>\n",
       "<table border=\"1\" class=\"dataframe\">\n",
       "  <thead>\n",
       "    <tr style=\"text-align: right;\">\n",
       "      <th></th>\n",
       "      <th>Columns</th>\n",
       "      <th>Type</th>\n",
       "    </tr>\n",
       "  </thead>\n",
       "  <tbody>\n",
       "    <tr>\n",
       "      <th>0</th>\n",
       "      <td>Ссылка на объявление</td>\n",
       "      <td>&lt;class 'str'&gt;</td>\n",
       "    </tr>\n",
       "    <tr>\n",
       "      <th>1</th>\n",
       "      <td>street</td>\n",
       "      <td>&lt;class 'numpy.int64'&gt;</td>\n",
       "    </tr>\n",
       "    <tr>\n",
       "      <th>2</th>\n",
       "      <td>house</td>\n",
       "      <td>&lt;class 'numpy.int64'&gt;</td>\n",
       "    </tr>\n",
       "    <tr>\n",
       "      <th>3</th>\n",
       "      <td>price</td>\n",
       "      <td>&lt;class 'numpy.float64'&gt;</td>\n",
       "    </tr>\n",
       "    <tr>\n",
       "      <th>4</th>\n",
       "      <td>utilities_cost</td>\n",
       "      <td>&lt;class 'numpy.float64'&gt;</td>\n",
       "    </tr>\n",
       "    <tr>\n",
       "      <th>5</th>\n",
       "      <td>deposit</td>\n",
       "      <td>&lt;class 'numpy.float64'&gt;</td>\n",
       "    </tr>\n",
       "    <tr>\n",
       "      <th>6</th>\n",
       "      <td>utilities_included</td>\n",
       "      <td>&lt;class 'numpy.int64'&gt;</td>\n",
       "    </tr>\n",
       "    <tr>\n",
       "      <th>7</th>\n",
       "      <td>rent_length</td>\n",
       "      <td>&lt;class 'numpy.float64'&gt;</td>\n",
       "    </tr>\n",
       "    <tr>\n",
       "      <th>8</th>\n",
       "      <td>price_advance</td>\n",
       "      <td>&lt;class 'numpy.float64'&gt;</td>\n",
       "    </tr>\n",
       "    <tr>\n",
       "      <th>9</th>\n",
       "      <td>total_m2</td>\n",
       "      <td>&lt;class 'numpy.float64'&gt;</td>\n",
       "    </tr>\n",
       "    <tr>\n",
       "      <th>10</th>\n",
       "      <td>live_m2</td>\n",
       "      <td>&lt;class 'numpy.float64'&gt;</td>\n",
       "    </tr>\n",
       "    <tr>\n",
       "      <th>11</th>\n",
       "      <td>kitchen_m2</td>\n",
       "      <td>&lt;class 'numpy.float64'&gt;</td>\n",
       "    </tr>\n",
       "    <tr>\n",
       "      <th>12</th>\n",
       "      <td>remont</td>\n",
       "      <td>&lt;class 'numpy.int64'&gt;</td>\n",
       "    </tr>\n",
       "    <tr>\n",
       "      <th>13</th>\n",
       "      <td>toilet_sep</td>\n",
       "      <td>&lt;class 'numpy.float64'&gt;</td>\n",
       "    </tr>\n",
       "    <tr>\n",
       "      <th>14</th>\n",
       "      <td>toilet_unted</td>\n",
       "      <td>&lt;class 'numpy.float64'&gt;</td>\n",
       "    </tr>\n",
       "    <tr>\n",
       "      <th>15</th>\n",
       "      <td>windows</td>\n",
       "      <td>&lt;class 'numpy.int64'&gt;</td>\n",
       "    </tr>\n",
       "    <tr>\n",
       "      <th>16</th>\n",
       "      <td>balcony</td>\n",
       "      <td>&lt;class 'numpy.float64'&gt;</td>\n",
       "    </tr>\n",
       "    <tr>\n",
       "      <th>17</th>\n",
       "      <td>loggia</td>\n",
       "      <td>&lt;class 'numpy.float64'&gt;</td>\n",
       "    </tr>\n",
       "    <tr>\n",
       "      <th>18</th>\n",
       "      <td>rooms_sep</td>\n",
       "      <td>&lt;class 'numpy.float64'&gt;</td>\n",
       "    </tr>\n",
       "    <tr>\n",
       "      <th>19</th>\n",
       "      <td>rooms_unted</td>\n",
       "      <td>&lt;class 'numpy.float64'&gt;</td>\n",
       "    </tr>\n",
       "    <tr>\n",
       "      <th>20</th>\n",
       "      <td>rooms</td>\n",
       "      <td>&lt;class 'numpy.float64'&gt;</td>\n",
       "    </tr>\n",
       "    <tr>\n",
       "      <th>21</th>\n",
       "      <td>ceiling</td>\n",
       "      <td>&lt;class 'numpy.float64'&gt;</td>\n",
       "    </tr>\n",
       "    <tr>\n",
       "      <th>22</th>\n",
       "      <td>g_chute</td>\n",
       "      <td>&lt;class 'numpy.int64'&gt;</td>\n",
       "    </tr>\n",
       "    <tr>\n",
       "      <th>23</th>\n",
       "      <td>metro_walk</td>\n",
       "      <td>&lt;class 'numpy.float64'&gt;</td>\n",
       "    </tr>\n",
       "    <tr>\n",
       "      <th>24</th>\n",
       "      <td>parking</td>\n",
       "      <td>&lt;class 'numpy.int64'&gt;</td>\n",
       "    </tr>\n",
       "    <tr>\n",
       "      <th>25</th>\n",
       "      <td>tv</td>\n",
       "      <td>&lt;class 'numpy.int64'&gt;</td>\n",
       "    </tr>\n",
       "    <tr>\n",
       "      <th>26</th>\n",
       "      <td>shower_cabin</td>\n",
       "      <td>&lt;class 'numpy.int64'&gt;</td>\n",
       "    </tr>\n",
       "    <tr>\n",
       "      <th>27</th>\n",
       "      <td>bathtub</td>\n",
       "      <td>&lt;class 'numpy.int64'&gt;</td>\n",
       "    </tr>\n",
       "    <tr>\n",
       "      <th>28</th>\n",
       "      <td>furniture</td>\n",
       "      <td>&lt;class 'numpy.int64'&gt;</td>\n",
       "    </tr>\n",
       "    <tr>\n",
       "      <th>29</th>\n",
       "      <td>ac</td>\n",
       "      <td>&lt;class 'numpy.int64'&gt;</td>\n",
       "    </tr>\n",
       "    <tr>\n",
       "      <th>30</th>\n",
       "      <td>telephone</td>\n",
       "      <td>&lt;class 'numpy.int64'&gt;</td>\n",
       "    </tr>\n",
       "    <tr>\n",
       "      <th>31</th>\n",
       "      <td>washing_machine</td>\n",
       "      <td>&lt;class 'numpy.int64'&gt;</td>\n",
       "    </tr>\n",
       "    <tr>\n",
       "      <th>32</th>\n",
       "      <td>kitchen_furniture</td>\n",
       "      <td>&lt;class 'numpy.int64'&gt;</td>\n",
       "    </tr>\n",
       "    <tr>\n",
       "      <th>33</th>\n",
       "      <td>frig</td>\n",
       "      <td>&lt;class 'numpy.int64'&gt;</td>\n",
       "    </tr>\n",
       "    <tr>\n",
       "      <th>34</th>\n",
       "      <td>internet</td>\n",
       "      <td>&lt;class 'numpy.int64'&gt;</td>\n",
       "    </tr>\n",
       "    <tr>\n",
       "      <th>35</th>\n",
       "      <td>dishwasher</td>\n",
       "      <td>&lt;class 'numpy.int64'&gt;</td>\n",
       "    </tr>\n",
       "    <tr>\n",
       "      <th>36</th>\n",
       "      <td>house_type</td>\n",
       "      <td>&lt;class 'numpy.int64'&gt;</td>\n",
       "    </tr>\n",
       "    <tr>\n",
       "      <th>37</th>\n",
       "      <td>floor</td>\n",
       "      <td>&lt;class 'numpy.int64'&gt;</td>\n",
       "    </tr>\n",
       "    <tr>\n",
       "      <th>38</th>\n",
       "      <td>tot_floor</td>\n",
       "      <td>&lt;class 'numpy.int64'&gt;</td>\n",
       "    </tr>\n",
       "    <tr>\n",
       "      <th>39</th>\n",
       "      <td>floor1</td>\n",
       "      <td>&lt;class 'numpy.int64'&gt;</td>\n",
       "    </tr>\n",
       "    <tr>\n",
       "      <th>40</th>\n",
       "      <td>floor_c1</td>\n",
       "      <td>&lt;class 'numpy.int64'&gt;</td>\n",
       "    </tr>\n",
       "    <tr>\n",
       "      <th>41</th>\n",
       "      <td>elev_pass</td>\n",
       "      <td>&lt;class 'numpy.int64'&gt;</td>\n",
       "    </tr>\n",
       "    <tr>\n",
       "      <th>42</th>\n",
       "      <td>elev_serv</td>\n",
       "      <td>&lt;class 'numpy.int64'&gt;</td>\n",
       "    </tr>\n",
       "    <tr>\n",
       "      <th>43</th>\n",
       "      <td>child</td>\n",
       "      <td>&lt;class 'numpy.int64'&gt;</td>\n",
       "    </tr>\n",
       "    <tr>\n",
       "      <th>44</th>\n",
       "      <td>animal</td>\n",
       "      <td>&lt;class 'numpy.int64'&gt;</td>\n",
       "    </tr>\n",
       "  </tbody>\n",
       "</table>\n",
       "</div>"
      ],
      "text/plain": [
       "                 Columns                     Type\n",
       "0   Ссылка на объявление            <class 'str'>\n",
       "1                 street    <class 'numpy.int64'>\n",
       "2                  house    <class 'numpy.int64'>\n",
       "3                  price  <class 'numpy.float64'>\n",
       "4         utilities_cost  <class 'numpy.float64'>\n",
       "5                deposit  <class 'numpy.float64'>\n",
       "6     utilities_included    <class 'numpy.int64'>\n",
       "7            rent_length  <class 'numpy.float64'>\n",
       "8          price_advance  <class 'numpy.float64'>\n",
       "9               total_m2  <class 'numpy.float64'>\n",
       "10               live_m2  <class 'numpy.float64'>\n",
       "11            kitchen_m2  <class 'numpy.float64'>\n",
       "12                remont    <class 'numpy.int64'>\n",
       "13            toilet_sep  <class 'numpy.float64'>\n",
       "14          toilet_unted  <class 'numpy.float64'>\n",
       "15               windows    <class 'numpy.int64'>\n",
       "16               balcony  <class 'numpy.float64'>\n",
       "17                loggia  <class 'numpy.float64'>\n",
       "18             rooms_sep  <class 'numpy.float64'>\n",
       "19           rooms_unted  <class 'numpy.float64'>\n",
       "20                 rooms  <class 'numpy.float64'>\n",
       "21               ceiling  <class 'numpy.float64'>\n",
       "22               g_chute    <class 'numpy.int64'>\n",
       "23            metro_walk  <class 'numpy.float64'>\n",
       "24               parking    <class 'numpy.int64'>\n",
       "25                    tv    <class 'numpy.int64'>\n",
       "26          shower_cabin    <class 'numpy.int64'>\n",
       "27               bathtub    <class 'numpy.int64'>\n",
       "28             furniture    <class 'numpy.int64'>\n",
       "29                    ac    <class 'numpy.int64'>\n",
       "30             telephone    <class 'numpy.int64'>\n",
       "31       washing_machine    <class 'numpy.int64'>\n",
       "32     kitchen_furniture    <class 'numpy.int64'>\n",
       "33                  frig    <class 'numpy.int64'>\n",
       "34              internet    <class 'numpy.int64'>\n",
       "35            dishwasher    <class 'numpy.int64'>\n",
       "36            house_type    <class 'numpy.int64'>\n",
       "37                 floor    <class 'numpy.int64'>\n",
       "38             tot_floor    <class 'numpy.int64'>\n",
       "39                floor1    <class 'numpy.int64'>\n",
       "40              floor_c1    <class 'numpy.int64'>\n",
       "41             elev_pass    <class 'numpy.int64'>\n",
       "42             elev_serv    <class 'numpy.int64'>\n",
       "43                 child    <class 'numpy.int64'>\n",
       "44                animal    <class 'numpy.int64'>"
      ]
     },
     "execution_count": 782,
     "metadata": {},
     "output_type": "execute_result"
    }
   ],
   "source": [
    "column_type(data)"
   ]
  },
  {
   "cell_type": "code",
   "execution_count": 783,
   "metadata": {},
   "outputs": [],
   "source": [
    "data['total_m2_x05'] = data['total_m2'] ** 0.5\n",
    "data['total_m2_x2'] = data['total_m2'] ** 2"
   ]
  },
  {
   "cell_type": "code",
   "execution_count": 784,
   "metadata": {},
   "outputs": [],
   "source": [
    "# оставляем для анализа только необходимые столбцы:\n",
    "data2 = data[['street', 'house', 'utilities_included',\n",
    "              'rent_length', 'total_m2', \n",
    "              'total_m2_x2', 'total_m2_x05',\n",
    "              'live_m2', 'kitchen_m2', 'remont', 'toilet_sep', \n",
    "              'toilet_unted', 'windows', 'balcony', 'loggia',\n",
    "              'rooms_sep', 'rooms_unted', 'deposit', 'price_advance',\n",
    "              'ceiling', 'g_chute', 'metro_walk', 'parking',\n",
    "              'tv', 'shower_cabin', 'shower_cabin', 'bathtub',\n",
    "              'furniture', 'ac', 'telephone', 'washing_machine',\n",
    "              'kitchen_furniture', 'frig', 'internet', 'dishwasher',\n",
    "              'floor', 'tot_floor', 'house_type',\n",
    "              'floor1', 'floor_c1', 'rooms', 'elev_serv', 'elev_pass',\n",
    "              'animal', 'child', \n",
    "              'price']]\n",
    "\n",
    "# заодно все сохраняем:\n",
    "# --- ---  save it here -----------------\n"
   ]
  },
  {
   "cell_type": "code",
   "execution_count": 785,
   "metadata": {},
   "outputs": [],
   "source": [
    "# комплект от таблицы корреляции\n",
    "\n",
    "data_corr = data[['bathtub', \n",
    "                  'ac', 'dishwasher','ceiling','rooms',\n",
    "                  'total_m2', 'toilet_unted','parking',\n",
    "                  'remont', 'windows', 'price'\n",
    "                  ]]\n",
    "\n",
    "              #'street', 'house', 'utilities_included',\n",
    "            #   'rent_length', 'total_m2', \n",
    "            #   'total_m2_x2', 'total_m2_x05',\n",
    "            #   'live_m2', 'kitchen_m2', 'remont', 'toilet_sep', \n",
    "            #   'toilet_unted', 'windows', 'balcony', 'loggia',\n",
    "            #   'rooms_sep', 'rooms_unted', 'deposit', 'price_advance',\n",
    "            #   'ceiling', 'g_chute', 'metro_walk', 'parking',\n",
    "            #   'tv',  'shower_cabin', 'bathtub',\n",
    "            #   'furniture',  'telephone', 'washing_machine',\n",
    "            #   'kitchen_furniture', 'frig', 'internet', \n",
    "            #   'floor', 'tot_floor', 'house_type',\n",
    "            #   'floor1', 'floor_c1', 'rooms',\n",
    "            #   'price']]"
   ]
  },
  {
   "cell_type": "code",
   "execution_count": 786,
   "metadata": {},
   "outputs": [],
   "source": [
    "#data2 = data_corr.copy()"
   ]
  },
  {
   "cell_type": "code",
   "execution_count": 787,
   "metadata": {},
   "outputs": [
    {
     "data": {
      "text/html": [
       "<div>\n",
       "<style scoped>\n",
       "    .dataframe tbody tr th:only-of-type {\n",
       "        vertical-align: middle;\n",
       "    }\n",
       "\n",
       "    .dataframe tbody tr th {\n",
       "        vertical-align: top;\n",
       "    }\n",
       "\n",
       "    .dataframe thead th {\n",
       "        text-align: right;\n",
       "    }\n",
       "</style>\n",
       "<table border=\"1\" class=\"dataframe\">\n",
       "  <thead>\n",
       "    <tr style=\"text-align: right;\">\n",
       "      <th></th>\n",
       "      <th>street</th>\n",
       "      <th>house</th>\n",
       "      <th>utilities_included</th>\n",
       "      <th>rent_length</th>\n",
       "      <th>total_m2</th>\n",
       "      <th>total_m2_x2</th>\n",
       "      <th>total_m2_x05</th>\n",
       "      <th>live_m2</th>\n",
       "      <th>kitchen_m2</th>\n",
       "      <th>remont</th>\n",
       "      <th>...</th>\n",
       "      <th>tot_floor</th>\n",
       "      <th>house_type</th>\n",
       "      <th>floor1</th>\n",
       "      <th>floor_c1</th>\n",
       "      <th>rooms</th>\n",
       "      <th>elev_serv</th>\n",
       "      <th>elev_pass</th>\n",
       "      <th>animal</th>\n",
       "      <th>child</th>\n",
       "      <th>price</th>\n",
       "    </tr>\n",
       "  </thead>\n",
       "  <tbody>\n",
       "    <tr>\n",
       "      <th>0</th>\n",
       "      <td>1579</td>\n",
       "      <td>877</td>\n",
       "      <td>1</td>\n",
       "      <td>12.0</td>\n",
       "      <td>200.0</td>\n",
       "      <td>40000.0</td>\n",
       "      <td>14.142136</td>\n",
       "      <td>145.0</td>\n",
       "      <td>20.0</td>\n",
       "      <td>1</td>\n",
       "      <td>...</td>\n",
       "      <td>16</td>\n",
       "      <td>3</td>\n",
       "      <td>0</td>\n",
       "      <td>4</td>\n",
       "      <td>4.0</td>\n",
       "      <td>1</td>\n",
       "      <td>4</td>\n",
       "      <td>1</td>\n",
       "      <td>1</td>\n",
       "      <td>500000.0</td>\n",
       "    </tr>\n",
       "    <tr>\n",
       "      <th>1</th>\n",
       "      <td>1579</td>\n",
       "      <td>877</td>\n",
       "      <td>1</td>\n",
       "      <td>12.0</td>\n",
       "      <td>198.0</td>\n",
       "      <td>39204.0</td>\n",
       "      <td>14.071247</td>\n",
       "      <td>95.0</td>\n",
       "      <td>18.0</td>\n",
       "      <td>1</td>\n",
       "      <td>...</td>\n",
       "      <td>16</td>\n",
       "      <td>3</td>\n",
       "      <td>0</td>\n",
       "      <td>4</td>\n",
       "      <td>4.0</td>\n",
       "      <td>1</td>\n",
       "      <td>1</td>\n",
       "      <td>0</td>\n",
       "      <td>1</td>\n",
       "      <td>500000.0</td>\n",
       "    </tr>\n",
       "    <tr>\n",
       "      <th>2</th>\n",
       "      <td>1579</td>\n",
       "      <td>877</td>\n",
       "      <td>0</td>\n",
       "      <td>12.0</td>\n",
       "      <td>200.0</td>\n",
       "      <td>40000.0</td>\n",
       "      <td>14.142136</td>\n",
       "      <td>116.0</td>\n",
       "      <td>4.0</td>\n",
       "      <td>2</td>\n",
       "      <td>...</td>\n",
       "      <td>16</td>\n",
       "      <td>3</td>\n",
       "      <td>0</td>\n",
       "      <td>4</td>\n",
       "      <td>4.0</td>\n",
       "      <td>0</td>\n",
       "      <td>1</td>\n",
       "      <td>0</td>\n",
       "      <td>1</td>\n",
       "      <td>500000.0</td>\n",
       "    </tr>\n",
       "    <tr>\n",
       "      <th>3</th>\n",
       "      <td>1180</td>\n",
       "      <td>729</td>\n",
       "      <td>0</td>\n",
       "      <td>12.0</td>\n",
       "      <td>170.0</td>\n",
       "      <td>28900.0</td>\n",
       "      <td>13.038405</td>\n",
       "      <td>95.0</td>\n",
       "      <td>17.0</td>\n",
       "      <td>2</td>\n",
       "      <td>...</td>\n",
       "      <td>6</td>\n",
       "      <td>2</td>\n",
       "      <td>0</td>\n",
       "      <td>4</td>\n",
       "      <td>4.0</td>\n",
       "      <td>0</td>\n",
       "      <td>1</td>\n",
       "      <td>1</td>\n",
       "      <td>0</td>\n",
       "      <td>400000.0</td>\n",
       "    </tr>\n",
       "    <tr>\n",
       "      <th>4</th>\n",
       "      <td>1579</td>\n",
       "      <td>400</td>\n",
       "      <td>1</td>\n",
       "      <td>12.0</td>\n",
       "      <td>58.0</td>\n",
       "      <td>3364.0</td>\n",
       "      <td>7.615773</td>\n",
       "      <td>38.0</td>\n",
       "      <td>5.0</td>\n",
       "      <td>2</td>\n",
       "      <td>...</td>\n",
       "      <td>26</td>\n",
       "      <td>4</td>\n",
       "      <td>0</td>\n",
       "      <td>2</td>\n",
       "      <td>2.0</td>\n",
       "      <td>1</td>\n",
       "      <td>1</td>\n",
       "      <td>0</td>\n",
       "      <td>0</td>\n",
       "      <td>225000.0</td>\n",
       "    </tr>\n",
       "  </tbody>\n",
       "</table>\n",
       "<p>5 rows × 46 columns</p>\n",
       "</div>"
      ],
      "text/plain": [
       "   street  house  utilities_included  rent_length  total_m2  total_m2_x2  \\\n",
       "0    1579    877                   1         12.0     200.0      40000.0   \n",
       "1    1579    877                   1         12.0     198.0      39204.0   \n",
       "2    1579    877                   0         12.0     200.0      40000.0   \n",
       "3    1180    729                   0         12.0     170.0      28900.0   \n",
       "4    1579    400                   1         12.0      58.0       3364.0   \n",
       "\n",
       "   total_m2_x05  live_m2  kitchen_m2  remont  ...  tot_floor  house_type  \\\n",
       "0     14.142136    145.0        20.0       1  ...         16           3   \n",
       "1     14.071247     95.0        18.0       1  ...         16           3   \n",
       "2     14.142136    116.0         4.0       2  ...         16           3   \n",
       "3     13.038405     95.0        17.0       2  ...          6           2   \n",
       "4      7.615773     38.0         5.0       2  ...         26           4   \n",
       "\n",
       "   floor1  floor_c1  rooms  elev_serv  elev_pass  animal  child     price  \n",
       "0       0         4    4.0          1          4       1      1  500000.0  \n",
       "1       0         4    4.0          1          1       0      1  500000.0  \n",
       "2       0         4    4.0          0          1       0      1  500000.0  \n",
       "3       0         4    4.0          0          1       1      0  400000.0  \n",
       "4       0         2    2.0          1          1       0      0  225000.0  \n",
       "\n",
       "[5 rows x 46 columns]"
      ]
     },
     "execution_count": 787,
     "metadata": {},
     "output_type": "execute_result"
    }
   ],
   "source": [
    "# смотрим на массив:\n",
    "data2.head()"
   ]
  },
  {
   "cell_type": "code",
   "execution_count": 788,
   "metadata": {},
   "outputs": [
    {
     "data": {
      "text/html": [
       "<div>\n",
       "<style scoped>\n",
       "    .dataframe tbody tr th:only-of-type {\n",
       "        vertical-align: middle;\n",
       "    }\n",
       "\n",
       "    .dataframe tbody tr th {\n",
       "        vertical-align: top;\n",
       "    }\n",
       "\n",
       "    .dataframe thead th {\n",
       "        text-align: right;\n",
       "    }\n",
       "</style>\n",
       "<table border=\"1\" class=\"dataframe\">\n",
       "  <thead>\n",
       "    <tr style=\"text-align: right;\">\n",
       "      <th></th>\n",
       "      <th>street</th>\n",
       "      <th>house</th>\n",
       "      <th>utilities_included</th>\n",
       "      <th>rent_length</th>\n",
       "      <th>total_m2</th>\n",
       "      <th>total_m2_x2</th>\n",
       "      <th>total_m2_x05</th>\n",
       "      <th>live_m2</th>\n",
       "      <th>kitchen_m2</th>\n",
       "      <th>remont</th>\n",
       "      <th>...</th>\n",
       "      <th>tot_floor</th>\n",
       "      <th>house_type</th>\n",
       "      <th>floor1</th>\n",
       "      <th>floor_c1</th>\n",
       "      <th>rooms</th>\n",
       "      <th>elev_serv</th>\n",
       "      <th>elev_pass</th>\n",
       "      <th>animal</th>\n",
       "      <th>child</th>\n",
       "      <th>price</th>\n",
       "    </tr>\n",
       "  </thead>\n",
       "  <tbody>\n",
       "    <tr>\n",
       "      <th>count</th>\n",
       "      <td>19530.000000</td>\n",
       "      <td>19530.000000</td>\n",
       "      <td>19530.000000</td>\n",
       "      <td>19530.000000</td>\n",
       "      <td>19530.000000</td>\n",
       "      <td>19530.000000</td>\n",
       "      <td>19530.000000</td>\n",
       "      <td>19530.000000</td>\n",
       "      <td>19530.000000</td>\n",
       "      <td>19530.000000</td>\n",
       "      <td>...</td>\n",
       "      <td>19530.00000</td>\n",
       "      <td>19530.000000</td>\n",
       "      <td>19530.000000</td>\n",
       "      <td>19530.000000</td>\n",
       "      <td>19530.000000</td>\n",
       "      <td>19530.000000</td>\n",
       "      <td>19530.000000</td>\n",
       "      <td>19530.000000</td>\n",
       "      <td>19530.000000</td>\n",
       "      <td>1.953000e+04</td>\n",
       "    </tr>\n",
       "    <tr>\n",
       "      <th>mean</th>\n",
       "      <td>875.575627</td>\n",
       "      <td>988.377727</td>\n",
       "      <td>0.891551</td>\n",
       "      <td>11.748387</td>\n",
       "      <td>63.685873</td>\n",
       "      <td>6373.081094</td>\n",
       "      <td>7.641454</td>\n",
       "      <td>41.772002</td>\n",
       "      <td>11.622524</td>\n",
       "      <td>1.963902</td>\n",
       "      <td>...</td>\n",
       "      <td>14.47445</td>\n",
       "      <td>3.661086</td>\n",
       "      <td>0.055760</td>\n",
       "      <td>4.903687</td>\n",
       "      <td>2.003328</td>\n",
       "      <td>0.424526</td>\n",
       "      <td>1.384127</td>\n",
       "      <td>0.318433</td>\n",
       "      <td>0.740092</td>\n",
       "      <td>8.846198e+04</td>\n",
       "    </tr>\n",
       "    <tr>\n",
       "      <th>std</th>\n",
       "      <td>471.502954</td>\n",
       "      <td>555.721890</td>\n",
       "      <td>0.310954</td>\n",
       "      <td>1.483685</td>\n",
       "      <td>48.138439</td>\n",
       "      <td>18982.846448</td>\n",
       "      <td>2.300940</td>\n",
       "      <td>33.056600</td>\n",
       "      <td>6.335750</td>\n",
       "      <td>1.020291</td>\n",
       "      <td>...</td>\n",
       "      <td>9.07692</td>\n",
       "      <td>1.578631</td>\n",
       "      <td>0.229464</td>\n",
       "      <td>4.554470</td>\n",
       "      <td>1.006833</td>\n",
       "      <td>0.664193</td>\n",
       "      <td>1.166779</td>\n",
       "      <td>0.465880</td>\n",
       "      <td>0.438595</td>\n",
       "      <td>1.360302e+05</td>\n",
       "    </tr>\n",
       "    <tr>\n",
       "      <th>min</th>\n",
       "      <td>0.000000</td>\n",
       "      <td>0.000000</td>\n",
       "      <td>0.000000</td>\n",
       "      <td>3.000000</td>\n",
       "      <td>7.000000</td>\n",
       "      <td>49.000000</td>\n",
       "      <td>2.645751</td>\n",
       "      <td>4.000000</td>\n",
       "      <td>1.000000</td>\n",
       "      <td>0.000000</td>\n",
       "      <td>...</td>\n",
       "      <td>1.00000</td>\n",
       "      <td>0.000000</td>\n",
       "      <td>0.000000</td>\n",
       "      <td>-20.000000</td>\n",
       "      <td>1.000000</td>\n",
       "      <td>0.000000</td>\n",
       "      <td>0.000000</td>\n",
       "      <td>0.000000</td>\n",
       "      <td>0.000000</td>\n",
       "      <td>1.200000e+04</td>\n",
       "    </tr>\n",
       "    <tr>\n",
       "      <th>25%</th>\n",
       "      <td>484.250000</td>\n",
       "      <td>553.000000</td>\n",
       "      <td>1.000000</td>\n",
       "      <td>12.000000</td>\n",
       "      <td>38.900000</td>\n",
       "      <td>1513.210000</td>\n",
       "      <td>6.236986</td>\n",
       "      <td>20.000000</td>\n",
       "      <td>7.000000</td>\n",
       "      <td>1.000000</td>\n",
       "      <td>...</td>\n",
       "      <td>9.00000</td>\n",
       "      <td>2.000000</td>\n",
       "      <td>0.000000</td>\n",
       "      <td>2.000000</td>\n",
       "      <td>1.000000</td>\n",
       "      <td>0.000000</td>\n",
       "      <td>1.000000</td>\n",
       "      <td>0.000000</td>\n",
       "      <td>0.000000</td>\n",
       "      <td>4.000000e+04</td>\n",
       "    </tr>\n",
       "    <tr>\n",
       "      <th>50%</th>\n",
       "      <td>850.000000</td>\n",
       "      <td>974.000000</td>\n",
       "      <td>1.000000</td>\n",
       "      <td>12.000000</td>\n",
       "      <td>49.900000</td>\n",
       "      <td>2490.010000</td>\n",
       "      <td>7.063993</td>\n",
       "      <td>32.000000</td>\n",
       "      <td>10.000000</td>\n",
       "      <td>2.000000</td>\n",
       "      <td>...</td>\n",
       "      <td>12.00000</td>\n",
       "      <td>4.000000</td>\n",
       "      <td>0.000000</td>\n",
       "      <td>3.000000</td>\n",
       "      <td>2.000000</td>\n",
       "      <td>0.000000</td>\n",
       "      <td>1.000000</td>\n",
       "      <td>0.000000</td>\n",
       "      <td>1.000000</td>\n",
       "      <td>5.000000e+04</td>\n",
       "    </tr>\n",
       "    <tr>\n",
       "      <th>75%</th>\n",
       "      <td>1275.000000</td>\n",
       "      <td>1458.000000</td>\n",
       "      <td>1.000000</td>\n",
       "      <td>12.000000</td>\n",
       "      <td>70.000000</td>\n",
       "      <td>4900.000000</td>\n",
       "      <td>8.366600</td>\n",
       "      <td>49.000000</td>\n",
       "      <td>15.000000</td>\n",
       "      <td>3.000000</td>\n",
       "      <td>...</td>\n",
       "      <td>17.00000</td>\n",
       "      <td>5.000000</td>\n",
       "      <td>0.000000</td>\n",
       "      <td>7.000000</td>\n",
       "      <td>3.000000</td>\n",
       "      <td>1.000000</td>\n",
       "      <td>2.000000</td>\n",
       "      <td>1.000000</td>\n",
       "      <td>1.000000</td>\n",
       "      <td>7.500000e+04</td>\n",
       "    </tr>\n",
       "    <tr>\n",
       "      <th>max</th>\n",
       "      <td>1733.000000</td>\n",
       "      <td>1998.000000</td>\n",
       "      <td>1.000000</td>\n",
       "      <td>12.000000</td>\n",
       "      <td>811.000000</td>\n",
       "      <td>657721.000000</td>\n",
       "      <td>28.478062</td>\n",
       "      <td>640.000000</td>\n",
       "      <td>98.000000</td>\n",
       "      <td>3.000000</td>\n",
       "      <td>...</td>\n",
       "      <td>116.00000</td>\n",
       "      <td>8.000000</td>\n",
       "      <td>1.000000</td>\n",
       "      <td>20.000000</td>\n",
       "      <td>6.000000</td>\n",
       "      <td>12.000000</td>\n",
       "      <td>60.000000</td>\n",
       "      <td>1.000000</td>\n",
       "      <td>1.000000</td>\n",
       "      <td>3.000000e+06</td>\n",
       "    </tr>\n",
       "  </tbody>\n",
       "</table>\n",
       "<p>8 rows × 46 columns</p>\n",
       "</div>"
      ],
      "text/plain": [
       "             street         house  utilities_included   rent_length  \\\n",
       "count  19530.000000  19530.000000        19530.000000  19530.000000   \n",
       "mean     875.575627    988.377727            0.891551     11.748387   \n",
       "std      471.502954    555.721890            0.310954      1.483685   \n",
       "min        0.000000      0.000000            0.000000      3.000000   \n",
       "25%      484.250000    553.000000            1.000000     12.000000   \n",
       "50%      850.000000    974.000000            1.000000     12.000000   \n",
       "75%     1275.000000   1458.000000            1.000000     12.000000   \n",
       "max     1733.000000   1998.000000            1.000000     12.000000   \n",
       "\n",
       "           total_m2    total_m2_x2  total_m2_x05       live_m2    kitchen_m2  \\\n",
       "count  19530.000000   19530.000000  19530.000000  19530.000000  19530.000000   \n",
       "mean      63.685873    6373.081094      7.641454     41.772002     11.622524   \n",
       "std       48.138439   18982.846448      2.300940     33.056600      6.335750   \n",
       "min        7.000000      49.000000      2.645751      4.000000      1.000000   \n",
       "25%       38.900000    1513.210000      6.236986     20.000000      7.000000   \n",
       "50%       49.900000    2490.010000      7.063993     32.000000     10.000000   \n",
       "75%       70.000000    4900.000000      8.366600     49.000000     15.000000   \n",
       "max      811.000000  657721.000000     28.478062    640.000000     98.000000   \n",
       "\n",
       "             remont  ...    tot_floor    house_type        floor1  \\\n",
       "count  19530.000000  ...  19530.00000  19530.000000  19530.000000   \n",
       "mean       1.963902  ...     14.47445      3.661086      0.055760   \n",
       "std        1.020291  ...      9.07692      1.578631      0.229464   \n",
       "min        0.000000  ...      1.00000      0.000000      0.000000   \n",
       "25%        1.000000  ...      9.00000      2.000000      0.000000   \n",
       "50%        2.000000  ...     12.00000      4.000000      0.000000   \n",
       "75%        3.000000  ...     17.00000      5.000000      0.000000   \n",
       "max        3.000000  ...    116.00000      8.000000      1.000000   \n",
       "\n",
       "           floor_c1         rooms     elev_serv     elev_pass        animal  \\\n",
       "count  19530.000000  19530.000000  19530.000000  19530.000000  19530.000000   \n",
       "mean       4.903687      2.003328      0.424526      1.384127      0.318433   \n",
       "std        4.554470      1.006833      0.664193      1.166779      0.465880   \n",
       "min      -20.000000      1.000000      0.000000      0.000000      0.000000   \n",
       "25%        2.000000      1.000000      0.000000      1.000000      0.000000   \n",
       "50%        3.000000      2.000000      0.000000      1.000000      0.000000   \n",
       "75%        7.000000      3.000000      1.000000      2.000000      1.000000   \n",
       "max       20.000000      6.000000     12.000000     60.000000      1.000000   \n",
       "\n",
       "              child         price  \n",
       "count  19530.000000  1.953000e+04  \n",
       "mean       0.740092  8.846198e+04  \n",
       "std        0.438595  1.360302e+05  \n",
       "min        0.000000  1.200000e+04  \n",
       "25%        0.000000  4.000000e+04  \n",
       "50%        1.000000  5.000000e+04  \n",
       "75%        1.000000  7.500000e+04  \n",
       "max        1.000000  3.000000e+06  \n",
       "\n",
       "[8 rows x 46 columns]"
      ]
     },
     "execution_count": 788,
     "metadata": {},
     "output_type": "execute_result"
    }
   ],
   "source": [
    "# посмотрим на числовые данные\n",
    "data2.describe()"
   ]
  },
  {
   "cell_type": "code",
   "execution_count": 789,
   "metadata": {},
   "outputs": [
    {
     "data": {
      "text/plain": [
       "(19530, 46)"
      ]
     },
     "execution_count": 789,
     "metadata": {},
     "output_type": "execute_result"
    }
   ],
   "source": [
    "# размеры\n",
    "data2.shape"
   ]
  },
  {
   "cell_type": "markdown",
   "metadata": {},
   "source": [
    "## Корелляционная матрица"
   ]
  },
  {
   "cell_type": "code",
   "execution_count": 790,
   "metadata": {},
   "outputs": [
    {
     "data": {
      "text/html": [
       "<div>\n",
       "<style scoped>\n",
       "    .dataframe tbody tr th:only-of-type {\n",
       "        vertical-align: middle;\n",
       "    }\n",
       "\n",
       "    .dataframe tbody tr th {\n",
       "        vertical-align: top;\n",
       "    }\n",
       "\n",
       "    .dataframe thead th {\n",
       "        text-align: right;\n",
       "    }\n",
       "</style>\n",
       "<table border=\"1\" class=\"dataframe\">\n",
       "  <thead>\n",
       "    <tr style=\"text-align: right;\">\n",
       "      <th></th>\n",
       "      <th>street</th>\n",
       "      <th>house</th>\n",
       "      <th>utilities_included</th>\n",
       "      <th>rent_length</th>\n",
       "      <th>total_m2</th>\n",
       "      <th>total_m2_x2</th>\n",
       "      <th>total_m2_x05</th>\n",
       "      <th>live_m2</th>\n",
       "      <th>kitchen_m2</th>\n",
       "      <th>remont</th>\n",
       "      <th>...</th>\n",
       "      <th>tot_floor</th>\n",
       "      <th>house_type</th>\n",
       "      <th>floor1</th>\n",
       "      <th>floor_c1</th>\n",
       "      <th>rooms</th>\n",
       "      <th>elev_serv</th>\n",
       "      <th>elev_pass</th>\n",
       "      <th>animal</th>\n",
       "      <th>child</th>\n",
       "      <th>price</th>\n",
       "    </tr>\n",
       "  </thead>\n",
       "  <tbody>\n",
       "    <tr>\n",
       "      <th>street</th>\n",
       "      <td>1.000000</td>\n",
       "      <td>-0.042841</td>\n",
       "      <td>0.010102</td>\n",
       "      <td>0.012776</td>\n",
       "      <td>-0.010465</td>\n",
       "      <td>-0.018977</td>\n",
       "      <td>-0.003819</td>\n",
       "      <td>-0.013590</td>\n",
       "      <td>-0.010130</td>\n",
       "      <td>0.031059</td>\n",
       "      <td>...</td>\n",
       "      <td>-0.030865</td>\n",
       "      <td>0.005298</td>\n",
       "      <td>0.003770</td>\n",
       "      <td>-0.002959</td>\n",
       "      <td>-0.000446</td>\n",
       "      <td>-0.006654</td>\n",
       "      <td>-0.003326</td>\n",
       "      <td>0.006480</td>\n",
       "      <td>0.015704</td>\n",
       "      <td>-0.023413</td>\n",
       "    </tr>\n",
       "    <tr>\n",
       "      <th>house</th>\n",
       "      <td>-0.042841</td>\n",
       "      <td>1.000000</td>\n",
       "      <td>-0.008997</td>\n",
       "      <td>0.010861</td>\n",
       "      <td>0.025552</td>\n",
       "      <td>0.015222</td>\n",
       "      <td>0.028992</td>\n",
       "      <td>0.029682</td>\n",
       "      <td>0.018717</td>\n",
       "      <td>-0.012161</td>\n",
       "      <td>...</td>\n",
       "      <td>-0.003345</td>\n",
       "      <td>-0.019925</td>\n",
       "      <td>-0.000551</td>\n",
       "      <td>0.000757</td>\n",
       "      <td>0.027180</td>\n",
       "      <td>0.008371</td>\n",
       "      <td>-0.007112</td>\n",
       "      <td>-0.000288</td>\n",
       "      <td>0.005271</td>\n",
       "      <td>0.002220</td>\n",
       "    </tr>\n",
       "    <tr>\n",
       "      <th>utilities_included</th>\n",
       "      <td>0.010102</td>\n",
       "      <td>-0.008997</td>\n",
       "      <td>1.000000</td>\n",
       "      <td>-0.045163</td>\n",
       "      <td>-0.276639</td>\n",
       "      <td>-0.185458</td>\n",
       "      <td>-0.282477</td>\n",
       "      <td>-0.299516</td>\n",
       "      <td>-0.196826</td>\n",
       "      <td>0.065454</td>\n",
       "      <td>...</td>\n",
       "      <td>-0.008493</td>\n",
       "      <td>-0.044836</td>\n",
       "      <td>0.015143</td>\n",
       "      <td>-0.005387</td>\n",
       "      <td>-0.238784</td>\n",
       "      <td>-0.000955</td>\n",
       "      <td>0.061476</td>\n",
       "      <td>-0.022466</td>\n",
       "      <td>0.052006</td>\n",
       "      <td>-0.290302</td>\n",
       "    </tr>\n",
       "    <tr>\n",
       "      <th>rent_length</th>\n",
       "      <td>0.012776</td>\n",
       "      <td>0.010861</td>\n",
       "      <td>-0.045163</td>\n",
       "      <td>1.000000</td>\n",
       "      <td>0.053451</td>\n",
       "      <td>0.028363</td>\n",
       "      <td>0.066256</td>\n",
       "      <td>0.040110</td>\n",
       "      <td>0.010486</td>\n",
       "      <td>-0.001129</td>\n",
       "      <td>...</td>\n",
       "      <td>-0.002804</td>\n",
       "      <td>0.025176</td>\n",
       "      <td>-0.030531</td>\n",
       "      <td>-0.026024</td>\n",
       "      <td>0.054549</td>\n",
       "      <td>-0.017401</td>\n",
       "      <td>-0.010986</td>\n",
       "      <td>0.012577</td>\n",
       "      <td>0.032641</td>\n",
       "      <td>0.035862</td>\n",
       "    </tr>\n",
       "    <tr>\n",
       "      <th>total_m2</th>\n",
       "      <td>-0.010465</td>\n",
       "      <td>0.025552</td>\n",
       "      <td>-0.276639</td>\n",
       "      <td>0.053451</td>\n",
       "      <td>1.000000</td>\n",
       "      <td>0.857364</td>\n",
       "      <td>0.969861</td>\n",
       "      <td>0.935229</td>\n",
       "      <td>0.599922</td>\n",
       "      <td>-0.207937</td>\n",
       "      <td>...</td>\n",
       "      <td>0.091788</td>\n",
       "      <td>-0.003111</td>\n",
       "      <td>-0.052433</td>\n",
       "      <td>-0.049354</td>\n",
       "      <td>0.795887</td>\n",
       "      <td>0.021060</td>\n",
       "      <td>0.045373</td>\n",
       "      <td>0.112456</td>\n",
       "      <td>0.110225</td>\n",
       "      <td>0.784598</td>\n",
       "    </tr>\n",
       "    <tr>\n",
       "      <th>total_m2_x2</th>\n",
       "      <td>-0.018977</td>\n",
       "      <td>0.015222</td>\n",
       "      <td>-0.185458</td>\n",
       "      <td>0.028363</td>\n",
       "      <td>0.857364</td>\n",
       "      <td>1.000000</td>\n",
       "      <td>0.721354</td>\n",
       "      <td>0.767593</td>\n",
       "      <td>0.432399</td>\n",
       "      <td>-0.120929</td>\n",
       "      <td>...</td>\n",
       "      <td>0.029014</td>\n",
       "      <td>-0.012903</td>\n",
       "      <td>-0.004234</td>\n",
       "      <td>-0.001021</td>\n",
       "      <td>0.515699</td>\n",
       "      <td>0.000531</td>\n",
       "      <td>0.011892</td>\n",
       "      <td>0.074817</td>\n",
       "      <td>0.049129</td>\n",
       "      <td>0.678785</td>\n",
       "    </tr>\n",
       "    <tr>\n",
       "      <th>total_m2_x05</th>\n",
       "      <td>-0.003819</td>\n",
       "      <td>0.028992</td>\n",
       "      <td>-0.282477</td>\n",
       "      <td>0.066256</td>\n",
       "      <td>0.969861</td>\n",
       "      <td>0.721354</td>\n",
       "      <td>1.000000</td>\n",
       "      <td>0.919956</td>\n",
       "      <td>0.614219</td>\n",
       "      <td>-0.227063</td>\n",
       "      <td>...</td>\n",
       "      <td>0.123222</td>\n",
       "      <td>0.006388</td>\n",
       "      <td>-0.079724</td>\n",
       "      <td>-0.081423</td>\n",
       "      <td>0.862942</td>\n",
       "      <td>0.030308</td>\n",
       "      <td>0.062748</td>\n",
       "      <td>0.118894</td>\n",
       "      <td>0.144401</td>\n",
       "      <td>0.740470</td>\n",
       "    </tr>\n",
       "    <tr>\n",
       "      <th>live_m2</th>\n",
       "      <td>-0.013590</td>\n",
       "      <td>0.029682</td>\n",
       "      <td>-0.299516</td>\n",
       "      <td>0.040110</td>\n",
       "      <td>0.935229</td>\n",
       "      <td>0.767593</td>\n",
       "      <td>0.919956</td>\n",
       "      <td>1.000000</td>\n",
       "      <td>0.589922</td>\n",
       "      <td>-0.211636</td>\n",
       "      <td>...</td>\n",
       "      <td>0.075285</td>\n",
       "      <td>-0.015394</td>\n",
       "      <td>-0.045267</td>\n",
       "      <td>-0.036566</td>\n",
       "      <td>0.802212</td>\n",
       "      <td>-0.003545</td>\n",
       "      <td>0.042752</td>\n",
       "      <td>0.123040</td>\n",
       "      <td>0.097685</td>\n",
       "      <td>0.766856</td>\n",
       "    </tr>\n",
       "    <tr>\n",
       "      <th>kitchen_m2</th>\n",
       "      <td>-0.010130</td>\n",
       "      <td>0.018717</td>\n",
       "      <td>-0.196826</td>\n",
       "      <td>0.010486</td>\n",
       "      <td>0.599922</td>\n",
       "      <td>0.432399</td>\n",
       "      <td>0.614219</td>\n",
       "      <td>0.589922</td>\n",
       "      <td>1.000000</td>\n",
       "      <td>-0.198411</td>\n",
       "      <td>...</td>\n",
       "      <td>0.236108</td>\n",
       "      <td>0.017705</td>\n",
       "      <td>-0.085571</td>\n",
       "      <td>-0.117770</td>\n",
       "      <td>0.445209</td>\n",
       "      <td>0.126653</td>\n",
       "      <td>0.152802</td>\n",
       "      <td>0.035907</td>\n",
       "      <td>-0.002268</td>\n",
       "      <td>0.521398</td>\n",
       "    </tr>\n",
       "    <tr>\n",
       "      <th>remont</th>\n",
       "      <td>0.031059</td>\n",
       "      <td>-0.012161</td>\n",
       "      <td>0.065454</td>\n",
       "      <td>-0.001129</td>\n",
       "      <td>-0.207937</td>\n",
       "      <td>-0.120929</td>\n",
       "      <td>-0.227063</td>\n",
       "      <td>-0.211636</td>\n",
       "      <td>-0.198411</td>\n",
       "      <td>1.000000</td>\n",
       "      <td>...</td>\n",
       "      <td>-0.149290</td>\n",
       "      <td>0.011511</td>\n",
       "      <td>0.042280</td>\n",
       "      <td>0.053599</td>\n",
       "      <td>-0.189102</td>\n",
       "      <td>-0.209057</td>\n",
       "      <td>-0.044527</td>\n",
       "      <td>-0.003394</td>\n",
       "      <td>0.008326</td>\n",
       "      <td>-0.221492</td>\n",
       "    </tr>\n",
       "    <tr>\n",
       "      <th>toilet_sep</th>\n",
       "      <td>0.010407</td>\n",
       "      <td>-0.006162</td>\n",
       "      <td>0.058568</td>\n",
       "      <td>0.016893</td>\n",
       "      <td>0.143638</td>\n",
       "      <td>0.077250</td>\n",
       "      <td>0.180628</td>\n",
       "      <td>0.134003</td>\n",
       "      <td>0.067006</td>\n",
       "      <td>0.037647</td>\n",
       "      <td>...</td>\n",
       "      <td>0.003544</td>\n",
       "      <td>0.076397</td>\n",
       "      <td>-0.022191</td>\n",
       "      <td>-0.037682</td>\n",
       "      <td>0.221370</td>\n",
       "      <td>-0.033387</td>\n",
       "      <td>0.075599</td>\n",
       "      <td>0.013577</td>\n",
       "      <td>0.102276</td>\n",
       "      <td>0.073413</td>\n",
       "    </tr>\n",
       "    <tr>\n",
       "      <th>toilet_unted</th>\n",
       "      <td>-0.026950</td>\n",
       "      <td>0.021266</td>\n",
       "      <td>-0.191651</td>\n",
       "      <td>0.008988</td>\n",
       "      <td>0.438410</td>\n",
       "      <td>0.350430</td>\n",
       "      <td>0.405871</td>\n",
       "      <td>0.415877</td>\n",
       "      <td>0.324137</td>\n",
       "      <td>-0.178630</td>\n",
       "      <td>...</td>\n",
       "      <td>0.088371</td>\n",
       "      <td>-0.068816</td>\n",
       "      <td>-0.006495</td>\n",
       "      <td>0.009371</td>\n",
       "      <td>0.275839</td>\n",
       "      <td>0.083555</td>\n",
       "      <td>-0.021355</td>\n",
       "      <td>0.068330</td>\n",
       "      <td>-0.014755</td>\n",
       "      <td>0.414692</td>\n",
       "    </tr>\n",
       "    <tr>\n",
       "      <th>windows</th>\n",
       "      <td>-0.004656</td>\n",
       "      <td>0.008562</td>\n",
       "      <td>-0.063578</td>\n",
       "      <td>-0.007262</td>\n",
       "      <td>0.254535</td>\n",
       "      <td>0.143231</td>\n",
       "      <td>0.284739</td>\n",
       "      <td>0.240816</td>\n",
       "      <td>0.150270</td>\n",
       "      <td>-0.104908</td>\n",
       "      <td>...</td>\n",
       "      <td>0.066821</td>\n",
       "      <td>-0.004279</td>\n",
       "      <td>-0.050260</td>\n",
       "      <td>-0.066209</td>\n",
       "      <td>0.278923</td>\n",
       "      <td>0.061490</td>\n",
       "      <td>0.013828</td>\n",
       "      <td>0.064483</td>\n",
       "      <td>0.083255</td>\n",
       "      <td>0.193492</td>\n",
       "    </tr>\n",
       "    <tr>\n",
       "      <th>balcony</th>\n",
       "      <td>-0.022622</td>\n",
       "      <td>-0.002191</td>\n",
       "      <td>-0.076180</td>\n",
       "      <td>-0.022026</td>\n",
       "      <td>0.084289</td>\n",
       "      <td>0.068432</td>\n",
       "      <td>0.070401</td>\n",
       "      <td>0.115473</td>\n",
       "      <td>0.037217</td>\n",
       "      <td>-0.062133</td>\n",
       "      <td>...</td>\n",
       "      <td>-0.105286</td>\n",
       "      <td>-0.096510</td>\n",
       "      <td>0.080442</td>\n",
       "      <td>0.141586</td>\n",
       "      <td>0.114347</td>\n",
       "      <td>-0.071271</td>\n",
       "      <td>-0.103552</td>\n",
       "      <td>0.048918</td>\n",
       "      <td>-0.015961</td>\n",
       "      <td>0.114671</td>\n",
       "    </tr>\n",
       "    <tr>\n",
       "      <th>loggia</th>\n",
       "      <td>0.018922</td>\n",
       "      <td>0.003890</td>\n",
       "      <td>0.083580</td>\n",
       "      <td>0.021796</td>\n",
       "      <td>0.050803</td>\n",
       "      <td>0.021436</td>\n",
       "      <td>0.075868</td>\n",
       "      <td>0.009472</td>\n",
       "      <td>0.052921</td>\n",
       "      <td>0.032616</td>\n",
       "      <td>...</td>\n",
       "      <td>0.115643</td>\n",
       "      <td>0.113011</td>\n",
       "      <td>-0.109840</td>\n",
       "      <td>-0.178111</td>\n",
       "      <td>0.029563</td>\n",
       "      <td>0.086305</td>\n",
       "      <td>0.123967</td>\n",
       "      <td>-0.018028</td>\n",
       "      <td>0.060293</td>\n",
       "      <td>-0.038318</td>\n",
       "    </tr>\n",
       "    <tr>\n",
       "      <th>rooms_sep</th>\n",
       "      <td>0.000843</td>\n",
       "      <td>0.022375</td>\n",
       "      <td>-0.235902</td>\n",
       "      <td>0.054378</td>\n",
       "      <td>0.776502</td>\n",
       "      <td>0.503632</td>\n",
       "      <td>0.839357</td>\n",
       "      <td>0.783248</td>\n",
       "      <td>0.462315</td>\n",
       "      <td>-0.177912</td>\n",
       "      <td>...</td>\n",
       "      <td>0.028983</td>\n",
       "      <td>0.004029</td>\n",
       "      <td>-0.053145</td>\n",
       "      <td>-0.039025</td>\n",
       "      <td>0.948431</td>\n",
       "      <td>-0.016964</td>\n",
       "      <td>0.017593</td>\n",
       "      <td>0.122334</td>\n",
       "      <td>0.191585</td>\n",
       "      <td>0.568223</td>\n",
       "    </tr>\n",
       "    <tr>\n",
       "      <th>rooms_unted</th>\n",
       "      <td>-0.003966</td>\n",
       "      <td>0.017686</td>\n",
       "      <td>-0.035916</td>\n",
       "      <td>0.006725</td>\n",
       "      <td>0.149413</td>\n",
       "      <td>0.095316</td>\n",
       "      <td>0.169798</td>\n",
       "      <td>0.148857</td>\n",
       "      <td>-0.001310</td>\n",
       "      <td>-0.055498</td>\n",
       "      <td>...</td>\n",
       "      <td>-0.060748</td>\n",
       "      <td>-0.067254</td>\n",
       "      <td>0.009427</td>\n",
       "      <td>0.033000</td>\n",
       "      <td>0.270384</td>\n",
       "      <td>-0.049472</td>\n",
       "      <td>-0.068401</td>\n",
       "      <td>0.059555</td>\n",
       "      <td>0.083065</td>\n",
       "      <td>0.096319</td>\n",
       "    </tr>\n",
       "    <tr>\n",
       "      <th>deposit</th>\n",
       "      <td>0.005244</td>\n",
       "      <td>0.005983</td>\n",
       "      <td>0.001966</td>\n",
       "      <td>0.001311</td>\n",
       "      <td>-0.001965</td>\n",
       "      <td>-0.000404</td>\n",
       "      <td>-0.002642</td>\n",
       "      <td>-0.004090</td>\n",
       "      <td>0.001504</td>\n",
       "      <td>-0.000190</td>\n",
       "      <td>...</td>\n",
       "      <td>0.008440</td>\n",
       "      <td>0.001515</td>\n",
       "      <td>-0.001795</td>\n",
       "      <td>-0.004589</td>\n",
       "      <td>-0.006027</td>\n",
       "      <td>-0.004503</td>\n",
       "      <td>0.003895</td>\n",
       "      <td>-0.004734</td>\n",
       "      <td>-0.012081</td>\n",
       "      <td>-0.000051</td>\n",
       "    </tr>\n",
       "    <tr>\n",
       "      <th>price_advance</th>\n",
       "      <td>-0.006463</td>\n",
       "      <td>-0.008108</td>\n",
       "      <td>0.014394</td>\n",
       "      <td>-0.007801</td>\n",
       "      <td>-0.001485</td>\n",
       "      <td>-0.002722</td>\n",
       "      <td>-0.000023</td>\n",
       "      <td>0.006090</td>\n",
       "      <td>0.002558</td>\n",
       "      <td>-0.011940</td>\n",
       "      <td>...</td>\n",
       "      <td>0.001304</td>\n",
       "      <td>-0.013110</td>\n",
       "      <td>-0.008715</td>\n",
       "      <td>-0.007099</td>\n",
       "      <td>0.004324</td>\n",
       "      <td>0.001256</td>\n",
       "      <td>0.004470</td>\n",
       "      <td>-0.009605</td>\n",
       "      <td>0.005732</td>\n",
       "      <td>-0.000248</td>\n",
       "    </tr>\n",
       "    <tr>\n",
       "      <th>ceiling</th>\n",
       "      <td>-0.008724</td>\n",
       "      <td>0.002949</td>\n",
       "      <td>-0.031903</td>\n",
       "      <td>-0.015123</td>\n",
       "      <td>0.211170</td>\n",
       "      <td>0.142782</td>\n",
       "      <td>0.220757</td>\n",
       "      <td>0.171838</td>\n",
       "      <td>0.099858</td>\n",
       "      <td>-0.140210</td>\n",
       "      <td>...</td>\n",
       "      <td>0.003315</td>\n",
       "      <td>0.011661</td>\n",
       "      <td>-0.018124</td>\n",
       "      <td>0.004723</td>\n",
       "      <td>0.178098</td>\n",
       "      <td>0.084939</td>\n",
       "      <td>0.028347</td>\n",
       "      <td>0.050117</td>\n",
       "      <td>0.036168</td>\n",
       "      <td>0.189144</td>\n",
       "    </tr>\n",
       "    <tr>\n",
       "      <th>g_chute</th>\n",
       "      <td>-0.048672</td>\n",
       "      <td>0.013669</td>\n",
       "      <td>-0.160711</td>\n",
       "      <td>-0.027040</td>\n",
       "      <td>0.089672</td>\n",
       "      <td>0.082555</td>\n",
       "      <td>0.072363</td>\n",
       "      <td>0.114735</td>\n",
       "      <td>0.080952</td>\n",
       "      <td>-0.207373</td>\n",
       "      <td>...</td>\n",
       "      <td>-0.031781</td>\n",
       "      <td>-0.092289</td>\n",
       "      <td>0.067971</td>\n",
       "      <td>0.128517</td>\n",
       "      <td>0.089234</td>\n",
       "      <td>0.100556</td>\n",
       "      <td>-0.197822</td>\n",
       "      <td>0.029008</td>\n",
       "      <td>-0.035115</td>\n",
       "      <td>0.128584</td>\n",
       "    </tr>\n",
       "    <tr>\n",
       "      <th>metro_walk</th>\n",
       "      <td>-0.002015</td>\n",
       "      <td>-0.006102</td>\n",
       "      <td>0.001092</td>\n",
       "      <td>0.001640</td>\n",
       "      <td>-0.009603</td>\n",
       "      <td>0.008647</td>\n",
       "      <td>-0.019579</td>\n",
       "      <td>-0.017665</td>\n",
       "      <td>-0.009935</td>\n",
       "      <td>0.037015</td>\n",
       "      <td>...</td>\n",
       "      <td>-0.003656</td>\n",
       "      <td>0.036216</td>\n",
       "      <td>0.018431</td>\n",
       "      <td>0.009705</td>\n",
       "      <td>-0.022623</td>\n",
       "      <td>0.020267</td>\n",
       "      <td>-0.027862</td>\n",
       "      <td>0.000907</td>\n",
       "      <td>0.021526</td>\n",
       "      <td>-0.033128</td>\n",
       "    </tr>\n",
       "    <tr>\n",
       "      <th>parking</th>\n",
       "      <td>-0.004677</td>\n",
       "      <td>0.012070</td>\n",
       "      <td>-0.125113</td>\n",
       "      <td>0.017527</td>\n",
       "      <td>0.198681</td>\n",
       "      <td>0.126745</td>\n",
       "      <td>0.210770</td>\n",
       "      <td>0.196843</td>\n",
       "      <td>0.211651</td>\n",
       "      <td>-0.211397</td>\n",
       "      <td>...</td>\n",
       "      <td>0.193538</td>\n",
       "      <td>0.006425</td>\n",
       "      <td>-0.038862</td>\n",
       "      <td>-0.064859</td>\n",
       "      <td>0.150696</td>\n",
       "      <td>0.116930</td>\n",
       "      <td>0.064465</td>\n",
       "      <td>-0.010124</td>\n",
       "      <td>-0.039405</td>\n",
       "      <td>0.199651</td>\n",
       "    </tr>\n",
       "    <tr>\n",
       "      <th>tv</th>\n",
       "      <td>-0.004528</td>\n",
       "      <td>0.008164</td>\n",
       "      <td>-0.144403</td>\n",
       "      <td>0.008542</td>\n",
       "      <td>0.127240</td>\n",
       "      <td>0.075824</td>\n",
       "      <td>0.142360</td>\n",
       "      <td>0.127796</td>\n",
       "      <td>0.129025</td>\n",
       "      <td>0.212651</td>\n",
       "      <td>...</td>\n",
       "      <td>0.054789</td>\n",
       "      <td>0.006374</td>\n",
       "      <td>-0.029524</td>\n",
       "      <td>-0.033418</td>\n",
       "      <td>0.107241</td>\n",
       "      <td>-0.017138</td>\n",
       "      <td>0.037739</td>\n",
       "      <td>0.029862</td>\n",
       "      <td>0.027655</td>\n",
       "      <td>0.118124</td>\n",
       "    </tr>\n",
       "    <tr>\n",
       "      <th>shower_cabin</th>\n",
       "      <td>-0.021914</td>\n",
       "      <td>0.017003</td>\n",
       "      <td>-0.068564</td>\n",
       "      <td>-0.020361</td>\n",
       "      <td>0.351468</td>\n",
       "      <td>0.236086</td>\n",
       "      <td>0.347391</td>\n",
       "      <td>0.357079</td>\n",
       "      <td>0.295587</td>\n",
       "      <td>-0.251944</td>\n",
       "      <td>...</td>\n",
       "      <td>0.108409</td>\n",
       "      <td>-0.043510</td>\n",
       "      <td>-0.013217</td>\n",
       "      <td>-0.008574</td>\n",
       "      <td>0.285270</td>\n",
       "      <td>0.111506</td>\n",
       "      <td>0.054464</td>\n",
       "      <td>0.062238</td>\n",
       "      <td>-0.009588</td>\n",
       "      <td>0.346297</td>\n",
       "    </tr>\n",
       "    <tr>\n",
       "      <th>shower_cabin</th>\n",
       "      <td>-0.021914</td>\n",
       "      <td>0.017003</td>\n",
       "      <td>-0.068564</td>\n",
       "      <td>-0.020361</td>\n",
       "      <td>0.351468</td>\n",
       "      <td>0.236086</td>\n",
       "      <td>0.347391</td>\n",
       "      <td>0.357079</td>\n",
       "      <td>0.295587</td>\n",
       "      <td>-0.251944</td>\n",
       "      <td>...</td>\n",
       "      <td>0.108409</td>\n",
       "      <td>-0.043510</td>\n",
       "      <td>-0.013217</td>\n",
       "      <td>-0.008574</td>\n",
       "      <td>0.285270</td>\n",
       "      <td>0.111506</td>\n",
       "      <td>0.054464</td>\n",
       "      <td>0.062238</td>\n",
       "      <td>-0.009588</td>\n",
       "      <td>0.346297</td>\n",
       "    </tr>\n",
       "    <tr>\n",
       "      <th>bathtub</th>\n",
       "      <td>0.013479</td>\n",
       "      <td>-0.001074</td>\n",
       "      <td>0.294617</td>\n",
       "      <td>0.050695</td>\n",
       "      <td>0.075162</td>\n",
       "      <td>0.035455</td>\n",
       "      <td>0.100900</td>\n",
       "      <td>0.040945</td>\n",
       "      <td>0.007911</td>\n",
       "      <td>0.050045</td>\n",
       "      <td>...</td>\n",
       "      <td>-0.013602</td>\n",
       "      <td>0.009393</td>\n",
       "      <td>-0.031848</td>\n",
       "      <td>-0.039944</td>\n",
       "      <td>0.079246</td>\n",
       "      <td>-0.040871</td>\n",
       "      <td>0.008896</td>\n",
       "      <td>0.055007</td>\n",
       "      <td>0.147271</td>\n",
       "      <td>0.033562</td>\n",
       "    </tr>\n",
       "    <tr>\n",
       "      <th>furniture</th>\n",
       "      <td>-0.005089</td>\n",
       "      <td>0.007141</td>\n",
       "      <td>0.167336</td>\n",
       "      <td>-0.006757</td>\n",
       "      <td>-0.054591</td>\n",
       "      <td>-0.036317</td>\n",
       "      <td>-0.055764</td>\n",
       "      <td>-0.078754</td>\n",
       "      <td>-0.075608</td>\n",
       "      <td>0.073061</td>\n",
       "      <td>...</td>\n",
       "      <td>-0.010771</td>\n",
       "      <td>-0.029787</td>\n",
       "      <td>-0.013782</td>\n",
       "      <td>-0.012608</td>\n",
       "      <td>-0.071837</td>\n",
       "      <td>-0.018811</td>\n",
       "      <td>0.001051</td>\n",
       "      <td>-0.016035</td>\n",
       "      <td>0.026859</td>\n",
       "      <td>-0.035717</td>\n",
       "    </tr>\n",
       "    <tr>\n",
       "      <th>ac</th>\n",
       "      <td>-0.017698</td>\n",
       "      <td>0.013031</td>\n",
       "      <td>-0.039531</td>\n",
       "      <td>0.016904</td>\n",
       "      <td>0.287453</td>\n",
       "      <td>0.155704</td>\n",
       "      <td>0.327103</td>\n",
       "      <td>0.284093</td>\n",
       "      <td>0.269788</td>\n",
       "      <td>-0.261477</td>\n",
       "      <td>...</td>\n",
       "      <td>0.169937</td>\n",
       "      <td>-0.020413</td>\n",
       "      <td>-0.112794</td>\n",
       "      <td>-0.148326</td>\n",
       "      <td>0.269104</td>\n",
       "      <td>0.127323</td>\n",
       "      <td>0.108260</td>\n",
       "      <td>0.054049</td>\n",
       "      <td>0.047623</td>\n",
       "      <td>0.237793</td>\n",
       "    </tr>\n",
       "    <tr>\n",
       "      <th>telephone</th>\n",
       "      <td>-0.002777</td>\n",
       "      <td>0.008986</td>\n",
       "      <td>-0.192199</td>\n",
       "      <td>0.039676</td>\n",
       "      <td>0.175463</td>\n",
       "      <td>0.115886</td>\n",
       "      <td>0.185491</td>\n",
       "      <td>0.170153</td>\n",
       "      <td>0.100350</td>\n",
       "      <td>0.038091</td>\n",
       "      <td>...</td>\n",
       "      <td>0.012789</td>\n",
       "      <td>0.009140</td>\n",
       "      <td>-0.033420</td>\n",
       "      <td>-0.018739</td>\n",
       "      <td>0.149339</td>\n",
       "      <td>0.001910</td>\n",
       "      <td>0.017974</td>\n",
       "      <td>0.137440</td>\n",
       "      <td>0.091376</td>\n",
       "      <td>0.170981</td>\n",
       "    </tr>\n",
       "    <tr>\n",
       "      <th>washing_machine</th>\n",
       "      <td>0.006459</td>\n",
       "      <td>-0.004146</td>\n",
       "      <td>0.074302</td>\n",
       "      <td>0.023196</td>\n",
       "      <td>-0.038529</td>\n",
       "      <td>-0.029782</td>\n",
       "      <td>-0.036470</td>\n",
       "      <td>-0.043338</td>\n",
       "      <td>-0.036516</td>\n",
       "      <td>0.028966</td>\n",
       "      <td>...</td>\n",
       "      <td>-0.031816</td>\n",
       "      <td>-0.005511</td>\n",
       "      <td>-0.014370</td>\n",
       "      <td>-0.008459</td>\n",
       "      <td>-0.033867</td>\n",
       "      <td>-0.001762</td>\n",
       "      <td>-0.022622</td>\n",
       "      <td>0.016826</td>\n",
       "      <td>0.107620</td>\n",
       "      <td>-0.038346</td>\n",
       "    </tr>\n",
       "    <tr>\n",
       "      <th>kitchen_furniture</th>\n",
       "      <td>0.009613</td>\n",
       "      <td>-0.000112</td>\n",
       "      <td>0.022798</td>\n",
       "      <td>-0.009654</td>\n",
       "      <td>0.013557</td>\n",
       "      <td>0.016673</td>\n",
       "      <td>0.009942</td>\n",
       "      <td>0.001436</td>\n",
       "      <td>0.023436</td>\n",
       "      <td>0.583226</td>\n",
       "      <td>...</td>\n",
       "      <td>-0.018252</td>\n",
       "      <td>-0.018910</td>\n",
       "      <td>-0.007012</td>\n",
       "      <td>-0.005878</td>\n",
       "      <td>-0.016109</td>\n",
       "      <td>-0.121893</td>\n",
       "      <td>0.032312</td>\n",
       "      <td>-0.020221</td>\n",
       "      <td>-0.022650</td>\n",
       "      <td>0.013840</td>\n",
       "    </tr>\n",
       "    <tr>\n",
       "      <th>frig</th>\n",
       "      <td>0.010389</td>\n",
       "      <td>-0.004520</td>\n",
       "      <td>-0.076618</td>\n",
       "      <td>-0.007776</td>\n",
       "      <td>0.000188</td>\n",
       "      <td>0.008143</td>\n",
       "      <td>-0.004661</td>\n",
       "      <td>0.006433</td>\n",
       "      <td>0.049615</td>\n",
       "      <td>0.602542</td>\n",
       "      <td>...</td>\n",
       "      <td>-0.018234</td>\n",
       "      <td>-0.011372</td>\n",
       "      <td>-0.009534</td>\n",
       "      <td>-0.006623</td>\n",
       "      <td>-0.026159</td>\n",
       "      <td>-0.116127</td>\n",
       "      <td>0.020753</td>\n",
       "      <td>-0.012718</td>\n",
       "      <td>-0.004946</td>\n",
       "      <td>0.005660</td>\n",
       "    </tr>\n",
       "    <tr>\n",
       "      <th>internet</th>\n",
       "      <td>0.011587</td>\n",
       "      <td>0.011466</td>\n",
       "      <td>0.152164</td>\n",
       "      <td>0.028055</td>\n",
       "      <td>0.066376</td>\n",
       "      <td>0.033872</td>\n",
       "      <td>0.077965</td>\n",
       "      <td>0.044561</td>\n",
       "      <td>0.012840</td>\n",
       "      <td>-0.165320</td>\n",
       "      <td>...</td>\n",
       "      <td>0.025759</td>\n",
       "      <td>-0.004367</td>\n",
       "      <td>-0.022996</td>\n",
       "      <td>-0.030537</td>\n",
       "      <td>0.065063</td>\n",
       "      <td>0.045916</td>\n",
       "      <td>0.022065</td>\n",
       "      <td>0.086166</td>\n",
       "      <td>0.123088</td>\n",
       "      <td>0.049716</td>\n",
       "    </tr>\n",
       "    <tr>\n",
       "      <th>dishwasher</th>\n",
       "      <td>-0.027394</td>\n",
       "      <td>0.018488</td>\n",
       "      <td>-0.124516</td>\n",
       "      <td>0.037277</td>\n",
       "      <td>0.417599</td>\n",
       "      <td>0.234847</td>\n",
       "      <td>0.470858</td>\n",
       "      <td>0.412933</td>\n",
       "      <td>0.386943</td>\n",
       "      <td>-0.299060</td>\n",
       "      <td>...</td>\n",
       "      <td>0.190266</td>\n",
       "      <td>-0.020485</td>\n",
       "      <td>-0.099636</td>\n",
       "      <td>-0.118086</td>\n",
       "      <td>0.403068</td>\n",
       "      <td>0.125782</td>\n",
       "      <td>0.096124</td>\n",
       "      <td>0.057823</td>\n",
       "      <td>0.047732</td>\n",
       "      <td>0.349051</td>\n",
       "    </tr>\n",
       "    <tr>\n",
       "      <th>floor</th>\n",
       "      <td>-0.022830</td>\n",
       "      <td>-0.006785</td>\n",
       "      <td>0.002202</td>\n",
       "      <td>-0.007058</td>\n",
       "      <td>0.084493</td>\n",
       "      <td>0.044350</td>\n",
       "      <td>0.106811</td>\n",
       "      <td>0.076429</td>\n",
       "      <td>0.173331</td>\n",
       "      <td>-0.104536</td>\n",
       "      <td>...</td>\n",
       "      <td>0.654217</td>\n",
       "      <td>0.111356</td>\n",
       "      <td>-0.264144</td>\n",
       "      <td>-0.623976</td>\n",
       "      <td>0.024994</td>\n",
       "      <td>0.268565</td>\n",
       "      <td>0.334482</td>\n",
       "      <td>-0.029946</td>\n",
       "      <td>-0.009734</td>\n",
       "      <td>0.053813</td>\n",
       "    </tr>\n",
       "    <tr>\n",
       "      <th>tot_floor</th>\n",
       "      <td>-0.030865</td>\n",
       "      <td>-0.003345</td>\n",
       "      <td>-0.008493</td>\n",
       "      <td>-0.002804</td>\n",
       "      <td>0.091788</td>\n",
       "      <td>0.029014</td>\n",
       "      <td>0.123222</td>\n",
       "      <td>0.075285</td>\n",
       "      <td>0.236108</td>\n",
       "      <td>-0.149290</td>\n",
       "      <td>...</td>\n",
       "      <td>1.000000</td>\n",
       "      <td>0.153232</td>\n",
       "      <td>-0.156966</td>\n",
       "      <td>-0.362158</td>\n",
       "      <td>0.008658</td>\n",
       "      <td>0.379018</td>\n",
       "      <td>0.461824</td>\n",
       "      <td>-0.031830</td>\n",
       "      <td>-0.024049</td>\n",
       "      <td>0.059080</td>\n",
       "    </tr>\n",
       "    <tr>\n",
       "      <th>house_type</th>\n",
       "      <td>0.005298</td>\n",
       "      <td>-0.019925</td>\n",
       "      <td>-0.044836</td>\n",
       "      <td>0.025176</td>\n",
       "      <td>-0.003111</td>\n",
       "      <td>-0.012903</td>\n",
       "      <td>0.006388</td>\n",
       "      <td>-0.015394</td>\n",
       "      <td>0.017705</td>\n",
       "      <td>0.011511</td>\n",
       "      <td>...</td>\n",
       "      <td>0.153232</td>\n",
       "      <td>1.000000</td>\n",
       "      <td>-0.065438</td>\n",
       "      <td>-0.114190</td>\n",
       "      <td>-0.017461</td>\n",
       "      <td>0.104849</td>\n",
       "      <td>0.091339</td>\n",
       "      <td>-0.009559</td>\n",
       "      <td>0.002786</td>\n",
       "      <td>-0.024629</td>\n",
       "    </tr>\n",
       "    <tr>\n",
       "      <th>floor1</th>\n",
       "      <td>0.003770</td>\n",
       "      <td>-0.000551</td>\n",
       "      <td>0.015143</td>\n",
       "      <td>-0.030531</td>\n",
       "      <td>-0.052433</td>\n",
       "      <td>-0.004234</td>\n",
       "      <td>-0.079724</td>\n",
       "      <td>-0.045267</td>\n",
       "      <td>-0.085571</td>\n",
       "      <td>0.042280</td>\n",
       "      <td>...</td>\n",
       "      <td>-0.156966</td>\n",
       "      <td>-0.065438</td>\n",
       "      <td>1.000000</td>\n",
       "      <td>0.805501</td>\n",
       "      <td>-0.048234</td>\n",
       "      <td>-0.103921</td>\n",
       "      <td>-0.113093</td>\n",
       "      <td>0.025016</td>\n",
       "      <td>0.008161</td>\n",
       "      <td>-0.022218</td>\n",
       "    </tr>\n",
       "    <tr>\n",
       "      <th>floor_c1</th>\n",
       "      <td>-0.002959</td>\n",
       "      <td>0.000757</td>\n",
       "      <td>-0.005387</td>\n",
       "      <td>-0.026024</td>\n",
       "      <td>-0.049354</td>\n",
       "      <td>-0.001021</td>\n",
       "      <td>-0.081423</td>\n",
       "      <td>-0.036566</td>\n",
       "      <td>-0.117770</td>\n",
       "      <td>0.053599</td>\n",
       "      <td>...</td>\n",
       "      <td>-0.362158</td>\n",
       "      <td>-0.114190</td>\n",
       "      <td>0.805501</td>\n",
       "      <td>1.000000</td>\n",
       "      <td>-0.027143</td>\n",
       "      <td>-0.197736</td>\n",
       "      <td>-0.229734</td>\n",
       "      <td>0.045562</td>\n",
       "      <td>0.005053</td>\n",
       "      <td>-0.004351</td>\n",
       "    </tr>\n",
       "    <tr>\n",
       "      <th>rooms</th>\n",
       "      <td>-0.000446</td>\n",
       "      <td>0.027180</td>\n",
       "      <td>-0.238784</td>\n",
       "      <td>0.054549</td>\n",
       "      <td>0.795887</td>\n",
       "      <td>0.515699</td>\n",
       "      <td>0.862942</td>\n",
       "      <td>0.802212</td>\n",
       "      <td>0.445209</td>\n",
       "      <td>-0.189102</td>\n",
       "      <td>...</td>\n",
       "      <td>0.008658</td>\n",
       "      <td>-0.017461</td>\n",
       "      <td>-0.048234</td>\n",
       "      <td>-0.027143</td>\n",
       "      <td>1.000000</td>\n",
       "      <td>-0.032053</td>\n",
       "      <td>-0.004750</td>\n",
       "      <td>0.136818</td>\n",
       "      <td>0.211030</td>\n",
       "      <td>0.578277</td>\n",
       "    </tr>\n",
       "    <tr>\n",
       "      <th>elev_serv</th>\n",
       "      <td>-0.006654</td>\n",
       "      <td>0.008371</td>\n",
       "      <td>-0.000955</td>\n",
       "      <td>-0.017401</td>\n",
       "      <td>0.021060</td>\n",
       "      <td>0.000531</td>\n",
       "      <td>0.030308</td>\n",
       "      <td>-0.003545</td>\n",
       "      <td>0.126653</td>\n",
       "      <td>-0.209057</td>\n",
       "      <td>...</td>\n",
       "      <td>0.379018</td>\n",
       "      <td>0.104849</td>\n",
       "      <td>-0.103921</td>\n",
       "      <td>-0.197736</td>\n",
       "      <td>-0.032053</td>\n",
       "      <td>1.000000</td>\n",
       "      <td>0.062785</td>\n",
       "      <td>-0.019383</td>\n",
       "      <td>0.002618</td>\n",
       "      <td>0.025046</td>\n",
       "    </tr>\n",
       "    <tr>\n",
       "      <th>elev_pass</th>\n",
       "      <td>-0.003326</td>\n",
       "      <td>-0.007112</td>\n",
       "      <td>0.061476</td>\n",
       "      <td>-0.010986</td>\n",
       "      <td>0.045373</td>\n",
       "      <td>0.011892</td>\n",
       "      <td>0.062748</td>\n",
       "      <td>0.042752</td>\n",
       "      <td>0.152802</td>\n",
       "      <td>-0.044527</td>\n",
       "      <td>...</td>\n",
       "      <td>0.461824</td>\n",
       "      <td>0.091339</td>\n",
       "      <td>-0.113093</td>\n",
       "      <td>-0.229734</td>\n",
       "      <td>-0.004750</td>\n",
       "      <td>0.062785</td>\n",
       "      <td>1.000000</td>\n",
       "      <td>-0.017416</td>\n",
       "      <td>-0.013726</td>\n",
       "      <td>0.050138</td>\n",
       "    </tr>\n",
       "    <tr>\n",
       "      <th>animal</th>\n",
       "      <td>0.006480</td>\n",
       "      <td>-0.000288</td>\n",
       "      <td>-0.022466</td>\n",
       "      <td>0.012577</td>\n",
       "      <td>0.112456</td>\n",
       "      <td>0.074817</td>\n",
       "      <td>0.118894</td>\n",
       "      <td>0.123040</td>\n",
       "      <td>0.035907</td>\n",
       "      <td>-0.003394</td>\n",
       "      <td>...</td>\n",
       "      <td>-0.031830</td>\n",
       "      <td>-0.009559</td>\n",
       "      <td>0.025016</td>\n",
       "      <td>0.045562</td>\n",
       "      <td>0.136818</td>\n",
       "      <td>-0.019383</td>\n",
       "      <td>-0.017416</td>\n",
       "      <td>1.000000</td>\n",
       "      <td>0.353689</td>\n",
       "      <td>0.095646</td>\n",
       "    </tr>\n",
       "    <tr>\n",
       "      <th>child</th>\n",
       "      <td>0.015704</td>\n",
       "      <td>0.005271</td>\n",
       "      <td>0.052006</td>\n",
       "      <td>0.032641</td>\n",
       "      <td>0.110225</td>\n",
       "      <td>0.049129</td>\n",
       "      <td>0.144401</td>\n",
       "      <td>0.097685</td>\n",
       "      <td>-0.002268</td>\n",
       "      <td>0.008326</td>\n",
       "      <td>...</td>\n",
       "      <td>-0.024049</td>\n",
       "      <td>0.002786</td>\n",
       "      <td>0.008161</td>\n",
       "      <td>0.005053</td>\n",
       "      <td>0.211030</td>\n",
       "      <td>0.002618</td>\n",
       "      <td>-0.013726</td>\n",
       "      <td>0.353689</td>\n",
       "      <td>1.000000</td>\n",
       "      <td>0.030560</td>\n",
       "    </tr>\n",
       "    <tr>\n",
       "      <th>price</th>\n",
       "      <td>-0.023413</td>\n",
       "      <td>0.002220</td>\n",
       "      <td>-0.290302</td>\n",
       "      <td>0.035862</td>\n",
       "      <td>0.784598</td>\n",
       "      <td>0.678785</td>\n",
       "      <td>0.740470</td>\n",
       "      <td>0.766856</td>\n",
       "      <td>0.521398</td>\n",
       "      <td>-0.221492</td>\n",
       "      <td>...</td>\n",
       "      <td>0.059080</td>\n",
       "      <td>-0.024629</td>\n",
       "      <td>-0.022218</td>\n",
       "      <td>-0.004351</td>\n",
       "      <td>0.578277</td>\n",
       "      <td>0.025046</td>\n",
       "      <td>0.050138</td>\n",
       "      <td>0.095646</td>\n",
       "      <td>0.030560</td>\n",
       "      <td>1.000000</td>\n",
       "    </tr>\n",
       "  </tbody>\n",
       "</table>\n",
       "<p>46 rows × 46 columns</p>\n",
       "</div>"
      ],
      "text/plain": [
       "                      street     house  utilities_included  rent_length  \\\n",
       "street              1.000000 -0.042841            0.010102     0.012776   \n",
       "house              -0.042841  1.000000           -0.008997     0.010861   \n",
       "utilities_included  0.010102 -0.008997            1.000000    -0.045163   \n",
       "rent_length         0.012776  0.010861           -0.045163     1.000000   \n",
       "total_m2           -0.010465  0.025552           -0.276639     0.053451   \n",
       "total_m2_x2        -0.018977  0.015222           -0.185458     0.028363   \n",
       "total_m2_x05       -0.003819  0.028992           -0.282477     0.066256   \n",
       "live_m2            -0.013590  0.029682           -0.299516     0.040110   \n",
       "kitchen_m2         -0.010130  0.018717           -0.196826     0.010486   \n",
       "remont              0.031059 -0.012161            0.065454    -0.001129   \n",
       "toilet_sep          0.010407 -0.006162            0.058568     0.016893   \n",
       "toilet_unted       -0.026950  0.021266           -0.191651     0.008988   \n",
       "windows            -0.004656  0.008562           -0.063578    -0.007262   \n",
       "balcony            -0.022622 -0.002191           -0.076180    -0.022026   \n",
       "loggia              0.018922  0.003890            0.083580     0.021796   \n",
       "rooms_sep           0.000843  0.022375           -0.235902     0.054378   \n",
       "rooms_unted        -0.003966  0.017686           -0.035916     0.006725   \n",
       "deposit             0.005244  0.005983            0.001966     0.001311   \n",
       "price_advance      -0.006463 -0.008108            0.014394    -0.007801   \n",
       "ceiling            -0.008724  0.002949           -0.031903    -0.015123   \n",
       "g_chute            -0.048672  0.013669           -0.160711    -0.027040   \n",
       "metro_walk         -0.002015 -0.006102            0.001092     0.001640   \n",
       "parking            -0.004677  0.012070           -0.125113     0.017527   \n",
       "tv                 -0.004528  0.008164           -0.144403     0.008542   \n",
       "shower_cabin       -0.021914  0.017003           -0.068564    -0.020361   \n",
       "shower_cabin       -0.021914  0.017003           -0.068564    -0.020361   \n",
       "bathtub             0.013479 -0.001074            0.294617     0.050695   \n",
       "furniture          -0.005089  0.007141            0.167336    -0.006757   \n",
       "ac                 -0.017698  0.013031           -0.039531     0.016904   \n",
       "telephone          -0.002777  0.008986           -0.192199     0.039676   \n",
       "washing_machine     0.006459 -0.004146            0.074302     0.023196   \n",
       "kitchen_furniture   0.009613 -0.000112            0.022798    -0.009654   \n",
       "frig                0.010389 -0.004520           -0.076618    -0.007776   \n",
       "internet            0.011587  0.011466            0.152164     0.028055   \n",
       "dishwasher         -0.027394  0.018488           -0.124516     0.037277   \n",
       "floor              -0.022830 -0.006785            0.002202    -0.007058   \n",
       "tot_floor          -0.030865 -0.003345           -0.008493    -0.002804   \n",
       "house_type          0.005298 -0.019925           -0.044836     0.025176   \n",
       "floor1              0.003770 -0.000551            0.015143    -0.030531   \n",
       "floor_c1           -0.002959  0.000757           -0.005387    -0.026024   \n",
       "rooms              -0.000446  0.027180           -0.238784     0.054549   \n",
       "elev_serv          -0.006654  0.008371           -0.000955    -0.017401   \n",
       "elev_pass          -0.003326 -0.007112            0.061476    -0.010986   \n",
       "animal              0.006480 -0.000288           -0.022466     0.012577   \n",
       "child               0.015704  0.005271            0.052006     0.032641   \n",
       "price              -0.023413  0.002220           -0.290302     0.035862   \n",
       "\n",
       "                    total_m2  total_m2_x2  total_m2_x05   live_m2  kitchen_m2  \\\n",
       "street             -0.010465    -0.018977     -0.003819 -0.013590   -0.010130   \n",
       "house               0.025552     0.015222      0.028992  0.029682    0.018717   \n",
       "utilities_included -0.276639    -0.185458     -0.282477 -0.299516   -0.196826   \n",
       "rent_length         0.053451     0.028363      0.066256  0.040110    0.010486   \n",
       "total_m2            1.000000     0.857364      0.969861  0.935229    0.599922   \n",
       "total_m2_x2         0.857364     1.000000      0.721354  0.767593    0.432399   \n",
       "total_m2_x05        0.969861     0.721354      1.000000  0.919956    0.614219   \n",
       "live_m2             0.935229     0.767593      0.919956  1.000000    0.589922   \n",
       "kitchen_m2          0.599922     0.432399      0.614219  0.589922    1.000000   \n",
       "remont             -0.207937    -0.120929     -0.227063 -0.211636   -0.198411   \n",
       "toilet_sep          0.143638     0.077250      0.180628  0.134003    0.067006   \n",
       "toilet_unted        0.438410     0.350430      0.405871  0.415877    0.324137   \n",
       "windows             0.254535     0.143231      0.284739  0.240816    0.150270   \n",
       "balcony             0.084289     0.068432      0.070401  0.115473    0.037217   \n",
       "loggia              0.050803     0.021436      0.075868  0.009472    0.052921   \n",
       "rooms_sep           0.776502     0.503632      0.839357  0.783248    0.462315   \n",
       "rooms_unted         0.149413     0.095316      0.169798  0.148857   -0.001310   \n",
       "deposit            -0.001965    -0.000404     -0.002642 -0.004090    0.001504   \n",
       "price_advance      -0.001485    -0.002722     -0.000023  0.006090    0.002558   \n",
       "ceiling             0.211170     0.142782      0.220757  0.171838    0.099858   \n",
       "g_chute             0.089672     0.082555      0.072363  0.114735    0.080952   \n",
       "metro_walk         -0.009603     0.008647     -0.019579 -0.017665   -0.009935   \n",
       "parking             0.198681     0.126745      0.210770  0.196843    0.211651   \n",
       "tv                  0.127240     0.075824      0.142360  0.127796    0.129025   \n",
       "shower_cabin        0.351468     0.236086      0.347391  0.357079    0.295587   \n",
       "shower_cabin        0.351468     0.236086      0.347391  0.357079    0.295587   \n",
       "bathtub             0.075162     0.035455      0.100900  0.040945    0.007911   \n",
       "furniture          -0.054591    -0.036317     -0.055764 -0.078754   -0.075608   \n",
       "ac                  0.287453     0.155704      0.327103  0.284093    0.269788   \n",
       "telephone           0.175463     0.115886      0.185491  0.170153    0.100350   \n",
       "washing_machine    -0.038529    -0.029782     -0.036470 -0.043338   -0.036516   \n",
       "kitchen_furniture   0.013557     0.016673      0.009942  0.001436    0.023436   \n",
       "frig                0.000188     0.008143     -0.004661  0.006433    0.049615   \n",
       "internet            0.066376     0.033872      0.077965  0.044561    0.012840   \n",
       "dishwasher          0.417599     0.234847      0.470858  0.412933    0.386943   \n",
       "floor               0.084493     0.044350      0.106811  0.076429    0.173331   \n",
       "tot_floor           0.091788     0.029014      0.123222  0.075285    0.236108   \n",
       "house_type         -0.003111    -0.012903      0.006388 -0.015394    0.017705   \n",
       "floor1             -0.052433    -0.004234     -0.079724 -0.045267   -0.085571   \n",
       "floor_c1           -0.049354    -0.001021     -0.081423 -0.036566   -0.117770   \n",
       "rooms               0.795887     0.515699      0.862942  0.802212    0.445209   \n",
       "elev_serv           0.021060     0.000531      0.030308 -0.003545    0.126653   \n",
       "elev_pass           0.045373     0.011892      0.062748  0.042752    0.152802   \n",
       "animal              0.112456     0.074817      0.118894  0.123040    0.035907   \n",
       "child               0.110225     0.049129      0.144401  0.097685   -0.002268   \n",
       "price               0.784598     0.678785      0.740470  0.766856    0.521398   \n",
       "\n",
       "                      remont  ...  tot_floor  house_type    floor1  floor_c1  \\\n",
       "street              0.031059  ...  -0.030865    0.005298  0.003770 -0.002959   \n",
       "house              -0.012161  ...  -0.003345   -0.019925 -0.000551  0.000757   \n",
       "utilities_included  0.065454  ...  -0.008493   -0.044836  0.015143 -0.005387   \n",
       "rent_length        -0.001129  ...  -0.002804    0.025176 -0.030531 -0.026024   \n",
       "total_m2           -0.207937  ...   0.091788   -0.003111 -0.052433 -0.049354   \n",
       "total_m2_x2        -0.120929  ...   0.029014   -0.012903 -0.004234 -0.001021   \n",
       "total_m2_x05       -0.227063  ...   0.123222    0.006388 -0.079724 -0.081423   \n",
       "live_m2            -0.211636  ...   0.075285   -0.015394 -0.045267 -0.036566   \n",
       "kitchen_m2         -0.198411  ...   0.236108    0.017705 -0.085571 -0.117770   \n",
       "remont              1.000000  ...  -0.149290    0.011511  0.042280  0.053599   \n",
       "toilet_sep          0.037647  ...   0.003544    0.076397 -0.022191 -0.037682   \n",
       "toilet_unted       -0.178630  ...   0.088371   -0.068816 -0.006495  0.009371   \n",
       "windows            -0.104908  ...   0.066821   -0.004279 -0.050260 -0.066209   \n",
       "balcony            -0.062133  ...  -0.105286   -0.096510  0.080442  0.141586   \n",
       "loggia              0.032616  ...   0.115643    0.113011 -0.109840 -0.178111   \n",
       "rooms_sep          -0.177912  ...   0.028983    0.004029 -0.053145 -0.039025   \n",
       "rooms_unted        -0.055498  ...  -0.060748   -0.067254  0.009427  0.033000   \n",
       "deposit            -0.000190  ...   0.008440    0.001515 -0.001795 -0.004589   \n",
       "price_advance      -0.011940  ...   0.001304   -0.013110 -0.008715 -0.007099   \n",
       "ceiling            -0.140210  ...   0.003315    0.011661 -0.018124  0.004723   \n",
       "g_chute            -0.207373  ...  -0.031781   -0.092289  0.067971  0.128517   \n",
       "metro_walk          0.037015  ...  -0.003656    0.036216  0.018431  0.009705   \n",
       "parking            -0.211397  ...   0.193538    0.006425 -0.038862 -0.064859   \n",
       "tv                  0.212651  ...   0.054789    0.006374 -0.029524 -0.033418   \n",
       "shower_cabin       -0.251944  ...   0.108409   -0.043510 -0.013217 -0.008574   \n",
       "shower_cabin       -0.251944  ...   0.108409   -0.043510 -0.013217 -0.008574   \n",
       "bathtub             0.050045  ...  -0.013602    0.009393 -0.031848 -0.039944   \n",
       "furniture           0.073061  ...  -0.010771   -0.029787 -0.013782 -0.012608   \n",
       "ac                 -0.261477  ...   0.169937   -0.020413 -0.112794 -0.148326   \n",
       "telephone           0.038091  ...   0.012789    0.009140 -0.033420 -0.018739   \n",
       "washing_machine     0.028966  ...  -0.031816   -0.005511 -0.014370 -0.008459   \n",
       "kitchen_furniture   0.583226  ...  -0.018252   -0.018910 -0.007012 -0.005878   \n",
       "frig                0.602542  ...  -0.018234   -0.011372 -0.009534 -0.006623   \n",
       "internet           -0.165320  ...   0.025759   -0.004367 -0.022996 -0.030537   \n",
       "dishwasher         -0.299060  ...   0.190266   -0.020485 -0.099636 -0.118086   \n",
       "floor              -0.104536  ...   0.654217    0.111356 -0.264144 -0.623976   \n",
       "tot_floor          -0.149290  ...   1.000000    0.153232 -0.156966 -0.362158   \n",
       "house_type          0.011511  ...   0.153232    1.000000 -0.065438 -0.114190   \n",
       "floor1              0.042280  ...  -0.156966   -0.065438  1.000000  0.805501   \n",
       "floor_c1            0.053599  ...  -0.362158   -0.114190  0.805501  1.000000   \n",
       "rooms              -0.189102  ...   0.008658   -0.017461 -0.048234 -0.027143   \n",
       "elev_serv          -0.209057  ...   0.379018    0.104849 -0.103921 -0.197736   \n",
       "elev_pass          -0.044527  ...   0.461824    0.091339 -0.113093 -0.229734   \n",
       "animal             -0.003394  ...  -0.031830   -0.009559  0.025016  0.045562   \n",
       "child               0.008326  ...  -0.024049    0.002786  0.008161  0.005053   \n",
       "price              -0.221492  ...   0.059080   -0.024629 -0.022218 -0.004351   \n",
       "\n",
       "                       rooms  elev_serv  elev_pass    animal     child  \\\n",
       "street             -0.000446  -0.006654  -0.003326  0.006480  0.015704   \n",
       "house               0.027180   0.008371  -0.007112 -0.000288  0.005271   \n",
       "utilities_included -0.238784  -0.000955   0.061476 -0.022466  0.052006   \n",
       "rent_length         0.054549  -0.017401  -0.010986  0.012577  0.032641   \n",
       "total_m2            0.795887   0.021060   0.045373  0.112456  0.110225   \n",
       "total_m2_x2         0.515699   0.000531   0.011892  0.074817  0.049129   \n",
       "total_m2_x05        0.862942   0.030308   0.062748  0.118894  0.144401   \n",
       "live_m2             0.802212  -0.003545   0.042752  0.123040  0.097685   \n",
       "kitchen_m2          0.445209   0.126653   0.152802  0.035907 -0.002268   \n",
       "remont             -0.189102  -0.209057  -0.044527 -0.003394  0.008326   \n",
       "toilet_sep          0.221370  -0.033387   0.075599  0.013577  0.102276   \n",
       "toilet_unted        0.275839   0.083555  -0.021355  0.068330 -0.014755   \n",
       "windows             0.278923   0.061490   0.013828  0.064483  0.083255   \n",
       "balcony             0.114347  -0.071271  -0.103552  0.048918 -0.015961   \n",
       "loggia              0.029563   0.086305   0.123967 -0.018028  0.060293   \n",
       "rooms_sep           0.948431  -0.016964   0.017593  0.122334  0.191585   \n",
       "rooms_unted         0.270384  -0.049472  -0.068401  0.059555  0.083065   \n",
       "deposit            -0.006027  -0.004503   0.003895 -0.004734 -0.012081   \n",
       "price_advance       0.004324   0.001256   0.004470 -0.009605  0.005732   \n",
       "ceiling             0.178098   0.084939   0.028347  0.050117  0.036168   \n",
       "g_chute             0.089234   0.100556  -0.197822  0.029008 -0.035115   \n",
       "metro_walk         -0.022623   0.020267  -0.027862  0.000907  0.021526   \n",
       "parking             0.150696   0.116930   0.064465 -0.010124 -0.039405   \n",
       "tv                  0.107241  -0.017138   0.037739  0.029862  0.027655   \n",
       "shower_cabin        0.285270   0.111506   0.054464  0.062238 -0.009588   \n",
       "shower_cabin        0.285270   0.111506   0.054464  0.062238 -0.009588   \n",
       "bathtub             0.079246  -0.040871   0.008896  0.055007  0.147271   \n",
       "furniture          -0.071837  -0.018811   0.001051 -0.016035  0.026859   \n",
       "ac                  0.269104   0.127323   0.108260  0.054049  0.047623   \n",
       "telephone           0.149339   0.001910   0.017974  0.137440  0.091376   \n",
       "washing_machine    -0.033867  -0.001762  -0.022622  0.016826  0.107620   \n",
       "kitchen_furniture  -0.016109  -0.121893   0.032312 -0.020221 -0.022650   \n",
       "frig               -0.026159  -0.116127   0.020753 -0.012718 -0.004946   \n",
       "internet            0.065063   0.045916   0.022065  0.086166  0.123088   \n",
       "dishwasher          0.403068   0.125782   0.096124  0.057823  0.047732   \n",
       "floor               0.024994   0.268565   0.334482 -0.029946 -0.009734   \n",
       "tot_floor           0.008658   0.379018   0.461824 -0.031830 -0.024049   \n",
       "house_type         -0.017461   0.104849   0.091339 -0.009559  0.002786   \n",
       "floor1             -0.048234  -0.103921  -0.113093  0.025016  0.008161   \n",
       "floor_c1           -0.027143  -0.197736  -0.229734  0.045562  0.005053   \n",
       "rooms               1.000000  -0.032053  -0.004750  0.136818  0.211030   \n",
       "elev_serv          -0.032053   1.000000   0.062785 -0.019383  0.002618   \n",
       "elev_pass          -0.004750   0.062785   1.000000 -0.017416 -0.013726   \n",
       "animal              0.136818  -0.019383  -0.017416  1.000000  0.353689   \n",
       "child               0.211030   0.002618  -0.013726  0.353689  1.000000   \n",
       "price               0.578277   0.025046   0.050138  0.095646  0.030560   \n",
       "\n",
       "                       price  \n",
       "street             -0.023413  \n",
       "house               0.002220  \n",
       "utilities_included -0.290302  \n",
       "rent_length         0.035862  \n",
       "total_m2            0.784598  \n",
       "total_m2_x2         0.678785  \n",
       "total_m2_x05        0.740470  \n",
       "live_m2             0.766856  \n",
       "kitchen_m2          0.521398  \n",
       "remont             -0.221492  \n",
       "toilet_sep          0.073413  \n",
       "toilet_unted        0.414692  \n",
       "windows             0.193492  \n",
       "balcony             0.114671  \n",
       "loggia             -0.038318  \n",
       "rooms_sep           0.568223  \n",
       "rooms_unted         0.096319  \n",
       "deposit            -0.000051  \n",
       "price_advance      -0.000248  \n",
       "ceiling             0.189144  \n",
       "g_chute             0.128584  \n",
       "metro_walk         -0.033128  \n",
       "parking             0.199651  \n",
       "tv                  0.118124  \n",
       "shower_cabin        0.346297  \n",
       "shower_cabin        0.346297  \n",
       "bathtub             0.033562  \n",
       "furniture          -0.035717  \n",
       "ac                  0.237793  \n",
       "telephone           0.170981  \n",
       "washing_machine    -0.038346  \n",
       "kitchen_furniture   0.013840  \n",
       "frig                0.005660  \n",
       "internet            0.049716  \n",
       "dishwasher          0.349051  \n",
       "floor               0.053813  \n",
       "tot_floor           0.059080  \n",
       "house_type         -0.024629  \n",
       "floor1             -0.022218  \n",
       "floor_c1           -0.004351  \n",
       "rooms               0.578277  \n",
       "elev_serv           0.025046  \n",
       "elev_pass           0.050138  \n",
       "animal              0.095646  \n",
       "child               0.030560  \n",
       "price               1.000000  \n",
       "\n",
       "[46 rows x 46 columns]"
      ]
     },
     "execution_count": 790,
     "metadata": {},
     "output_type": "execute_result"
    }
   ],
   "source": [
    "correlation_matrix = data2.corr()\n",
    "# plot = plt.figure(figsize=(10, 8))\n",
    "# sns.heatmap(correlation_matrix, annot=True, cmap='coolwarm', fmt=\".2f\", linewidths=0.5)\n",
    "# plt.title(f'Тепловая карта корреляции')\n",
    "# plt.show()\n",
    "correlation_matrix"
   ]
  },
  {
   "cell_type": "code",
   "execution_count": 791,
   "metadata": {},
   "outputs": [
    {
     "name": "stdout",
     "output_type": "stream",
     "text": [
      "                            OLS Regression Results                            \n",
      "==============================================================================\n",
      "Dep. Variable:                  price   R-squared:                       0.673\n",
      "Model:                            OLS   Adj. R-squared:                  0.672\n",
      "Method:                 Least Squares   F-statistic:                     931.2\n",
      "Date:                Sun, 29 Dec 2024   Prob (F-statistic):               0.00\n",
      "Time:                        23:35:37   Log-Likelihood:            -2.4766e+05\n",
      "No. Observations:               19530   AIC:                         4.954e+05\n",
      "Df Residuals:                   19486   BIC:                         4.958e+05\n",
      "Df Model:                          43                                         \n",
      "Covariance Type:            nonrobust                                         \n",
      "======================================================================================\n",
      "                         coef    std err          t      P>|t|      [0.025      0.975]\n",
      "--------------------------------------------------------------------------------------\n",
      "const               1.848e+05   1.37e+04     13.449      0.000    1.58e+05    2.12e+05\n",
      "street                -1.9066      1.188     -1.605      0.109      -4.236       0.422\n",
      "house                 -4.5673      1.006     -4.542      0.000      -6.538      -2.596\n",
      "utilities_included -3.134e+04   2197.388    -14.261      0.000   -3.56e+04    -2.7e+04\n",
      "rent_length          799.0531    379.776      2.104      0.035      54.660    1543.446\n",
      "total_m2            4898.9431    159.468     30.721      0.000    4586.372    5211.514\n",
      "total_m2_x2           -2.3583      0.132    -17.839      0.000      -2.617      -2.099\n",
      "total_m2_x05       -5.929e+04   2521.037    -23.520      0.000   -6.42e+04   -5.44e+04\n",
      "live_m2             1017.8871     51.624     19.717      0.000     916.700    1119.074\n",
      "kitchen_m2          1101.8624    121.547      9.065      0.000     863.621    1340.104\n",
      "remont             -1.055e+04    830.664    -12.702      0.000   -1.22e+04   -8923.304\n",
      "toilet_sep          1.712e+04   1846.795      9.271      0.000    1.35e+04    2.07e+04\n",
      "toilet_unted        1.396e+04   1775.040      7.867      0.000    1.05e+04    1.74e+04\n",
      "windows              516.3662    833.093      0.620      0.535   -1116.568    2149.301\n",
      "balcony            -7585.0496   1865.593     -4.066      0.000   -1.12e+04   -3928.327\n",
      "loggia             -1.471e+04   1730.420     -8.501      0.000   -1.81e+04   -1.13e+04\n",
      "rooms_sep          -3433.6037    841.245     -4.082      0.000   -5082.516   -1784.691\n",
      "rooms_unted        -3380.2802   1238.063     -2.730      0.006   -5806.990    -953.570\n",
      "deposit             3.585e-06   7.97e-06      0.450      0.653    -1.2e-05    1.92e-05\n",
      "price_advance        572.6010   2499.513      0.229      0.819   -4326.660    5471.861\n",
      "ceiling             9270.1340   2514.035      3.687      0.000    4342.409    1.42e+04\n",
      "g_chute             3660.5005   1291.527      2.834      0.005    1128.998    6192.003\n",
      "metro_walk          -180.7324     33.180     -5.447      0.000    -245.767    -115.698\n",
      "parking             5926.1123    941.429      6.295      0.000    4080.831    7771.394\n",
      "tv                  2155.0654   1493.620      1.443      0.149    -772.558    5082.689\n",
      "shower_cabin        5712.2206    878.880      6.499      0.000    3989.540    7434.901\n",
      "shower_cabin        5712.2206    878.880      6.499      0.000    3989.540    7434.901\n",
      "bathtub             1.435e+04   1574.713      9.116      0.000    1.13e+04    1.74e+04\n",
      "furniture           7339.1961   2470.756      2.970      0.003    2496.302    1.22e+04\n",
      "ac                 -2408.8215   1423.100     -1.693      0.091   -5198.220     380.577\n",
      "telephone           6685.6007   1534.515      4.357      0.000    3677.820    9693.381\n",
      "washing_machine    -1.509e+04   3237.819     -4.661      0.000   -2.14e+04   -8744.172\n",
      "kitchen_furniture   1.575e+04   3620.030      4.350      0.000    8650.514    2.28e+04\n",
      "frig                1662.9976   3929.775      0.423      0.672   -6039.697    9365.693\n",
      "internet           -3896.4777   1612.778     -2.416      0.016   -7057.661    -735.295\n",
      "dishwasher          3236.9794   1585.597      2.041      0.041     129.073    6344.886\n",
      "floor                605.5142    169.045      3.582      0.000     274.172     936.857\n",
      "tot_floor           -668.2297     95.213     -7.018      0.000    -854.856    -481.603\n",
      "house_type          -673.9538    364.530     -1.849      0.064   -1388.464      40.557\n",
      "floor1             -1.552e+04   4857.236     -3.196      0.001    -2.5e+04   -6004.176\n",
      "floor_c1            1332.7283    307.452      4.335      0.000     730.097    1935.360\n",
      "rooms              -6813.8839    967.183     -7.045      0.000   -8709.646   -4918.122\n",
      "elev_serv           1548.3500    953.691      1.624      0.104    -320.966    3417.666\n",
      "elev_pass           4081.2206    562.477      7.256      0.000    2978.717    5183.725\n",
      "animal              3650.2979   1301.039      2.806      0.005    1100.150    6200.445\n",
      "child              -4376.6698   1434.206     -3.052      0.002   -7187.836   -1565.504\n",
      "==============================================================================\n",
      "Omnibus:                    30667.168   Durbin-Watson:                   1.183\n",
      "Prob(Omnibus):                  0.000   Jarque-Bera (JB):         43392179.002\n",
      "Skew:                           9.718   Prob(JB):                         0.00\n",
      "Kurtosis:                     233.100   Cond. No.                     1.00e+16\n",
      "==============================================================================\n",
      "\n",
      "Notes:\n",
      "[1] Standard Errors assume that the covariance matrix of the errors is correctly specified.\n",
      "[2] The smallest eigenvalue is 9.55e-13. This might indicate that there are\n",
      "strong multicollinearity problems or that the design matrix is singular.\n"
     ]
    }
   ],
   "source": [
    "# пробуем модель\n",
    "live01 = sm.add_constant(data2.iloc[:, :-1])\n",
    "model_live01 = OLS(data2.loc[:, 'price'], live01, hasconst=True)\n",
    "results_live01 = model_live01.fit()\n",
    "print(results_live01.summary())\n",
    "\n",
    "# R-squared:\n",
    "#   вер 1 от 27-12-2024 : 0.085 \n",
    "#   вер 2 от 28-12-2024 : 0.635\n",
    "#   вер 3 от 28-12-2024 : 0.643 (+toilets)\n",
    "#   вер 4 от 28-12-2024 : 0.647 (+balkony)\n",
    "#   вер 5 от 28-12-2024 : 0.658 (+rooms)\n",
    "#   вер 6 от 29-12-2024 : 0.661 (+metro)\n",
    "#   вер 7 от 29-12-2024 : 0.672 (+additionals)\n",
    "\n",
    "\n"
   ]
  },
  {
   "cell_type": "code",
   "execution_count": 792,
   "metadata": {},
   "outputs": [
    {
     "name": "stdout",
     "output_type": "stream",
     "text": [
      "<class 'pandas.core.frame.DataFrame'>\n",
      "RangeIndex: 19530 entries, 0 to 19529\n",
      "Data columns (total 46 columns):\n",
      " #   Column              Non-Null Count  Dtype  \n",
      "---  ------              --------------  -----  \n",
      " 0   street              19530 non-null  int64  \n",
      " 1   house               19530 non-null  int64  \n",
      " 2   utilities_included  19530 non-null  int64  \n",
      " 3   rent_length         19530 non-null  float64\n",
      " 4   total_m2            19530 non-null  float64\n",
      " 5   total_m2_x2         19530 non-null  float64\n",
      " 6   total_m2_x05        19530 non-null  float64\n",
      " 7   live_m2             19530 non-null  float64\n",
      " 8   kitchen_m2          19530 non-null  float64\n",
      " 9   remont              19530 non-null  int64  \n",
      " 10  toilet_sep          19530 non-null  float64\n",
      " 11  toilet_unted        19530 non-null  float64\n",
      " 12  windows             19530 non-null  int64  \n",
      " 13  balcony             19530 non-null  float64\n",
      " 14  loggia              19530 non-null  float64\n",
      " 15  rooms_sep           19530 non-null  float64\n",
      " 16  rooms_unted         19530 non-null  float64\n",
      " 17  deposit             19530 non-null  float64\n",
      " 18  price_advance       19530 non-null  float64\n",
      " 19  ceiling             19530 non-null  float64\n",
      " 20  g_chute             19530 non-null  int64  \n",
      " 21  metro_walk          19530 non-null  float64\n",
      " 22  parking             19530 non-null  int64  \n",
      " 23  tv                  19530 non-null  int64  \n",
      " 24  shower_cabin        19530 non-null  int64  \n",
      " 25  shower_cabin        19530 non-null  int64  \n",
      " 26  bathtub             19530 non-null  int64  \n",
      " 27  furniture           19530 non-null  int64  \n",
      " 28  ac                  19530 non-null  int64  \n",
      " 29  telephone           19530 non-null  int64  \n",
      " 30  washing_machine     19530 non-null  int64  \n",
      " 31  kitchen_furniture   19530 non-null  int64  \n",
      " 32  frig                19530 non-null  int64  \n",
      " 33  internet            19530 non-null  int64  \n",
      " 34  dishwasher          19530 non-null  int64  \n",
      " 35  floor               19530 non-null  int64  \n",
      " 36  tot_floor           19530 non-null  int64  \n",
      " 37  house_type          19530 non-null  int64  \n",
      " 38  floor1              19530 non-null  int64  \n",
      " 39  floor_c1            19530 non-null  int64  \n",
      " 40  rooms               19530 non-null  float64\n",
      " 41  elev_serv           19530 non-null  int64  \n",
      " 42  elev_pass           19530 non-null  int64  \n",
      " 43  animal              19530 non-null  int64  \n",
      " 44  child               19530 non-null  int64  \n",
      " 45  price               19530 non-null  float64\n",
      "dtypes: float64(18), int64(28)\n",
      "memory usage: 6.9 MB\n"
     ]
    }
   ],
   "source": [
    "data2.info()"
   ]
  },
  {
   "cell_type": "code",
   "execution_count": 793,
   "metadata": {},
   "outputs": [],
   "source": [
    "# сохраним файл\n",
    "#data2.to_csv('_data_edited.csv', index=False)"
   ]
  }
 ],
 "metadata": {
  "kernelspec": {
   "display_name": ".venv01",
   "language": "python",
   "name": "python3"
  },
  "language_info": {
   "codemirror_mode": {
    "name": "ipython",
    "version": 3
   },
   "file_extension": ".py",
   "mimetype": "text/x-python",
   "name": "python",
   "nbconvert_exporter": "python",
   "pygments_lexer": "ipython3",
   "version": "3.12.3"
  }
 },
 "nbformat": 4,
 "nbformat_minor": 4
}
