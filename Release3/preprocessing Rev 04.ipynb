{
 "cells": [
  {
   "cell_type": "markdown",
   "metadata": {},
   "source": [
    "# Часть 3 / 3"
   ]
  },
  {
   "cell_type": "markdown",
   "metadata": {},
   "source": [
    "разведочного анализа данных по данным международного сервиса по продаже и аренде жилой недвижимости Alyona Ivanovna Real Estate Agency / AI REA Ltd. \n",
    "\n",
    "Задача данной Части - \n",
    "Коммит данных с новыми фичами (feature engineering) - это тот же файл preprocessing.ipynb, но уже отрефакторенный с прошлого релиза и файл data.csv c новыми колонками.\n",
    "\n",
    "\n",
    "\n",
    "Для проведения анализа получены данные: файл _data.csv."
   ]
  },
  {
   "cell_type": "code",
   "execution_count": 1,
   "metadata": {},
   "outputs": [],
   "source": [
    "import pandas as pd\n",
    "import numpy as np\n",
    "import matplotlib.pyplot as plt\n",
    "import sklearn\n",
    "from sklearn.preprocessing import LabelEncoder\n",
    "import re\n",
    "import statsmodels.api as sm\n",
    "from sklearn.preprocessing import LabelEncoder\n",
    "from sklearn.linear_model import LinearRegression\n",
    "from statsmodels.api import OLS \n",
    "import matplotlib.pyplot as plt\n",
    "import seaborn as sns\n",
    "from sklearn.preprocessing import OneHotEncoder\n",
    "from sklearn.preprocessing import StandardScaler"
   ]
  },
  {
   "cell_type": "code",
   "execution_count": 2,
   "metadata": {},
   "outputs": [],
   "source": [
    "# вспомогательная функция для оценки типов данных в столбце по первой строке\n",
    "def column_type(test : pd.DataFrame):\n",
    "    answer = pd.DataFrame([], columns=['Columns', 'Type'])\n",
    "    for i in test.columns.to_list():\n",
    "        answer.loc[len(answer)] =  [i, type(test[i][0])]\n",
    "        answer.reset_index(drop=True)\n",
    "    return answer"
   ]
  },
  {
   "cell_type": "markdown",
   "metadata": {},
   "source": [
    "## Загрузка данных"
   ]
  },
  {
   "cell_type": "code",
   "execution_count": 3,
   "metadata": {},
   "outputs": [
    {
     "data": {
      "text/html": [
       "<div>\n",
       "<style scoped>\n",
       "    .dataframe tbody tr th:only-of-type {\n",
       "        vertical-align: middle;\n",
       "    }\n",
       "\n",
       "    .dataframe tbody tr th {\n",
       "        vertical-align: top;\n",
       "    }\n",
       "\n",
       "    .dataframe thead th {\n",
       "        text-align: right;\n",
       "    }\n",
       "</style>\n",
       "<table border=\"1\" class=\"dataframe\">\n",
       "  <thead>\n",
       "    <tr style=\"text-align: right;\">\n",
       "      <th></th>\n",
       "      <th>Unnamed: 0</th>\n",
       "      <th>ID  объявления</th>\n",
       "      <th>Количество комнат</th>\n",
       "      <th>Тип</th>\n",
       "      <th>Метро</th>\n",
       "      <th>Адрес</th>\n",
       "      <th>Площадь, м2</th>\n",
       "      <th>Дом</th>\n",
       "      <th>Парковка</th>\n",
       "      <th>Цена</th>\n",
       "      <th>...</th>\n",
       "      <th>Окна</th>\n",
       "      <th>Санузел</th>\n",
       "      <th>Можно с детьми/животными</th>\n",
       "      <th>Дополнительно</th>\n",
       "      <th>Название ЖК</th>\n",
       "      <th>Серия дома</th>\n",
       "      <th>Высота потолков, м</th>\n",
       "      <th>Лифт</th>\n",
       "      <th>Мусоропровод</th>\n",
       "      <th>Ссылка на объявление</th>\n",
       "    </tr>\n",
       "  </thead>\n",
       "  <tbody>\n",
       "    <tr>\n",
       "      <th>0</th>\n",
       "      <td>0</td>\n",
       "      <td>271271157</td>\n",
       "      <td>4</td>\n",
       "      <td>Квартира</td>\n",
       "      <td>м. Смоленская (9 мин пешком)</td>\n",
       "      <td>Москва, улица Новый Арбат, 27</td>\n",
       "      <td>200.0/20.0</td>\n",
       "      <td>5/16, Монолитный</td>\n",
       "      <td>подземная</td>\n",
       "      <td>500000.0 руб./ За месяц, Залог - 500000 руб., ...</td>\n",
       "      <td>...</td>\n",
       "      <td>NaN</td>\n",
       "      <td>NaN</td>\n",
       "      <td>Можно с детьми, Можно с животными</td>\n",
       "      <td>Мебель в комнатах, Мебель на кухне, Ванна, Душ...</td>\n",
       "      <td>Новый Арбат, 2010</td>\n",
       "      <td>NaN</td>\n",
       "      <td>3.0</td>\n",
       "      <td>Пасс (4), Груз (1)</td>\n",
       "      <td>Да</td>\n",
       "      <td>https://www.cian.ru/rent/flat/271271157</td>\n",
       "    </tr>\n",
       "    <tr>\n",
       "      <th>1</th>\n",
       "      <td>1</td>\n",
       "      <td>271634126</td>\n",
       "      <td>4</td>\n",
       "      <td>Квартира</td>\n",
       "      <td>м. Смоленская (8 мин пешком)</td>\n",
       "      <td>Москва, улица Новый Арбат, 27</td>\n",
       "      <td>198.0/95.0/18.0</td>\n",
       "      <td>5/16, Монолитно-кирпичный</td>\n",
       "      <td>подземная</td>\n",
       "      <td>500000.0 руб./ За месяц, Залог - 500000 руб., ...</td>\n",
       "      <td>...</td>\n",
       "      <td>На улицу и двор</td>\n",
       "      <td>Совмещенный (2), Раздельный (1)</td>\n",
       "      <td>Можно с детьми</td>\n",
       "      <td>Мебель в комнатах, Мебель на кухне, Ванна, Душ...</td>\n",
       "      <td>Новый Арбат</td>\n",
       "      <td>NaN</td>\n",
       "      <td>3.5</td>\n",
       "      <td>Пасс (1), Груз (1)</td>\n",
       "      <td>Нет</td>\n",
       "      <td>https://www.cian.ru/rent/flat/271634126</td>\n",
       "    </tr>\n",
       "    <tr>\n",
       "      <th>2</th>\n",
       "      <td>2</td>\n",
       "      <td>271173086</td>\n",
       "      <td>4, Оба варианта</td>\n",
       "      <td>Квартира</td>\n",
       "      <td>м. Смоленская (7 мин пешком)</td>\n",
       "      <td>Москва, улица Новый Арбат, 27</td>\n",
       "      <td>200.0/116.0/4.0</td>\n",
       "      <td>5/16</td>\n",
       "      <td>подземная</td>\n",
       "      <td>500000.0 руб./ За месяц, Залог - 500000 руб., ...</td>\n",
       "      <td>...</td>\n",
       "      <td>На улицу и двор</td>\n",
       "      <td>Совмещенный (3)</td>\n",
       "      <td>Можно с детьми</td>\n",
       "      <td>Мебель в комнатах, Мебель на кухне, Ванна, Душ...</td>\n",
       "      <td>Новый Арбат</td>\n",
       "      <td>NaN</td>\n",
       "      <td>3.2</td>\n",
       "      <td>Пасс (1)</td>\n",
       "      <td>NaN</td>\n",
       "      <td>https://www.cian.ru/rent/flat/271173086</td>\n",
       "    </tr>\n",
       "  </tbody>\n",
       "</table>\n",
       "<p>3 rows × 25 columns</p>\n",
       "</div>"
      ],
      "text/plain": [
       "   Unnamed: 0  ID  объявления Количество комнат       Тип  \\\n",
       "0           0       271271157                 4  Квартира   \n",
       "1           1       271634126                 4  Квартира   \n",
       "2           2       271173086   4, Оба варианта  Квартира   \n",
       "\n",
       "                          Метро                          Адрес  \\\n",
       "0  м. Смоленская (9 мин пешком)  Москва, улица Новый Арбат, 27   \n",
       "1  м. Смоленская (8 мин пешком)  Москва, улица Новый Арбат, 27   \n",
       "2  м. Смоленская (7 мин пешком)  Москва, улица Новый Арбат, 27   \n",
       "\n",
       "       Площадь, м2                        Дом   Парковка  \\\n",
       "0       200.0/20.0           5/16, Монолитный  подземная   \n",
       "1  198.0/95.0/18.0  5/16, Монолитно-кирпичный  подземная   \n",
       "2  200.0/116.0/4.0                       5/16  подземная   \n",
       "\n",
       "                                                Цена  ...             Окна  \\\n",
       "0  500000.0 руб./ За месяц, Залог - 500000 руб., ...  ...              NaN   \n",
       "1  500000.0 руб./ За месяц, Залог - 500000 руб., ...  ...  На улицу и двор   \n",
       "2  500000.0 руб./ За месяц, Залог - 500000 руб., ...  ...  На улицу и двор   \n",
       "\n",
       "                           Санузел           Можно с детьми/животными  \\\n",
       "0                              NaN  Можно с детьми, Можно с животными   \n",
       "1  Совмещенный (2), Раздельный (1)                     Можно с детьми   \n",
       "2                  Совмещенный (3)                     Можно с детьми   \n",
       "\n",
       "                                       Дополнительно        Название ЖК  \\\n",
       "0  Мебель в комнатах, Мебель на кухне, Ванна, Душ...  Новый Арбат, 2010   \n",
       "1  Мебель в комнатах, Мебель на кухне, Ванна, Душ...        Новый Арбат   \n",
       "2  Мебель в комнатах, Мебель на кухне, Ванна, Душ...        Новый Арбат   \n",
       "\n",
       "  Серия дома Высота потолков, м                Лифт Мусоропровод  \\\n",
       "0        NaN                3.0  Пасс (4), Груз (1)           Да   \n",
       "1        NaN                3.5  Пасс (1), Груз (1)          Нет   \n",
       "2        NaN                3.2            Пасс (1)          NaN   \n",
       "\n",
       "                      Ссылка на объявление  \n",
       "0  https://www.cian.ru/rent/flat/271271157  \n",
       "1  https://www.cian.ru/rent/flat/271634126  \n",
       "2  https://www.cian.ru/rent/flat/271173086  \n",
       "\n",
       "[3 rows x 25 columns]"
      ]
     },
     "execution_count": 3,
     "metadata": {},
     "output_type": "execute_result"
    }
   ],
   "source": [
    "path = '/home/andrey/Documents/Working/W3D4-real/data/_data.csv'\n",
    "data = pd.read_csv(path)\n",
    "data.reset_index()\n",
    "data.head(3)"
   ]
  },
  {
   "cell_type": "markdown",
   "metadata": {},
   "source": [
    "Посмотрим на первую запись предоставленного массива данных:"
   ]
  },
  {
   "cell_type": "code",
   "execution_count": 4,
   "metadata": {},
   "outputs": [
    {
     "data": {
      "text/plain": [
       "Unnamed: 0                                                                  0\n",
       "ID  объявления                                                      271271157\n",
       "Количество комнат                                                           4\n",
       "Тип                                                                  Квартира\n",
       "Метро                                            м. Смоленская (9 мин пешком)\n",
       "Адрес                                           Москва, улица Новый Арбат, 27\n",
       "Площадь, м2                                                        200.0/20.0\n",
       "Дом                                                          5/16, Монолитный\n",
       "Парковка                                                            подземная\n",
       "Цена                        500000.0 руб./ За месяц, Залог - 500000 руб., ...\n",
       "Телефоны                                                         +79166369231\n",
       "Описание                    Без комиссии для нанимателя! Бонус коллегам 12...\n",
       "Ремонт                                                           Дизайнерский\n",
       "Площадь комнат, м2                                                        NaN\n",
       "Балкон                                                                    NaN\n",
       "Окна                                                                      NaN\n",
       "Санузел                                                                   NaN\n",
       "Можно с детьми/животными                    Можно с детьми, Можно с животными\n",
       "Дополнительно               Мебель в комнатах, Мебель на кухне, Ванна, Душ...\n",
       "Название ЖК                                                 Новый Арбат, 2010\n",
       "Серия дома                                                                NaN\n",
       "Высота потолков, м                                                        3.0\n",
       "Лифт                                                       Пасс (4), Груз (1)\n",
       "Мусоропровод                                                               Да\n",
       "Ссылка на объявление                  https://www.cian.ru/rent/flat/271271157\n",
       "Name: 0, dtype: object"
      ]
     },
     "execution_count": 4,
     "metadata": {},
     "output_type": "execute_result"
    }
   ],
   "source": [
    "data.loc[0, :]"
   ]
  },
  {
   "cell_type": "markdown",
   "metadata": {},
   "source": [
    "#Поиск категориальных данных (по визуальному анализу практически все даные категориальные):"
   ]
  },
  {
   "cell_type": "code",
   "execution_count": 5,
   "metadata": {},
   "outputs": [
    {
     "name": "stdout",
     "output_type": "stream",
     "text": [
      "                     Столбец     Тип Уникальных\n",
      "0                 Unnamed: 0              23368\n",
      "1             ID  объявления              23368\n",
      "2          Количество комнат  строка         24\n",
      "3                        Тип  строка          1\n",
      "4                      Метро  строка       5866\n",
      "5                      Адрес  строка      12850\n",
      "6                Площадь, м2  строка      11255\n",
      "7                        Дом  строка       2565\n",
      "8                   Парковка  строка          5\n",
      "9                       Цена  строка       3922\n",
      "10                  Телефоны  строка      13172\n",
      "11                  Описание  строка      23078\n",
      "12                    Ремонт  строка          4\n",
      "13        Площадь комнат, м2  строка       3990\n",
      "14                    Балкон  строка         18\n",
      "15                      Окна  строка          3\n",
      "16                   Санузел  строка         20\n",
      "17  Можно с детьми/животными  строка          3\n",
      "18             Дополнительно  строка        528\n",
      "19               Название ЖК  строка       1798\n",
      "20                Серия дома  строка        393\n",
      "21        Высота потолков, м  строка         95\n",
      "22                      Лифт  строка         34\n",
      "23              Мусоропровод  строка          2\n",
      "24      Ссылка на объявление  строка      23368\n"
     ]
    }
   ],
   "source": [
    "def find_categories(data):\n",
    "    answer = []   \n",
    "    a2 = ['', '', '']\n",
    "    for name in data.columns:       \n",
    "        a2[0] = name\n",
    "        if (type(data[name][0]) == str):\n",
    "            a2[1] = 'строка'\n",
    "        a2[2] = str(data[name].nunique())\n",
    "        # if (data[name].nunique() <= 3):\n",
    "        #     a2[2] = 'мало'\n",
    "        # else: \n",
    "        #     a2[2] = 'много'\n",
    "        answer.append(a2.copy())\n",
    "        #if (s!=name): print(s)\n",
    "    return print(pd.DataFrame(answer, columns=['Столбец', 'Тип', 'Уникальных']))\n",
    "\n",
    "find_categories(data)"
   ]
  },
  {
   "cell_type": "markdown",
   "metadata": {},
   "source": [
    "Практически все столбцы - строки. Для обработки методами машинного обучения необходимо преобразовать в цифровое описание.\n",
    "\n",
    "Посмотрим на пропущенные значения."
   ]
  },
  {
   "cell_type": "code",
   "execution_count": 6,
   "metadata": {},
   "outputs": [
    {
     "data": {
      "text/html": [
       "<div>\n",
       "<style scoped>\n",
       "    .dataframe tbody tr th:only-of-type {\n",
       "        vertical-align: middle;\n",
       "    }\n",
       "\n",
       "    .dataframe tbody tr th {\n",
       "        vertical-align: top;\n",
       "    }\n",
       "\n",
       "    .dataframe thead th {\n",
       "        text-align: right;\n",
       "    }\n",
       "</style>\n",
       "<table border=\"1\" class=\"dataframe\">\n",
       "  <thead>\n",
       "    <tr style=\"text-align: right;\">\n",
       "      <th></th>\n",
       "      <th>Число пропущенных</th>\n",
       "      <th>Доля из записей, %</th>\n",
       "    </tr>\n",
       "  </thead>\n",
       "  <tbody>\n",
       "    <tr>\n",
       "      <th>Unnamed: 0</th>\n",
       "      <td>0</td>\n",
       "      <td>0.0</td>\n",
       "    </tr>\n",
       "    <tr>\n",
       "      <th>ID  объявления</th>\n",
       "      <td>0</td>\n",
       "      <td>0.0</td>\n",
       "    </tr>\n",
       "    <tr>\n",
       "      <th>Количество комнат</th>\n",
       "      <td>1041</td>\n",
       "      <td>4.5</td>\n",
       "    </tr>\n",
       "    <tr>\n",
       "      <th>Тип</th>\n",
       "      <td>0</td>\n",
       "      <td>0.0</td>\n",
       "    </tr>\n",
       "    <tr>\n",
       "      <th>Метро</th>\n",
       "      <td>1315</td>\n",
       "      <td>5.6</td>\n",
       "    </tr>\n",
       "    <tr>\n",
       "      <th>Адрес</th>\n",
       "      <td>0</td>\n",
       "      <td>0.0</td>\n",
       "    </tr>\n",
       "    <tr>\n",
       "      <th>Площадь, м2</th>\n",
       "      <td>0</td>\n",
       "      <td>0.0</td>\n",
       "    </tr>\n",
       "    <tr>\n",
       "      <th>Дом</th>\n",
       "      <td>0</td>\n",
       "      <td>0.0</td>\n",
       "    </tr>\n",
       "    <tr>\n",
       "      <th>Парковка</th>\n",
       "      <td>13417</td>\n",
       "      <td>57.4</td>\n",
       "    </tr>\n",
       "    <tr>\n",
       "      <th>Цена</th>\n",
       "      <td>0</td>\n",
       "      <td>0.0</td>\n",
       "    </tr>\n",
       "    <tr>\n",
       "      <th>Телефоны</th>\n",
       "      <td>0</td>\n",
       "      <td>0.0</td>\n",
       "    </tr>\n",
       "    <tr>\n",
       "      <th>Описание</th>\n",
       "      <td>0</td>\n",
       "      <td>0.0</td>\n",
       "    </tr>\n",
       "    <tr>\n",
       "      <th>Ремонт</th>\n",
       "      <td>2755</td>\n",
       "      <td>11.8</td>\n",
       "    </tr>\n",
       "    <tr>\n",
       "      <th>Площадь комнат, м2</th>\n",
       "      <td>8910</td>\n",
       "      <td>38.1</td>\n",
       "    </tr>\n",
       "    <tr>\n",
       "      <th>Балкон</th>\n",
       "      <td>7978</td>\n",
       "      <td>34.1</td>\n",
       "    </tr>\n",
       "    <tr>\n",
       "      <th>Окна</th>\n",
       "      <td>6613</td>\n",
       "      <td>28.3</td>\n",
       "    </tr>\n",
       "    <tr>\n",
       "      <th>Санузел</th>\n",
       "      <td>2672</td>\n",
       "      <td>11.4</td>\n",
       "    </tr>\n",
       "    <tr>\n",
       "      <th>Можно с детьми/животными</th>\n",
       "      <td>6096</td>\n",
       "      <td>26.1</td>\n",
       "    </tr>\n",
       "    <tr>\n",
       "      <th>Дополнительно</th>\n",
       "      <td>357</td>\n",
       "      <td>1.5</td>\n",
       "    </tr>\n",
       "    <tr>\n",
       "      <th>Название ЖК</th>\n",
       "      <td>17520</td>\n",
       "      <td>75.0</td>\n",
       "    </tr>\n",
       "    <tr>\n",
       "      <th>Серия дома</th>\n",
       "      <td>21205</td>\n",
       "      <td>90.7</td>\n",
       "    </tr>\n",
       "    <tr>\n",
       "      <th>Высота потолков, м</th>\n",
       "      <td>12162</td>\n",
       "      <td>52.0</td>\n",
       "    </tr>\n",
       "    <tr>\n",
       "      <th>Лифт</th>\n",
       "      <td>5500</td>\n",
       "      <td>23.5</td>\n",
       "    </tr>\n",
       "    <tr>\n",
       "      <th>Мусоропровод</th>\n",
       "      <td>10522</td>\n",
       "      <td>45.0</td>\n",
       "    </tr>\n",
       "    <tr>\n",
       "      <th>Ссылка на объявление</th>\n",
       "      <td>0</td>\n",
       "      <td>0.0</td>\n",
       "    </tr>\n",
       "  </tbody>\n",
       "</table>\n",
       "</div>"
      ],
      "text/plain": [
       "                          Число пропущенных  Доля из записей, %\n",
       "Unnamed: 0                                0                 0.0\n",
       "ID  объявления                            0                 0.0\n",
       "Количество комнат                      1041                 4.5\n",
       "Тип                                       0                 0.0\n",
       "Метро                                  1315                 5.6\n",
       "Адрес                                     0                 0.0\n",
       "Площадь, м2                               0                 0.0\n",
       "Дом                                       0                 0.0\n",
       "Парковка                              13417                57.4\n",
       "Цена                                      0                 0.0\n",
       "Телефоны                                  0                 0.0\n",
       "Описание                                  0                 0.0\n",
       "Ремонт                                 2755                11.8\n",
       "Площадь комнат, м2                     8910                38.1\n",
       "Балкон                                 7978                34.1\n",
       "Окна                                   6613                28.3\n",
       "Санузел                                2672                11.4\n",
       "Можно с детьми/животными               6096                26.1\n",
       "Дополнительно                           357                 1.5\n",
       "Название ЖК                           17520                75.0\n",
       "Серия дома                            21205                90.7\n",
       "Высота потолков, м                    12162                52.0\n",
       "Лифт                                   5500                23.5\n",
       "Мусоропровод                          10522                45.0\n",
       "Ссылка на объявление                      0                 0.0"
      ]
     },
     "execution_count": 6,
     "metadata": {},
     "output_type": "execute_result"
    }
   ],
   "source": [
    "data.shape\n",
    "data_length = data.shape[0]\n",
    "pd.DataFrame({'Число пропущенных' : data.isnull().sum(), \n",
    "              'Доля из записей, %' : round(data.isnull().sum()/data_length*100, ndigits=1)})"
   ]
  },
  {
   "cell_type": "markdown",
   "metadata": {},
   "source": [
    "Число пропущенных значений впечатляет! Делать описание статистики по каждому столбцу на данном этапе бессмысленно - все в категориях. Посмотрим сколько останется записей, если удалить все строки с пропущенными занчениями."
   ]
  },
  {
   "cell_type": "code",
   "execution_count": 7,
   "metadata": {},
   "outputs": [
    {
     "data": {
      "text/plain": [
       "0.03"
      ]
     },
     "execution_count": 7,
     "metadata": {},
     "output_type": "execute_result"
    }
   ],
   "source": [
    "round(len(data.dropna(axis = 0))/len(data)*100, ndigits=2)\n",
    "#df = df.dropna(axis = 0)"
   ]
  },
  {
   "cell_type": "markdown",
   "metadata": {},
   "source": [
    "Остается <1% от первоначальных записей! Это не сработает, ищем вариант заполнения пропущенных значений данными."
   ]
  },
  {
   "cell_type": "code",
   "execution_count": 8,
   "metadata": {},
   "outputs": [],
   "source": [
    "# сразу удалим ячейки, не имеющие смысла при анализе\n",
    "data = data.drop('Unnamed: 0', axis=1) \n",
    "# data = data.drop('ID  объявления', axis=1) \n",
    "data = data.drop('Телефоны', axis=1) \n",
    "data = data.drop('Описание', axis=1)\n",
    "data = data.drop('Ссылка на объявление', axis=1) \n"
   ]
  },
  {
   "cell_type": "markdown",
   "metadata": {},
   "source": [
    "## Обработка адреса расположения квартиры"
   ]
  },
  {
   "cell_type": "code",
   "execution_count": 9,
   "metadata": {},
   "outputs": [
    {
     "data": {
      "text/html": [
       "<div>\n",
       "<style scoped>\n",
       "    .dataframe tbody tr th:only-of-type {\n",
       "        vertical-align: middle;\n",
       "    }\n",
       "\n",
       "    .dataframe tbody tr th {\n",
       "        vertical-align: top;\n",
       "    }\n",
       "\n",
       "    .dataframe thead th {\n",
       "        text-align: right;\n",
       "    }\n",
       "</style>\n",
       "<table border=\"1\" class=\"dataframe\">\n",
       "  <thead>\n",
       "    <tr style=\"text-align: right;\">\n",
       "      <th></th>\n",
       "      <th>count</th>\n",
       "    </tr>\n",
       "    <tr>\n",
       "      <th>Адрес</th>\n",
       "      <th></th>\n",
       "    </tr>\n",
       "  </thead>\n",
       "  <tbody>\n",
       "    <tr>\n",
       "      <th>Москва</th>\n",
       "      <td>19737</td>\n",
       "    </tr>\n",
       "    <tr>\n",
       "      <th>Санкт-Петербург</th>\n",
       "      <td>3028</td>\n",
       "    </tr>\n",
       "    <tr>\n",
       "      <th>Краснодарский край</th>\n",
       "      <td>603</td>\n",
       "    </tr>\n",
       "  </tbody>\n",
       "</table>\n",
       "</div>"
      ],
      "text/plain": [
       "                    count\n",
       "Адрес                    \n",
       "Москва              19737\n",
       "Санкт-Петербург      3028\n",
       "Краснодарский край    603"
      ]
     },
     "execution_count": 9,
     "metadata": {},
     "output_type": "execute_result"
    }
   ],
   "source": [
    "pd.DataFrame(data['Адрес'].apply(lambda x: x.split(', ')[0]).value_counts())"
   ]
  },
  {
   "cell_type": "code",
   "execution_count": 10,
   "metadata": {},
   "outputs": [
    {
     "data": {
      "text/plain": [
       "0       Москва, улица Новый Арбат, 27\n",
       "1       Москва, улица Новый Арбат, 27\n",
       "2       Москва, улица Новый Арбат, 27\n",
       "3    Москва, переулок Плотников, 21С1\n",
       "4       Москва, улица Новый Арбат, 15\n",
       "Name: Адрес, dtype: object"
      ]
     },
     "execution_count": 10,
     "metadata": {},
     "output_type": "execute_result"
    }
   ],
   "source": [
    "data['Адрес'].head()"
   ]
  },
  {
   "cell_type": "code",
   "execution_count": 11,
   "metadata": {},
   "outputs": [
    {
     "data": {
      "text/plain": [
       "23368"
      ]
     },
     "execution_count": 11,
     "metadata": {},
     "output_type": "execute_result"
    }
   ],
   "source": [
    "len(data) #23368"
   ]
  },
  {
   "cell_type": "code",
   "execution_count": 12,
   "metadata": {},
   "outputs": [
    {
     "data": {
      "text/plain": [
       "{'Краснодарский край', 'Москва', 'Санкт-Петербург'}"
      ]
     },
     "execution_count": 12,
     "metadata": {},
     "output_type": "execute_result"
    }
   ],
   "source": [
    "# разбиваем строчку с адресом на составляющие\n",
    "c1 =  data['Адрес'].str.split(', ', expand=True)\n",
    "#data[['city', 'street', 'house', '11', '12']] = c1[[0, 1, 2]]\n",
    "set(c1[0])\n",
    "# в массиве данные о квартирах из нескольких городов\n",
    "# по правилам берем только квартиры из Москвы"
   ]
  },
  {
   "cell_type": "code",
   "execution_count": 13,
   "metadata": {},
   "outputs": [
    {
     "data": {
      "text/plain": [
       "19737"
      ]
     },
     "execution_count": 13,
     "metadata": {},
     "output_type": "execute_result"
    }
   ],
   "source": [
    "# удаляем квартиры не из Москвы\n",
    "data = data[data['Адрес'].str.contains('Москва')]\n",
    "data = data.reset_index(drop=True)\n",
    "len(data) #19737"
   ]
  },
  {
   "cell_type": "code",
   "execution_count": 14,
   "metadata": {},
   "outputs": [
    {
     "data": {
      "text/html": [
       "<div>\n",
       "<style scoped>\n",
       "    .dataframe tbody tr th:only-of-type {\n",
       "        vertical-align: middle;\n",
       "    }\n",
       "\n",
       "    .dataframe tbody tr th {\n",
       "        vertical-align: top;\n",
       "    }\n",
       "\n",
       "    .dataframe thead th {\n",
       "        text-align: right;\n",
       "    }\n",
       "</style>\n",
       "<table border=\"1\" class=\"dataframe\">\n",
       "  <thead>\n",
       "    <tr style=\"text-align: right;\">\n",
       "      <th></th>\n",
       "      <th>0</th>\n",
       "      <th>1</th>\n",
       "      <th>2</th>\n",
       "      <th>3</th>\n",
       "      <th>4</th>\n",
       "      <th>5</th>\n",
       "      <th>6</th>\n",
       "    </tr>\n",
       "  </thead>\n",
       "  <tbody>\n",
       "    <tr>\n",
       "      <th>0</th>\n",
       "      <td>Москва</td>\n",
       "      <td>улица Новый Арбат</td>\n",
       "      <td>27</td>\n",
       "      <td>None</td>\n",
       "      <td>None</td>\n",
       "      <td>None</td>\n",
       "      <td>None</td>\n",
       "    </tr>\n",
       "    <tr>\n",
       "      <th>1</th>\n",
       "      <td>Москва</td>\n",
       "      <td>улица Новый Арбат</td>\n",
       "      <td>27</td>\n",
       "      <td>None</td>\n",
       "      <td>None</td>\n",
       "      <td>None</td>\n",
       "      <td>None</td>\n",
       "    </tr>\n",
       "    <tr>\n",
       "      <th>2</th>\n",
       "      <td>Москва</td>\n",
       "      <td>улица Новый Арбат</td>\n",
       "      <td>27</td>\n",
       "      <td>None</td>\n",
       "      <td>None</td>\n",
       "      <td>None</td>\n",
       "      <td>None</td>\n",
       "    </tr>\n",
       "    <tr>\n",
       "      <th>3</th>\n",
       "      <td>Москва</td>\n",
       "      <td>переулок Плотников</td>\n",
       "      <td>21С1</td>\n",
       "      <td>None</td>\n",
       "      <td>None</td>\n",
       "      <td>None</td>\n",
       "      <td>None</td>\n",
       "    </tr>\n",
       "    <tr>\n",
       "      <th>4</th>\n",
       "      <td>Москва</td>\n",
       "      <td>улица Новый Арбат</td>\n",
       "      <td>15</td>\n",
       "      <td>None</td>\n",
       "      <td>None</td>\n",
       "      <td>None</td>\n",
       "      <td>None</td>\n",
       "    </tr>\n",
       "  </tbody>\n",
       "</table>\n",
       "</div>"
      ],
      "text/plain": [
       "        0                   1     2     3     4     5     6\n",
       "0  Москва   улица Новый Арбат    27  None  None  None  None\n",
       "1  Москва   улица Новый Арбат    27  None  None  None  None\n",
       "2  Москва   улица Новый Арбат    27  None  None  None  None\n",
       "3  Москва  переулок Плотников  21С1  None  None  None  None\n",
       "4  Москва   улица Новый Арбат    15  None  None  None  None"
      ]
     },
     "execution_count": 14,
     "metadata": {},
     "output_type": "execute_result"
    }
   ],
   "source": [
    "# разбиваем строчку еще раз\n",
    "c1 =  data['Адрес'].str.split(', ', expand=True)\n",
    "c1.head()"
   ]
  },
  {
   "cell_type": "code",
   "execution_count": 15,
   "metadata": {},
   "outputs": [
    {
     "data": {
      "text/html": [
       "<div>\n",
       "<style scoped>\n",
       "    .dataframe tbody tr th:only-of-type {\n",
       "        vertical-align: middle;\n",
       "    }\n",
       "\n",
       "    .dataframe tbody tr th {\n",
       "        vertical-align: top;\n",
       "    }\n",
       "\n",
       "    .dataframe thead th {\n",
       "        text-align: right;\n",
       "    }\n",
       "</style>\n",
       "<table border=\"1\" class=\"dataframe\">\n",
       "  <thead>\n",
       "    <tr style=\"text-align: right;\">\n",
       "      <th></th>\n",
       "      <th>0</th>\n",
       "      <th>1</th>\n",
       "      <th>2</th>\n",
       "      <th>3</th>\n",
       "      <th>4</th>\n",
       "      <th>5</th>\n",
       "      <th>6</th>\n",
       "    </tr>\n",
       "  </thead>\n",
       "  <tbody>\n",
       "    <tr>\n",
       "      <th>19732</th>\n",
       "      <td>Москва</td>\n",
       "      <td>Боровское шоссе</td>\n",
       "      <td>2к7</td>\n",
       "      <td>ш. Боровское (3 км до МКАД)</td>\n",
       "      <td>ш. Сколковское (8 км до МКАД)</td>\n",
       "      <td>None</td>\n",
       "      <td>None</td>\n",
       "    </tr>\n",
       "    <tr>\n",
       "      <th>19733</th>\n",
       "      <td>Москва</td>\n",
       "      <td>Производственная улица</td>\n",
       "      <td>8к1</td>\n",
       "      <td>ш. Боровское (5 км до МКАД)</td>\n",
       "      <td>ш. Киевское (7 км до МКАД)</td>\n",
       "      <td>None</td>\n",
       "      <td>None</td>\n",
       "    </tr>\n",
       "    <tr>\n",
       "      <th>19734</th>\n",
       "      <td>Москва</td>\n",
       "      <td>Боровский проезд</td>\n",
       "      <td>11</td>\n",
       "      <td>None</td>\n",
       "      <td>None</td>\n",
       "      <td>None</td>\n",
       "      <td>None</td>\n",
       "    </tr>\n",
       "    <tr>\n",
       "      <th>19735</th>\n",
       "      <td>Москва</td>\n",
       "      <td>улица Богданова</td>\n",
       "      <td>6к1</td>\n",
       "      <td>ш. Боровское (3 км до МКАД)</td>\n",
       "      <td>ш. Сколковское (8 км до МКАД)</td>\n",
       "      <td>None</td>\n",
       "      <td>None</td>\n",
       "    </tr>\n",
       "    <tr>\n",
       "      <th>19736</th>\n",
       "      <td>Москва</td>\n",
       "      <td>улица Богданова</td>\n",
       "      <td>2к1</td>\n",
       "      <td>ш. Боровское (3 км до МКАД)</td>\n",
       "      <td>ш. Киевское (8 км до МКАД)</td>\n",
       "      <td>None</td>\n",
       "      <td>None</td>\n",
       "    </tr>\n",
       "  </tbody>\n",
       "</table>\n",
       "</div>"
      ],
      "text/plain": [
       "            0                       1    2                            3  \\\n",
       "19732  Москва         Боровское шоссе  2к7  ш. Боровское (3 км до МКАД)   \n",
       "19733  Москва  Производственная улица  8к1  ш. Боровское (5 км до МКАД)   \n",
       "19734  Москва        Боровский проезд   11                         None   \n",
       "19735  Москва         улица Богданова  6к1  ш. Боровское (3 км до МКАД)   \n",
       "19736  Москва         улица Богданова  2к1  ш. Боровское (3 км до МКАД)   \n",
       "\n",
       "                                   4     5     6  \n",
       "19732  ш. Сколковское (8 км до МКАД)  None  None  \n",
       "19733     ш. Киевское (7 км до МКАД)  None  None  \n",
       "19734                           None  None  None  \n",
       "19735  ш. Сколковское (8 км до МКАД)  None  None  \n",
       "19736     ш. Киевское (8 км до МКАД)  None  None  "
      ]
     },
     "execution_count": 15,
     "metadata": {},
     "output_type": "execute_result"
    }
   ],
   "source": [
    "c1.tail()\n",
    "# проблема в том, что название улицы и номер дома сдвигается - ловим"
   ]
  },
  {
   "cell_type": "code",
   "execution_count": 16,
   "metadata": {},
   "outputs": [],
   "source": [
    "# определяем типы улиц - к ним привяжемся чтобы вытащить адрес\n",
    "a1_1 = set()\n",
    "pattern = re.compile(\"[0-9#№]\")\n",
    "c1 =  data['Адрес'].str.split(', ', expand=True)\n",
    "a1 = set()\n",
    "\n",
    "for j in range(1, 7):\n",
    "    c2_2 = c1.loc[:, j].str.split(' ', expand=True)\n",
    "    #a1 = set(c2_2.loc[0, :]) # первая строка\n",
    "    for i in range(0, len(c2_2)): #вторые строки\n",
    "        a1.update(set(c2_2.loc[i, :]))\n",
    "    # set готов\n",
    "\n",
    "a1_list = list(a1)\n",
    "a1_1 = list()\n",
    "# i=2\n",
    "for i in range(0, len(a1_list)):\n",
    "        if not pattern.match(str(a1_list[i])[0]):\n",
    "            if str(a1_list[i]).islower():\n",
    "                if not any(x in a1_list[i] for x in '1234567890'):\n",
    "                    a1_1.append(str(a1_list[i]))\n",
    "\n",
    "len(a1_1)\n",
    "a1_1 = list(set(a1_1))\n",
    "\n"
   ]
  },
  {
   "cell_type": "code",
   "execution_count": 17,
   "metadata": {},
   "outputs": [
    {
     "data": {
      "text/plain": [
       "['тер.',\n",
       " 'проспект',\n",
       " 'инновационного',\n",
       " 'линия',\n",
       " 'аллея',\n",
       " 'бульвар',\n",
       " 'ш.',\n",
       " 'пос.',\n",
       " 'км',\n",
       " 'лет',\n",
       " 'мкр',\n",
       " 'до',\n",
       " 'тупик',\n",
       " 'и',\n",
       " 'деревня',\n",
       " 'переулок',\n",
       " 'площадь',\n",
       " 'зона',\n",
       " 'кв-л',\n",
       " 'шоссе',\n",
       " 'улица',\n",
       " 'р-н',\n",
       " 'центра',\n",
       " 'рощи',\n",
       " 'проезд',\n",
       " 'набережная',\n",
       " 'года',\n",
       " 'ао']"
      ]
     },
     "execution_count": 17,
     "metadata": {},
     "output_type": "execute_result"
    }
   ],
   "source": [
    "# перечень всех слов, похожих на назщвание адреса\n",
    "a1_1"
   ]
  },
  {
   "cell_type": "code",
   "execution_count": 18,
   "metadata": {},
   "outputs": [],
   "source": [
    "# укорачиваем до реального списка\n",
    "pattern_streets = ['бульвар', 'тупик', 'линия', 'проезд', 'аллея', 'улица', \n",
    "                   'лет', 'переулок', 'шоссе', 'кв-л', 'площадь', 'проспект',\n",
    "                     'набережная']\n",
    "# остальные - пустышки"
   ]
  },
  {
   "cell_type": "code",
   "execution_count": 19,
   "metadata": {},
   "outputs": [
    {
     "data": {
      "text/html": [
       "<div>\n",
       "<style scoped>\n",
       "    .dataframe tbody tr th:only-of-type {\n",
       "        vertical-align: middle;\n",
       "    }\n",
       "\n",
       "    .dataframe tbody tr th {\n",
       "        vertical-align: top;\n",
       "    }\n",
       "\n",
       "    .dataframe thead th {\n",
       "        text-align: right;\n",
       "    }\n",
       "</style>\n",
       "<table border=\"1\" class=\"dataframe\">\n",
       "  <thead>\n",
       "    <tr style=\"text-align: right;\">\n",
       "      <th></th>\n",
       "      <th>0</th>\n",
       "      <th>1</th>\n",
       "      <th>2</th>\n",
       "      <th>3</th>\n",
       "      <th>4</th>\n",
       "      <th>5</th>\n",
       "      <th>6</th>\n",
       "      <th>x1</th>\n",
       "    </tr>\n",
       "  </thead>\n",
       "  <tbody>\n",
       "    <tr>\n",
       "      <th>0</th>\n",
       "      <td>Москва</td>\n",
       "      <td>улица Новый Арбат</td>\n",
       "      <td>27</td>\n",
       "      <td>None</td>\n",
       "      <td>None</td>\n",
       "      <td>None</td>\n",
       "      <td>None</td>\n",
       "      <td>1</td>\n",
       "    </tr>\n",
       "    <tr>\n",
       "      <th>1</th>\n",
       "      <td>Москва</td>\n",
       "      <td>улица Новый Арбат</td>\n",
       "      <td>27</td>\n",
       "      <td>None</td>\n",
       "      <td>None</td>\n",
       "      <td>None</td>\n",
       "      <td>None</td>\n",
       "      <td>1</td>\n",
       "    </tr>\n",
       "    <tr>\n",
       "      <th>2</th>\n",
       "      <td>Москва</td>\n",
       "      <td>улица Новый Арбат</td>\n",
       "      <td>27</td>\n",
       "      <td>None</td>\n",
       "      <td>None</td>\n",
       "      <td>None</td>\n",
       "      <td>None</td>\n",
       "      <td>1</td>\n",
       "    </tr>\n",
       "    <tr>\n",
       "      <th>3</th>\n",
       "      <td>Москва</td>\n",
       "      <td>переулок Плотников</td>\n",
       "      <td>21С1</td>\n",
       "      <td>None</td>\n",
       "      <td>None</td>\n",
       "      <td>None</td>\n",
       "      <td>None</td>\n",
       "      <td>1</td>\n",
       "    </tr>\n",
       "    <tr>\n",
       "      <th>4</th>\n",
       "      <td>Москва</td>\n",
       "      <td>улица Новый Арбат</td>\n",
       "      <td>15</td>\n",
       "      <td>None</td>\n",
       "      <td>None</td>\n",
       "      <td>None</td>\n",
       "      <td>None</td>\n",
       "      <td>1</td>\n",
       "    </tr>\n",
       "  </tbody>\n",
       "</table>\n",
       "</div>"
      ],
      "text/plain": [
       "        0                   1     2     3     4     5     6 x1\n",
       "0  Москва   улица Новый Арбат    27  None  None  None  None  1\n",
       "1  Москва   улица Новый Арбат    27  None  None  None  None  1\n",
       "2  Москва   улица Новый Арбат    27  None  None  None  None  1\n",
       "3  Москва  переулок Плотников  21С1  None  None  None  None  1\n",
       "4  Москва   улица Новый Арбат    15  None  None  None  None  1"
      ]
     },
     "execution_count": 19,
     "metadata": {},
     "output_type": "execute_result"
    }
   ],
   "source": [
    "# сейчас нужны только строки\n",
    "for i  in range(1, 7):\n",
    "    c1[i] = c1[i].astype(str)\n",
    "# находим все что в списке и помечаем номер столбца\n",
    "c1['x1'] = ''\n",
    "for i in range(0, len(c1)):\n",
    "    for j in range(1, 7):\n",
    "        if any(x in c1.loc[i, j] for x in pattern_streets):\n",
    "            c1.loc[i, 'x1'] = c1.loc[i, 'x1'] + str(j)\n",
    "c1.head()\n",
    "# x1 - столбец с номер где нашли адрес"
   ]
  },
  {
   "cell_type": "code",
   "execution_count": 20,
   "metadata": {},
   "outputs": [
    {
     "data": {
      "text/plain": [
       "count    19737.000000\n",
       "mean         0.989512\n",
       "std          0.101875\n",
       "min          0.000000\n",
       "25%          1.000000\n",
       "50%          1.000000\n",
       "75%          1.000000\n",
       "max          1.000000\n",
       "Name: x1_len, dtype: float64"
      ]
     },
     "execution_count": 20,
     "metadata": {},
     "output_type": "execute_result"
    }
   ],
   "source": [
    "# смотрим сколько нашлось столбцов с адресом\n",
    "c1['x1_len'] = c1['x1'].str.len()\n",
    "c1['x1_len'].describe()\n",
    "# максимум =1 - супер, только один столбец"
   ]
  },
  {
   "cell_type": "code",
   "execution_count": 21,
   "metadata": {},
   "outputs": [
    {
     "data": {
      "text/plain": [
       "207"
      ]
     },
     "execution_count": 21,
     "metadata": {},
     "output_type": "execute_result"
    }
   ],
   "source": [
    "c1_04 = c1[c1['x1_len']==0]\n",
    "len(c1_04) #207\n",
    "# при этом 207 строк с плохим адресом"
   ]
  },
  {
   "cell_type": "code",
   "execution_count": 22,
   "metadata": {},
   "outputs": [
    {
     "data": {
      "text/html": [
       "<div>\n",
       "<style scoped>\n",
       "    .dataframe tbody tr th:only-of-type {\n",
       "        vertical-align: middle;\n",
       "    }\n",
       "\n",
       "    .dataframe tbody tr th {\n",
       "        vertical-align: top;\n",
       "    }\n",
       "\n",
       "    .dataframe thead th {\n",
       "        text-align: right;\n",
       "    }\n",
       "</style>\n",
       "<table border=\"1\" class=\"dataframe\">\n",
       "  <thead>\n",
       "    <tr style=\"text-align: right;\">\n",
       "      <th></th>\n",
       "      <th>0</th>\n",
       "      <th>1</th>\n",
       "      <th>2</th>\n",
       "      <th>3</th>\n",
       "      <th>4</th>\n",
       "      <th>5</th>\n",
       "      <th>6</th>\n",
       "      <th>x1</th>\n",
       "      <th>x1_len</th>\n",
       "      <th>street</th>\n",
       "      <th>house</th>\n",
       "    </tr>\n",
       "  </thead>\n",
       "  <tbody>\n",
       "    <tr>\n",
       "      <th>0</th>\n",
       "      <td>Москва</td>\n",
       "      <td>улица Новый Арбат</td>\n",
       "      <td>27</td>\n",
       "      <td>None</td>\n",
       "      <td>None</td>\n",
       "      <td>None</td>\n",
       "      <td>None</td>\n",
       "      <td>1</td>\n",
       "      <td>1</td>\n",
       "      <td>улица Новый Арбат</td>\n",
       "      <td>27</td>\n",
       "    </tr>\n",
       "    <tr>\n",
       "      <th>1</th>\n",
       "      <td>Москва</td>\n",
       "      <td>улица Новый Арбат</td>\n",
       "      <td>27</td>\n",
       "      <td>None</td>\n",
       "      <td>None</td>\n",
       "      <td>None</td>\n",
       "      <td>None</td>\n",
       "      <td>1</td>\n",
       "      <td>1</td>\n",
       "      <td>улица Новый Арбат</td>\n",
       "      <td>27</td>\n",
       "    </tr>\n",
       "    <tr>\n",
       "      <th>2</th>\n",
       "      <td>Москва</td>\n",
       "      <td>улица Новый Арбат</td>\n",
       "      <td>27</td>\n",
       "      <td>None</td>\n",
       "      <td>None</td>\n",
       "      <td>None</td>\n",
       "      <td>None</td>\n",
       "      <td>1</td>\n",
       "      <td>1</td>\n",
       "      <td>улица Новый Арбат</td>\n",
       "      <td>27</td>\n",
       "    </tr>\n",
       "    <tr>\n",
       "      <th>3</th>\n",
       "      <td>Москва</td>\n",
       "      <td>переулок Плотников</td>\n",
       "      <td>21С1</td>\n",
       "      <td>None</td>\n",
       "      <td>None</td>\n",
       "      <td>None</td>\n",
       "      <td>None</td>\n",
       "      <td>1</td>\n",
       "      <td>1</td>\n",
       "      <td>переулок Плотников</td>\n",
       "      <td>21С1</td>\n",
       "    </tr>\n",
       "    <tr>\n",
       "      <th>4</th>\n",
       "      <td>Москва</td>\n",
       "      <td>улица Новый Арбат</td>\n",
       "      <td>15</td>\n",
       "      <td>None</td>\n",
       "      <td>None</td>\n",
       "      <td>None</td>\n",
       "      <td>None</td>\n",
       "      <td>1</td>\n",
       "      <td>1</td>\n",
       "      <td>улица Новый Арбат</td>\n",
       "      <td>15</td>\n",
       "    </tr>\n",
       "  </tbody>\n",
       "</table>\n",
       "</div>"
      ],
      "text/plain": [
       "        0                   1     2     3     4     5     6 x1  x1_len  \\\n",
       "0  Москва   улица Новый Арбат    27  None  None  None  None  1       1   \n",
       "1  Москва   улица Новый Арбат    27  None  None  None  None  1       1   \n",
       "2  Москва   улица Новый Арбат    27  None  None  None  None  1       1   \n",
       "3  Москва  переулок Плотников  21С1  None  None  None  None  1       1   \n",
       "4  Москва   улица Новый Арбат    15  None  None  None  None  1       1   \n",
       "\n",
       "               street house  \n",
       "0   улица Новый Арбат    27  \n",
       "1   улица Новый Арбат    27  \n",
       "2   улица Новый Арбат    27  \n",
       "3  переулок Плотников  21С1  \n",
       "4   улица Новый Арбат    15  "
      ]
     },
     "execution_count": 22,
     "metadata": {},
     "output_type": "execute_result"
    }
   ],
   "source": [
    "# переносим в отдельные столбцы\n",
    "c1['street'] = ''\n",
    "c1['house'] = ''\n",
    "\n",
    "for i in range(0, len(c1)):\n",
    "    if c1.loc[i, 'x1_len'] != 0:\n",
    "        c1.loc[i, 'street'] = c1.loc[i, int(c1.loc[i, 'x1'])]\n",
    "        c1.loc[i, 'house'] = c1.loc[i, int(c1.loc[i, 'x1'])+1]\n",
    "\n",
    "c1.head()"
   ]
  },
  {
   "cell_type": "code",
   "execution_count": 23,
   "metadata": {},
   "outputs": [
    {
     "data": {
      "text/html": [
       "<div>\n",
       "<style scoped>\n",
       "    .dataframe tbody tr th:only-of-type {\n",
       "        vertical-align: middle;\n",
       "    }\n",
       "\n",
       "    .dataframe tbody tr th {\n",
       "        vertical-align: top;\n",
       "    }\n",
       "\n",
       "    .dataframe thead th {\n",
       "        text-align: right;\n",
       "    }\n",
       "</style>\n",
       "<table border=\"1\" class=\"dataframe\">\n",
       "  <thead>\n",
       "    <tr style=\"text-align: right;\">\n",
       "      <th></th>\n",
       "      <th>Адрес</th>\n",
       "      <th>street</th>\n",
       "      <th>house</th>\n",
       "    </tr>\n",
       "  </thead>\n",
       "  <tbody>\n",
       "    <tr>\n",
       "      <th>0</th>\n",
       "      <td>Москва, улица Новый Арбат, 27</td>\n",
       "      <td>улица Новый Арбат</td>\n",
       "      <td>27</td>\n",
       "    </tr>\n",
       "    <tr>\n",
       "      <th>1</th>\n",
       "      <td>Москва, улица Новый Арбат, 27</td>\n",
       "      <td>улица Новый Арбат</td>\n",
       "      <td>27</td>\n",
       "    </tr>\n",
       "    <tr>\n",
       "      <th>2</th>\n",
       "      <td>Москва, улица Новый Арбат, 27</td>\n",
       "      <td>улица Новый Арбат</td>\n",
       "      <td>27</td>\n",
       "    </tr>\n",
       "    <tr>\n",
       "      <th>3</th>\n",
       "      <td>Москва, переулок Плотников, 21С1</td>\n",
       "      <td>переулок Плотников</td>\n",
       "      <td>21С1</td>\n",
       "    </tr>\n",
       "    <tr>\n",
       "      <th>4</th>\n",
       "      <td>Москва, улица Новый Арбат, 15</td>\n",
       "      <td>улица Новый Арбат</td>\n",
       "      <td>15</td>\n",
       "    </tr>\n",
       "  </tbody>\n",
       "</table>\n",
       "</div>"
      ],
      "text/plain": [
       "                              Адрес              street house\n",
       "0     Москва, улица Новый Арбат, 27   улица Новый Арбат    27\n",
       "1     Москва, улица Новый Арбат, 27   улица Новый Арбат    27\n",
       "2     Москва, улица Новый Арбат, 27   улица Новый Арбат    27\n",
       "3  Москва, переулок Плотников, 21С1  переулок Плотников  21С1\n",
       "4     Москва, улица Новый Арбат, 15   улица Новый Арбат    15"
      ]
     },
     "execution_count": 23,
     "metadata": {},
     "output_type": "execute_result"
    }
   ],
   "source": [
    "# переносим в основной массив\n",
    "data['street'] = c1['street']\n",
    "data['house'] = c1['house']\n",
    "data[['Адрес', 'street','house']].head()\n",
    "# вроде получилось"
   ]
  },
  {
   "cell_type": "code",
   "execution_count": 24,
   "metadata": {},
   "outputs": [
    {
     "data": {
      "text/plain": [
       "207"
      ]
     },
     "execution_count": 24,
     "metadata": {},
     "output_type": "execute_result"
    }
   ],
   "source": [
    "len(data[data['street']=='']) #207"
   ]
  },
  {
   "cell_type": "code",
   "execution_count": 25,
   "metadata": {},
   "outputs": [
    {
     "data": {
      "text/plain": [
       "19530"
      ]
     },
     "execution_count": 25,
     "metadata": {},
     "output_type": "execute_result"
    }
   ],
   "source": [
    "data = data.drop('Адрес', axis=1) # удаляем столбец с адресом\n",
    "data = data.loc[data['street'] !='', :] \n",
    "data = data.reset_index(drop=True)\n",
    "len(data)"
   ]
  },
  {
   "cell_type": "code",
   "execution_count": 26,
   "metadata": {},
   "outputs": [],
   "source": [
    "# кодируем Улицу\n",
    "le01 = LabelEncoder()\n",
    "le01.fit(data['street'])\n",
    "data['street'] = le01.transform(data['street'])"
   ]
  },
  {
   "cell_type": "code",
   "execution_count": 27,
   "metadata": {},
   "outputs": [],
   "source": [
    "# кодируем Номер дома\n",
    "le01 = LabelEncoder()\n",
    "le01.fit(data['house'])\n",
    "data['house'] = le01.transform(data['house'])"
   ]
  },
  {
   "cell_type": "code",
   "execution_count": 28,
   "metadata": {},
   "outputs": [
    {
     "data": {
      "text/html": [
       "<div>\n",
       "<style scoped>\n",
       "    .dataframe tbody tr th:only-of-type {\n",
       "        vertical-align: middle;\n",
       "    }\n",
       "\n",
       "    .dataframe tbody tr th {\n",
       "        vertical-align: top;\n",
       "    }\n",
       "\n",
       "    .dataframe thead th {\n",
       "        text-align: right;\n",
       "    }\n",
       "</style>\n",
       "<table border=\"1\" class=\"dataframe\">\n",
       "  <thead>\n",
       "    <tr style=\"text-align: right;\">\n",
       "      <th></th>\n",
       "      <th>street</th>\n",
       "      <th>house</th>\n",
       "    </tr>\n",
       "  </thead>\n",
       "  <tbody>\n",
       "    <tr>\n",
       "      <th>0</th>\n",
       "      <td>1579</td>\n",
       "      <td>877</td>\n",
       "    </tr>\n",
       "    <tr>\n",
       "      <th>1</th>\n",
       "      <td>1579</td>\n",
       "      <td>877</td>\n",
       "    </tr>\n",
       "    <tr>\n",
       "      <th>2</th>\n",
       "      <td>1579</td>\n",
       "      <td>877</td>\n",
       "    </tr>\n",
       "    <tr>\n",
       "      <th>3</th>\n",
       "      <td>1180</td>\n",
       "      <td>729</td>\n",
       "    </tr>\n",
       "    <tr>\n",
       "      <th>4</th>\n",
       "      <td>1579</td>\n",
       "      <td>400</td>\n",
       "    </tr>\n",
       "  </tbody>\n",
       "</table>\n",
       "</div>"
      ],
      "text/plain": [
       "   street  house\n",
       "0    1579    877\n",
       "1    1579    877\n",
       "2    1579    877\n",
       "3    1180    729\n",
       "4    1579    400"
      ]
     },
     "execution_count": 28,
     "metadata": {},
     "output_type": "execute_result"
    }
   ],
   "source": [
    "data[['street', 'house']].head()"
   ]
  },
  {
   "cell_type": "markdown",
   "metadata": {},
   "source": [
    "## Стоимость аренды"
   ]
  },
  {
   "cell_type": "code",
   "execution_count": 29,
   "metadata": {},
   "outputs": [
    {
     "data": {
      "text/plain": [
       "19530"
      ]
     },
     "execution_count": 29,
     "metadata": {},
     "output_type": "execute_result"
    }
   ],
   "source": [
    "# заглянем сколько строк\n",
    "len(data) # 19737 records"
   ]
  },
  {
   "cell_type": "code",
   "execution_count": 30,
   "metadata": {},
   "outputs": [
    {
     "data": {
      "text/plain": [
       "2202"
      ]
     },
     "execution_count": 30,
     "metadata": {},
     "output_type": "execute_result"
    }
   ],
   "source": [
    "# число уникальных\n",
    "len(set(data['Цена'])) # 2219 - не удивительно"
   ]
  },
  {
   "cell_type": "code",
   "execution_count": 31,
   "metadata": {},
   "outputs": [
    {
     "data": {
      "text/plain": [
       "0"
      ]
     },
     "execution_count": 31,
     "metadata": {},
     "output_type": "execute_result"
    }
   ],
   "source": [
    "# пустышек: \n",
    "len(data[data['Цена'].isna()]) # 0 - не удивительно"
   ]
  },
  {
   "cell_type": "code",
   "execution_count": 32,
   "metadata": {},
   "outputs": [
    {
     "data": {
      "text/plain": [
       "1    500000.0 руб./ За месяц, Залог - 500000 руб., ...\n",
       "2    500000.0 руб./ За месяц, Залог - 500000 руб., ...\n",
       "3    400000.0 руб./ За месяц, Залог - 400000 руб., ...\n",
       "4    225000.0 руб./ За месяц, Залог - 225000 руб., ...\n",
       "5    470000.0 руб./ За месяц, Залог - 470000 руб., ...\n",
       "Name: Цена, dtype: object"
      ]
     },
     "execution_count": 32,
     "metadata": {},
     "output_type": "execute_result"
    }
   ],
   "source": [
    "data.loc[1:20, 'Цена'].head()"
   ]
  },
  {
   "cell_type": "code",
   "execution_count": 33,
   "metadata": {},
   "outputs": [
    {
     "data": {
      "text/html": [
       "<div>\n",
       "<style scoped>\n",
       "    .dataframe tbody tr th:only-of-type {\n",
       "        vertical-align: middle;\n",
       "    }\n",
       "\n",
       "    .dataframe tbody tr th {\n",
       "        vertical-align: top;\n",
       "    }\n",
       "\n",
       "    .dataframe thead th {\n",
       "        text-align: right;\n",
       "    }\n",
       "</style>\n",
       "<table border=\"1\" class=\"dataframe\">\n",
       "  <thead>\n",
       "    <tr style=\"text-align: right;\">\n",
       "      <th></th>\n",
       "      <th>0</th>\n",
       "      <th>1</th>\n",
       "      <th>2</th>\n",
       "      <th>3</th>\n",
       "      <th>4</th>\n",
       "      <th>5</th>\n",
       "    </tr>\n",
       "  </thead>\n",
       "  <tbody>\n",
       "    <tr>\n",
       "      <th>0</th>\n",
       "      <td>500000.0 руб./ За месяц</td>\n",
       "      <td>Залог - 500000 руб.</td>\n",
       "      <td>Коммунальные услуги включены</td>\n",
       "      <td>Срок аренды - Длительный</td>\n",
       "      <td>Предоплата 1 мес</td>\n",
       "      <td>None</td>\n",
       "    </tr>\n",
       "    <tr>\n",
       "      <th>1</th>\n",
       "      <td>500000.0 руб./ За месяц</td>\n",
       "      <td>Залог - 500000 руб.</td>\n",
       "      <td>Коммунальные услуги включены</td>\n",
       "      <td>Срок аренды - Длительный</td>\n",
       "      <td>Предоплата 1 мес</td>\n",
       "      <td>None</td>\n",
       "    </tr>\n",
       "  </tbody>\n",
       "</table>\n",
       "</div>"
      ],
      "text/plain": [
       "                         0                    1                             2  \\\n",
       "0  500000.0 руб./ За месяц  Залог - 500000 руб.  Коммунальные услуги включены   \n",
       "1  500000.0 руб./ За месяц  Залог - 500000 руб.  Коммунальные услуги включены   \n",
       "\n",
       "                          3                 4     5  \n",
       "0  Срок аренды - Длительный  Предоплата 1 мес  None  \n",
       "1  Срок аренды - Длительный  Предоплата 1 мес  None  "
      ]
     },
     "execution_count": 33,
     "metadata": {},
     "output_type": "execute_result"
    }
   ],
   "source": [
    "# разделим столбец на составляющие - а их много\n",
    "c4 =  data.loc[: ,'Цена'].str.split(', ', expand=True)\n",
    "c4.head(2)"
   ]
  },
  {
   "cell_type": "code",
   "execution_count": 34,
   "metadata": {},
   "outputs": [],
   "source": [
    "# ожидаемый состав столбцов из одного столбца Цена:\n",
    "#0 - цена за месяц price\n",
    "#1 - сумма коммуналки utilities.cost\n",
    "#2 - сумма залога deposit\n",
    "#3 - коммунальные услуги включены utilities.included\n",
    "#4 - срок аренды rent.length\n",
    "#5 - предоплата price.advance"
   ]
  },
  {
   "cell_type": "code",
   "execution_count": 35,
   "metadata": {},
   "outputs": [
    {
     "data": {
      "text/html": [
       "<div>\n",
       "<style scoped>\n",
       "    .dataframe tbody tr th:only-of-type {\n",
       "        vertical-align: middle;\n",
       "    }\n",
       "\n",
       "    .dataframe tbody tr th {\n",
       "        vertical-align: top;\n",
       "    }\n",
       "\n",
       "    .dataframe thead th {\n",
       "        text-align: right;\n",
       "    }\n",
       "</style>\n",
       "<table border=\"1\" class=\"dataframe\">\n",
       "  <thead>\n",
       "    <tr style=\"text-align: right;\">\n",
       "      <th></th>\n",
       "      <th>0</th>\n",
       "      <th>1</th>\n",
       "      <th>2</th>\n",
       "      <th>3</th>\n",
       "      <th>4</th>\n",
       "      <th>5</th>\n",
       "    </tr>\n",
       "  </thead>\n",
       "  <tbody>\n",
       "    <tr>\n",
       "      <th>1178</th>\n",
       "      <td>36000.0 руб./ За месяц</td>\n",
       "      <td>Сумма коммунальных платежей - 2000.0 руб.</td>\n",
       "      <td>Залог - 36000 руб.</td>\n",
       "      <td>Коммунальные услуги включены</td>\n",
       "      <td>Срок аренды - Длительный</td>\n",
       "      <td>Предоплата 1 мес</td>\n",
       "    </tr>\n",
       "    <tr>\n",
       "      <th>2135</th>\n",
       "      <td>140000.0 руб./ За месяц</td>\n",
       "      <td>Сумма коммунальных платежей - 13000.0 руб.</td>\n",
       "      <td>Залог - 125000 руб.</td>\n",
       "      <td>Коммунальные услуги включены</td>\n",
       "      <td>Срок аренды - Длительный</td>\n",
       "      <td>Предоплата 1 мес</td>\n",
       "    </tr>\n",
       "  </tbody>\n",
       "</table>\n",
       "</div>"
      ],
      "text/plain": [
       "                            0                                           1  \\\n",
       "1178   36000.0 руб./ За месяц   Сумма коммунальных платежей - 2000.0 руб.   \n",
       "2135  140000.0 руб./ За месяц  Сумма коммунальных платежей - 13000.0 руб.   \n",
       "\n",
       "                        2                             3  \\\n",
       "1178   Залог - 36000 руб.  Коммунальные услуги включены   \n",
       "2135  Залог - 125000 руб.  Коммунальные услуги включены   \n",
       "\n",
       "                             4                 5  \n",
       "1178  Срок аренды - Длительный  Предоплата 1 мес  \n",
       "2135  Срок аренды - Длительный  Предоплата 1 мес  "
      ]
     },
     "execution_count": 35,
     "metadata": {},
     "output_type": "execute_result"
    }
   ],
   "source": [
    "# посмотрим на строчку с максимальным заполнением\n",
    "c4.loc[c4[5].notna(), :].head(2)"
   ]
  },
  {
   "cell_type": "code",
   "execution_count": 36,
   "metadata": {},
   "outputs": [],
   "source": [
    "# готовим новые столбцы\n",
    "data['price'] = '0'\n",
    "data['utilities_cost'] = '0'\n",
    "data['deposit'] = '0'\n",
    "data['utilities_included'] = '0' #предположу что лишнее - оставим на конец\n",
    "data['rent_length'] = '0'\n",
    "data['price_advance'] = '0'\n",
    "# data['flag'] = '0'"
   ]
  },
  {
   "cell_type": "code",
   "execution_count": 37,
   "metadata": {},
   "outputs": [],
   "source": [
    "# в столбце цены обнаружились не только рубли:\n",
    "# 23 такие записи:\n",
    "# 356      5000.0 $/ За месяц, Залог - 5409 $, Коммунальн...\n",
    "# 443      5000.0 $/ За месяц, Залог - 5000 $, Срок аренд...\n",
    "# 444      5000.0 $/ За месяц, Залог - 5000 $, Коммунальн...\n",
    "# 10101    5000.0 $/ За месяц, Залог - 5000 $, Коммунальн...\n",
    "# 11539    10000.0 $/ За месяц, Залог - 10000 $, Коммунал...\n",
    "# 11540    10000.0 $/ За месяц, Залог - 10000 $, Срок аре...\n",
    "# 12054    9800.0 €/ За месяц, Залог - 9800 €, Коммунальн...\n",
    "\n",
    "# так как есть разные курсы - делаем котировки\n",
    "rate_USD = 100\n",
    "rate_EUR = 105"
   ]
  },
  {
   "cell_type": "code",
   "execution_count": 38,
   "metadata": {},
   "outputs": [
    {
     "data": {
      "text/html": [
       "<div>\n",
       "<style scoped>\n",
       "    .dataframe tbody tr th:only-of-type {\n",
       "        vertical-align: middle;\n",
       "    }\n",
       "\n",
       "    .dataframe tbody tr th {\n",
       "        vertical-align: top;\n",
       "    }\n",
       "\n",
       "    .dataframe thead th {\n",
       "        text-align: right;\n",
       "    }\n",
       "</style>\n",
       "<table border=\"1\" class=\"dataframe\">\n",
       "  <thead>\n",
       "    <tr style=\"text-align: right;\">\n",
       "      <th></th>\n",
       "      <th>Columns</th>\n",
       "      <th>Type</th>\n",
       "    </tr>\n",
       "  </thead>\n",
       "  <tbody>\n",
       "    <tr>\n",
       "      <th>0</th>\n",
       "      <td>0</td>\n",
       "      <td>&lt;class 'str'&gt;</td>\n",
       "    </tr>\n",
       "    <tr>\n",
       "      <th>1</th>\n",
       "      <td>1</td>\n",
       "      <td>&lt;class 'str'&gt;</td>\n",
       "    </tr>\n",
       "    <tr>\n",
       "      <th>2</th>\n",
       "      <td>2</td>\n",
       "      <td>&lt;class 'str'&gt;</td>\n",
       "    </tr>\n",
       "    <tr>\n",
       "      <th>3</th>\n",
       "      <td>3</td>\n",
       "      <td>&lt;class 'str'&gt;</td>\n",
       "    </tr>\n",
       "    <tr>\n",
       "      <th>4</th>\n",
       "      <td>4</td>\n",
       "      <td>&lt;class 'str'&gt;</td>\n",
       "    </tr>\n",
       "    <tr>\n",
       "      <th>5</th>\n",
       "      <td>5</td>\n",
       "      <td>&lt;class 'NoneType'&gt;</td>\n",
       "    </tr>\n",
       "  </tbody>\n",
       "</table>\n",
       "</div>"
      ],
      "text/plain": [
       "   Columns                Type\n",
       "0        0       <class 'str'>\n",
       "1        1       <class 'str'>\n",
       "2        2       <class 'str'>\n",
       "3        3       <class 'str'>\n",
       "4        4       <class 'str'>\n",
       "5        5  <class 'NoneType'>"
      ]
     },
     "execution_count": 38,
     "metadata": {},
     "output_type": "execute_result"
    }
   ],
   "source": [
    "column_type(c4)"
   ]
  },
  {
   "cell_type": "code",
   "execution_count": 39,
   "metadata": {},
   "outputs": [],
   "source": [
    "\n",
    "#a_price =  \n",
    "for i in range(0,len(c4)):\n",
    "    a_price =  float(re.findall(r'\\d+', c4.loc[i, 0])[0])"
   ]
  },
  {
   "cell_type": "code",
   "execution_count": 40,
   "metadata": {},
   "outputs": [],
   "source": [
    "# разносим полученные столбцы в несколько в нашем массиве\n",
    "\n",
    "for i in range(0,len(data)):\n",
    "    # цена за месяц\n",
    "    a_price =  float(re.findall(r'\\d+', c4.loc[i, 0])[0])\n",
    "    if c4.loc[i, 0].find('€') != -1: # то цена не в евро\n",
    "        data.loc[i, 'price'] = str(a_price*rate_EUR)  # должна быть цена в рублях\n",
    "    else:\n",
    "        if c4.loc[i, 0].find('$') != -1: # то цена не в долларах\n",
    "            data.loc[i, 'price'] = str(a_price*rate_USD) \n",
    "        else: # тогда цена в рублях\n",
    "            data.loc[i, 'price'] = str(a_price)\n",
    "\n",
    "\n",
    "    for j in range(1, 5): # идем по оставшимся столбцам\n",
    "        # ищем сумму по коммунальным платежам\n",
    "        if c4.loc[i, j] is not None:\n",
    "            if re.match(r'^Сумма [а-яА-Я0-9.,?() -]+руб.$', c4.loc[i, j]): \n",
    "                data.loc[i, 'utilities_cost'] = re.findall(r'\\d+', c4.loc[i, j])[0] \n",
    "\n",
    "            # ищем залог 'Залог - 500000 руб.'\n",
    "            if re.match(r'^Залог[а-яА-Я0-9.,?() ]+', c4.loc[i, j]): \n",
    "                a_deposit = float(re.findall(r'\\d+', c4.loc[i, j])[0])\n",
    "                if c4.loc[i, j].find('€') != -1: # то цена не в евро\n",
    "                    data.loc[i, 'deposit'] = str(a_deposit*rate_EUR)  # должна быть цена в рублях\n",
    "                else:\n",
    "                    if c4.loc[i, j].find('$') != -1: # то цена не в долларах\n",
    "                        data.loc[i, 'deposit'] = str(a_deposit*rate_USD) \n",
    "                    else: # тогда цена в рублях\n",
    "                        data.loc[i, 'deposit'] = str(a_deposit)\n",
    "                # if not re.match(r'^[а-яА-Я0-9.,?() -]* руб.$', c4.loc[i, j]): \n",
    "                #     data.loc[i, 'flag'] = data.loc[i, 'flag'] + '1'\n",
    "\n",
    "            # ищем Коммунальные услуги\n",
    "            if re.match(r'Коммунальные услуги включены$', c4.loc[i, j]): \n",
    "                data.loc[i, 'utilities_included'] = c4.loc[i, j].split(' ')[-1]\n",
    "\n",
    "            # ищем Срок аренды \n",
    "            if re.match(r'^Срок аренды [а-яА-Я0-9.,?() -]+', c4.loc[i, j]): \n",
    "                a_length = c4.loc[i, j].split(' ')[-1]\n",
    "                if a_length == 'месяцев':\n",
    "                    data.loc[i, 'rent_length'] =  c4.loc[i, j].split(' ')[-2] + a_length\n",
    "                else:\n",
    "                    data.loc[i, 'rent_length'] =  a_length\n",
    "\n",
    "            # ищем Предоплата\n",
    "            if re.match(r'^Предоплата [а-яА-Я0-9.,?() -]+$', c4.loc[i, j]): \n",
    "                data.loc[i, 'price_advance'] = re.findall(r'\\d+', c4.loc[i, j])[0] \n",
    "\n"
   ]
  },
  {
   "cell_type": "code",
   "execution_count": 41,
   "metadata": {},
   "outputs": [
    {
     "data": {
      "text/html": [
       "<div>\n",
       "<style scoped>\n",
       "    .dataframe tbody tr th:only-of-type {\n",
       "        vertical-align: middle;\n",
       "    }\n",
       "\n",
       "    .dataframe tbody tr th {\n",
       "        vertical-align: top;\n",
       "    }\n",
       "\n",
       "    .dataframe thead th {\n",
       "        text-align: right;\n",
       "    }\n",
       "</style>\n",
       "<table border=\"1\" class=\"dataframe\">\n",
       "  <thead>\n",
       "    <tr style=\"text-align: right;\">\n",
       "      <th></th>\n",
       "      <th>Цена</th>\n",
       "      <th>price</th>\n",
       "      <th>utilities_cost</th>\n",
       "      <th>deposit</th>\n",
       "      <th>utilities_included</th>\n",
       "      <th>rent_length</th>\n",
       "      <th>price_advance</th>\n",
       "    </tr>\n",
       "  </thead>\n",
       "  <tbody>\n",
       "    <tr>\n",
       "      <th>0</th>\n",
       "      <td>500000.0 руб./ За месяц, Залог - 500000 руб., ...</td>\n",
       "      <td>500000.0</td>\n",
       "      <td>0</td>\n",
       "      <td>500000.0</td>\n",
       "      <td>включены</td>\n",
       "      <td>Длительный</td>\n",
       "      <td>1</td>\n",
       "    </tr>\n",
       "    <tr>\n",
       "      <th>1</th>\n",
       "      <td>500000.0 руб./ За месяц, Залог - 500000 руб., ...</td>\n",
       "      <td>500000.0</td>\n",
       "      <td>0</td>\n",
       "      <td>500000.0</td>\n",
       "      <td>включены</td>\n",
       "      <td>Длительный</td>\n",
       "      <td>1</td>\n",
       "    </tr>\n",
       "    <tr>\n",
       "      <th>2</th>\n",
       "      <td>500000.0 руб./ За месяц, Залог - 500000 руб., ...</td>\n",
       "      <td>500000.0</td>\n",
       "      <td>0</td>\n",
       "      <td>500000.0</td>\n",
       "      <td>0</td>\n",
       "      <td>Длительный</td>\n",
       "      <td>1</td>\n",
       "    </tr>\n",
       "    <tr>\n",
       "      <th>3</th>\n",
       "      <td>400000.0 руб./ За месяц, Залог - 400000 руб., ...</td>\n",
       "      <td>400000.0</td>\n",
       "      <td>0</td>\n",
       "      <td>400000.0</td>\n",
       "      <td>0</td>\n",
       "      <td>Длительный</td>\n",
       "      <td>1</td>\n",
       "    </tr>\n",
       "    <tr>\n",
       "      <th>4</th>\n",
       "      <td>225000.0 руб./ За месяц, Залог - 225000 руб., ...</td>\n",
       "      <td>225000.0</td>\n",
       "      <td>0</td>\n",
       "      <td>225000.0</td>\n",
       "      <td>включены</td>\n",
       "      <td>Длительный</td>\n",
       "      <td>1</td>\n",
       "    </tr>\n",
       "  </tbody>\n",
       "</table>\n",
       "</div>"
      ],
      "text/plain": [
       "                                                Цена     price utilities_cost  \\\n",
       "0  500000.0 руб./ За месяц, Залог - 500000 руб., ...  500000.0              0   \n",
       "1  500000.0 руб./ За месяц, Залог - 500000 руб., ...  500000.0              0   \n",
       "2  500000.0 руб./ За месяц, Залог - 500000 руб., ...  500000.0              0   \n",
       "3  400000.0 руб./ За месяц, Залог - 400000 руб., ...  400000.0              0   \n",
       "4  225000.0 руб./ За месяц, Залог - 225000 руб., ...  225000.0              0   \n",
       "\n",
       "    deposit utilities_included rent_length price_advance  \n",
       "0  500000.0           включены  Длительный             1  \n",
       "1  500000.0           включены  Длительный             1  \n",
       "2  500000.0                  0  Длительный             1  \n",
       "3  400000.0                  0  Длительный             1  \n",
       "4  225000.0           включены  Длительный             1  "
      ]
     },
     "execution_count": 41,
     "metadata": {},
     "output_type": "execute_result"
    }
   ],
   "source": [
    "# смотрим на то что получилось\n",
    "a11 = data.loc[:, ['Цена', 'price', 'utilities_cost', 'deposit', 'utilities_included', 'rent_length', 'price_advance']]\n",
    "a11.head()"
   ]
  },
  {
   "cell_type": "code",
   "execution_count": 42,
   "metadata": {},
   "outputs": [
    {
     "data": {
      "text/plain": [
       "Цена                  500000.0 руб./ За месяц, Залог - 500000 руб., ...\n",
       "price                                                          500000.0\n",
       "utilities_cost                                                        0\n",
       "deposit                                                        500000.0\n",
       "utilities_included                                             включены\n",
       "rent_length                                                  Длительный\n",
       "price_advance                                                         1\n",
       "Name: 0, dtype: object"
      ]
     },
     "execution_count": 42,
     "metadata": {},
     "output_type": "execute_result"
    }
   ],
   "source": [
    "# единичная запись - вроде все ок\n",
    "a11.iloc[0, :]"
   ]
  },
  {
   "cell_type": "code",
   "execution_count": 43,
   "metadata": {},
   "outputs": [],
   "source": [
    "# обработка rent.length {'несколькомесяцев', 'Длительный'}\n",
    "set(data['rent_length'])\n",
    "data.loc[data['rent_length'] == 'несколькомесяцев', 'rent_length'] = '3'\n",
    "data.loc[data['rent_length'] == 'Длительный', 'rent_length'] = '12'"
   ]
  },
  {
   "cell_type": "code",
   "execution_count": 44,
   "metadata": {},
   "outputs": [],
   "source": [
    "# обработка price.advance {'11', '12', '3', '0', '1', '2', '6'}\n",
    "set(data['price_advance'])\n",
    "# предположу что без авансового платежа никто не заселит\n",
    "data.loc[data['price_advance'] == '0', 'price_advance'] = '1'"
   ]
  },
  {
   "cell_type": "code",
   "execution_count": 45,
   "metadata": {},
   "outputs": [],
   "source": [
    "# обработка подготовленных столбцов\n",
    "data['price'] = data['price'].astype(float)\n",
    "data['utilities_cost'] = data['utilities_cost'].astype(float)\n",
    "data['deposit'] = data['deposit'].astype(float)\n",
    "data['rent_length'] = data['rent_length'].astype(float)\n",
    "data['price_advance'] = data['price_advance'].astype(float)"
   ]
  },
  {
   "cell_type": "code",
   "execution_count": 46,
   "metadata": {},
   "outputs": [
    {
     "data": {
      "text/plain": [
       "{'0': 0, 'включены': 1}"
      ]
     },
     "execution_count": 46,
     "metadata": {},
     "output_type": "execute_result"
    }
   ],
   "source": [
    "# кодируем utilities.included\n",
    "le01 = LabelEncoder()\n",
    "le01.fit(data['utilities_included'])\n",
    "data['utilities_included'] = le01.transform(data['utilities_included'])\n",
    "dict(zip(le01.classes_, range(len(le01.classes_)))) # а вот и словарь\n",
    "# {'0': 0, 'включены': 1}"
   ]
  },
  {
   "cell_type": "code",
   "execution_count": 47,
   "metadata": {},
   "outputs": [],
   "source": [
    "data = data.drop('Цена', axis=1) # удаляем ненужные столбцы"
   ]
  },
  {
   "cell_type": "markdown",
   "metadata": {},
   "source": [
    "## Площадь квартиры"
   ]
  },
  {
   "cell_type": "code",
   "execution_count": 48,
   "metadata": {},
   "outputs": [
    {
     "data": {
      "text/plain": [
       "19530"
      ]
     },
     "execution_count": 48,
     "metadata": {},
     "output_type": "execute_result"
    }
   ],
   "source": [
    "# смотрим на длину\n",
    "len(data) # 19737 records"
   ]
  },
  {
   "cell_type": "code",
   "execution_count": 49,
   "metadata": {},
   "outputs": [
    {
     "data": {
      "text/plain": [
       "9519"
      ]
     },
     "execution_count": 49,
     "metadata": {},
     "output_type": "execute_result"
    }
   ],
   "source": [
    "# число уникальных записей\n",
    "len(set(data['Площадь, м2'])) #"
   ]
  },
  {
   "cell_type": "code",
   "execution_count": 50,
   "metadata": {},
   "outputs": [],
   "source": [
    "# уникальные записи\n",
    "#set(data['Площадь, м2'])\n",
    "# {'42.5/19.0/10.0',\n",
    "#  '38.0/19.1/8.3',\n",
    "#  '32.5/18.3/6.0',\n",
    "#  '55.0/32.0/12.0',"
   ]
  },
  {
   "cell_type": "code",
   "execution_count": 51,
   "metadata": {},
   "outputs": [
    {
     "data": {
      "text/plain": [
       "0"
      ]
     },
     "execution_count": 51,
     "metadata": {},
     "output_type": "execute_result"
    }
   ],
   "source": [
    "# число NaN записей\n",
    "len(data[data['Площадь, м2'].isna()]) # 0 - cool"
   ]
  },
  {
   "cell_type": "code",
   "execution_count": 52,
   "metadata": {},
   "outputs": [],
   "source": [
    "# выглядит как:\n",
    "# 1      198.0/95.0/18.0\n",
    "# 2      200.0/116.0/4.0\n",
    "# 3      170.0/95.0/17.0\n",
    "# 4        58.0/38.0/5.0\n",
    "# 5                 92.0\n",
    "\n",
    "# расшифровываем как:\n",
    "# Общая площадь 198 м²\n",
    "# Жилая площадь 95 м²\n",
    "# Площадь кухни 18 м²"
   ]
  },
  {
   "cell_type": "code",
   "execution_count": 53,
   "metadata": {},
   "outputs": [
    {
     "data": {
      "text/html": [
       "<div>\n",
       "<style scoped>\n",
       "    .dataframe tbody tr th:only-of-type {\n",
       "        vertical-align: middle;\n",
       "    }\n",
       "\n",
       "    .dataframe tbody tr th {\n",
       "        vertical-align: top;\n",
       "    }\n",
       "\n",
       "    .dataframe thead th {\n",
       "        text-align: right;\n",
       "    }\n",
       "</style>\n",
       "<table border=\"1\" class=\"dataframe\">\n",
       "  <thead>\n",
       "    <tr style=\"text-align: right;\">\n",
       "      <th></th>\n",
       "      <th>0</th>\n",
       "      <th>1</th>\n",
       "      <th>2</th>\n",
       "      <th>3</th>\n",
       "    </tr>\n",
       "  </thead>\n",
       "  <tbody>\n",
       "    <tr>\n",
       "      <th>0</th>\n",
       "      <td>200.0</td>\n",
       "      <td>20.0</td>\n",
       "      <td>None</td>\n",
       "      <td>1</td>\n",
       "    </tr>\n",
       "    <tr>\n",
       "      <th>1</th>\n",
       "      <td>198.0</td>\n",
       "      <td>95.0</td>\n",
       "      <td>18.0</td>\n",
       "      <td>2</td>\n",
       "    </tr>\n",
       "    <tr>\n",
       "      <th>2</th>\n",
       "      <td>200.0</td>\n",
       "      <td>116.0</td>\n",
       "      <td>4.0</td>\n",
       "      <td>2</td>\n",
       "    </tr>\n",
       "    <tr>\n",
       "      <th>3</th>\n",
       "      <td>170.0</td>\n",
       "      <td>95.0</td>\n",
       "      <td>17.0</td>\n",
       "      <td>2</td>\n",
       "    </tr>\n",
       "    <tr>\n",
       "      <th>4</th>\n",
       "      <td>58.0</td>\n",
       "      <td>38.0</td>\n",
       "      <td>5.0</td>\n",
       "      <td>2</td>\n",
       "    </tr>\n",
       "  </tbody>\n",
       "</table>\n",
       "</div>"
      ],
      "text/plain": [
       "       0      1     2  3\n",
       "0  200.0   20.0  None  1\n",
       "1  198.0   95.0  18.0  2\n",
       "2  200.0  116.0   4.0  2\n",
       "3  170.0   95.0  17.0  2\n",
       "4   58.0   38.0   5.0  2"
      ]
     },
     "execution_count": 53,
     "metadata": {},
     "output_type": "execute_result"
    }
   ],
   "source": [
    "# собираем вспомогательный массив\n",
    "a = data.loc[:, 'Площадь, м2'].str.count('/') # считаем разделители\n",
    "# делим строку с площадями на максимум три столбца\n",
    "b =  data.loc[: ,'Площадь, м2'].str.split('/', expand=True)\n",
    "b[3] = a # собираем вместе\n",
    "b.head()\n",
    "# пока не очевидно что является второй цифрой, когда их всего 2"
   ]
  },
  {
   "cell_type": "code",
   "execution_count": 54,
   "metadata": {},
   "outputs": [],
   "source": [
    "# ожидаемый состав столбцов:\n",
    "#0 - total.m2 - Общая площадь, м2 \n",
    "#1 - live.m2 - Жилая площадь, м2\n",
    "#2(1) - kitchen.m2 - Площадь кухни, м2"
   ]
  },
  {
   "cell_type": "code",
   "execution_count": 55,
   "metadata": {},
   "outputs": [],
   "source": [
    "b[0] = b[0].astype(float)\n",
    "b[1] = b[1].astype(float)\n",
    "b[2] = b[2].astype(float)"
   ]
  },
  {
   "cell_type": "code",
   "execution_count": 56,
   "metadata": {},
   "outputs": [
    {
     "data": {
      "text/html": [
       "<div>\n",
       "<style scoped>\n",
       "    .dataframe tbody tr th:only-of-type {\n",
       "        vertical-align: middle;\n",
       "    }\n",
       "\n",
       "    .dataframe tbody tr th {\n",
       "        vertical-align: top;\n",
       "    }\n",
       "\n",
       "    .dataframe thead th {\n",
       "        text-align: right;\n",
       "    }\n",
       "</style>\n",
       "<table border=\"1\" class=\"dataframe\">\n",
       "  <thead>\n",
       "    <tr style=\"text-align: right;\">\n",
       "      <th></th>\n",
       "      <th>0</th>\n",
       "      <th>1</th>\n",
       "      <th>2</th>\n",
       "      <th>3</th>\n",
       "    </tr>\n",
       "  </thead>\n",
       "  <tbody>\n",
       "    <tr>\n",
       "      <th>0</th>\n",
       "      <td>200.0</td>\n",
       "      <td>20.0</td>\n",
       "      <td>NaN</td>\n",
       "      <td>1</td>\n",
       "    </tr>\n",
       "    <tr>\n",
       "      <th>1</th>\n",
       "      <td>198.0</td>\n",
       "      <td>95.0</td>\n",
       "      <td>18.0</td>\n",
       "      <td>2</td>\n",
       "    </tr>\n",
       "    <tr>\n",
       "      <th>2</th>\n",
       "      <td>200.0</td>\n",
       "      <td>116.0</td>\n",
       "      <td>4.0</td>\n",
       "      <td>2</td>\n",
       "    </tr>\n",
       "    <tr>\n",
       "      <th>3</th>\n",
       "      <td>170.0</td>\n",
       "      <td>95.0</td>\n",
       "      <td>17.0</td>\n",
       "      <td>2</td>\n",
       "    </tr>\n",
       "    <tr>\n",
       "      <th>4</th>\n",
       "      <td>58.0</td>\n",
       "      <td>38.0</td>\n",
       "      <td>5.0</td>\n",
       "      <td>2</td>\n",
       "    </tr>\n",
       "  </tbody>\n",
       "</table>\n",
       "</div>"
      ],
      "text/plain": [
       "       0      1     2  3\n",
       "0  200.0   20.0   NaN  1\n",
       "1  198.0   95.0  18.0  2\n",
       "2  200.0  116.0   4.0  2\n",
       "3  170.0   95.0  17.0  2\n",
       "4   58.0   38.0   5.0  2"
      ]
     },
     "execution_count": 56,
     "metadata": {},
     "output_type": "execute_result"
    }
   ],
   "source": [
    "b.head()"
   ]
  },
  {
   "cell_type": "code",
   "execution_count": 57,
   "metadata": {},
   "outputs": [
    {
     "name": "stderr",
     "output_type": "stream",
     "text": [
      "/tmp/ipykernel_6347/2880602556.py:8: SettingWithCopyWarning: \n",
      "A value is trying to be set on a copy of a slice from a DataFrame.\n",
      "Try using .loc[row_indexer,col_indexer] = value instead\n",
      "\n",
      "See the caveats in the documentation: https://pandas.pydata.org/pandas-docs/stable/user_guide/indexing.html#returning-a-view-versus-a-copy\n",
      "  b_kitch.loc[:, 'kitch_ave'] = b_kitch.loc[:, 2] /  b_kitch.loc[:, 0]\n"
     ]
    },
    {
     "data": {
      "text/html": [
       "<div>\n",
       "<style scoped>\n",
       "    .dataframe tbody tr th:only-of-type {\n",
       "        vertical-align: middle;\n",
       "    }\n",
       "\n",
       "    .dataframe tbody tr th {\n",
       "        vertical-align: top;\n",
       "    }\n",
       "\n",
       "    .dataframe thead th {\n",
       "        text-align: right;\n",
       "    }\n",
       "</style>\n",
       "<table border=\"1\" class=\"dataframe\">\n",
       "  <thead>\n",
       "    <tr style=\"text-align: right;\">\n",
       "      <th></th>\n",
       "      <th>0</th>\n",
       "      <th>1</th>\n",
       "      <th>2</th>\n",
       "      <th>3</th>\n",
       "      <th>kitch_ave</th>\n",
       "    </tr>\n",
       "  </thead>\n",
       "  <tbody>\n",
       "    <tr>\n",
       "      <th>count</th>\n",
       "      <td>15172.000000</td>\n",
       "      <td>15172.000000</td>\n",
       "      <td>15172.000000</td>\n",
       "      <td>15172.0</td>\n",
       "      <td>15172.000000</td>\n",
       "    </tr>\n",
       "    <tr>\n",
       "      <th>mean</th>\n",
       "      <td>59.946392</td>\n",
       "      <td>35.766900</td>\n",
       "      <td>9.867473</td>\n",
       "      <td>2.0</td>\n",
       "      <td>0.183578</td>\n",
       "    </tr>\n",
       "    <tr>\n",
       "      <th>std</th>\n",
       "      <td>41.318993</td>\n",
       "      <td>26.479526</td>\n",
       "      <td>4.860423</td>\n",
       "      <td>0.0</td>\n",
       "      <td>0.066308</td>\n",
       "    </tr>\n",
       "    <tr>\n",
       "      <th>min</th>\n",
       "      <td>10.000000</td>\n",
       "      <td>5.000000</td>\n",
       "      <td>1.000000</td>\n",
       "      <td>2.0</td>\n",
       "      <td>0.016071</td>\n",
       "    </tr>\n",
       "    <tr>\n",
       "      <th>25%</th>\n",
       "      <td>38.200000</td>\n",
       "      <td>20.000000</td>\n",
       "      <td>7.000000</td>\n",
       "      <td>2.0</td>\n",
       "      <td>0.136364</td>\n",
       "    </tr>\n",
       "    <tr>\n",
       "      <th>50%</th>\n",
       "      <td>47.000000</td>\n",
       "      <td>30.000000</td>\n",
       "      <td>9.000000</td>\n",
       "      <td>2.0</td>\n",
       "      <td>0.175439</td>\n",
       "    </tr>\n",
       "    <tr>\n",
       "      <th>75%</th>\n",
       "      <td>65.000000</td>\n",
       "      <td>40.000000</td>\n",
       "      <td>10.500000</td>\n",
       "      <td>2.0</td>\n",
       "      <td>0.222222</td>\n",
       "    </tr>\n",
       "    <tr>\n",
       "      <th>max</th>\n",
       "      <td>811.000000</td>\n",
       "      <td>490.000000</td>\n",
       "      <td>98.000000</td>\n",
       "      <td>2.0</td>\n",
       "      <td>0.757576</td>\n",
       "    </tr>\n",
       "  </tbody>\n",
       "</table>\n",
       "</div>"
      ],
      "text/plain": [
       "                  0             1             2        3     kitch_ave\n",
       "count  15172.000000  15172.000000  15172.000000  15172.0  15172.000000\n",
       "mean      59.946392     35.766900      9.867473      2.0      0.183578\n",
       "std       41.318993     26.479526      4.860423      0.0      0.066308\n",
       "min       10.000000      5.000000      1.000000      2.0      0.016071\n",
       "25%       38.200000     20.000000      7.000000      2.0      0.136364\n",
       "50%       47.000000     30.000000      9.000000      2.0      0.175439\n",
       "75%       65.000000     40.000000     10.500000      2.0      0.222222\n",
       "max      811.000000    490.000000     98.000000      2.0      0.757576"
      ]
     },
     "execution_count": 57,
     "metadata": {},
     "output_type": "execute_result"
    }
   ],
   "source": [
    "# как оказалось при дальнейшем анализе, \n",
    "# вторая цифра строки Площади из массива\n",
    "# это либо жилая площадь, либо площадь кухни\n",
    "# и какая из них какая, не очень ясно\n",
    "\n",
    "# посмотрим на размер кухни, когда все три значения заполнены\n",
    "b_kitch = b[b[3] == 2]\n",
    "b_kitch.loc[:, 'kitch_ave'] = b_kitch.loc[:, 2] /  b_kitch.loc[:, 0]\n",
    "#b_kitch.head()\n",
    "b_kitch.describe()\n",
    "\n",
    "# предположим, что при значении второй цифры больше 22.2% \n",
    "# это уже не кухня, а жилай зона"
   ]
  },
  {
   "cell_type": "code",
   "execution_count": 58,
   "metadata": {},
   "outputs": [],
   "source": [
    "# новые столбцы в массиве\n",
    "data['total_m2'] = 0\n",
    "data['live_m2'] = 0\n",
    "data['kitchen_m2'] = 0"
   ]
  },
  {
   "cell_type": "code",
   "execution_count": 59,
   "metadata": {},
   "outputs": [
    {
     "name": "stderr",
     "output_type": "stream",
     "text": [
      "/tmp/ipykernel_6347/494371415.py:4: FutureWarning: Setting an item of incompatible dtype is deprecated and will raise an error in a future version of pandas. Value '222.2' has dtype incompatible with int64, please explicitly cast to a compatible dtype first.\n",
      "  data.loc[i, 'total_m2'] = b.at[i, 0]\n",
      "/tmp/ipykernel_6347/494371415.py:11: FutureWarning: Setting an item of incompatible dtype is deprecated and will raise an error in a future version of pandas. Value '10.8' has dtype incompatible with int64, please explicitly cast to a compatible dtype first.\n",
      "  data.loc[i, 'kitchen_m2'] = b.at[i, 1]\n",
      "/tmp/ipykernel_6347/494371415.py:9: FutureWarning: Setting an item of incompatible dtype is deprecated and will raise an error in a future version of pandas. Value '45.6' has dtype incompatible with int64, please explicitly cast to a compatible dtype first.\n",
      "  data.loc[i, 'live_m2'] = b.at[i, 1]\n"
     ]
    },
    {
     "data": {
      "text/html": [
       "<div>\n",
       "<style scoped>\n",
       "    .dataframe tbody tr th:only-of-type {\n",
       "        vertical-align: middle;\n",
       "    }\n",
       "\n",
       "    .dataframe tbody tr th {\n",
       "        vertical-align: top;\n",
       "    }\n",
       "\n",
       "    .dataframe thead th {\n",
       "        text-align: right;\n",
       "    }\n",
       "</style>\n",
       "<table border=\"1\" class=\"dataframe\">\n",
       "  <thead>\n",
       "    <tr style=\"text-align: right;\">\n",
       "      <th></th>\n",
       "      <th>total_m2</th>\n",
       "      <th>live_m2</th>\n",
       "      <th>kitchen_m2</th>\n",
       "    </tr>\n",
       "  </thead>\n",
       "  <tbody>\n",
       "    <tr>\n",
       "      <th>0</th>\n",
       "      <td>200.0</td>\n",
       "      <td>0.0</td>\n",
       "      <td>20.0</td>\n",
       "    </tr>\n",
       "    <tr>\n",
       "      <th>1</th>\n",
       "      <td>198.0</td>\n",
       "      <td>95.0</td>\n",
       "      <td>18.0</td>\n",
       "    </tr>\n",
       "    <tr>\n",
       "      <th>2</th>\n",
       "      <td>200.0</td>\n",
       "      <td>116.0</td>\n",
       "      <td>4.0</td>\n",
       "    </tr>\n",
       "    <tr>\n",
       "      <th>3</th>\n",
       "      <td>170.0</td>\n",
       "      <td>95.0</td>\n",
       "      <td>17.0</td>\n",
       "    </tr>\n",
       "    <tr>\n",
       "      <th>4</th>\n",
       "      <td>58.0</td>\n",
       "      <td>38.0</td>\n",
       "      <td>5.0</td>\n",
       "    </tr>\n",
       "  </tbody>\n",
       "</table>\n",
       "</div>"
      ],
      "text/plain": [
       "   total_m2  live_m2  kitchen_m2\n",
       "0     200.0      0.0        20.0\n",
       "1     198.0     95.0        18.0\n",
       "2     200.0    116.0         4.0\n",
       "3     170.0     95.0        17.0\n",
       "4      58.0     38.0         5.0"
      ]
     },
     "execution_count": 59,
     "metadata": {},
     "output_type": "execute_result"
    }
   ],
   "source": [
    "# переносим из вспомогательного массива данные в основной:\n",
    "for i in range(0, len(b)):\n",
    "    if b.loc[i,3] == 0:    \n",
    "        data.loc[i, 'total_m2'] = b.at[i, 0]\n",
    "    else:\n",
    "        if b.loc[i,3] == 1:\n",
    "            data.loc[i, 'total_m2'] = b.at[i, 0]\n",
    "            if b.at[i, 1]  > b.at[i, 0]*0.22:\n",
    "                data.loc[i, 'live_m2'] = b.at[i, 1] \n",
    "            else:\n",
    "                data.loc[i, 'kitchen_m2'] = b.at[i, 1] \n",
    "        else:\n",
    "            data.loc[i, 'total_m2'] = b.at[i, 0]\n",
    "            data.loc[i, 'live_m2'] = b.at[i, 1] \n",
    "            data.loc[i, 'kitchen_m2'] = b.at[i, 2] \n",
    "\n",
    "# смотрим что получилось\n",
    "data[['total_m2', 'live_m2', 'kitchen_m2']].head()"
   ]
  },
  {
   "cell_type": "code",
   "execution_count": 60,
   "metadata": {},
   "outputs": [
    {
     "data": {
      "text/html": [
       "<div>\n",
       "<style scoped>\n",
       "    .dataframe tbody tr th:only-of-type {\n",
       "        vertical-align: middle;\n",
       "    }\n",
       "\n",
       "    .dataframe tbody tr th {\n",
       "        vertical-align: top;\n",
       "    }\n",
       "\n",
       "    .dataframe thead th {\n",
       "        text-align: right;\n",
       "    }\n",
       "</style>\n",
       "<table border=\"1\" class=\"dataframe\">\n",
       "  <thead>\n",
       "    <tr style=\"text-align: right;\">\n",
       "      <th></th>\n",
       "      <th>Columns</th>\n",
       "      <th>Type</th>\n",
       "    </tr>\n",
       "  </thead>\n",
       "  <tbody>\n",
       "    <tr>\n",
       "      <th>0</th>\n",
       "      <td>kitchen_m2</td>\n",
       "      <td>&lt;class 'numpy.float64'&gt;</td>\n",
       "    </tr>\n",
       "    <tr>\n",
       "      <th>1</th>\n",
       "      <td>total_m2</td>\n",
       "      <td>&lt;class 'numpy.float64'&gt;</td>\n",
       "    </tr>\n",
       "    <tr>\n",
       "      <th>2</th>\n",
       "      <td>live_m2</td>\n",
       "      <td>&lt;class 'numpy.float64'&gt;</td>\n",
       "    </tr>\n",
       "  </tbody>\n",
       "</table>\n",
       "</div>"
      ],
      "text/plain": [
       "      Columns                     Type\n",
       "0  kitchen_m2  <class 'numpy.float64'>\n",
       "1    total_m2  <class 'numpy.float64'>\n",
       "2     live_m2  <class 'numpy.float64'>"
      ]
     },
     "execution_count": 60,
     "metadata": {},
     "output_type": "execute_result"
    }
   ],
   "source": [
    "# теперь нужна цифра\n",
    "# смотрим\n",
    "column_type(data[['kitchen_m2', 'total_m2', 'live_m2']])"
   ]
  },
  {
   "cell_type": "code",
   "execution_count": 61,
   "metadata": {},
   "outputs": [
    {
     "data": {
      "text/html": [
       "<div>\n",
       "<style scoped>\n",
       "    .dataframe tbody tr th:only-of-type {\n",
       "        vertical-align: middle;\n",
       "    }\n",
       "\n",
       "    .dataframe tbody tr th {\n",
       "        vertical-align: top;\n",
       "    }\n",
       "\n",
       "    .dataframe thead th {\n",
       "        text-align: right;\n",
       "    }\n",
       "</style>\n",
       "<table border=\"1\" class=\"dataframe\">\n",
       "  <thead>\n",
       "    <tr style=\"text-align: right;\">\n",
       "      <th></th>\n",
       "      <th>total_m2</th>\n",
       "      <th>live_m2</th>\n",
       "      <th>kitchen_m2</th>\n",
       "    </tr>\n",
       "  </thead>\n",
       "  <tbody>\n",
       "    <tr>\n",
       "      <th>0</th>\n",
       "      <td>200.0</td>\n",
       "      <td>0.0</td>\n",
       "      <td>20.0</td>\n",
       "    </tr>\n",
       "    <tr>\n",
       "      <th>1</th>\n",
       "      <td>198.0</td>\n",
       "      <td>95.0</td>\n",
       "      <td>18.0</td>\n",
       "    </tr>\n",
       "    <tr>\n",
       "      <th>2</th>\n",
       "      <td>200.0</td>\n",
       "      <td>116.0</td>\n",
       "      <td>4.0</td>\n",
       "    </tr>\n",
       "    <tr>\n",
       "      <th>3</th>\n",
       "      <td>170.0</td>\n",
       "      <td>95.0</td>\n",
       "      <td>17.0</td>\n",
       "    </tr>\n",
       "    <tr>\n",
       "      <th>4</th>\n",
       "      <td>58.0</td>\n",
       "      <td>38.0</td>\n",
       "      <td>5.0</td>\n",
       "    </tr>\n",
       "  </tbody>\n",
       "</table>\n",
       "</div>"
      ],
      "text/plain": [
       "   total_m2  live_m2  kitchen_m2\n",
       "0     200.0      0.0        20.0\n",
       "1     198.0     95.0        18.0\n",
       "2     200.0    116.0         4.0\n",
       "3     170.0     95.0        17.0\n",
       "4      58.0     38.0         5.0"
      ]
     },
     "execution_count": 61,
     "metadata": {},
     "output_type": "execute_result"
    }
   ],
   "source": [
    "# предположим мы удачно разделили кухню и жилую зону\n",
    "# используем это для будущим моделей для закрытия NaN\n",
    "data.loc[:, 'total_m2_x2'] = data['total_m2']**2\n",
    "data[['total_m2', 'live_m2', 'kitchen_m2']].head()"
   ]
  },
  {
   "cell_type": "code",
   "execution_count": 62,
   "metadata": {},
   "outputs": [
    {
     "data": {
      "text/plain": [
       "16025"
      ]
     },
     "execution_count": 62,
     "metadata": {},
     "output_type": "execute_result"
    }
   ],
   "source": [
    "# отберем все ненулевые записи - живой вариант без студий\n",
    "b2 = data[data['live_m2'] >0]\n",
    "len(b2) #17312"
   ]
  },
  {
   "cell_type": "code",
   "execution_count": 63,
   "metadata": {},
   "outputs": [
    {
     "data": {
      "text/html": [
       "<div>\n",
       "<style scoped>\n",
       "    .dataframe tbody tr th:only-of-type {\n",
       "        vertical-align: middle;\n",
       "    }\n",
       "\n",
       "    .dataframe tbody tr th {\n",
       "        vertical-align: top;\n",
       "    }\n",
       "\n",
       "    .dataframe thead th {\n",
       "        text-align: right;\n",
       "    }\n",
       "</style>\n",
       "<table border=\"1\" class=\"dataframe\">\n",
       "  <thead>\n",
       "    <tr style=\"text-align: right;\">\n",
       "      <th></th>\n",
       "      <th>Площадь, м2</th>\n",
       "      <th>total_m2</th>\n",
       "      <th>live_m2</th>\n",
       "      <th>kitchen_m2</th>\n",
       "    </tr>\n",
       "  </thead>\n",
       "  <tbody>\n",
       "    <tr>\n",
       "      <th>1</th>\n",
       "      <td>198.0/95.0/18.0</td>\n",
       "      <td>198.0</td>\n",
       "      <td>95.0</td>\n",
       "      <td>18.0</td>\n",
       "    </tr>\n",
       "    <tr>\n",
       "      <th>2</th>\n",
       "      <td>200.0/116.0/4.0</td>\n",
       "      <td>200.0</td>\n",
       "      <td>116.0</td>\n",
       "      <td>4.0</td>\n",
       "    </tr>\n",
       "    <tr>\n",
       "      <th>3</th>\n",
       "      <td>170.0/95.0/17.0</td>\n",
       "      <td>170.0</td>\n",
       "      <td>95.0</td>\n",
       "      <td>17.0</td>\n",
       "    </tr>\n",
       "    <tr>\n",
       "      <th>4</th>\n",
       "      <td>58.0/38.0/5.0</td>\n",
       "      <td>58.0</td>\n",
       "      <td>38.0</td>\n",
       "      <td>5.0</td>\n",
       "    </tr>\n",
       "    <tr>\n",
       "      <th>6</th>\n",
       "      <td>213.0/140.0/20.0</td>\n",
       "      <td>213.0</td>\n",
       "      <td>140.0</td>\n",
       "      <td>20.0</td>\n",
       "    </tr>\n",
       "  </tbody>\n",
       "</table>\n",
       "</div>"
      ],
      "text/plain": [
       "        Площадь, м2  total_m2  live_m2  kitchen_m2\n",
       "1   198.0/95.0/18.0     198.0     95.0        18.0\n",
       "2   200.0/116.0/4.0     200.0    116.0         4.0\n",
       "3   170.0/95.0/17.0     170.0     95.0        17.0\n",
       "4     58.0/38.0/5.0      58.0     38.0         5.0\n",
       "6  213.0/140.0/20.0     213.0    140.0        20.0"
      ]
     },
     "execution_count": 63,
     "metadata": {},
     "output_type": "execute_result"
    }
   ],
   "source": [
    "# оставим только значения для анализа\n",
    "b2[['Площадь, м2', 'total_m2', 'live_m2', 'kitchen_m2']].head()"
   ]
  },
  {
   "cell_type": "code",
   "execution_count": 64,
   "metadata": {},
   "outputs": [
    {
     "name": "stdout",
     "output_type": "stream",
     "text": [
      "                            OLS Regression Results                            \n",
      "==============================================================================\n",
      "Dep. Variable:                live_m2   R-squared:                       0.891\n",
      "Model:                            OLS   Adj. R-squared:                  0.891\n",
      "Method:                 Least Squares   F-statistic:                 6.538e+04\n",
      "Date:                Mon, 30 Dec 2024   Prob (F-statistic):               0.00\n",
      "Time:                        10:11:24   Log-Likelihood:                -58490.\n",
      "No. Observations:               16025   AIC:                         1.170e+05\n",
      "Df Residuals:                   16022   BIC:                         1.170e+05\n",
      "Df Model:                           2                                         \n",
      "Covariance Type:            nonrobust                                         \n",
      "===============================================================================\n",
      "                  coef    std err          t      P>|t|      [0.025      0.975]\n",
      "-------------------------------------------------------------------------------\n",
      "const          -4.1274      0.174    -23.721      0.000      -4.468      -3.786\n",
      "total_m2        0.6814      0.003    211.134      0.000       0.675       0.688\n",
      "total_m2_x2    -0.0002   8.46e-06    -22.102      0.000      -0.000      -0.000\n",
      "==============================================================================\n",
      "Omnibus:                    11555.815   Durbin-Watson:                   1.915\n",
      "Prob(Omnibus):                  0.000   Jarque-Bera (JB):         11039788.113\n",
      "Skew:                          -2.094   Prob(JB):                         0.00\n",
      "Kurtosis:                     131.516   Cond. No.                     4.07e+04\n",
      "==============================================================================\n",
      "\n",
      "Notes:\n",
      "[1] Standard Errors assume that the covariance matrix of the errors is correctly specified.\n",
      "[2] The condition number is large, 4.07e+04. This might indicate that there are\n",
      "strong multicollinearity or other numerical problems.\n"
     ]
    }
   ],
   "source": [
    "#а построим модель?\n",
    "# площадь жилая\n",
    "live01 = sm.add_constant(b2[['total_m2', 'total_m2_x2']])\n",
    "model_live01 = OLS(b2['live_m2'], live01, hasconst=True).fit()\n",
    "\n",
    "print(model_live01.summary())\n",
    "# R2 = 0.891\n",
    "# здесь неплохо"
   ]
  },
  {
   "cell_type": "code",
   "execution_count": 65,
   "metadata": {},
   "outputs": [
    {
     "data": {
      "text/plain": [
       "-4.127387866602192"
      ]
     },
     "execution_count": 65,
     "metadata": {},
     "output_type": "execute_result"
    }
   ],
   "source": [
    "# коэффиуиент const - смотрим\n",
    "live_m2_const = model_live01.params\n",
    "live_m2_const.iloc[0]"
   ]
  },
  {
   "cell_type": "code",
   "execution_count": 66,
   "metadata": {},
   "outputs": [
    {
     "data": {
      "text/html": [
       "<div>\n",
       "<style scoped>\n",
       "    .dataframe tbody tr th:only-of-type {\n",
       "        vertical-align: middle;\n",
       "    }\n",
       "\n",
       "    .dataframe tbody tr th {\n",
       "        vertical-align: top;\n",
       "    }\n",
       "\n",
       "    .dataframe thead th {\n",
       "        text-align: right;\n",
       "    }\n",
       "</style>\n",
       "<table border=\"1\" class=\"dataframe\">\n",
       "  <thead>\n",
       "    <tr style=\"text-align: right;\">\n",
       "      <th></th>\n",
       "      <th>Площадь, м2</th>\n",
       "      <th>total_m2</th>\n",
       "      <th>live_m2</th>\n",
       "      <th>kitchen_m2</th>\n",
       "    </tr>\n",
       "  </thead>\n",
       "  <tbody>\n",
       "    <tr>\n",
       "      <th>0</th>\n",
       "      <td>200.0/20.0</td>\n",
       "      <td>200.0</td>\n",
       "      <td>145.0</td>\n",
       "      <td>20.0</td>\n",
       "    </tr>\n",
       "    <tr>\n",
       "      <th>1</th>\n",
       "      <td>198.0/95.0/18.0</td>\n",
       "      <td>198.0</td>\n",
       "      <td>95.0</td>\n",
       "      <td>18.0</td>\n",
       "    </tr>\n",
       "    <tr>\n",
       "      <th>2</th>\n",
       "      <td>200.0/116.0/4.0</td>\n",
       "      <td>200.0</td>\n",
       "      <td>116.0</td>\n",
       "      <td>4.0</td>\n",
       "    </tr>\n",
       "    <tr>\n",
       "      <th>3</th>\n",
       "      <td>170.0/95.0/17.0</td>\n",
       "      <td>170.0</td>\n",
       "      <td>95.0</td>\n",
       "      <td>17.0</td>\n",
       "    </tr>\n",
       "    <tr>\n",
       "      <th>4</th>\n",
       "      <td>58.0/38.0/5.0</td>\n",
       "      <td>58.0</td>\n",
       "      <td>38.0</td>\n",
       "      <td>5.0</td>\n",
       "    </tr>\n",
       "  </tbody>\n",
       "</table>\n",
       "</div>"
      ],
      "text/plain": [
       "       Площадь, м2  total_m2  live_m2  kitchen_m2\n",
       "0       200.0/20.0     200.0    145.0        20.0\n",
       "1  198.0/95.0/18.0     198.0     95.0        18.0\n",
       "2  200.0/116.0/4.0     200.0    116.0         4.0\n",
       "3  170.0/95.0/17.0     170.0     95.0        17.0\n",
       "4    58.0/38.0/5.0      58.0     38.0         5.0"
      ]
     },
     "execution_count": 66,
     "metadata": {},
     "output_type": "execute_result"
    }
   ],
   "source": [
    "# используем модель для пустых значений\n",
    "# используем копию массива и полученную модель\n",
    "#b3['live_m22'] = 0\n",
    "for i in range(0, len(data)):\n",
    "    if data.loc[i, 'live_m2'] == 0:\n",
    "        data.loc[i, 'live_m2'] = int(model_live01.predict([live_m2_const.iloc[0], data.loc[i, 'total_m2'], data.loc[i, 'total_m2_x2']])[0])\n",
    "data[['Площадь, м2', 'total_m2', 'live_m2', 'kitchen_m2']].head()\n",
    "# позитивно"
   ]
  },
  {
   "cell_type": "code",
   "execution_count": 67,
   "metadata": {},
   "outputs": [
    {
     "name": "stdout",
     "output_type": "stream",
     "text": [
      "                            OLS Regression Results                            \n",
      "==============================================================================\n",
      "Dep. Variable:             kitchen_m2   R-squared:                       0.486\n",
      "Model:                            OLS   Adj. R-squared:                  0.486\n",
      "Method:                 Least Squares   F-statistic:                     3841.\n",
      "Date:                Mon, 30 Dec 2024   Prob (F-statistic):               0.00\n",
      "Time:                        10:11:26   Log-Likelihood:                -43700.\n",
      "No. Observations:               16275   AIC:                         8.741e+04\n",
      "Df Residuals:                   16270   BIC:                         8.745e+04\n",
      "Df Model:                           4                                         \n",
      "Covariance Type:            nonrobust                                         \n",
      "===============================================================================\n",
      "                  coef    std err          t      P>|t|      [0.025      0.975]\n",
      "-------------------------------------------------------------------------------\n",
      "const           3.9754      0.068     58.685      0.000       3.843       4.108\n",
      "total_m2        0.2462      0.003     79.522      0.000       0.240       0.252\n",
      "total_m2_x2    -0.0003   6.42e-06    -47.008      0.000      -0.000      -0.000\n",
      "live_m2        -0.2271      0.005    -47.815      0.000      -0.236      -0.218\n",
      "live_m2_x2      0.0005   1.84e-05     28.509      0.000       0.000       0.001\n",
      "==============================================================================\n",
      "Omnibus:                    10015.591   Durbin-Watson:                   1.852\n",
      "Prob(Omnibus):                  0.000   Jarque-Bera (JB):           418112.980\n",
      "Skew:                           2.348   Prob(JB):                         0.00\n",
      "Kurtosis:                      27.383   Cond. No.                     4.68e+04\n",
      "==============================================================================\n",
      "\n",
      "Notes:\n",
      "[1] Standard Errors assume that the covariance matrix of the errors is correctly specified.\n",
      "[2] The condition number is large, 4.68e+04. This might indicate that there are\n",
      "strong multicollinearity or other numerical problems.\n"
     ]
    }
   ],
   "source": [
    "# готовимся к анализу площади кухни\n",
    "data.loc[:, 'live_m2_x2'] = data['live_m2']**2\n",
    "b2 = data[data['kitchen_m2'] != 0]\n",
    "\n",
    "# теперь площадь кухни\n",
    "kitchen01 = sm.add_constant(b2[['total_m2', 'total_m2_x2', 'live_m2', 'live_m2_x2']])\n",
    "model_kitchen01 = OLS(b2['kitchen_m2'], kitchen01, hasconst=True).fit()\n",
    "#results_kitchen01 = model_kitchen01.fit()\n",
    "print(model_kitchen01.summary())\n",
    "# R2 = 0.486 \n",
    "# очень плохо, но лучше нет"
   ]
  },
  {
   "cell_type": "code",
   "execution_count": 68,
   "metadata": {},
   "outputs": [
    {
     "data": {
      "image/png": "[encoded data removed]",
      "text/plain": [
       "<Figure size 490x280 with 1 Axes>"
      ]
     },
     "metadata": {},
     "output_type": "display_data"
    }
   ],
   "source": [
    "fig08 = plt.figure(figsize=(7, 4), dpi=70)\n",
    "plt.scatter(x=b2['total_m2'], y=b2['kitchen_m2'])\n",
    "plt.show()\n",
    "# график очень сильно расширяется, разброс большой\n",
    "# это и опдтверждает регресионный анализ"
   ]
  },
  {
   "cell_type": "code",
   "execution_count": 69,
   "metadata": {},
   "outputs": [],
   "source": [
    "# модель по кухне слабая, но это все что есть\n",
    "# лучше чем потерять несколько записей целиком\n",
    "# применяем подготовленные модели\n",
    "\n",
    "# коэффиуиент const - смотрим\n",
    "kitchen_m2_const = model_kitchen01.params\n",
    "\n",
    "for i in range(0, len(data)):\n",
    "    if data.loc[i, 'kitchen_m2'] == 0:\n",
    "        data.loc[i, 'kitchen_m2'] = int(model_kitchen01.predict([kitchen_m2_const.iloc[0], \n",
    "                                                              data.loc[i, 'total_m2'], \n",
    "                                                              data.loc[i, 'total_m2_x2'],\n",
    "                                                              data.loc[i, 'live_m2'],\n",
    "                                                              data.loc[i, 'live_m2_x2']\n",
    "                                                              ])[0])\n",
    "#data[['Площадь, м2', 'total_m2', 'live_m2', 'kitchen_m2']].head()\n"
   ]
  },
  {
   "cell_type": "code",
   "execution_count": 70,
   "metadata": {},
   "outputs": [],
   "source": [
    "# удаляем ненужные столбцы\n",
    "data = data.drop('Площадь, м2', axis=1) \n",
    "data = data.drop('live_m2_x2', axis=1) \n",
    "data = data.drop('total_m2_x2', axis=1) "
   ]
  },
  {
   "cell_type": "markdown",
   "metadata": {},
   "source": [
    "# Ремонт квартиры"
   ]
  },
  {
   "cell_type": "code",
   "execution_count": 71,
   "metadata": {},
   "outputs": [
    {
     "data": {
      "text/plain": [
       "{nan, 'Без ремонта', 'Дизайнерский', 'Евроремонт', 'Косметический'}"
      ]
     },
     "execution_count": 71,
     "metadata": {},
     "output_type": "execute_result"
    }
   ],
   "source": [
    " # какие типы ремонтов в массиве\n",
    "set(data['Ремонт']) "
   ]
  },
  {
   "cell_type": "code",
   "execution_count": 72,
   "metadata": {},
   "outputs": [
    {
     "data": {
      "text/plain": [
       "2460"
      ]
     },
     "execution_count": 72,
     "metadata": {},
     "output_type": "execute_result"
    }
   ],
   "source": [
    "# пустышек: \n",
    "len(data[data['Ремонт'].isna()]) # 2460"
   ]
  },
  {
   "cell_type": "code",
   "execution_count": 73,
   "metadata": {},
   "outputs": [],
   "source": [
    "# предлагаю NaN сделать первое значение\n",
    "data.loc[data['Ремонт'].isna(), 'Ремонт'] = 'Без ремонта'\n"
   ]
  },
  {
   "cell_type": "code",
   "execution_count": 74,
   "metadata": {},
   "outputs": [
    {
     "data": {
      "text/plain": [
       "0"
      ]
     },
     "execution_count": 74,
     "metadata": {},
     "output_type": "execute_result"
    }
   ],
   "source": [
    "# пустышек не осталось: \n",
    "len(data[data['Ремонт'].isna()]) # 0"
   ]
  },
  {
   "cell_type": "code",
   "execution_count": 75,
   "metadata": {},
   "outputs": [],
   "source": [
    "# кодируем\n",
    "# le01 = LabelEncoder()\n",
    "# le01.fit(data['Ремонт'])\n",
    "# data['remont'] = le01.transform(data['Ремонт'])"
   ]
  },
  {
   "cell_type": "code",
   "execution_count": 76,
   "metadata": {},
   "outputs": [],
   "source": [
    "#{nan, 'Без ремонта', 'Дизайнерский', 'Евроремонт', 'Косметический'}\n",
    "data['remont_cosm'] = 0\n",
    "data['remont_no'] = 0\n",
    "data['remont_euro'] = 0\n",
    "data['remont_design'] = 0"
   ]
  },
  {
   "cell_type": "code",
   "execution_count": 77,
   "metadata": {},
   "outputs": [],
   "source": [
    "data.loc[data['Ремонт'] == 'Косметический' ,'remont_cosm'] = 1\n",
    "data.loc[data['Ремонт'] == 'Без ремонта' ,'remont_no'] = 1\n",
    "data.loc[data['Ремонт'] == 'Евроремонт' ,'remont_euro'] = 1\n",
    "data.loc[data['Ремонт'] == 'Дизайнерский' ,'remont_design'] = 1"
   ]
  },
  {
   "cell_type": "code",
   "execution_count": 78,
   "metadata": {},
   "outputs": [],
   "source": [
    "# удаляем лишнее\n",
    "data = data.drop('Ремонт', axis=1) "
   ]
  },
  {
   "cell_type": "markdown",
   "metadata": {},
   "source": [
    "# Параметры санузла"
   ]
  },
  {
   "cell_type": "code",
   "execution_count": 79,
   "metadata": {},
   "outputs": [
    {
     "data": {
      "text/plain": [
       "21"
      ]
     },
     "execution_count": 79,
     "metadata": {},
     "output_type": "execute_result"
    }
   ],
   "source": [
    "len(set(data['Санузел'])) #21"
   ]
  },
  {
   "cell_type": "code",
   "execution_count": 80,
   "metadata": {},
   "outputs": [
    {
     "data": {
      "text/plain": [
       "{nan,\n",
       " 'Раздельный (1)',\n",
       " 'Раздельный (2)',\n",
       " 'Раздельный (3)',\n",
       " 'Раздельный (4)',\n",
       " 'Совмещенный (1)',\n",
       " 'Совмещенный (1), Раздельный (1)',\n",
       " 'Совмещенный (1), Раздельный (2)',\n",
       " 'Совмещенный (1), Раздельный (3)',\n",
       " 'Совмещенный (2)',\n",
       " 'Совмещенный (2), Раздельный (1)',\n",
       " 'Совмещенный (2), Раздельный (2)',\n",
       " 'Совмещенный (2), Раздельный (3)',\n",
       " 'Совмещенный (2), Раздельный (4)',\n",
       " 'Совмещенный (3)',\n",
       " 'Совмещенный (3), Раздельный (1)',\n",
       " 'Совмещенный (3), Раздельный (2)',\n",
       " 'Совмещенный (3), Раздельный (3)',\n",
       " 'Совмещенный (4)',\n",
       " 'Совмещенный (4), Раздельный (1)',\n",
       " 'Совмещенный (4), Раздельный (2)'}"
      ]
     },
     "execution_count": 80,
     "metadata": {},
     "output_type": "execute_result"
    }
   ],
   "source": [
    "set(data['Санузел'])\n",
    "# даже если значение пропущено, то туалет все равно есть\n",
    "# предположим что пропущенные значения - это совмещенный туалет\n",
    "# удаляем NaN"
   ]
  },
  {
   "cell_type": "code",
   "execution_count": 81,
   "metadata": {},
   "outputs": [
    {
     "data": {
      "text/plain": [
       "0"
      ]
     },
     "execution_count": 81,
     "metadata": {},
     "output_type": "execute_result"
    }
   ],
   "source": [
    "data.loc[data['Санузел'].isna(), 'Санузел'] = 'Совмещенный (1)'\n",
    "len(data[data['Санузел'].isna()]) # =0"
   ]
  },
  {
   "cell_type": "code",
   "execution_count": 82,
   "metadata": {},
   "outputs": [],
   "source": [
    "# готовим новые столбцы\n",
    "data['toilet_sep'] = 0 \n",
    "data['toilet_unted'] = 0"
   ]
  },
  {
   "cell_type": "code",
   "execution_count": 83,
   "metadata": {},
   "outputs": [
    {
     "name": "stderr",
     "output_type": "stream",
     "text": [
      "/tmp/ipykernel_6347/3751369422.py:10: FutureWarning: Setting an item of incompatible dtype is deprecated and will raise an error in a future version of pandas. Value '1' has dtype incompatible with int64, please explicitly cast to a compatible dtype first.\n",
      "  data.loc[i, 'toilet_unted'] = balk[0]\n",
      "/tmp/ipykernel_6347/3751369422.py:5: FutureWarning: Setting an item of incompatible dtype is deprecated and will raise an error in a future version of pandas. Value '1' has dtype incompatible with int64, please explicitly cast to a compatible dtype first.\n",
      "  data.loc[i, 'toilet_unted'], data.loc[i, 'toilet_sep'] = balk\n"
     ]
    }
   ],
   "source": [
    "for i in range(0,len(data)):\n",
    "    if data.loc[i, 'Санузел'] is not np.NaN:\n",
    "        balk = re.findall(r'\\d+', data.loc[i, 'Санузел'])\n",
    "        if len(balk)>1:\n",
    "            data.loc[i, 'toilet_unted'], data.loc[i, 'toilet_sep'] = balk\n",
    "        else:\n",
    "            if re.match(r'^Раздельный', data.loc[i, 'Санузел']):\n",
    "                data.loc[i, 'toilet_sep'] = balk[0]\n",
    "            else:\n",
    "                data.loc[i, 'toilet_unted'] = balk[0]"
   ]
  },
  {
   "cell_type": "code",
   "execution_count": 84,
   "metadata": {},
   "outputs": [
    {
     "data": {
      "text/html": [
       "<div>\n",
       "<style scoped>\n",
       "    .dataframe tbody tr th:only-of-type {\n",
       "        vertical-align: middle;\n",
       "    }\n",
       "\n",
       "    .dataframe tbody tr th {\n",
       "        vertical-align: top;\n",
       "    }\n",
       "\n",
       "    .dataframe thead th {\n",
       "        text-align: right;\n",
       "    }\n",
       "</style>\n",
       "<table border=\"1\" class=\"dataframe\">\n",
       "  <thead>\n",
       "    <tr style=\"text-align: right;\">\n",
       "      <th></th>\n",
       "      <th>Санузел</th>\n",
       "      <th>toilet_sep</th>\n",
       "      <th>toilet_unted</th>\n",
       "    </tr>\n",
       "  </thead>\n",
       "  <tbody>\n",
       "    <tr>\n",
       "      <th>19527</th>\n",
       "      <td>Совмещенный (1)</td>\n",
       "      <td>0</td>\n",
       "      <td>1</td>\n",
       "    </tr>\n",
       "    <tr>\n",
       "      <th>19528</th>\n",
       "      <td>Совмещенный (1), Раздельный (1)</td>\n",
       "      <td>1</td>\n",
       "      <td>1</td>\n",
       "    </tr>\n",
       "    <tr>\n",
       "      <th>19529</th>\n",
       "      <td>Раздельный (1)</td>\n",
       "      <td>1</td>\n",
       "      <td>0</td>\n",
       "    </tr>\n",
       "  </tbody>\n",
       "</table>\n",
       "</div>"
      ],
      "text/plain": [
       "                               Санузел toilet_sep toilet_unted\n",
       "19527                  Совмещенный (1)          0            1\n",
       "19528  Совмещенный (1), Раздельный (1)          1            1\n",
       "19529                   Раздельный (1)          1            0"
      ]
     },
     "execution_count": 84,
     "metadata": {},
     "output_type": "execute_result"
    }
   ],
   "source": [
    "data[['Санузел', 'toilet_sep', 'toilet_unted']].tail(3) #ok"
   ]
  },
  {
   "cell_type": "code",
   "execution_count": 85,
   "metadata": {},
   "outputs": [],
   "source": [
    "data = data.drop('Санузел', axis=1) # удаляем ненужные столбцы\n",
    "data['toilet_sep'] = data['toilet_sep'].astype(float)\n",
    "data['toilet_unted'] = data['toilet_unted'].astype(float)"
   ]
  },
  {
   "cell_type": "markdown",
   "metadata": {},
   "source": [
    "# Окна из квартиры"
   ]
  },
  {
   "cell_type": "code",
   "execution_count": 86,
   "metadata": {},
   "outputs": [
    {
     "data": {
      "text/plain": [
       "4"
      ]
     },
     "execution_count": 86,
     "metadata": {},
     "output_type": "execute_result"
    }
   ],
   "source": [
    "len(set(data['Окна'])) #19"
   ]
  },
  {
   "cell_type": "code",
   "execution_count": 87,
   "metadata": {},
   "outputs": [
    {
     "data": {
      "text/plain": [
       "{nan, 'Во двор', 'На улицу', 'На улицу и двор'}"
      ]
     },
     "execution_count": 87,
     "metadata": {},
     "output_type": "execute_result"
    }
   ],
   "source": [
    "# какие уникальные значения\n",
    "set(data['Окна'])"
   ]
  },
  {
   "cell_type": "code",
   "execution_count": 88,
   "metadata": {},
   "outputs": [
    {
     "data": {
      "text/plain": [
       "5092"
      ]
     },
     "execution_count": 88,
     "metadata": {},
     "output_type": "execute_result"
    }
   ],
   "source": [
    "len(data[data['Окна'].isna()]) # 5092 - очень много\n",
    "# предположим что nan - это окна на улицу "
   ]
  },
  {
   "cell_type": "code",
   "execution_count": 89,
   "metadata": {},
   "outputs": [
    {
     "data": {
      "text/plain": [
       "0"
      ]
     },
     "execution_count": 89,
     "metadata": {},
     "output_type": "execute_result"
    }
   ],
   "source": [
    "data.loc[data['Окна'].isna(), 'Окна'] = 'Во двор'\n",
    "len(data[data['Окна'].isna()]) # 0 - убрали все @metka"
   ]
  },
  {
   "cell_type": "code",
   "execution_count": 90,
   "metadata": {},
   "outputs": [],
   "source": [
    "# # кодируем\n",
    "# le01 = LabelEncoder()\n",
    "# le01.fit(data['Окна'])\n",
    "# data['windows'] = le01.transform(data['Окна'])\n",
    "\n",
    "# dict(zip(le01.classes_, range(len(le01.classes_)))) # а вот и словарь\n",
    "# {'Во двор': 0, 'На улицу': 1, 'На улицу и двор': 2}"
   ]
  },
  {
   "cell_type": "code",
   "execution_count": 91,
   "metadata": {},
   "outputs": [],
   "source": [
    "data['window_back'] = 0\n",
    "data['window_street'] = 0\n",
    "data['windowb_bs'] = 0"
   ]
  },
  {
   "cell_type": "code",
   "execution_count": 92,
   "metadata": {},
   "outputs": [],
   "source": [
    "data.loc[data['Окна']== 'Во двор', 'window_back'] = 1\n",
    "data.loc[data['Окна']== 'На улицу', 'window_street'] = 1\n",
    "data.loc[data['Окна']== 'На улицу и двор', 'windowb_bs'] = 1"
   ]
  },
  {
   "cell_type": "code",
   "execution_count": 93,
   "metadata": {},
   "outputs": [],
   "source": [
    "data = data.drop('Окна', axis=1) # удаляем ненужные столбцы"
   ]
  },
  {
   "cell_type": "markdown",
   "metadata": {},
   "source": [
    "# Балкон"
   ]
  },
  {
   "cell_type": "code",
   "execution_count": 94,
   "metadata": {},
   "outputs": [
    {
     "data": {
      "text/plain": [
       "19"
      ]
     },
     "execution_count": 94,
     "metadata": {},
     "output_type": "execute_result"
    }
   ],
   "source": [
    "len(set(data['Балкон'])) # 19 - всего уникальных"
   ]
  },
  {
   "cell_type": "code",
   "execution_count": 95,
   "metadata": {},
   "outputs": [
    {
     "data": {
      "text/plain": [
       "{nan,\n",
       " 'Балкон (1)',\n",
       " 'Балкон (1), Лоджия (1)',\n",
       " 'Балкон (1), Лоджия (2)',\n",
       " 'Балкон (1), Лоджия (3)',\n",
       " 'Балкон (1), Лоджия (4)',\n",
       " 'Балкон (2)',\n",
       " 'Балкон (2), Лоджия (1)',\n",
       " 'Балкон (2), Лоджия (2)',\n",
       " 'Балкон (2), Лоджия (3)',\n",
       " 'Балкон (3)',\n",
       " 'Балкон (3), Лоджия (1)',\n",
       " 'Балкон (3), Лоджия (3)',\n",
       " 'Балкон (4)',\n",
       " 'Балкон (4), Лоджия (4)',\n",
       " 'Лоджия (1)',\n",
       " 'Лоджия (2)',\n",
       " 'Лоджия (3)',\n",
       " 'Лоджия (4)'}"
      ]
     },
     "execution_count": 95,
     "metadata": {},
     "output_type": "execute_result"
    }
   ],
   "source": [
    "set(data['Балкон'])"
   ]
  },
  {
   "cell_type": "code",
   "execution_count": 96,
   "metadata": {},
   "outputs": [
    {
     "data": {
      "text/plain": [
       "6583"
      ]
     },
     "execution_count": 96,
     "metadata": {},
     "output_type": "execute_result"
    }
   ],
   "source": [
    "len(data[data['Балкон'].isna()]) # 6583 - очень много\n",
    "# если балкон не указан - думаем что его нет"
   ]
  },
  {
   "cell_type": "code",
   "execution_count": 97,
   "metadata": {},
   "outputs": [
    {
     "data": {
      "text/plain": [
       "0"
      ]
     },
     "execution_count": 97,
     "metadata": {},
     "output_type": "execute_result"
    }
   ],
   "source": [
    "data.loc[data['Балкон'].isna(), 'Балкон'] = 'Балкон (1)'\n",
    "len(data[data['Балкон'].isna()]) # 6583 - очень много"
   ]
  },
  {
   "cell_type": "code",
   "execution_count": 98,
   "metadata": {},
   "outputs": [],
   "source": [
    "# готовим новые столбцы\n",
    "data['balcony'] = 0  # число балконов\n",
    "data['loggia'] = 0 # число лоджий"
   ]
  },
  {
   "cell_type": "code",
   "execution_count": 99,
   "metadata": {},
   "outputs": [
    {
     "data": {
      "text/plain": [
       "'Лоджия (1)'"
      ]
     },
     "execution_count": 99,
     "metadata": {},
     "output_type": "execute_result"
    }
   ],
   "source": [
    "data.loc[i, 'Балкон']"
   ]
  },
  {
   "cell_type": "code",
   "execution_count": 100,
   "metadata": {},
   "outputs": [
    {
     "name": "stderr",
     "output_type": "stream",
     "text": [
      "/tmp/ipykernel_6347/122677479.py:8: FutureWarning: Setting an item of incompatible dtype is deprecated and will raise an error in a future version of pandas. Value '1' has dtype incompatible with int64, please explicitly cast to a compatible dtype first.\n",
      "  data.loc[i, 'balcony'] = balk[0]\n",
      "/tmp/ipykernel_6347/122677479.py:10: FutureWarning: Setting an item of incompatible dtype is deprecated and will raise an error in a future version of pandas. Value '1' has dtype incompatible with int64, please explicitly cast to a compatible dtype first.\n",
      "  data.loc[i, 'loggia'] = balk[0]\n"
     ]
    }
   ],
   "source": [
    "for i in range(0,len(data)):\n",
    "    if data.loc[i, 'Балкон'] is not np.NaN:\n",
    "        if data.loc[i, 'Балкон'] != 'Нет':\n",
    "            balk = re.findall(r'\\d+', data.loc[i, 'Балкон'])\n",
    "            if len(balk)>1:\n",
    "                data.loc[i, 'balcony'], data.loc[i, 'loggia'] = balk\n",
    "            if re.match(r'^Балкон', data.loc[i, 'Балкон']):\n",
    "                data.loc[i, 'balcony'] = balk[0]\n",
    "            else:\n",
    "                data.loc[i, 'loggia'] = balk[0]"
   ]
  },
  {
   "cell_type": "code",
   "execution_count": 101,
   "metadata": {},
   "outputs": [],
   "source": [
    "data = data.drop('Балкон', axis=1) #удаляем первоначальный столбец"
   ]
  },
  {
   "cell_type": "code",
   "execution_count": 102,
   "metadata": {},
   "outputs": [],
   "source": [
    "data['balcony'] = data['balcony'].astype(float)\n",
    "data['loggia'] = data['loggia'].astype(float)"
   ]
  },
  {
   "cell_type": "markdown",
   "metadata": {},
   "source": [
    "# Количество комнат"
   ]
  },
  {
   "cell_type": "code",
   "execution_count": 103,
   "metadata": {},
   "outputs": [
    {
     "data": {
      "text/plain": [
       "25"
      ]
     },
     "execution_count": 103,
     "metadata": {},
     "output_type": "execute_result"
    }
   ],
   "source": [
    "len(set(data['Количество комнат'])) #25"
   ]
  },
  {
   "cell_type": "code",
   "execution_count": 104,
   "metadata": {},
   "outputs": [],
   "source": [
    "#set(data['Количество комнат'])\n",
    "# {'1',\n",
    "#  '1, Изолированная',\n",
    "#  '1, Оба варианта',\n",
    "#  '1, Смежная',\n",
    "#  '2',"
   ]
  },
  {
   "cell_type": "markdown",
   "metadata": {},
   "source": [
    "- В колонке доступны две характристики - количество комнат и тип комнат.\n",
    "    - разделяем характеристики из строки\n",
    "    - будем считать что если количество комнат не указано, то она одна и изолированная (естественно)"
   ]
  },
  {
   "cell_type": "code",
   "execution_count": 105,
   "metadata": {},
   "outputs": [
    {
     "data": {
      "text/plain": [
       "533"
      ]
     },
     "execution_count": 105,
     "metadata": {},
     "output_type": "execute_result"
    }
   ],
   "source": [
    "# пропуски в первоначальных записях:\n",
    "len(data[data['Количество комнат'].isna()]) # пропущенных 533 - неплохо, но многовато"
   ]
  },
  {
   "cell_type": "code",
   "execution_count": 106,
   "metadata": {},
   "outputs": [
    {
     "data": {
      "text/plain": [
       "0"
      ]
     },
     "execution_count": 106,
     "metadata": {},
     "output_type": "execute_result"
    }
   ],
   "source": [
    "# предположим что пропущенные значения -'1, Изолированная',\n",
    "# удаляем NaN\n",
    "data.loc[data['Количество комнат'].isna(), 'Количество комнат'] = '1, Смежная'\n",
    "len(data[data['Количество комнат'].isna()]) # =0 @metka"
   ]
  },
  {
   "cell_type": "code",
   "execution_count": 107,
   "metadata": {},
   "outputs": [],
   "source": [
    "data['rooms_sep'] = 0 #Изолированных\n",
    "data['rooms_unted'] = 0 # Смежных"
   ]
  },
  {
   "cell_type": "code",
   "execution_count": 108,
   "metadata": {},
   "outputs": [
    {
     "name": "stderr",
     "output_type": "stream",
     "text": [
      "/tmp/ipykernel_6347/3749969376.py:6: FutureWarning: Setting an item of incompatible dtype is deprecated and will raise an error in a future version of pandas. Value '4' has dtype incompatible with int64, please explicitly cast to a compatible dtype first.\n",
      "  data.loc[i, 'rooms_sep'] = balk[0]\n",
      "/tmp/ipykernel_6347/3749969376.py:15: FutureWarning: Setting an item of incompatible dtype is deprecated and will raise an error in a future version of pandas. Value '1' has dtype incompatible with int64, please explicitly cast to a compatible dtype first.\n",
      "  data.loc[i, 'rooms_sep'], data.loc[i, 'rooms_unted'] = str(int(balk[0])-f0), str(f0)\n"
     ]
    }
   ],
   "source": [
    "for i in range(0,len(data)):\n",
    "    if data.loc[i, 'Количество комнат'] is not np.NaN:\n",
    "        balk = re.findall(r'\\d+', data.loc[i, 'Количество комнат'])\n",
    "        if len(data.loc[i, 'Количество комнат']) == 1: \n",
    "            # предположим что если указана просто цифра, то все комнаты изолированные\n",
    "            data.loc[i, 'rooms_sep'] = balk[0]\n",
    "        else: # еще дан комментарий\n",
    "            if re.match(r'[а-яА-Я0-9., ]+Изолированная$', data.loc[i, 'Количество комнат']):\n",
    "                data.loc[i, 'rooms_sep'] = balk[0]\n",
    "            else: # иначе смежная\n",
    "                if int(balk[0]) == 2:\n",
    "                    data.loc[i, 'rooms_sep'], data.loc[i, 'rooms_unted'] = '1', '1'\n",
    "                else:\n",
    "                    f0 = int(int(balk[0])/3) # предположим одна смежная на две изолированных\n",
    "                    data.loc[i, 'rooms_sep'], data.loc[i, 'rooms_unted'] = str(int(balk[0])-f0), str(f0)\n",
    "\n"
   ]
  },
  {
   "cell_type": "code",
   "execution_count": 109,
   "metadata": {},
   "outputs": [],
   "source": [
    "data = data.drop('Количество комнат', axis=1) # удаляем ненужные столбцы"
   ]
  },
  {
   "cell_type": "code",
   "execution_count": 110,
   "metadata": {},
   "outputs": [],
   "source": [
    "data['rooms_sep'] = data['rooms_sep'].astype(float)\n",
    "data['rooms_unted'] = data['rooms_unted'].astype(float)"
   ]
  },
  {
   "cell_type": "code",
   "execution_count": 111,
   "metadata": {},
   "outputs": [],
   "source": [
    "# добавим дополнительный столбец с общим количеством комнат\n",
    "data['rooms'] = data['rooms_sep'] + data['rooms_unted']"
   ]
  },
  {
   "cell_type": "code",
   "execution_count": 112,
   "metadata": {},
   "outputs": [
    {
     "data": {
      "text/plain": [
       "0"
      ]
     },
     "execution_count": 112,
     "metadata": {},
     "output_type": "execute_result"
    }
   ],
   "source": [
    "# смотрим на количество пропущенных значений:\n",
    "# полное количество комнат\n",
    "len(data[data['rooms'].isna()]) #0"
   ]
  },
  {
   "cell_type": "code",
   "execution_count": 113,
   "metadata": {},
   "outputs": [
    {
     "data": {
      "text/plain": [
       "0"
      ]
     },
     "execution_count": 113,
     "metadata": {},
     "output_type": "execute_result"
    }
   ],
   "source": [
    "# количество смежных комнат\n",
    "len(data[data['rooms_unted'].isna()]) #0"
   ]
  },
  {
   "cell_type": "code",
   "execution_count": 114,
   "metadata": {},
   "outputs": [
    {
     "data": {
      "text/plain": [
       "0"
      ]
     },
     "execution_count": 114,
     "metadata": {},
     "output_type": "execute_result"
    }
   ],
   "source": [
    "# количество изолированных комнат\n",
    "len(data[data['rooms_sep'].isna()]) #0"
   ]
  },
  {
   "cell_type": "markdown",
   "metadata": {},
   "source": [
    "# Высота потолков"
   ]
  },
  {
   "cell_type": "code",
   "execution_count": 115,
   "metadata": {},
   "outputs": [
    {
     "data": {
      "text/plain": [
       "9209"
      ]
     },
     "execution_count": 115,
     "metadata": {},
     "output_type": "execute_result"
    }
   ],
   "source": [
    "len(set(data['Высота потолков, м'])) #9209"
   ]
  },
  {
   "cell_type": "code",
   "execution_count": 116,
   "metadata": {},
   "outputs": [],
   "source": [
    "#set(data['Высота потолков, м']) # уникальные\n",
    "# {2.5,\n",
    "#  3.5,\n",
    "#  3.0,\n",
    "#  4.0,\n",
    "#  5.5,\n",
    "#  ..."
   ]
  },
  {
   "cell_type": "code",
   "execution_count": 117,
   "metadata": {},
   "outputs": [
    {
     "data": {
      "text/plain": [
       "9120"
      ]
     },
     "execution_count": 117,
     "metadata": {},
     "output_type": "execute_result"
    }
   ],
   "source": [
    "len(data[data['Высота потолков, м'].isna()]) # 9120 - очень много"
   ]
  },
  {
   "cell_type": "code",
   "execution_count": 118,
   "metadata": {},
   "outputs": [
    {
     "data": {
      "text/plain": [
       "count    10410.000000\n",
       "mean         2.996952\n",
       "std          7.899654\n",
       "min          1.200000\n",
       "25%          2.640000\n",
       "50%          2.640000\n",
       "75%          2.800000\n",
       "max        320.000000\n",
       "Name: Высота потолков, м, dtype: float64"
      ]
     },
     "execution_count": 118,
     "metadata": {},
     "output_type": "execute_result"
    }
   ],
   "source": [
    "data['Высота потолков, м'].describe()\n",
    "# куча nan и много странных высот\n",
    "# есть значения 32 и 320"
   ]
  },
  {
   "cell_type": "code",
   "execution_count": 119,
   "metadata": {},
   "outputs": [
    {
     "data": {
      "text/plain": [
       "count    19530.000000\n",
       "mean         2.764888\n",
       "std          5.772627\n",
       "min          1.200000\n",
       "25%          2.500000\n",
       "50%          2.500000\n",
       "75%          2.640000\n",
       "max        320.000000\n",
       "Name: Высота потолков, м, dtype: float64"
      ]
     },
     "execution_count": 119,
     "metadata": {},
     "output_type": "execute_result"
    }
   ],
   "source": [
    "#data['Высота потолков, м'] = data['Высота потолков, м'].astype(str)\n",
    "data.loc[data['Высота потолков, м'].isna(), 'Высота потолков, м'] = 2.5 \n",
    "# поставим нечто среднее\n",
    "data.loc[data['Высота потолков, м'] == 'Не указан', 'Высота потолков, м'] = 2.5 \n",
    "# поставим нечто среднее\n",
    "data['Высота потолков, м'] = data['Высота потолков, м'].astype(float)\n",
    "data['Высота потолков, м'].describe()"
   ]
  },
  {
   "cell_type": "code",
   "execution_count": 120,
   "metadata": {},
   "outputs": [],
   "source": [
    "# корректируем очень высокие потолки - от 13 метров\n",
    "for i in range(0, len(data['Высота потолков, м'])):\n",
    "    if data.loc[i, 'Высота потолков, м'] > 100:\n",
    "        data.loc[i, 'Высота потолков, м'] = data.loc[i, 'Высота потолков, м'] / 100\n",
    "    if data.loc[i, 'Высота потолков, м'] > 13:\n",
    "        data.loc[i, 'Высота потолков, м'] = data.loc[i, 'Высота потолков, м'] / 10\n"
   ]
  },
  {
   "cell_type": "code",
   "execution_count": 121,
   "metadata": {},
   "outputs": [
    {
     "data": {
      "text/plain": [
       "count    19530.000000\n",
       "mean         2.637680\n",
       "std          0.238795\n",
       "min          2.000000\n",
       "25%          2.500000\n",
       "50%          2.500000\n",
       "75%          2.640000\n",
       "max          6.000000\n",
       "Name: Высота потолков, м, dtype: float64"
      ]
     },
     "execution_count": 121,
     "metadata": {},
     "output_type": "execute_result"
    }
   ],
   "source": [
    "data.loc[data['Высота потолков, м']<2,'Высота потолков, м'] = 2.5\n",
    "data.loc[data['Высота потолков, м']>7, 'Высота потолков, м'] = 6.0\n",
    "data['Высота потолков, м'].describe()"
   ]
  },
  {
   "cell_type": "code",
   "execution_count": 122,
   "metadata": {},
   "outputs": [],
   "source": [
    "data['ceiling'] = data['Высота потолков, м']\n",
    "data = data.drop('Высота потолков, м', axis=1)"
   ]
  },
  {
   "cell_type": "code",
   "execution_count": 123,
   "metadata": {},
   "outputs": [],
   "source": [
    "data['ceiling'] = data['ceiling'].astype(float)"
   ]
  },
  {
   "cell_type": "markdown",
   "metadata": {},
   "source": [
    "# Мусоропровод "
   ]
  },
  {
   "cell_type": "code",
   "execution_count": 124,
   "metadata": {},
   "outputs": [
    {
     "data": {
      "text/plain": [
       "{nan, 'Да', 'Нет'}"
      ]
     },
     "execution_count": 124,
     "metadata": {},
     "output_type": "execute_result"
    }
   ],
   "source": [
    "set(data['Мусоропровод']) #{'Нет', 'Да', nan}"
   ]
  },
  {
   "cell_type": "code",
   "execution_count": 125,
   "metadata": {},
   "outputs": [
    {
     "data": {
      "text/plain": [
       "7977"
      ]
     },
     "execution_count": 125,
     "metadata": {},
     "output_type": "execute_result"
    }
   ],
   "source": [
    "# пустышек: \n",
    "len(data[data['Мусоропровод'].isna()]) # 8007"
   ]
  },
  {
   "cell_type": "code",
   "execution_count": 126,
   "metadata": {},
   "outputs": [],
   "source": [
    "# считаем что все квартиры в москве\n",
    "d1 = list(set(data['street']))\n",
    "for i in d1:\n",
    "    # выбираем одну улицу\n",
    "    data10 = data[data['street'] == i]\n",
    "    #делаем список по всем домам\n",
    "    d2 = list(set(data10['house']))\n",
    "    for j in d2:\n",
    "        #выбираем один дом\n",
    "        data22 = data10[data10['house'] == j]\n",
    "        if len(data22) > 1 :\n",
    "            #смотрим на все мусоропроводы\n",
    "            d3 = list(set(data22['Мусоропровод']))\n",
    "            if len(d3) == 2:\n",
    "                if d3[0] == 'NaN':\n",
    "                    dd10 = d3[1]\n",
    "                else:\n",
    "                    dd10 = d3[0]\n",
    "                # вносим изменения в основую таблицу\n",
    "                data.loc[((data['street']==i) & (data['house']==j)), 'Мусоропровод'] = dd10\n"
   ]
  },
  {
   "cell_type": "code",
   "execution_count": 127,
   "metadata": {},
   "outputs": [
    {
     "data": {
      "text/plain": [
       "10944"
      ]
     },
     "execution_count": 127,
     "metadata": {},
     "output_type": "execute_result"
    }
   ],
   "source": [
    "# проверяем как изменились пустышки \n",
    "len(data[data['Мусоропровод'].isna()]) # 4979"
   ]
  },
  {
   "cell_type": "code",
   "execution_count": 128,
   "metadata": {},
   "outputs": [
    {
     "data": {
      "text/plain": [
       "0"
      ]
     },
     "execution_count": 128,
     "metadata": {},
     "output_type": "execute_result"
    }
   ],
   "source": [
    "# предположим что все-таки есть мусоропровод \n",
    "data.loc[data['Мусоропровод'].isna(), 'Мусоропровод'] = 'Нет'\n",
    "# data.loc[data['Мусоропровод'] == '2.5', 'Мусоропровод'] = 'Нет'\n",
    "# data.loc[data['Мусоропровод'] == '6.0', 'Мусоропровод'] = 'Нет'\n",
    "len(data[data['Мусоропровод'].isna()]) # 0"
   ]
  },
  {
   "cell_type": "code",
   "execution_count": 129,
   "metadata": {},
   "outputs": [],
   "source": [
    "data['Мусоропровод'] = data['Мусоропровод'].astype(str)"
   ]
  },
  {
   "cell_type": "code",
   "execution_count": 130,
   "metadata": {},
   "outputs": [
    {
     "data": {
      "text/plain": [
       "{'Да': 0, 'Нет': 1}"
      ]
     },
     "execution_count": 130,
     "metadata": {},
     "output_type": "execute_result"
    }
   ],
   "source": [
    "# кодируем\n",
    "le01 = LabelEncoder()\n",
    "le01.fit(data['Мусоропровод'])\n",
    "data['g_chute'] = le01.transform(data['Мусоропровод'])\n",
    "dict(zip(le01.classes_, range(len(le01.classes_)))) # а вот и словарь"
   ]
  },
  {
   "cell_type": "code",
   "execution_count": 131,
   "metadata": {},
   "outputs": [],
   "source": [
    "data = data.drop('Мусоропровод', axis=1)"
   ]
  },
  {
   "cell_type": "markdown",
   "metadata": {},
   "source": [
    "# Удаленность от метро"
   ]
  },
  {
   "cell_type": "code",
   "execution_count": 132,
   "metadata": {},
   "outputs": [
    {
     "data": {
      "text/plain": [
       "4857"
      ]
     },
     "execution_count": 132,
     "metadata": {},
     "output_type": "execute_result"
    }
   ],
   "source": [
    "data = data.reset_index(drop=True)\n",
    "len(set(data['Метро'])) #4872"
   ]
  },
  {
   "cell_type": "code",
   "execution_count": 133,
   "metadata": {},
   "outputs": [],
   "source": [
    "# set(data['Метро'])\n",
    "# 'м. Кузьминки (2 мин пешком)',\n",
    "#  'м. Нагатинская (16 мин пешком)',\n",
    "#  'м. Алма-Атинская (13 мин на машине)',\n",
    "#  'м. Бауманская (8 мин пешком)',\n",
    "# ..."
   ]
  },
  {
   "cell_type": "code",
   "execution_count": 134,
   "metadata": {},
   "outputs": [
    {
     "data": {
      "text/plain": [
       "0"
      ]
     },
     "execution_count": 134,
     "metadata": {},
     "output_type": "execute_result"
    }
   ],
   "source": [
    "data['Метро'] = data['Метро'].astype(str)\n",
    "len(data[data['Метро'].isna()]) # 0 - записи есть по всем позициям"
   ]
  },
  {
   "cell_type": "code",
   "execution_count": 135,
   "metadata": {},
   "outputs": [
    {
     "data": {
      "text/plain": [
       "0"
      ]
     },
     "execution_count": 135,
     "metadata": {},
     "output_type": "execute_result"
    }
   ],
   "source": [
    "# и еще\n",
    "# 36           м. Смоленская (None мин пешком)\n",
    "# 61             м. Киевская (None мин пешком)\n",
    "# убираемм этот мусор\n",
    "data.loc[(data['Метро'].str.find('None') >=0), 'Метро'] = '0'\n",
    "len(data[data['Метро'].isna()]) # 0 -  все ушло в 0"
   ]
  },
  {
   "cell_type": "code",
   "execution_count": 136,
   "metadata": {},
   "outputs": [
    {
     "data": {
      "text/plain": [
       "534"
      ]
     },
     "execution_count": 136,
     "metadata": {},
     "output_type": "execute_result"
    }
   ],
   "source": [
    "# посмотрим на  0\n",
    "len(data[data['Метро'] == '0']) # 534"
   ]
  },
  {
   "cell_type": "code",
   "execution_count": 137,
   "metadata": {},
   "outputs": [],
   "source": [
    "# в одном доме может быть несколько квартиир\n",
    "# при этом не все пишут сколько врмеени до метро\n",
    "# делаем список по всем улицам\n",
    "d1 = list(set(data['street']))\n",
    "for i in d1:\n",
    "    # выбираем одну улицу\n",
    "    data10 = data[data['street'] == i]\n",
    "    #делаем список по всем домам\n",
    "    d2 = list(set(data10['house']))\n",
    "    for j in d2:\n",
    "        #выбираем один дом\n",
    "        data22 = data10[data10['house'] == j]\n",
    "        if len(data22) > 1 :\n",
    "            #смотрим на все указания метро\n",
    "            d3 = list(set(data22['Метро']))\n",
    "            d3 = [x for x in d3 if str(x) != '0']\n",
    "            if len(d3) >0:\n",
    "                #data.loc[((data['street']==i) & (data['house']==j)) & (data['Метро'].isna()), 'Метро'] = d3[0]\n",
    "                data.loc[((data['street']==i) & (data['house']==j)), 'Метро'] = d3[0]"
   ]
  },
  {
   "cell_type": "code",
   "execution_count": 138,
   "metadata": {},
   "outputs": [
    {
     "data": {
      "text/plain": [
       "162"
      ]
     },
     "execution_count": 138,
     "metadata": {},
     "output_type": "execute_result"
    }
   ],
   "source": [
    "# посмотрим на  0\n",
    "len(data[data['Метро'] == '0']) # 162"
   ]
  },
  {
   "cell_type": "code",
   "execution_count": 139,
   "metadata": {},
   "outputs": [],
   "source": [
    "# готовим новые столбцы\n",
    "data['metro_walk'] = '0'\n",
    "data['metro_drive'] = '0'\n",
    "# предположу что ставить два столбца об одном и том же не имеет смысла\n",
    "# разделим в начале, потом сведем к одному столбцу"
   ]
  },
  {
   "cell_type": "code",
   "execution_count": 140,
   "metadata": {},
   "outputs": [
    {
     "data": {
      "text/html": [
       "<div>\n",
       "<style scoped>\n",
       "    .dataframe tbody tr th:only-of-type {\n",
       "        vertical-align: middle;\n",
       "    }\n",
       "\n",
       "    .dataframe tbody tr th {\n",
       "        vertical-align: top;\n",
       "    }\n",
       "\n",
       "    .dataframe thead th {\n",
       "        text-align: right;\n",
       "    }\n",
       "</style>\n",
       "<table border=\"1\" class=\"dataframe\">\n",
       "  <thead>\n",
       "    <tr style=\"text-align: right;\">\n",
       "      <th></th>\n",
       "      <th>Метро</th>\n",
       "      <th>metro_walk</th>\n",
       "      <th>metro_drive</th>\n",
       "    </tr>\n",
       "  </thead>\n",
       "  <tbody>\n",
       "    <tr>\n",
       "      <th>19520</th>\n",
       "      <td>м. Солнцево (4 мин пешком)</td>\n",
       "      <td>4</td>\n",
       "      <td>0</td>\n",
       "    </tr>\n",
       "    <tr>\n",
       "      <th>19521</th>\n",
       "      <td>м. Говорово (11 мин пешком)</td>\n",
       "      <td>11</td>\n",
       "      <td>0</td>\n",
       "    </tr>\n",
       "    <tr>\n",
       "      <th>19522</th>\n",
       "      <td>м. Солнцево (5 мин на машине)</td>\n",
       "      <td>0</td>\n",
       "      <td>5</td>\n",
       "    </tr>\n",
       "    <tr>\n",
       "      <th>19523</th>\n",
       "      <td>м. Солнцево (18 мин пешком)</td>\n",
       "      <td>18</td>\n",
       "      <td>0</td>\n",
       "    </tr>\n",
       "    <tr>\n",
       "      <th>19524</th>\n",
       "      <td>м. Говорово (8 мин пешком)</td>\n",
       "      <td>8</td>\n",
       "      <td>0</td>\n",
       "    </tr>\n",
       "    <tr>\n",
       "      <th>19525</th>\n",
       "      <td>м. Говорово (8 мин пешком)</td>\n",
       "      <td>8</td>\n",
       "      <td>0</td>\n",
       "    </tr>\n",
       "    <tr>\n",
       "      <th>19526</th>\n",
       "      <td>м. Солнцево (4 мин пешком)</td>\n",
       "      <td>4</td>\n",
       "      <td>0</td>\n",
       "    </tr>\n",
       "    <tr>\n",
       "      <th>19527</th>\n",
       "      <td>м. Солнцево (6 мин пешком)</td>\n",
       "      <td>6</td>\n",
       "      <td>0</td>\n",
       "    </tr>\n",
       "    <tr>\n",
       "      <th>19528</th>\n",
       "      <td>м. Солнцево (14 мин пешком)</td>\n",
       "      <td>14</td>\n",
       "      <td>0</td>\n",
       "    </tr>\n",
       "    <tr>\n",
       "      <th>19529</th>\n",
       "      <td>м. Говорово (10 мин пешком)</td>\n",
       "      <td>10</td>\n",
       "      <td>0</td>\n",
       "    </tr>\n",
       "  </tbody>\n",
       "</table>\n",
       "</div>"
      ],
      "text/plain": [
       "                               Метро metro_walk metro_drive\n",
       "19520     м. Солнцево (4 мин пешком)          4           0\n",
       "19521    м. Говорово (11 мин пешком)         11           0\n",
       "19522  м. Солнцево (5 мин на машине)          0           5\n",
       "19523    м. Солнцево (18 мин пешком)         18           0\n",
       "19524     м. Говорово (8 мин пешком)          8           0\n",
       "19525     м. Говорово (8 мин пешком)          8           0\n",
       "19526     м. Солнцево (4 мин пешком)          4           0\n",
       "19527     м. Солнцево (6 мин пешком)          6           0\n",
       "19528    м. Солнцево (14 мин пешком)         14           0\n",
       "19529    м. Говорово (10 мин пешком)         10           0"
      ]
     },
     "execution_count": 140,
     "metadata": {},
     "output_type": "execute_result"
    }
   ],
   "source": [
    "# разносим время по двум столбцам из строки описания\n",
    "for i in range(0,len(data)):\n",
    "    if data.loc[i, 'Метро'] is not np.NaN:\n",
    "        balk = re.findall(r'\\d+', data.loc[i, 'Метро'])\n",
    "        if len(balk) > 0:\n",
    "            if len(balk) == 1:\n",
    "                k = 0\n",
    "            else:\n",
    "                k = 1\n",
    "            #if re.match(r'[а-яА-Я0-9.,?() ]+пешком\\)$', data.loc[i, 'Метро']):\n",
    "            if data.loc[i, 'Метро'] .find('пешком') >= 0:\n",
    "                data.loc[i, 'metro_walk'] = balk[k]\n",
    "            else:\n",
    "                data.loc[i, 'metro_drive'] = balk[k]\n",
    "                \n",
    "data[['Метро', 'metro_walk', 'metro_drive']].tail(10)"
   ]
  },
  {
   "cell_type": "code",
   "execution_count": 141,
   "metadata": {},
   "outputs": [
    {
     "data": {
      "text/plain": [
       "346"
      ]
     },
     "execution_count": 141,
     "metadata": {},
     "output_type": "execute_result"
    }
   ],
   "source": [
    "# посмотрим на нулевые записи\n",
    "len(data[(data['metro_walk'] == '0') & (data['metro_drive'] == '0')]) #489\n",
    "# почему стало больше??"
   ]
  },
  {
   "cell_type": "code",
   "execution_count": 142,
   "metadata": {},
   "outputs": [],
   "source": [
    "data['metro_drive'] = data['metro_drive'].astype(float)\n",
    "data['metro_walk'] = data['metro_walk'].astype(float)"
   ]
  },
  {
   "cell_type": "code",
   "execution_count": 143,
   "metadata": {},
   "outputs": [],
   "source": [
    "data = data.drop('Метро', axis=1) # удаляем ненужные столбцы"
   ]
  },
  {
   "cell_type": "code",
   "execution_count": 144,
   "metadata": {},
   "outputs": [],
   "source": [
    "# на машине в городе скорость 25 км.ч\n",
    "# пешком пусть будет 4 км.ч\n",
    "# пусть проехать придется на 30% больше чем идти\n",
    "# то есть 25/4.5*1.1 = 6.11\n",
    "\n",
    "for i in range(0,len(data)):\n",
    "    if data.loc[i, 'metro_walk'] == 0:\n",
    "        if data.loc[i, 'metro_drive'] > 0:\n",
    "            data.loc[i, 'metro_walk'] = data.loc[i, 'metro_drive'] * 25/4.5*1.1\n",
    "\n",
    "#data.loc[1240:1260, ['metro.drive', 'metro.walk']] # посмотрим?"
   ]
  },
  {
   "cell_type": "code",
   "execution_count": 145,
   "metadata": {},
   "outputs": [],
   "source": [
    "data = data.drop('metro_drive', axis=1) # удаляем ненужные столбцы"
   ]
  },
  {
   "cell_type": "code",
   "execution_count": 146,
   "metadata": {},
   "outputs": [
    {
     "data": {
      "text/plain": [
       "0"
      ]
     },
     "execution_count": 146,
     "metadata": {},
     "output_type": "execute_result"
    }
   ],
   "source": [
    "# проверяем как изменились пустышки \n",
    "len(data[data['metro_walk'].isna()]) \n",
    "#  пустышек не осталось"
   ]
  },
  {
   "cell_type": "code",
   "execution_count": 147,
   "metadata": {},
   "outputs": [
    {
     "data": {
      "text/plain": [
       "346"
      ]
     },
     "execution_count": 147,
     "metadata": {},
     "output_type": "execute_result"
    }
   ],
   "source": [
    "# а сколько нулей?\n",
    "len(data[data['metro_walk'] == 0]) #489"
   ]
  },
  {
   "cell_type": "code",
   "execution_count": 148,
   "metadata": {},
   "outputs": [],
   "source": [
    "data.loc[data['metro_walk'] == 0, 'metro_walk'] = data['metro_walk'].median()"
   ]
  },
  {
   "cell_type": "code",
   "execution_count": 149,
   "metadata": {},
   "outputs": [
    {
     "data": {
      "text/plain": [
       "0"
      ]
     },
     "execution_count": 149,
     "metadata": {},
     "output_type": "execute_result"
    }
   ],
   "source": [
    "# а сколько нулей?\n",
    "len(data[data['metro_walk'] == 0]) #0"
   ]
  },
  {
   "cell_type": "markdown",
   "metadata": {},
   "source": [
    "# Парковка"
   ]
  },
  {
   "cell_type": "code",
   "execution_count": 150,
   "metadata": {},
   "outputs": [
    {
     "data": {
      "text/plain": [
       "6"
      ]
     },
     "execution_count": 150,
     "metadata": {},
     "output_type": "execute_result"
    }
   ],
   "source": [
    "len(set(data['Парковка'])) #6\n",
    "# {'многоуровневая', 'подземная', nan, 'наземная', 'на крыше', 'открытая'}"
   ]
  },
  {
   "cell_type": "code",
   "execution_count": 151,
   "metadata": {},
   "outputs": [
    {
     "data": {
      "text/plain": [
       "11045"
      ]
     },
     "execution_count": 151,
     "metadata": {},
     "output_type": "execute_result"
    }
   ],
   "source": [
    "len(data[data['Парковка'].isna()]) # 10567 - очень много\n",
    "# парковка наверняка есть, видимо наземная вогкруг дома \n",
    "# и ограниченная по объему\n",
    "# предположим что пропущенные значения - это наземная"
   ]
  },
  {
   "cell_type": "code",
   "execution_count": 152,
   "metadata": {},
   "outputs": [
    {
     "data": {
      "text/plain": [
       "0"
      ]
     },
     "execution_count": 152,
     "metadata": {},
     "output_type": "execute_result"
    }
   ],
   "source": [
    "# удаляем NaN\n",
    "data.loc[data['Парковка'].isna(), 'Парковка'] = 'наземная'\n",
    "len(data[data['Парковка'].isna()]) # =0 @metka"
   ]
  },
  {
   "cell_type": "code",
   "execution_count": 153,
   "metadata": {},
   "outputs": [],
   "source": [
    "# кодируем\n",
    "# le01 = LabelEncoder()\n",
    "# le01.fit(data['Парковка'])\n",
    "# data['parking'] = le01.transform(data['Парковка'])\n",
    "# dict(zip(le01.classes_, range(len(le01.classes_)))) # а вот и словарь"
   ]
  },
  {
   "cell_type": "code",
   "execution_count": 154,
   "metadata": {},
   "outputs": [],
   "source": [
    "data['parking_mlevel'] = 0\n",
    "data['parking_roof'] = 0\n",
    "data['parking_ground'] = 0\n",
    "data['parking_open'] = 0\n",
    "data['parking_ug'] = 0"
   ]
  },
  {
   "cell_type": "code",
   "execution_count": 155,
   "metadata": {},
   "outputs": [],
   "source": [
    "data.loc[data['Парковка'] == 'многоуровневая', 'parking_mlevel'] = 1\n",
    "data.loc[data['Парковка'] == 'на крыше', 'parking_roof'] = 1\n",
    "data.loc[data['Парковка'] == 'наземная', 'parking_ground'] = 1\n",
    "data.loc[data['Парковка'] == 'открытая', 'parking_open'] = 1\n",
    "data.loc[data['Парковка'] == 'подземная', 'parking_ug'] = 1"
   ]
  },
  {
   "cell_type": "code",
   "execution_count": 156,
   "metadata": {},
   "outputs": [],
   "source": [
    "data = data.drop('Парковка', axis=1) # удаляем ненужные столбцы"
   ]
  },
  {
   "cell_type": "markdown",
   "metadata": {},
   "source": [
    "# Дополнительное описание квартиры"
   ]
  },
  {
   "cell_type": "code",
   "execution_count": 157,
   "metadata": {},
   "outputs": [
    {
     "data": {
      "text/plain": [
       "489"
      ]
     },
     "execution_count": 157,
     "metadata": {},
     "output_type": "execute_result"
    }
   ],
   "source": [
    "len(set(data['Дополнительно'])) #529\n",
    "# 'Мебель в комнатах, Ванна, Стиральная машина, Кондиционер, \n",
    "# Телевизор, Интернет', 'Мебель в комнатах, Мебель на кухне, \n",
    "# Ванна, Кондиционер, Посудомоечная машина, Телевизор, Холодильник, \n",
    "# Интернет, Телефон', 'Мебель в комнатах,"
   ]
  },
  {
   "cell_type": "code",
   "execution_count": 158,
   "metadata": {},
   "outputs": [],
   "source": [
    "#set(data['Дополнительно']) # составляющих много"
   ]
  },
  {
   "cell_type": "code",
   "execution_count": 159,
   "metadata": {},
   "outputs": [
    {
     "data": {
      "text/plain": [
       "267"
      ]
     },
     "execution_count": 159,
     "metadata": {},
     "output_type": "execute_result"
    }
   ],
   "source": [
    "len(data[data['Дополнительно'].isna()]) # 232 - много"
   ]
  },
  {
   "cell_type": "code",
   "execution_count": 160,
   "metadata": {},
   "outputs": [],
   "source": [
    "# если не указано - не сможем вытащить откуда-то\n",
    "data.loc[data['Дополнительно'].isna(), 'Дополнительно'] = ''"
   ]
  },
  {
   "cell_type": "code",
   "execution_count": 161,
   "metadata": {},
   "outputs": [],
   "source": [
    "# надо разделить по составляющим и сделать сет\n",
    "c1 = set()\n",
    "i = 0\n",
    "for i in range(0, len(data)):\n",
    "    c1.update(set(data.loc[i, 'Дополнительно'].split(', ')))"
   ]
  },
  {
   "cell_type": "code",
   "execution_count": 162,
   "metadata": {},
   "outputs": [
    {
     "data": {
      "text/plain": [
       "{'',\n",
       " 'Ванна',\n",
       " 'Душевая кабина',\n",
       " 'Интернет',\n",
       " 'Кондиционер',\n",
       " 'Мебель в комнатах',\n",
       " 'Мебель на кухне',\n",
       " 'Посудомоечная машина',\n",
       " 'Стиральная машина',\n",
       " 'Телевизор',\n",
       " 'Телефон',\n",
       " 'Холодильник'}"
      ]
     },
     "execution_count": 162,
     "metadata": {},
     "output_type": "execute_result"
    }
   ],
   "source": [
    "# что получилось?\n",
    "len(c1) #12\n",
    "c1"
   ]
  },
  {
   "cell_type": "code",
   "execution_count": 163,
   "metadata": {},
   "outputs": [
    {
     "data": {
      "text/plain": [
       "{'Телевизор': 'tv',\n",
       " 'Душевая кабина': 'shower_cabin',\n",
       " 'Ванна': 'bathtub',\n",
       " 'Мебель в комнатах': 'furniture',\n",
       " 'Кондиционер': 'ac',\n",
       " 'Телефон': 'telephone',\n",
       " 'Стиральная машина': 'washing_machine',\n",
       " 'Мебель на кухне': 'kitchen_furniture',\n",
       " 'Холодильник': 'frig',\n",
       " 'Интернет': 'internet',\n",
       " 'Посудомоечная машина': 'dishwasher'}"
      ]
     },
     "execution_count": 163,
     "metadata": {},
     "output_type": "execute_result"
    }
   ],
   "source": [
    "# делаем словарь\n",
    "additional_list = ['Телевизор', 'Душевая кабина', 'Ванна', 'Мебель в комнатах', \n",
    " 'Кондиционер', 'Телефон', 'Стиральная машина', 'Мебель на кухне', \n",
    " 'Холодильник', 'Интернет', 'Посудомоечная машина']\n",
    "# 'TV', 'Shower cabin', 'Bathtub', 'Furniture in the rooms', \n",
    "#  'Air conditioning', 'Telephone', 'Washing machine', 'Kitchen furniture', \n",
    "#  'Refrigerator', 'Internet', 'Dishwasher']\n",
    "additional_key = ['tv', 'shower_cabin', 'bathtub', 'furniture',\n",
    "'ac', 'telephone', 'washing_machine', 'kitchen_furniture',\n",
    "'frig', 'internet', 'dishwasher']\n",
    "additional_dict = dict(zip(additional_list, additional_key))\n",
    "additional_dict"
   ]
  },
  {
   "cell_type": "code",
   "execution_count": 164,
   "metadata": {},
   "outputs": [],
   "source": [
    "# делаем столбцы\n",
    "data['tv'] = 0\n",
    "data['shower_cabin'] = 0\n",
    "data['bathtub'] = 0\n",
    "data['furniture'] = 0\n",
    "data['ac'] = 0\n",
    "data['telephone'] = 0\n",
    "data['washing_machine'] = 0\n",
    "data['kitchen_furniture'] = 0\n",
    "data['frig'] = 0\n",
    "data['internet'] = 0\n",
    "data['dishwasher'] = 0"
   ]
  },
  {
   "cell_type": "code",
   "execution_count": 165,
   "metadata": {},
   "outputs": [],
   "source": [
    "# собираем список ключей\n",
    "all_keys = list(additional_dict.keys())\n",
    "\n",
    "# разносим все по подготовленным столбцам\n",
    "for i in range(0, len(data)) :\n",
    "    for j in range(0, len(all_keys)) :\n",
    "        if data.loc[i, 'Дополнительно'] != '':\n",
    "            if data.loc[i, 'Дополнительно'].find(all_keys[j]) >= 0:\n",
    "                data.loc[i, additional_dict[all_keys[j]]] = 1\n"
   ]
  },
  {
   "cell_type": "code",
   "execution_count": 166,
   "metadata": {},
   "outputs": [
    {
     "data": {
      "text/plain": [
       "Дополнительно        Мебель в комнатах, Мебель на кухне, Ванна, Душ...\n",
       "tv                                                                   1\n",
       "shower_cabin                                                         1\n",
       "bathtub                                                              1\n",
       "furniture                                                            1\n",
       "ac                                                                   1\n",
       "telephone                                                            1\n",
       "washing_machine                                                      1\n",
       "kitchen_furniture                                                    1\n",
       "frig                                                                 1\n",
       "internet                                                             1\n",
       "dishwasher                                                           1\n",
       "Name: 0, dtype: object"
      ]
     },
     "execution_count": 166,
     "metadata": {},
     "output_type": "execute_result"
    }
   ],
   "source": [
    "# проверяем что получилось\n",
    "data.loc[0, ['Дополнительно', 'tv', 'shower_cabin', 'bathtub', 'furniture',\n",
    "    'ac', 'telephone', 'washing_machine', 'kitchen_furniture', 'frig',\n",
    "    'internet', 'dishwasher']]"
   ]
  },
  {
   "cell_type": "code",
   "execution_count": 167,
   "metadata": {},
   "outputs": [],
   "source": [
    "# удаляем ненужное\n",
    "data = data.drop('Дополнительно', axis=1) # удаляем ненужные столбцы"
   ]
  },
  {
   "cell_type": "markdown",
   "metadata": {},
   "source": [
    "# Описание дома"
   ]
  },
  {
   "cell_type": "code",
   "execution_count": 168,
   "metadata": {},
   "outputs": [
    {
     "data": {
      "text/plain": [
       "2401"
      ]
     },
     "execution_count": 168,
     "metadata": {},
     "output_type": "execute_result"
    }
   ],
   "source": [
    "len(set(data['Дом'])) #2310"
   ]
  },
  {
   "cell_type": "code",
   "execution_count": 169,
   "metadata": {},
   "outputs": [],
   "source": [
    "#set(data['Дом']) # - много"
   ]
  },
  {
   "cell_type": "code",
   "execution_count": 170,
   "metadata": {},
   "outputs": [
    {
     "data": {
      "text/plain": [
       "0"
      ]
     },
     "execution_count": 170,
     "metadata": {},
     "output_type": "execute_result"
    }
   ],
   "source": [
    "# смотрим сколько НаН\n",
    "len(data[data['Дом'].isna()]) # 0 - интересно"
   ]
  },
  {
   "cell_type": "code",
   "execution_count": 171,
   "metadata": {},
   "outputs": [
    {
     "data": {
      "text/html": [
       "<div>\n",
       "<style scoped>\n",
       "    .dataframe tbody tr th:only-of-type {\n",
       "        vertical-align: middle;\n",
       "    }\n",
       "\n",
       "    .dataframe tbody tr th {\n",
       "        vertical-align: top;\n",
       "    }\n",
       "\n",
       "    .dataframe thead th {\n",
       "        text-align: right;\n",
       "    }\n",
       "</style>\n",
       "<table border=\"1\" class=\"dataframe\">\n",
       "  <thead>\n",
       "    <tr style=\"text-align: right;\">\n",
       "      <th></th>\n",
       "      <th>0</th>\n",
       "      <th>1</th>\n",
       "      <th>floor</th>\n",
       "      <th>tot_floor</th>\n",
       "      <th>street</th>\n",
       "      <th>house</th>\n",
       "    </tr>\n",
       "  </thead>\n",
       "  <tbody>\n",
       "    <tr>\n",
       "      <th>0</th>\n",
       "      <td>5/16</td>\n",
       "      <td>Монолитный</td>\n",
       "      <td>5</td>\n",
       "      <td>16</td>\n",
       "      <td>1579</td>\n",
       "      <td>877</td>\n",
       "    </tr>\n",
       "    <tr>\n",
       "      <th>1</th>\n",
       "      <td>5/16</td>\n",
       "      <td>Монолитно-кирпичный</td>\n",
       "      <td>5</td>\n",
       "      <td>16</td>\n",
       "      <td>1579</td>\n",
       "      <td>877</td>\n",
       "    </tr>\n",
       "    <tr>\n",
       "      <th>2</th>\n",
       "      <td>5/16</td>\n",
       "      <td>None</td>\n",
       "      <td>5</td>\n",
       "      <td>16</td>\n",
       "      <td>1579</td>\n",
       "      <td>877</td>\n",
       "    </tr>\n",
       "    <tr>\n",
       "      <th>3</th>\n",
       "      <td>5/6</td>\n",
       "      <td>None</td>\n",
       "      <td>5</td>\n",
       "      <td>6</td>\n",
       "      <td>1180</td>\n",
       "      <td>729</td>\n",
       "    </tr>\n",
       "    <tr>\n",
       "      <th>4</th>\n",
       "      <td>12/26</td>\n",
       "      <td>Панельный</td>\n",
       "      <td>12</td>\n",
       "      <td>26</td>\n",
       "      <td>1579</td>\n",
       "      <td>400</td>\n",
       "    </tr>\n",
       "  </tbody>\n",
       "</table>\n",
       "</div>"
      ],
      "text/plain": [
       "       0                    1 floor tot_floor  street  house\n",
       "0   5/16           Монолитный     5        16    1579    877\n",
       "1   5/16  Монолитно-кирпичный     5        16    1579    877\n",
       "2   5/16                 None     5        16    1579    877\n",
       "3    5/6                 None     5         6    1180    729\n",
       "4  12/26            Панельный    12        26    1579    400"
      ]
     },
     "execution_count": 171,
     "metadata": {},
     "output_type": "execute_result"
    }
   ],
   "source": [
    "# распознаем описание дома\n",
    "c11 = data['Дом'].str.split(', ', expand=True)\n",
    "c12 = c11.loc[:, 0].str.split('/', expand=True)\n",
    "c11['floor'] = c12.loc[:, 0]\n",
    "c11['tot_floor'] = c12.loc[:, 1]\n",
    "c11['street'] = data.loc[:, 'street']\n",
    "c11['house'] = data.loc[:, 'house']\n",
    "c11.head()\n",
    "#получили три столбца, смотрим на состав"
   ]
  },
  {
   "cell_type": "code",
   "execution_count": 172,
   "metadata": {},
   "outputs": [],
   "source": [
    "#set(c11.loc[:, 1])\n",
    "#{None, 'Монолитный', 'Кирпичный', 'Монолитно-кирпичный', 'Панельный', \n",
    "# 'Деревянный', 'Газобетонный блок', 'Щитовой', 'старый фонд', 'Блочный', \n",
    "# 'Сталинский'}"
   ]
  },
  {
   "cell_type": "code",
   "execution_count": 173,
   "metadata": {},
   "outputs": [
    {
     "data": {
      "text/plain": [
       "2936"
      ]
     },
     "execution_count": 173,
     "metadata": {},
     "output_type": "execute_result"
    }
   ],
   "source": [
    "len(c11[c11.loc[:, 1].isna()]) # 2714"
   ]
  },
  {
   "cell_type": "code",
   "execution_count": 174,
   "metadata": {},
   "outputs": [
    {
     "data": {
      "text/plain": [
       "0"
      ]
     },
     "execution_count": 174,
     "metadata": {},
     "output_type": "execute_result"
    }
   ],
   "source": [
    "len(c11[c11.loc[:, 'floor'].isna()]) # 0"
   ]
  },
  {
   "cell_type": "code",
   "execution_count": 175,
   "metadata": {},
   "outputs": [
    {
     "data": {
      "text/plain": [
       "0"
      ]
     },
     "execution_count": 175,
     "metadata": {},
     "output_type": "execute_result"
    }
   ],
   "source": [
    "len(c11[c11.loc[:, 'tot_floor'].isna()]) # 0"
   ]
  },
  {
   "cell_type": "code",
   "execution_count": 176,
   "metadata": {},
   "outputs": [],
   "source": [
    "# поиск по другим квартирам в доме - как в Метро\n",
    "# делаем список по всем улицам\n",
    "d1 = list(set(c11['street']))\n",
    "for i in d1:\n",
    "    # выбираем одну улицу\n",
    "    data10 = c11[c11['street'] == i]\n",
    "    #делаем список по всем домам\n",
    "    d2 = list(set(data10['house']))\n",
    "    for j in d2:\n",
    "        #выбираем один дом\n",
    "        data22 = data10[data10['house'] == j]\n",
    "        if len(data22) > 1 :\n",
    "            #смотрим на все указания \n",
    "            d3 = list(set(data22.loc[:, 1]))\n",
    "            d3 = [x for x in d3 if str(x) != 'None']\n",
    "            if len(d3) >0:\n",
    "                c11.loc[(c11['street']==i) & (c11['house']==j), 1] = d3[0]\n"
   ]
  },
  {
   "cell_type": "code",
   "execution_count": 177,
   "metadata": {},
   "outputs": [
    {
     "data": {
      "text/plain": [
       "1080"
      ]
     },
     "execution_count": 177,
     "metadata": {},
     "output_type": "execute_result"
    }
   ],
   "source": [
    "# что изменилось?\n",
    "len(c11[c11.loc[:, 1].isna()]) # 1030"
   ]
  },
  {
   "cell_type": "code",
   "execution_count": 178,
   "metadata": {},
   "outputs": [],
   "source": [
    "# попробуем вот так заменить НаН\n",
    "c11.loc[c11.loc[:, 1].isna(), 1] = 'Блочный' # @Metka"
   ]
  },
  {
   "cell_type": "code",
   "execution_count": 179,
   "metadata": {},
   "outputs": [],
   "source": [
    "# переносим в основной массив\n",
    "data['house_type'] = c11.loc[:, 1]\n",
    "data['floor'] = c11.loc[:, 'floor']\n",
    "data['tot_floor'] = c11.loc[:, 'tot_floor']"
   ]
  },
  {
   "cell_type": "code",
   "execution_count": 404,
   "metadata": {},
   "outputs": [],
   "source": []
  },
  {
   "cell_type": "code",
   "execution_count": 180,
   "metadata": {},
   "outputs": [],
   "source": [
    "# кодируем\n",
    "# le01 = LabelEncoder()\n",
    "# le01.fit(data['house_type'])\n",
    "# data['house_type'] = le01.transform(data['house_type'])\n",
    "# dict(zip(le01.classes_, range(len(le01.classes_)))) # а вот и словарь"
   ]
  },
  {
   "cell_type": "code",
   "execution_count": 181,
   "metadata": {},
   "outputs": [],
   "source": [
    "data['ht_block'] = 0\n",
    "data['ht_wood'] = 0\n",
    "data['ht_brick'] = 0\n",
    "data['ht_mobrick'] = 0\n",
    "data['ht_mo'] = 0\n",
    "data['ht_panel'] = 0\n",
    "data['ht_stali'] = 0\n",
    "data['ht_schi'] = 0\n",
    "data['ht_old'] = 0"
   ]
  },
  {
   "cell_type": "code",
   "execution_count": 182,
   "metadata": {},
   "outputs": [],
   "source": [
    "data.loc[data['Дом']=='Блочный', 'ht_block'] = 1\n",
    "data.loc[data['Дом']=='Деревянный', 'ht_wood'] = 1\n",
    "data.loc[data['Дом']=='Кирпичный', 'ht_brick'] = 1\n",
    "data.loc[data['Дом']=='Монолитно-кирпичный', 'ht_mobrick'] = 1\n",
    "data.loc[data['Дом']=='Монолитный', 'ht_mo'] = 1\n",
    "data.loc[data['Дом']=='Панельный', 'ht_panel'] = 1\n",
    "data.loc[data['Дом']=='Сталинский', 'ht_stali'] = 1\n",
    "data.loc[data['Дом']=='Щитовой', 'ht_schi'] = 1\n",
    "data.loc[data['Дом']=='тарый фонд', 'ht_old'] = 1"
   ]
  },
  {
   "cell_type": "code",
   "execution_count": 183,
   "metadata": {},
   "outputs": [],
   "source": [
    "# убираем лишнее\n",
    "del c11\n",
    "data = data.drop('Дом', axis=1) # удаляем ненужные столбцы\n",
    "data = data.drop('house_type', axis=1) # удаляем ненужные столбцы"
   ]
  },
  {
   "cell_type": "code",
   "execution_count": 184,
   "metadata": {},
   "outputs": [],
   "source": [
    "data['floor'] = data['floor'].astype(int)\n",
    "data['tot_floor'] = data['tot_floor'].astype(int)"
   ]
  },
  {
   "cell_type": "code",
   "execution_count": 185,
   "metadata": {},
   "outputs": [],
   "source": [
    "# дополнительные поля\n",
    "data['floor1'] = 0\n",
    "data.loc[data['floor']  == 1,'floor1'] = 1\n",
    "data['floor_c1'] = round(20/data['floor'], ndigits=0).astype(int)"
   ]
  },
  {
   "cell_type": "markdown",
   "metadata": {},
   "source": [
    "## Площадь комнат"
   ]
  },
  {
   "cell_type": "code",
   "execution_count": 186,
   "metadata": {},
   "outputs": [
    {
     "data": {
      "text/plain": [
       "3448"
      ]
     },
     "execution_count": 186,
     "metadata": {},
     "output_type": "execute_result"
    }
   ],
   "source": [
    "len(set(data['Площадь комнат, м2'])) #3330"
   ]
  },
  {
   "cell_type": "code",
   "execution_count": 187,
   "metadata": {},
   "outputs": [],
   "source": [
    "# Число пропущенных ячеек велико, предлагаю не рассматривать данный столбец\n",
    "data = data.drop('Площадь комнат, м2', axis=1) # удаляем ненужные столбцы"
   ]
  },
  {
   "cell_type": "markdown",
   "metadata": {},
   "source": [
    "## Название ЖК"
   ]
  },
  {
   "cell_type": "code",
   "execution_count": 188,
   "metadata": {},
   "outputs": [
    {
     "data": {
      "text/plain": [
       "1128"
      ]
     },
     "execution_count": 188,
     "metadata": {},
     "output_type": "execute_result"
    }
   ],
   "source": [
    "len(set(data['Название ЖК'])) #1097"
   ]
  },
  {
   "cell_type": "code",
   "execution_count": 189,
   "metadata": {},
   "outputs": [
    {
     "data": {
      "text/plain": [
       "15090"
      ]
     },
     "execution_count": 189,
     "metadata": {},
     "output_type": "execute_result"
    }
   ],
   "source": [
    "# смотрим сколько НаН\n",
    "len(data[data['Название ЖК'].isna()]) # 14554 \n",
    "# пропусков очень много, не вижу смысла использовать столбец"
   ]
  },
  {
   "cell_type": "code",
   "execution_count": 190,
   "metadata": {},
   "outputs": [],
   "source": [
    "data = data.drop('Название ЖК', axis=1) # удаляем ненужные столбцы"
   ]
  },
  {
   "cell_type": "markdown",
   "metadata": {},
   "source": [
    "## Серия дома"
   ]
  },
  {
   "cell_type": "code",
   "execution_count": 191,
   "metadata": {},
   "outputs": [
    {
     "data": {
      "text/plain": [
       "369"
      ]
     },
     "execution_count": 191,
     "metadata": {},
     "output_type": "execute_result"
    }
   ],
   "source": [
    "len(set(data['Серия дома'])) #364"
   ]
  },
  {
   "cell_type": "code",
   "execution_count": 192,
   "metadata": {},
   "outputs": [
    {
     "data": {
      "text/plain": [
       "17442"
      ]
     },
     "execution_count": 192,
     "metadata": {},
     "output_type": "execute_result"
    }
   ],
   "source": [
    "# смотрим сколько НаН\n",
    "len(data[data['Серия дома'].isna()]) # 16626\n",
    "# пропусков очень много, не вижу смысла использовать столбец"
   ]
  },
  {
   "cell_type": "code",
   "execution_count": 193,
   "metadata": {},
   "outputs": [],
   "source": [
    "data = data.drop('Серия дома', axis=1) # удаляем ненужные столбцы"
   ]
  },
  {
   "cell_type": "markdown",
   "metadata": {},
   "source": [
    "# Тип"
   ]
  },
  {
   "cell_type": "code",
   "execution_count": 194,
   "metadata": {},
   "outputs": [
    {
     "data": {
      "text/plain": [
       "1"
      ]
     },
     "execution_count": 194,
     "metadata": {},
     "output_type": "execute_result"
    }
   ],
   "source": [
    "len(set(data['Тип'])) #364"
   ]
  },
  {
   "cell_type": "code",
   "execution_count": 195,
   "metadata": {},
   "outputs": [
    {
     "data": {
      "text/plain": [
       "0"
      ]
     },
     "execution_count": 195,
     "metadata": {},
     "output_type": "execute_result"
    }
   ],
   "source": [
    "# смотрим сколько НаН\n",
    "len(data[data['Тип'].isna()]) # \n",
    "# пропусков очень много, не вижу смысла использовать столбец"
   ]
  },
  {
   "cell_type": "code",
   "execution_count": 196,
   "metadata": {},
   "outputs": [],
   "source": [
    "# столбец не имеет смысла для анализа - удаляем\n",
    "data = data.drop('Тип', axis=1)"
   ]
  },
  {
   "cell_type": "markdown",
   "metadata": {},
   "source": [
    "## 21. Лифт"
   ]
  },
  {
   "cell_type": "code",
   "execution_count": 197,
   "metadata": {},
   "outputs": [
    {
     "data": {
      "text/plain": [
       "34"
      ]
     },
     "execution_count": 197,
     "metadata": {},
     "output_type": "execute_result"
    }
   ],
   "source": [
    "len(set(data['Лифт'])) #34"
   ]
  },
  {
   "cell_type": "code",
   "execution_count": 198,
   "metadata": {},
   "outputs": [],
   "source": [
    "#set(data['Лифт'])\n",
    "# {nan,\n",
    "#  'Груз (1)',\n",
    "#  'Груз (2)',\n",
    "#  'Груз (3)',\n",
    "#  'Груз (4)',\n",
    "#  'Груз (6)',\n",
    "#  'Груз (8)',\n",
    "#  'Пасс (1)',\n",
    "#  'Пасс (1), Груз (1)',"
   ]
  },
  {
   "cell_type": "code",
   "execution_count": 199,
   "metadata": {},
   "outputs": [
    {
     "data": {
      "text/plain": [
       "4180"
      ]
     },
     "execution_count": 199,
     "metadata": {},
     "output_type": "execute_result"
    }
   ],
   "source": [
    "# смотрим сколько НаН\n",
    "len(data[data['Лифт'].isna()]) # 4180 - очень много"
   ]
  },
  {
   "cell_type": "code",
   "execution_count": 200,
   "metadata": {},
   "outputs": [],
   "source": [
    "# поиск по другим квартирам в доме - как в Метро\n",
    "# делаем список по всем улицам\n",
    "d1 = list(set(data['street']))\n",
    "for i in d1:\n",
    "    # выбираем одну улицу\n",
    "    data10 = data[data['street'] == i]\n",
    "    #делаем список по всем домам\n",
    "    d2 = list(set(data10['house']))\n",
    "    for j in d2:\n",
    "        #выбираем один дом\n",
    "        data22 = data10[data10['house'] == j]\n",
    "        if len(data22) > 1 :\n",
    "            #смотрим на все указания \n",
    "            d3 = list(set(data22.loc[:, 'Лифт']))\n",
    "            d3 = [x for x in d3 if str(x) != 'nan']\n",
    "            if len(d3) >0:\n",
    "                data.loc[((data['street']==i) & (data['house']==j) & (data['Лифт'].isna())), 'Лифт'] = d3[0]\n",
    "                #data['Метро'].isna()"
   ]
  },
  {
   "cell_type": "code",
   "execution_count": 201,
   "metadata": {},
   "outputs": [
    {
     "data": {
      "text/plain": [
       "2600"
      ]
     },
     "execution_count": 201,
     "metadata": {},
     "output_type": "execute_result"
    }
   ],
   "source": [
    "# смотрим сколько НаН\n",
    "len(data[data['Лифт'].isna()]) # стало вдвое лучше"
   ]
  },
  {
   "cell_type": "code",
   "execution_count": 202,
   "metadata": {},
   "outputs": [],
   "source": [
    "# попробуем версия с малоэтажками - если 5 этажей или меньше - лифта нет\n",
    "data.loc[(data['Лифт'].isna()) & (data['tot_floor'] <= 5), 'Лифт'] = '0'\n"
   ]
  },
  {
   "cell_type": "code",
   "execution_count": 203,
   "metadata": {},
   "outputs": [
    {
     "data": {
      "text/plain": [
       "410"
      ]
     },
     "execution_count": 203,
     "metadata": {},
     "output_type": "execute_result"
    }
   ],
   "source": [
    "# смотрим сколько НаН\n",
    "len(data[data['Лифт'].isna()]) # 410"
   ]
  },
  {
   "cell_type": "code",
   "execution_count": 204,
   "metadata": {},
   "outputs": [],
   "source": [
    "# остальным сделаем традиционно - по одному \n",
    "data.loc[data['Лифт'].isna(), 'Лифт'] = 'Пасс (1), Груз (1)'"
   ]
  },
  {
   "cell_type": "code",
   "execution_count": 205,
   "metadata": {},
   "outputs": [
    {
     "data": {
      "text/plain": [
       "0"
      ]
     },
     "execution_count": 205,
     "metadata": {},
     "output_type": "execute_result"
    }
   ],
   "source": [
    "# смотрим сколько НаН\n",
    "len(data[data['Лифт'].isna()]) # 0!"
   ]
  },
  {
   "cell_type": "code",
   "execution_count": 206,
   "metadata": {},
   "outputs": [],
   "source": [
    "#['Пасс (1), Груз (1)', 'Пасс (2)']\n",
    "data['elev_pass'] = 0\n",
    "data['elev_serv'] = 0"
   ]
  },
  {
   "cell_type": "code",
   "execution_count": 207,
   "metadata": {},
   "outputs": [],
   "source": [
    "for i in range(0, len(data)):\n",
    "    if data.loc[i, 'Лифт'] != '0':\n",
    "        if data.loc[i, 'Лифт'].find(',') <0: # только один тип лифта\n",
    "            numb_lift = int(re.findall(r'\\d+', data.loc[i, 'Лифт'])[0])\n",
    "            if data.loc[i, 'Лифт'].find('Пасс') >=0:\n",
    "                data.loc[i, 'elev_pass'] = numb_lift\n",
    "            else:\n",
    "                data.loc[i, 'elev_serv'] = numb_lift\n",
    "        else: #два типа лифта            \n",
    "            b10, b11 = data.loc[i, 'Лифт'].split(',')\n",
    "            data.loc[i, 'elev_pass'] = int(*re.findall(r'\\d+', b10))\n",
    "            data.loc[i, 'elev_serv'] = int(*re.findall(r'\\d+', b11))"
   ]
  },
  {
   "cell_type": "code",
   "execution_count": 208,
   "metadata": {},
   "outputs": [
    {
     "data": {
      "text/plain": [
       "0"
      ]
     },
     "execution_count": 208,
     "metadata": {},
     "output_type": "execute_result"
    }
   ],
   "source": [
    "# смотрим сколько НаН\n",
    "len(data[data['elev_pass'].isna()]) # 0!"
   ]
  },
  {
   "cell_type": "code",
   "execution_count": 209,
   "metadata": {},
   "outputs": [
    {
     "data": {
      "text/plain": [
       "0"
      ]
     },
     "execution_count": 209,
     "metadata": {},
     "output_type": "execute_result"
    }
   ],
   "source": [
    "# смотрим сколько НаН\n",
    "len(data[data['elev_serv'].isna()]) # 0!"
   ]
  },
  {
   "cell_type": "code",
   "execution_count": 210,
   "metadata": {},
   "outputs": [],
   "source": [
    "data = data.drop('Лифт', axis=1) # удаляем ненужные столбцы"
   ]
  },
  {
   "cell_type": "markdown",
   "metadata": {},
   "source": [
    "## 16. Можно с детьми и животными"
   ]
  },
  {
   "cell_type": "code",
   "execution_count": 211,
   "metadata": {},
   "outputs": [
    {
     "data": {
      "text/plain": [
       "4"
      ]
     },
     "execution_count": 211,
     "metadata": {},
     "output_type": "execute_result"
    }
   ],
   "source": [
    "len(set(data['Можно с детьми/животными'])) #4"
   ]
  },
  {
   "cell_type": "code",
   "execution_count": 212,
   "metadata": {},
   "outputs": [
    {
     "data": {
      "text/plain": [
       "{nan,\n",
       " 'Можно с детьми',\n",
       " 'Можно с детьми, Можно с животными',\n",
       " 'Можно с животными'}"
      ]
     },
     "execution_count": 212,
     "metadata": {},
     "output_type": "execute_result"
    }
   ],
   "source": [
    "set(data['Можно с детьми/животными'])"
   ]
  },
  {
   "cell_type": "code",
   "execution_count": 213,
   "metadata": {},
   "outputs": [
    {
     "data": {
      "text/plain": [
       "4871"
      ]
     },
     "execution_count": 213,
     "metadata": {},
     "output_type": "execute_result"
    }
   ],
   "source": [
    "# смотрим сколько НаН\n",
    "len(data[data['Можно с детьми/животными'].isna()]) # 4871 - очень много"
   ]
  },
  {
   "cell_type": "code",
   "execution_count": 214,
   "metadata": {},
   "outputs": [],
   "source": [
    "data['child'] = 0\n",
    "data['animal'] = 0"
   ]
  },
  {
   "cell_type": "code",
   "execution_count": 215,
   "metadata": {},
   "outputs": [],
   "source": [
    "data.loc[data['Можно с детьми/животными'].isna(), 'Можно с детьми/животными'] = 'None'"
   ]
  },
  {
   "cell_type": "code",
   "execution_count": 216,
   "metadata": {},
   "outputs": [],
   "source": [
    "for i in range(0, len(data)):\n",
    "    if data.loc[i, 'Можно с детьми/животными'] != 'None':\n",
    "        if data.loc[i, 'Можно с детьми/животными'].find('детьми') >=0:\n",
    "            data.loc[i, 'child'] = 1\n",
    "        if data.loc[i, 'Можно с детьми/животными'].find('животными') >=0:\n",
    "            data.loc[i, 'animal'] = 1"
   ]
  },
  {
   "cell_type": "code",
   "execution_count": 217,
   "metadata": {},
   "outputs": [
    {
     "data": {
      "text/plain": [
       "Можно с детьми/животными    Можно с детьми, Можно с животными\n",
       "child                                                       1\n",
       "animal                                                      1\n",
       "Name: 0, dtype: object"
      ]
     },
     "execution_count": 217,
     "metadata": {},
     "output_type": "execute_result"
    }
   ],
   "source": [
    "# проверим\n",
    "data.loc[0, ['Можно с детьми/животными', 'child', 'animal']]"
   ]
  },
  {
   "cell_type": "code",
   "execution_count": 218,
   "metadata": {},
   "outputs": [],
   "source": [
    "data = data.drop('Можно с детьми/животными', axis=1) # удаляем ненужные столбцы"
   ]
  },
  {
   "cell_type": "markdown",
   "metadata": {},
   "source": [
    "## Предварительная оценка "
   ]
  },
  {
   "cell_type": "code",
   "execution_count": 219,
   "metadata": {},
   "outputs": [],
   "source": [
    "# Описание столцов:\n",
    "#  1 - city - город расположения объекта / Адрес\n",
    "#  2 - street - улица расположения объекта / Адрес\n",
    "#  3 - house - номер дома где располагается объект / Адрес\n",
    "#  4 - price - стоимость арнеды в месяц, руб / Цена\n",
    "#  5 - utilities_cost - расходы на коммунальные услуги в месяц, руб, если указаны. \n",
    "#         0 - если не указаны / Цена\n",
    "#  6 - deposit - демозит при аренде квартиры, руб / Цена  \n",
    "#  7 - utilities_included - вклюбчены ли коммунальные услуги в стоимость арнеды, \n",
    "#         1 = вклоючены, 0 = не включены / Цена\n",
    "#  8 - rent_length - минимальная длительность аренды, мес / Цена\n",
    "#  9 - price_advance - авансовый платеж за несколько месяцев \n",
    "#   вперед, в месяцах / Цена   <удален>\n",
    "# 10 - total_m2 - Общая площадь, м2 / Площадь\n",
    "# 11 - live_m2 - Жилая площадь, м2 / Площадь\n",
    "# 12 - kitchen_m2 - Площадь кухни, м2 / Площадь \n",
    "# 12A- remont_cosm, remont_no, remont_euro, remont_design - тип ремонта квартиры\n",
    "# 14 - toilet_sep - число изолированных санузлов\n",
    "# 15 - toilet_unted - число совмещенных санузлов\n",
    "# 16 - window_back, window_street, windowb_bs - направление окон из квартиры\n",
    "# 17 - balcony - число балконов в квартире\n",
    "# 18 - loggia - число лоджий в квартире\n",
    "# 19 - rooms_sep - изолированных комнат\n",
    "# 20 - rooms_unted - смежных комнат\n",
    "# 21 - ceiling - высота потолков\n",
    "# 22 - g_chute - мусоропровод\n",
    "# 23 - metro_walk - пешком до метро, мин\n",
    "# 24 - parking_mlevel, parking_roof, parking_ground, \n",
    "#       parking_open, parking_ug  - какая парковка \n",
    "# 25 - tv - наличие телевизора/дополнительное\n",
    "# 26 - shower_cabin - наличие душевой кабины/дополнительное\n",
    "# 27 - bathtub - наличие ванной/дополнительное\n",
    "# 28 - furniture - наличие мебели в квартире/дополнительное\n",
    "# 29 - ac - наличие кондиционера/дополнительное\n",
    "# 30 - telephone - наличие телефона/дополнительное\n",
    "# 31 - washing_machine - наличие стиральной машны/дополнительное\n",
    "# 32 - kitchen_furniture - наличие мебели на кухне/дополнительное\n",
    "# 33 - frig - наличие холодильника/дополнительное\n",
    "# 34 - internet - наличие интернета/дополнительное\n",
    "# 35 - dishwasher - наличие посудомойки/дополнительное\n",
    "# 36 - ht_block, ht_wood, ht_brick, ht_mobrick, ht_mo, ht_panel,\n",
    "#       ht_stali, ht_schi, ht_old - тип дома (материал)\n",
    "# 37 - floor - этаж дома\n",
    "# 38 - tot_floor - всего этажей в доме\n",
    "# 39 - elev_serv - число грузовых лифтов\n",
    "# 40 - elev_pass - число пассажирских лифтов\n",
    "# 41 - animal - можно с животными\n",
    "# 42 - child - можно с детьми"
   ]
  },
  {
   "cell_type": "code",
   "execution_count": 220,
   "metadata": {},
   "outputs": [
    {
     "data": {
      "text/html": [
       "<div>\n",
       "<style scoped>\n",
       "    .dataframe tbody tr th:only-of-type {\n",
       "        vertical-align: middle;\n",
       "    }\n",
       "\n",
       "    .dataframe tbody tr th {\n",
       "        vertical-align: top;\n",
       "    }\n",
       "\n",
       "    .dataframe thead th {\n",
       "        text-align: right;\n",
       "    }\n",
       "</style>\n",
       "<table border=\"1\" class=\"dataframe\">\n",
       "  <thead>\n",
       "    <tr style=\"text-align: right;\">\n",
       "      <th></th>\n",
       "      <th>Число пропущенных</th>\n",
       "    </tr>\n",
       "  </thead>\n",
       "  <tbody>\n",
       "    <tr>\n",
       "      <th>ID  объявления</th>\n",
       "      <td>0</td>\n",
       "    </tr>\n",
       "    <tr>\n",
       "      <th>tot_floor</th>\n",
       "      <td>0</td>\n",
       "    </tr>\n",
       "    <tr>\n",
       "      <th>parking_ug</th>\n",
       "      <td>0</td>\n",
       "    </tr>\n",
       "    <tr>\n",
       "      <th>tv</th>\n",
       "      <td>0</td>\n",
       "    </tr>\n",
       "    <tr>\n",
       "      <th>shower_cabin</th>\n",
       "      <td>0</td>\n",
       "    </tr>\n",
       "    <tr>\n",
       "      <th>...</th>\n",
       "      <td>...</td>\n",
       "    </tr>\n",
       "    <tr>\n",
       "      <th>rooms</th>\n",
       "      <td>0</td>\n",
       "    </tr>\n",
       "    <tr>\n",
       "      <th>ceiling</th>\n",
       "      <td>0</td>\n",
       "    </tr>\n",
       "    <tr>\n",
       "      <th>g_chute</th>\n",
       "      <td>0</td>\n",
       "    </tr>\n",
       "    <tr>\n",
       "      <th>metro_walk</th>\n",
       "      <td>0</td>\n",
       "    </tr>\n",
       "    <tr>\n",
       "      <th>animal</th>\n",
       "      <td>0</td>\n",
       "    </tr>\n",
       "  </tbody>\n",
       "</table>\n",
       "<p>62 rows × 1 columns</p>\n",
       "</div>"
      ],
      "text/plain": [
       "                Число пропущенных\n",
       "ID  объявления                  0\n",
       "tot_floor                       0\n",
       "parking_ug                      0\n",
       "tv                              0\n",
       "shower_cabin                    0\n",
       "...                           ...\n",
       "rooms                           0\n",
       "ceiling                         0\n",
       "g_chute                         0\n",
       "metro_walk                      0\n",
       "animal                          0\n",
       "\n",
       "[62 rows x 1 columns]"
      ]
     },
     "execution_count": 220,
     "metadata": {},
     "output_type": "execute_result"
    }
   ],
   "source": [
    "pd.DataFrame(data.isnull().sum().sort_values(ascending=False), \n",
    "             columns=['Число пропущенных'])"
   ]
  },
  {
   "cell_type": "code",
   "execution_count": 221,
   "metadata": {},
   "outputs": [
    {
     "data": {
      "text/plain": [
       "100.0"
      ]
     },
     "execution_count": 221,
     "metadata": {},
     "output_type": "execute_result"
    }
   ],
   "source": [
    "round(len(data.dropna(axis = 0))/len(data)*100, ndigits=2)\n",
    "#df = df.dropna(axis = 0)"
   ]
  },
  {
   "cell_type": "code",
   "execution_count": 222,
   "metadata": {},
   "outputs": [
    {
     "data": {
      "text/plain": [
       "(19530, 62)"
      ]
     },
     "execution_count": 222,
     "metadata": {},
     "output_type": "execute_result"
    }
   ],
   "source": [
    "data.shape"
   ]
  },
  {
   "cell_type": "code",
   "execution_count": 223,
   "metadata": {},
   "outputs": [],
   "source": [
    "# смотрим на массив до обрезки:\n",
    "#data.head(3)"
   ]
  },
  {
   "cell_type": "code",
   "execution_count": 224,
   "metadata": {},
   "outputs": [
    {
     "data": {
      "text/html": [
       "<div>\n",
       "<style scoped>\n",
       "    .dataframe tbody tr th:only-of-type {\n",
       "        vertical-align: middle;\n",
       "    }\n",
       "\n",
       "    .dataframe tbody tr th {\n",
       "        vertical-align: top;\n",
       "    }\n",
       "\n",
       "    .dataframe thead th {\n",
       "        text-align: right;\n",
       "    }\n",
       "</style>\n",
       "<table border=\"1\" class=\"dataframe\">\n",
       "  <thead>\n",
       "    <tr style=\"text-align: right;\">\n",
       "      <th></th>\n",
       "      <th>Columns</th>\n",
       "      <th>Type</th>\n",
       "    </tr>\n",
       "  </thead>\n",
       "  <tbody>\n",
       "    <tr>\n",
       "      <th>40</th>\n",
       "      <td>washing_machine</td>\n",
       "      <td>&lt;class 'numpy.int64'&gt;</td>\n",
       "    </tr>\n",
       "    <tr>\n",
       "      <th>41</th>\n",
       "      <td>kitchen_furniture</td>\n",
       "      <td>&lt;class 'numpy.int64'&gt;</td>\n",
       "    </tr>\n",
       "    <tr>\n",
       "      <th>42</th>\n",
       "      <td>frig</td>\n",
       "      <td>&lt;class 'numpy.int64'&gt;</td>\n",
       "    </tr>\n",
       "    <tr>\n",
       "      <th>43</th>\n",
       "      <td>internet</td>\n",
       "      <td>&lt;class 'numpy.int64'&gt;</td>\n",
       "    </tr>\n",
       "    <tr>\n",
       "      <th>44</th>\n",
       "      <td>dishwasher</td>\n",
       "      <td>&lt;class 'numpy.int64'&gt;</td>\n",
       "    </tr>\n",
       "    <tr>\n",
       "      <th>45</th>\n",
       "      <td>floor</td>\n",
       "      <td>&lt;class 'numpy.int64'&gt;</td>\n",
       "    </tr>\n",
       "    <tr>\n",
       "      <th>46</th>\n",
       "      <td>tot_floor</td>\n",
       "      <td>&lt;class 'numpy.int64'&gt;</td>\n",
       "    </tr>\n",
       "    <tr>\n",
       "      <th>47</th>\n",
       "      <td>ht_block</td>\n",
       "      <td>&lt;class 'numpy.int64'&gt;</td>\n",
       "    </tr>\n",
       "    <tr>\n",
       "      <th>48</th>\n",
       "      <td>ht_wood</td>\n",
       "      <td>&lt;class 'numpy.int64'&gt;</td>\n",
       "    </tr>\n",
       "    <tr>\n",
       "      <th>49</th>\n",
       "      <td>ht_brick</td>\n",
       "      <td>&lt;class 'numpy.int64'&gt;</td>\n",
       "    </tr>\n",
       "    <tr>\n",
       "      <th>50</th>\n",
       "      <td>ht_mobrick</td>\n",
       "      <td>&lt;class 'numpy.int64'&gt;</td>\n",
       "    </tr>\n",
       "    <tr>\n",
       "      <th>51</th>\n",
       "      <td>ht_mo</td>\n",
       "      <td>&lt;class 'numpy.int64'&gt;</td>\n",
       "    </tr>\n",
       "    <tr>\n",
       "      <th>52</th>\n",
       "      <td>ht_panel</td>\n",
       "      <td>&lt;class 'numpy.int64'&gt;</td>\n",
       "    </tr>\n",
       "    <tr>\n",
       "      <th>53</th>\n",
       "      <td>ht_stali</td>\n",
       "      <td>&lt;class 'numpy.int64'&gt;</td>\n",
       "    </tr>\n",
       "    <tr>\n",
       "      <th>54</th>\n",
       "      <td>ht_schi</td>\n",
       "      <td>&lt;class 'numpy.int64'&gt;</td>\n",
       "    </tr>\n",
       "    <tr>\n",
       "      <th>55</th>\n",
       "      <td>ht_old</td>\n",
       "      <td>&lt;class 'numpy.int64'&gt;</td>\n",
       "    </tr>\n",
       "    <tr>\n",
       "      <th>56</th>\n",
       "      <td>floor1</td>\n",
       "      <td>&lt;class 'numpy.int64'&gt;</td>\n",
       "    </tr>\n",
       "    <tr>\n",
       "      <th>57</th>\n",
       "      <td>floor_c1</td>\n",
       "      <td>&lt;class 'numpy.int64'&gt;</td>\n",
       "    </tr>\n",
       "    <tr>\n",
       "      <th>58</th>\n",
       "      <td>elev_pass</td>\n",
       "      <td>&lt;class 'numpy.int64'&gt;</td>\n",
       "    </tr>\n",
       "    <tr>\n",
       "      <th>59</th>\n",
       "      <td>elev_serv</td>\n",
       "      <td>&lt;class 'numpy.int64'&gt;</td>\n",
       "    </tr>\n",
       "    <tr>\n",
       "      <th>60</th>\n",
       "      <td>child</td>\n",
       "      <td>&lt;class 'numpy.int64'&gt;</td>\n",
       "    </tr>\n",
       "    <tr>\n",
       "      <th>61</th>\n",
       "      <td>animal</td>\n",
       "      <td>&lt;class 'numpy.int64'&gt;</td>\n",
       "    </tr>\n",
       "  </tbody>\n",
       "</table>\n",
       "</div>"
      ],
      "text/plain": [
       "              Columns                   Type\n",
       "40    washing_machine  <class 'numpy.int64'>\n",
       "41  kitchen_furniture  <class 'numpy.int64'>\n",
       "42               frig  <class 'numpy.int64'>\n",
       "43           internet  <class 'numpy.int64'>\n",
       "44         dishwasher  <class 'numpy.int64'>\n",
       "45              floor  <class 'numpy.int64'>\n",
       "46          tot_floor  <class 'numpy.int64'>\n",
       "47           ht_block  <class 'numpy.int64'>\n",
       "48            ht_wood  <class 'numpy.int64'>\n",
       "49           ht_brick  <class 'numpy.int64'>\n",
       "50         ht_mobrick  <class 'numpy.int64'>\n",
       "51              ht_mo  <class 'numpy.int64'>\n",
       "52           ht_panel  <class 'numpy.int64'>\n",
       "53           ht_stali  <class 'numpy.int64'>\n",
       "54            ht_schi  <class 'numpy.int64'>\n",
       "55             ht_old  <class 'numpy.int64'>\n",
       "56             floor1  <class 'numpy.int64'>\n",
       "57           floor_c1  <class 'numpy.int64'>\n",
       "58          elev_pass  <class 'numpy.int64'>\n",
       "59          elev_serv  <class 'numpy.int64'>\n",
       "60              child  <class 'numpy.int64'>\n",
       "61             animal  <class 'numpy.int64'>"
      ]
     },
     "execution_count": 224,
     "metadata": {},
     "output_type": "execute_result"
    }
   ],
   "source": [
    "#column_type(data)\n",
    "data_col = column_type(data)\n",
    "data_col[40:]"
   ]
  },
  {
   "cell_type": "code",
   "execution_count": 226,
   "metadata": {},
   "outputs": [],
   "source": [
    "data2 = data.copy()"
   ]
  },
  {
   "cell_type": "code",
   "execution_count": 227,
   "metadata": {},
   "outputs": [],
   "source": [
    "# оставляем для анализа только необходимые столбцы:\n",
    "data2 = data2[['utilities_included',\n",
    "              'rent_length', 'total_m2', \n",
    "              #'total_m2_x2', 'total_m2_x05',\n",
    "              'live_m2', 'kitchen_m2', \n",
    "              'remont_cosm', \n",
    "              'remont_no', \n",
    "              'remont_euro', 'remont_design', \n",
    "              'toilet_sep', 'toilet_unted', \n",
    "              'window_back',  'windowb_bs', 'window_street', 'street', \n",
    "              'balcony', 'loggia',\n",
    "              'rooms_sep', 'rooms_unted', \n",
    "              'price_advance','deposit', \n",
    "              'ceiling', 'g_chute', 'metro_walk',               \n",
    "              'parking_roof', 'parking_open', 'parking_ground','parking_mlevel', \n",
    "              'parking_ug', \n",
    "              'tv', 'frig', 'internet','dishwasher','house', \n",
    "              'shower_cabin', 'bathtub',\n",
    "              'furniture', 'ac', 'telephone', 'washing_machine',\n",
    "              'kitchen_furniture',  \n",
    "              'floor', 'tot_floor', \n",
    "              'ht_block', 'ht_wood',  'ht_mobrick', 'ht_mo', 'ht_panel', \n",
    "              'ht_stali', 'ht_schi', 'ht_old', 'ht_brick',\n",
    "              #'floor1', 'floor_c1', \n",
    "              'rooms', #'rooms_x2', 'rooms_x3',\n",
    "              'elev_serv', 'elev_pass',\n",
    "              'animal', 'child', \n",
    "              'price']]\n"
   ]
  },
  {
   "cell_type": "code",
   "execution_count": 228,
   "metadata": {},
   "outputs": [],
   "source": [
    "to_scale = ['ceiling', 'rooms', 'total_m2', 'toilet_unted', \n",
    "            'live_m2', 'kitchen_m2', 'metro_walk', 'floor', 'tot_floor']\n",
    "#\n",
    "\n",
    "# масштабируем числовые фичи\n",
    "std_scaler = StandardScaler()\n",
    "std_scaler.fit(data2[to_scale])\n",
    "std_scaled = std_scaler.transform(data2[to_scale])\n",
    "names_scaled = []\n",
    "for i in to_scale:\n",
    "    col_name = i + '_std'\n",
    "    names_scaled.append(col_name)\n",
    "data2[names_scaled] = std_scaled\n",
    "data2.drop(to_scale, axis=1, inplace=True)"
   ]
  },
  {
   "cell_type": "code",
   "execution_count": 229,
   "metadata": {},
   "outputs": [
    {
     "data": {
      "text/html": [
       "<div>\n",
       "<style scoped>\n",
       "    .dataframe tbody tr th:only-of-type {\n",
       "        vertical-align: middle;\n",
       "    }\n",
       "\n",
       "    .dataframe tbody tr th {\n",
       "        vertical-align: top;\n",
       "    }\n",
       "\n",
       "    .dataframe thead th {\n",
       "        text-align: right;\n",
       "    }\n",
       "</style>\n",
       "<table border=\"1\" class=\"dataframe\">\n",
       "  <thead>\n",
       "    <tr style=\"text-align: right;\">\n",
       "      <th></th>\n",
       "      <th>utilities_included</th>\n",
       "      <th>rent_length</th>\n",
       "      <th>remont_cosm</th>\n",
       "      <th>remont_no</th>\n",
       "      <th>remont_euro</th>\n",
       "      <th>remont_design</th>\n",
       "      <th>toilet_sep</th>\n",
       "      <th>window_back</th>\n",
       "      <th>windowb_bs</th>\n",
       "      <th>window_street</th>\n",
       "      <th>...</th>\n",
       "      <th>price</th>\n",
       "      <th>ceiling_std</th>\n",
       "      <th>rooms_std</th>\n",
       "      <th>total_m2_std</th>\n",
       "      <th>toilet_unted_std</th>\n",
       "      <th>live_m2_std</th>\n",
       "      <th>kitchen_m2_std</th>\n",
       "      <th>metro_walk_std</th>\n",
       "      <th>floor_std</th>\n",
       "      <th>tot_floor_std</th>\n",
       "    </tr>\n",
       "  </thead>\n",
       "  <tbody>\n",
       "    <tr>\n",
       "      <th>0</th>\n",
       "      <td>1</td>\n",
       "      <td>12.0</td>\n",
       "      <td>0</td>\n",
       "      <td>0</td>\n",
       "      <td>0</td>\n",
       "      <td>1</td>\n",
       "      <td>0.0</td>\n",
       "      <td>1</td>\n",
       "      <td>0</td>\n",
       "      <td>0</td>\n",
       "      <td>...</td>\n",
       "      <td>500000.0</td>\n",
       "      <td>1.517322</td>\n",
       "      <td>1.983172</td>\n",
       "      <td>2.831783</td>\n",
       "      <td>0.322775</td>\n",
       "      <td>3.122845</td>\n",
       "      <td>1.322289</td>\n",
       "      <td>-0.447468</td>\n",
       "      <td>-0.418992</td>\n",
       "      <td>0.168073</td>\n",
       "    </tr>\n",
       "    <tr>\n",
       "      <th>1</th>\n",
       "      <td>1</td>\n",
       "      <td>12.0</td>\n",
       "      <td>0</td>\n",
       "      <td>0</td>\n",
       "      <td>0</td>\n",
       "      <td>1</td>\n",
       "      <td>1.0</td>\n",
       "      <td>0</td>\n",
       "      <td>1</td>\n",
       "      <td>0</td>\n",
       "      <td>...</td>\n",
       "      <td>500000.0</td>\n",
       "      <td>3.611222</td>\n",
       "      <td>1.983172</td>\n",
       "      <td>2.790235</td>\n",
       "      <td>1.809518</td>\n",
       "      <td>1.610249</td>\n",
       "      <td>1.006612</td>\n",
       "      <td>-0.447468</td>\n",
       "      <td>-0.418992</td>\n",
       "      <td>0.168073</td>\n",
       "    </tr>\n",
       "    <tr>\n",
       "      <th>2</th>\n",
       "      <td>0</td>\n",
       "      <td>12.0</td>\n",
       "      <td>0</td>\n",
       "      <td>0</td>\n",
       "      <td>1</td>\n",
       "      <td>0</td>\n",
       "      <td>0.0</td>\n",
       "      <td>0</td>\n",
       "      <td>1</td>\n",
       "      <td>0</td>\n",
       "      <td>...</td>\n",
       "      <td>500000.0</td>\n",
       "      <td>2.354882</td>\n",
       "      <td>1.983172</td>\n",
       "      <td>2.831783</td>\n",
       "      <td>3.296260</td>\n",
       "      <td>2.245539</td>\n",
       "      <td>-1.203128</td>\n",
       "      <td>-0.447468</td>\n",
       "      <td>-0.418992</td>\n",
       "      <td>0.168073</td>\n",
       "    </tr>\n",
       "    <tr>\n",
       "      <th>3</th>\n",
       "      <td>0</td>\n",
       "      <td>12.0</td>\n",
       "      <td>0</td>\n",
       "      <td>0</td>\n",
       "      <td>1</td>\n",
       "      <td>0</td>\n",
       "      <td>0.0</td>\n",
       "      <td>0</td>\n",
       "      <td>1</td>\n",
       "      <td>0</td>\n",
       "      <td>...</td>\n",
       "      <td>400000.0</td>\n",
       "      <td>2.354882</td>\n",
       "      <td>1.983172</td>\n",
       "      <td>2.208565</td>\n",
       "      <td>3.296260</td>\n",
       "      <td>1.610249</td>\n",
       "      <td>0.848773</td>\n",
       "      <td>-0.559331</td>\n",
       "      <td>-0.418992</td>\n",
       "      <td>-0.933650</td>\n",
       "    </tr>\n",
       "    <tr>\n",
       "      <th>4</th>\n",
       "      <td>1</td>\n",
       "      <td>12.0</td>\n",
       "      <td>0</td>\n",
       "      <td>0</td>\n",
       "      <td>1</td>\n",
       "      <td>0</td>\n",
       "      <td>0.0</td>\n",
       "      <td>0</td>\n",
       "      <td>1</td>\n",
       "      <td>0</td>\n",
       "      <td>...</td>\n",
       "      <td>225000.0</td>\n",
       "      <td>5.286342</td>\n",
       "      <td>-0.003306</td>\n",
       "      <td>-0.118118</td>\n",
       "      <td>1.809518</td>\n",
       "      <td>-0.114110</td>\n",
       "      <td>-1.045290</td>\n",
       "      <td>-0.279673</td>\n",
       "      <td>0.749972</td>\n",
       "      <td>1.269797</td>\n",
       "    </tr>\n",
       "  </tbody>\n",
       "</table>\n",
       "<p>5 rows × 58 columns</p>\n",
       "</div>"
      ],
      "text/plain": [
       "   utilities_included  rent_length  remont_cosm  remont_no  remont_euro  \\\n",
       "0                   1         12.0            0          0            0   \n",
       "1                   1         12.0            0          0            0   \n",
       "2                   0         12.0            0          0            1   \n",
       "3                   0         12.0            0          0            1   \n",
       "4                   1         12.0            0          0            1   \n",
       "\n",
       "   remont_design  toilet_sep  window_back  windowb_bs  window_street  ...  \\\n",
       "0              1         0.0            1           0              0  ...   \n",
       "1              1         1.0            0           1              0  ...   \n",
       "2              0         0.0            0           1              0  ...   \n",
       "3              0         0.0            0           1              0  ...   \n",
       "4              0         0.0            0           1              0  ...   \n",
       "\n",
       "      price  ceiling_std  rooms_std  total_m2_std  toilet_unted_std  \\\n",
       "0  500000.0     1.517322   1.983172      2.831783          0.322775   \n",
       "1  500000.0     3.611222   1.983172      2.790235          1.809518   \n",
       "2  500000.0     2.354882   1.983172      2.831783          3.296260   \n",
       "3  400000.0     2.354882   1.983172      2.208565          3.296260   \n",
       "4  225000.0     5.286342  -0.003306     -0.118118          1.809518   \n",
       "\n",
       "   live_m2_std  kitchen_m2_std  metro_walk_std  floor_std  tot_floor_std  \n",
       "0     3.122845        1.322289       -0.447468  -0.418992       0.168073  \n",
       "1     1.610249        1.006612       -0.447468  -0.418992       0.168073  \n",
       "2     2.245539       -1.203128       -0.447468  -0.418992       0.168073  \n",
       "3     1.610249        0.848773       -0.559331  -0.418992      -0.933650  \n",
       "4    -0.114110       -1.045290       -0.279673   0.749972       1.269797  \n",
       "\n",
       "[5 rows x 58 columns]"
      ]
     },
     "execution_count": 229,
     "metadata": {},
     "output_type": "execute_result"
    }
   ],
   "source": [
    "# смотрим на массив:\n",
    "data2.head()"
   ]
  },
  {
   "cell_type": "code",
   "execution_count": 230,
   "metadata": {},
   "outputs": [
    {
     "data": {
      "text/html": [
       "<div>\n",
       "<style scoped>\n",
       "    .dataframe tbody tr th:only-of-type {\n",
       "        vertical-align: middle;\n",
       "    }\n",
       "\n",
       "    .dataframe tbody tr th {\n",
       "        vertical-align: top;\n",
       "    }\n",
       "\n",
       "    .dataframe thead th {\n",
       "        text-align: right;\n",
       "    }\n",
       "</style>\n",
       "<table border=\"1\" class=\"dataframe\">\n",
       "  <thead>\n",
       "    <tr style=\"text-align: right;\">\n",
       "      <th></th>\n",
       "      <th>utilities_included</th>\n",
       "      <th>rent_length</th>\n",
       "      <th>remont_cosm</th>\n",
       "      <th>remont_no</th>\n",
       "      <th>remont_euro</th>\n",
       "      <th>remont_design</th>\n",
       "      <th>toilet_sep</th>\n",
       "      <th>window_back</th>\n",
       "      <th>windowb_bs</th>\n",
       "      <th>window_street</th>\n",
       "      <th>...</th>\n",
       "      <th>price</th>\n",
       "      <th>ceiling_std</th>\n",
       "      <th>rooms_std</th>\n",
       "      <th>total_m2_std</th>\n",
       "      <th>toilet_unted_std</th>\n",
       "      <th>live_m2_std</th>\n",
       "      <th>kitchen_m2_std</th>\n",
       "      <th>metro_walk_std</th>\n",
       "      <th>floor_std</th>\n",
       "      <th>tot_floor_std</th>\n",
       "    </tr>\n",
       "  </thead>\n",
       "  <tbody>\n",
       "    <tr>\n",
       "      <th>count</th>\n",
       "      <td>19530.000000</td>\n",
       "      <td>19530.000000</td>\n",
       "      <td>19530.000000</td>\n",
       "      <td>19530.000000</td>\n",
       "      <td>19530.000000</td>\n",
       "      <td>19530.000000</td>\n",
       "      <td>19530.000000</td>\n",
       "      <td>19530.000000</td>\n",
       "      <td>19530.000000</td>\n",
       "      <td>19530.000000</td>\n",
       "      <td>...</td>\n",
       "      <td>1.953000e+04</td>\n",
       "      <td>1.953000e+04</td>\n",
       "      <td>1.953000e+04</td>\n",
       "      <td>1.953000e+04</td>\n",
       "      <td>1.953000e+04</td>\n",
       "      <td>1.953000e+04</td>\n",
       "      <td>1.953000e+04</td>\n",
       "      <td>1.953000e+04</td>\n",
       "      <td>1.953000e+04</td>\n",
       "      <td>1.953000e+04</td>\n",
       "    </tr>\n",
       "    <tr>\n",
       "      <th>mean</th>\n",
       "      <td>0.891551</td>\n",
       "      <td>11.748387</td>\n",
       "      <td>0.370405</td>\n",
       "      <td>0.132668</td>\n",
       "      <td>0.355760</td>\n",
       "      <td>0.141167</td>\n",
       "      <td>0.414951</td>\n",
       "      <td>0.751818</td>\n",
       "      <td>0.140399</td>\n",
       "      <td>0.107783</td>\n",
       "      <td>...</td>\n",
       "      <td>8.846198e+04</td>\n",
       "      <td>-9.612155e-16</td>\n",
       "      <td>-1.018699e-16</td>\n",
       "      <td>1.979187e-16</td>\n",
       "      <td>2.182927e-17</td>\n",
       "      <td>-1.673577e-16</td>\n",
       "      <td>-1.906423e-16</td>\n",
       "      <td>-1.513496e-16</td>\n",
       "      <td>1.018699e-17</td>\n",
       "      <td>5.821139e-18</td>\n",
       "    </tr>\n",
       "    <tr>\n",
       "      <th>std</th>\n",
       "      <td>0.310954</td>\n",
       "      <td>1.483685</td>\n",
       "      <td>0.482925</td>\n",
       "      <td>0.339224</td>\n",
       "      <td>0.478755</td>\n",
       "      <td>0.348203</td>\n",
       "      <td>0.561960</td>\n",
       "      <td>0.431969</td>\n",
       "      <td>0.347410</td>\n",
       "      <td>0.310114</td>\n",
       "      <td>...</td>\n",
       "      <td>1.360302e+05</td>\n",
       "      <td>1.000026e+00</td>\n",
       "      <td>1.000026e+00</td>\n",
       "      <td>1.000026e+00</td>\n",
       "      <td>1.000026e+00</td>\n",
       "      <td>1.000026e+00</td>\n",
       "      <td>1.000026e+00</td>\n",
       "      <td>1.000026e+00</td>\n",
       "      <td>1.000026e+00</td>\n",
       "      <td>1.000026e+00</td>\n",
       "    </tr>\n",
       "    <tr>\n",
       "      <th>min</th>\n",
       "      <td>0.000000</td>\n",
       "      <td>3.000000</td>\n",
       "      <td>0.000000</td>\n",
       "      <td>0.000000</td>\n",
       "      <td>0.000000</td>\n",
       "      <td>0.000000</td>\n",
       "      <td>0.000000</td>\n",
       "      <td>0.000000</td>\n",
       "      <td>0.000000</td>\n",
       "      <td>0.000000</td>\n",
       "      <td>...</td>\n",
       "      <td>1.200000e+04</td>\n",
       "      <td>-2.670479e+00</td>\n",
       "      <td>-9.965448e-01</td>\n",
       "      <td>-1.177590e+00</td>\n",
       "      <td>-1.163968e+00</td>\n",
       "      <td>-1.142676e+00</td>\n",
       "      <td>-1.676644e+00</td>\n",
       "      <td>-7.271266e-01</td>\n",
       "      <td>-1.420962e+00</td>\n",
       "      <td>-1.484512e+00</td>\n",
       "    </tr>\n",
       "    <tr>\n",
       "      <th>25%</th>\n",
       "      <td>1.000000</td>\n",
       "      <td>12.000000</td>\n",
       "      <td>0.000000</td>\n",
       "      <td>0.000000</td>\n",
       "      <td>0.000000</td>\n",
       "      <td>0.000000</td>\n",
       "      <td>0.000000</td>\n",
       "      <td>1.000000</td>\n",
       "      <td>0.000000</td>\n",
       "      <td>0.000000</td>\n",
       "      <td>...</td>\n",
       "      <td>4.000000e+04</td>\n",
       "      <td>-5.765784e-01</td>\n",
       "      <td>-9.965448e-01</td>\n",
       "      <td>-5.149005e-01</td>\n",
       "      <td>-1.163968e+00</td>\n",
       "      <td>-6.586449e-01</td>\n",
       "      <td>-7.296126e-01</td>\n",
       "      <td>-4.474679e-01</td>\n",
       "      <td>-7.529819e-01</td>\n",
       "      <td>-6.031329e-01</td>\n",
       "    </tr>\n",
       "    <tr>\n",
       "      <th>50%</th>\n",
       "      <td>1.000000</td>\n",
       "      <td>12.000000</td>\n",
       "      <td>0.000000</td>\n",
       "      <td>0.000000</td>\n",
       "      <td>0.000000</td>\n",
       "      <td>0.000000</td>\n",
       "      <td>0.000000</td>\n",
       "      <td>1.000000</td>\n",
       "      <td>0.000000</td>\n",
       "      <td>0.000000</td>\n",
       "      <td>...</td>\n",
       "      <td>5.000000e+04</td>\n",
       "      <td>-5.765784e-01</td>\n",
       "      <td>-3.305711e-03</td>\n",
       "      <td>-2.863871e-01</td>\n",
       "      <td>3.227747e-01</td>\n",
       "      <td>-2.956218e-01</td>\n",
       "      <td>-2.560969e-01</td>\n",
       "      <td>-2.237410e-01</td>\n",
       "      <td>-2.519973e-01</td>\n",
       "      <td>-2.726159e-01</td>\n",
       "    </tr>\n",
       "    <tr>\n",
       "      <th>75%</th>\n",
       "      <td>1.000000</td>\n",
       "      <td>12.000000</td>\n",
       "      <td>1.000000</td>\n",
       "      <td>0.000000</td>\n",
       "      <td>1.000000</td>\n",
       "      <td>0.000000</td>\n",
       "      <td>1.000000</td>\n",
       "      <td>1.000000</td>\n",
       "      <td>0.000000</td>\n",
       "      <td>0.000000</td>\n",
       "      <td>...</td>\n",
       "      <td>7.500000e+04</td>\n",
       "      <td>9.713639e-03</td>\n",
       "      <td>9.899334e-01</td>\n",
       "      <td>1.311694e-01</td>\n",
       "      <td>3.227747e-01</td>\n",
       "      <td>2.186608e-01</td>\n",
       "      <td>5.330959e-01</td>\n",
       "      <td>5.591774e-02</td>\n",
       "      <td>4.159823e-01</td>\n",
       "      <td>2.782458e-01</td>\n",
       "    </tr>\n",
       "    <tr>\n",
       "      <th>max</th>\n",
       "      <td>1.000000</td>\n",
       "      <td>12.000000</td>\n",
       "      <td>1.000000</td>\n",
       "      <td>1.000000</td>\n",
       "      <td>1.000000</td>\n",
       "      <td>1.000000</td>\n",
       "      <td>4.000000</td>\n",
       "      <td>1.000000</td>\n",
       "      <td>1.000000</td>\n",
       "      <td>1.000000</td>\n",
       "      <td>...</td>\n",
       "      <td>3.000000e+06</td>\n",
       "      <td>1.408072e+01</td>\n",
       "      <td>3.969651e+00</td>\n",
       "      <td>1.552467e+01</td>\n",
       "      <td>4.783003e+00</td>\n",
       "      <td>1.809755e+01</td>\n",
       "      <td>1.363370e+01</td>\n",
       "      <td>1.972525e+01</td>\n",
       "      <td>1.294060e+01</td>\n",
       "      <td>1.118531e+01</td>\n",
       "    </tr>\n",
       "  </tbody>\n",
       "</table>\n",
       "<p>8 rows × 58 columns</p>\n",
       "</div>"
      ],
      "text/plain": [
       "       utilities_included   rent_length   remont_cosm     remont_no  \\\n",
       "count        19530.000000  19530.000000  19530.000000  19530.000000   \n",
       "mean             0.891551     11.748387      0.370405      0.132668   \n",
       "std              0.310954      1.483685      0.482925      0.339224   \n",
       "min              0.000000      3.000000      0.000000      0.000000   \n",
       "25%              1.000000     12.000000      0.000000      0.000000   \n",
       "50%              1.000000     12.000000      0.000000      0.000000   \n",
       "75%              1.000000     12.000000      1.000000      0.000000   \n",
       "max              1.000000     12.000000      1.000000      1.000000   \n",
       "\n",
       "        remont_euro  remont_design    toilet_sep   window_back    windowb_bs  \\\n",
       "count  19530.000000   19530.000000  19530.000000  19530.000000  19530.000000   \n",
       "mean       0.355760       0.141167      0.414951      0.751818      0.140399   \n",
       "std        0.478755       0.348203      0.561960      0.431969      0.347410   \n",
       "min        0.000000       0.000000      0.000000      0.000000      0.000000   \n",
       "25%        0.000000       0.000000      0.000000      1.000000      0.000000   \n",
       "50%        0.000000       0.000000      0.000000      1.000000      0.000000   \n",
       "75%        1.000000       0.000000      1.000000      1.000000      0.000000   \n",
       "max        1.000000       1.000000      4.000000      1.000000      1.000000   \n",
       "\n",
       "       window_street  ...         price   ceiling_std     rooms_std  \\\n",
       "count   19530.000000  ...  1.953000e+04  1.953000e+04  1.953000e+04   \n",
       "mean        0.107783  ...  8.846198e+04 -9.612155e-16 -1.018699e-16   \n",
       "std         0.310114  ...  1.360302e+05  1.000026e+00  1.000026e+00   \n",
       "min         0.000000  ...  1.200000e+04 -2.670479e+00 -9.965448e-01   \n",
       "25%         0.000000  ...  4.000000e+04 -5.765784e-01 -9.965448e-01   \n",
       "50%         0.000000  ...  5.000000e+04 -5.765784e-01 -3.305711e-03   \n",
       "75%         0.000000  ...  7.500000e+04  9.713639e-03  9.899334e-01   \n",
       "max         1.000000  ...  3.000000e+06  1.408072e+01  3.969651e+00   \n",
       "\n",
       "       total_m2_std  toilet_unted_std   live_m2_std  kitchen_m2_std  \\\n",
       "count  1.953000e+04      1.953000e+04  1.953000e+04    1.953000e+04   \n",
       "mean   1.979187e-16      2.182927e-17 -1.673577e-16   -1.906423e-16   \n",
       "std    1.000026e+00      1.000026e+00  1.000026e+00    1.000026e+00   \n",
       "min   -1.177590e+00     -1.163968e+00 -1.142676e+00   -1.676644e+00   \n",
       "25%   -5.149005e-01     -1.163968e+00 -6.586449e-01   -7.296126e-01   \n",
       "50%   -2.863871e-01      3.227747e-01 -2.956218e-01   -2.560969e-01   \n",
       "75%    1.311694e-01      3.227747e-01  2.186608e-01    5.330959e-01   \n",
       "max    1.552467e+01      4.783003e+00  1.809755e+01    1.363370e+01   \n",
       "\n",
       "       metro_walk_std     floor_std  tot_floor_std  \n",
       "count    1.953000e+04  1.953000e+04   1.953000e+04  \n",
       "mean    -1.513496e-16  1.018699e-17   5.821139e-18  \n",
       "std      1.000026e+00  1.000026e+00   1.000026e+00  \n",
       "min     -7.271266e-01 -1.420962e+00  -1.484512e+00  \n",
       "25%     -4.474679e-01 -7.529819e-01  -6.031329e-01  \n",
       "50%     -2.237410e-01 -2.519973e-01  -2.726159e-01  \n",
       "75%      5.591774e-02  4.159823e-01   2.782458e-01  \n",
       "max      1.972525e+01  1.294060e+01   1.118531e+01  \n",
       "\n",
       "[8 rows x 58 columns]"
      ]
     },
     "execution_count": 230,
     "metadata": {},
     "output_type": "execute_result"
    }
   ],
   "source": [
    "# посмотрим на числовые данные\n",
    "data2.describe()"
   ]
  },
  {
   "cell_type": "code",
   "execution_count": 231,
   "metadata": {},
   "outputs": [
    {
     "data": {
      "text/plain": [
       "(19530, 58)"
      ]
     },
     "execution_count": 231,
     "metadata": {},
     "output_type": "execute_result"
    }
   ],
   "source": [
    "# размеры\n",
    "data2.shape"
   ]
  },
  {
   "cell_type": "markdown",
   "metadata": {},
   "source": [
    "## Корелляционная матрица"
   ]
  },
  {
   "cell_type": "code",
   "execution_count": 232,
   "metadata": {},
   "outputs": [
    {
     "data": {
      "text/html": [
       "<div>\n",
       "<style scoped>\n",
       "    .dataframe tbody tr th:only-of-type {\n",
       "        vertical-align: middle;\n",
       "    }\n",
       "\n",
       "    .dataframe tbody tr th {\n",
       "        vertical-align: top;\n",
       "    }\n",
       "\n",
       "    .dataframe thead th {\n",
       "        text-align: right;\n",
       "    }\n",
       "</style>\n",
       "<table border=\"1\" class=\"dataframe\">\n",
       "  <thead>\n",
       "    <tr style=\"text-align: right;\">\n",
       "      <th></th>\n",
       "      <th>utilities_included</th>\n",
       "      <th>rent_length</th>\n",
       "      <th>remont_cosm</th>\n",
       "      <th>remont_no</th>\n",
       "      <th>remont_euro</th>\n",
       "      <th>remont_design</th>\n",
       "      <th>toilet_sep</th>\n",
       "      <th>window_back</th>\n",
       "      <th>windowb_bs</th>\n",
       "      <th>window_street</th>\n",
       "      <th>...</th>\n",
       "      <th>price</th>\n",
       "      <th>ceiling_std</th>\n",
       "      <th>rooms_std</th>\n",
       "      <th>total_m2_std</th>\n",
       "      <th>toilet_unted_std</th>\n",
       "      <th>live_m2_std</th>\n",
       "      <th>kitchen_m2_std</th>\n",
       "      <th>metro_walk_std</th>\n",
       "      <th>floor_std</th>\n",
       "      <th>tot_floor_std</th>\n",
       "    </tr>\n",
       "  </thead>\n",
       "  <tbody>\n",
       "    <tr>\n",
       "      <th>utilities_included</th>\n",
       "      <td>1.000000</td>\n",
       "      <td>-0.045163</td>\n",
       "      <td>0.121910</td>\n",
       "      <td>0.012131</td>\n",
       "      <td>-0.097857</td>\n",
       "      <td>-0.046350</td>\n",
       "      <td>0.058568</td>\n",
       "      <td>0.056172</td>\n",
       "      <td>-0.061921</td>\n",
       "      <td>-0.008876</td>\n",
       "      <td>...</td>\n",
       "      <td>-0.290302</td>\n",
       "      <td>-0.031903</td>\n",
       "      <td>-0.238784</td>\n",
       "      <td>-0.276639</td>\n",
       "      <td>-0.191651</td>\n",
       "      <td>-0.299516</td>\n",
       "      <td>-0.196826</td>\n",
       "      <td>-0.003627</td>\n",
       "      <td>0.002202</td>\n",
       "      <td>-0.008493</td>\n",
       "    </tr>\n",
       "    <tr>\n",
       "      <th>rent_length</th>\n",
       "      <td>-0.045163</td>\n",
       "      <td>1.000000</td>\n",
       "      <td>-0.010779</td>\n",
       "      <td>0.005894</td>\n",
       "      <td>0.023516</td>\n",
       "      <td>-0.023124</td>\n",
       "      <td>0.016893</td>\n",
       "      <td>0.014735</td>\n",
       "      <td>0.003271</td>\n",
       "      <td>-0.024189</td>\n",
       "      <td>...</td>\n",
       "      <td>0.035862</td>\n",
       "      <td>-0.015123</td>\n",
       "      <td>0.054549</td>\n",
       "      <td>0.053451</td>\n",
       "      <td>0.008988</td>\n",
       "      <td>0.040110</td>\n",
       "      <td>0.010486</td>\n",
       "      <td>0.003876</td>\n",
       "      <td>-0.007058</td>\n",
       "      <td>-0.002804</td>\n",
       "    </tr>\n",
       "    <tr>\n",
       "      <th>remont_cosm</th>\n",
       "      <td>0.121910</td>\n",
       "      <td>-0.010779</td>\n",
       "      <td>1.000000</td>\n",
       "      <td>-0.299983</td>\n",
       "      <td>-0.569984</td>\n",
       "      <td>-0.310971</td>\n",
       "      <td>0.078915</td>\n",
       "      <td>0.117418</td>\n",
       "      <td>-0.096034</td>\n",
       "      <td>-0.055972</td>\n",
       "      <td>...</td>\n",
       "      <td>-0.236221</td>\n",
       "      <td>-0.130968</td>\n",
       "      <td>-0.213478</td>\n",
       "      <td>-0.243138</td>\n",
       "      <td>-0.242053</td>\n",
       "      <td>-0.242462</td>\n",
       "      <td>-0.259567</td>\n",
       "      <td>0.047278</td>\n",
       "      <td>-0.125312</td>\n",
       "      <td>-0.180225</td>\n",
       "    </tr>\n",
       "    <tr>\n",
       "      <th>remont_no</th>\n",
       "      <td>0.012131</td>\n",
       "      <td>0.005894</td>\n",
       "      <td>-0.299983</td>\n",
       "      <td>1.000000</td>\n",
       "      <td>-0.290633</td>\n",
       "      <td>-0.158563</td>\n",
       "      <td>0.038374</td>\n",
       "      <td>-0.033183</td>\n",
       "      <td>0.009222</td>\n",
       "      <td>0.035891</td>\n",
       "      <td>...</td>\n",
       "      <td>0.018308</td>\n",
       "      <td>0.078523</td>\n",
       "      <td>0.037088</td>\n",
       "      <td>0.016825</td>\n",
       "      <td>-0.022103</td>\n",
       "      <td>0.009100</td>\n",
       "      <td>-0.048912</td>\n",
       "      <td>-0.008095</td>\n",
       "      <td>-0.002643</td>\n",
       "      <td>-0.001718</td>\n",
       "    </tr>\n",
       "    <tr>\n",
       "      <th>remont_euro</th>\n",
       "      <td>-0.097857</td>\n",
       "      <td>0.023516</td>\n",
       "      <td>-0.569984</td>\n",
       "      <td>-0.290633</td>\n",
       "      <td>1.000000</td>\n",
       "      <td>-0.301278</td>\n",
       "      <td>-0.051785</td>\n",
       "      <td>-0.022935</td>\n",
       "      <td>0.032174</td>\n",
       "      <td>-0.004096</td>\n",
       "      <td>...</td>\n",
       "      <td>0.017500</td>\n",
       "      <td>0.021049</td>\n",
       "      <td>0.053952</td>\n",
       "      <td>0.059291</td>\n",
       "      <td>0.091977</td>\n",
       "      <td>0.044571</td>\n",
       "      <td>0.066158</td>\n",
       "      <td>-0.024668</td>\n",
       "      <td>0.028155</td>\n",
       "      <td>0.044217</td>\n",
       "    </tr>\n",
       "    <tr>\n",
       "      <th>remont_design</th>\n",
       "      <td>-0.046350</td>\n",
       "      <td>-0.023124</td>\n",
       "      <td>-0.310971</td>\n",
       "      <td>-0.158563</td>\n",
       "      <td>-0.301278</td>\n",
       "      <td>1.000000</td>\n",
       "      <td>-0.075633</td>\n",
       "      <td>-0.098985</td>\n",
       "      <td>0.079969</td>\n",
       "      <td>0.048294</td>\n",
       "      <td>...</td>\n",
       "      <td>0.285718</td>\n",
       "      <td>0.076200</td>\n",
       "      <td>0.185762</td>\n",
       "      <td>0.239298</td>\n",
       "      <td>0.230776</td>\n",
       "      <td>0.266124</td>\n",
       "      <td>0.316683</td>\n",
       "      <td>-0.023768</td>\n",
       "      <td>0.137659</td>\n",
       "      <td>0.190834</td>\n",
       "    </tr>\n",
       "    <tr>\n",
       "      <th>toilet_sep</th>\n",
       "      <td>0.058568</td>\n",
       "      <td>0.016893</td>\n",
       "      <td>0.078915</td>\n",
       "      <td>0.038374</td>\n",
       "      <td>-0.051785</td>\n",
       "      <td>-0.075633</td>\n",
       "      <td>1.000000</td>\n",
       "      <td>-0.032006</td>\n",
       "      <td>0.066411</td>\n",
       "      <td>-0.029816</td>\n",
       "      <td>...</td>\n",
       "      <td>0.073413</td>\n",
       "      <td>0.023264</td>\n",
       "      <td>0.221370</td>\n",
       "      <td>0.143638</td>\n",
       "      <td>-0.663609</td>\n",
       "      <td>0.134003</td>\n",
       "      <td>0.067006</td>\n",
       "      <td>0.005743</td>\n",
       "      <td>0.012249</td>\n",
       "      <td>0.003544</td>\n",
       "    </tr>\n",
       "    <tr>\n",
       "      <th>window_back</th>\n",
       "      <td>0.056172</td>\n",
       "      <td>0.014735</td>\n",
       "      <td>0.117418</td>\n",
       "      <td>-0.033183</td>\n",
       "      <td>-0.022935</td>\n",
       "      <td>-0.098985</td>\n",
       "      <td>-0.032006</td>\n",
       "      <td>1.000000</td>\n",
       "      <td>-0.703404</td>\n",
       "      <td>-0.604938</td>\n",
       "      <td>...</td>\n",
       "      <td>-0.163409</td>\n",
       "      <td>-0.176863</td>\n",
       "      <td>-0.211085</td>\n",
       "      <td>-0.203038</td>\n",
       "      <td>-0.135224</td>\n",
       "      <td>-0.192046</td>\n",
       "      <td>-0.126608</td>\n",
       "      <td>0.009369</td>\n",
       "      <td>-0.102912</td>\n",
       "      <td>-0.090977</td>\n",
       "    </tr>\n",
       "    <tr>\n",
       "      <th>windowb_bs</th>\n",
       "      <td>-0.061921</td>\n",
       "      <td>0.003271</td>\n",
       "      <td>-0.096034</td>\n",
       "      <td>0.009222</td>\n",
       "      <td>0.032174</td>\n",
       "      <td>0.079969</td>\n",
       "      <td>0.066411</td>\n",
       "      <td>-0.703404</td>\n",
       "      <td>1.000000</td>\n",
       "      <td>-0.140467</td>\n",
       "      <td>...</td>\n",
       "      <td>0.197831</td>\n",
       "      <td>0.173043</td>\n",
       "      <td>0.315605</td>\n",
       "      <td>0.275066</td>\n",
       "      <td>0.149073</td>\n",
       "      <td>0.260302</td>\n",
       "      <td>0.154012</td>\n",
       "      <td>-0.000883</td>\n",
       "      <td>0.036755</td>\n",
       "      <td>0.025365</td>\n",
       "    </tr>\n",
       "    <tr>\n",
       "      <th>window_street</th>\n",
       "      <td>-0.008876</td>\n",
       "      <td>-0.024189</td>\n",
       "      <td>-0.055972</td>\n",
       "      <td>0.035891</td>\n",
       "      <td>-0.004096</td>\n",
       "      <td>0.048294</td>\n",
       "      <td>-0.029816</td>\n",
       "      <td>-0.604938</td>\n",
       "      <td>-0.140467</td>\n",
       "      <td>1.000000</td>\n",
       "      <td>...</td>\n",
       "      <td>0.005996</td>\n",
       "      <td>0.052505</td>\n",
       "      <td>-0.059533</td>\n",
       "      <td>-0.025327</td>\n",
       "      <td>0.021357</td>\n",
       "      <td>-0.024099</td>\n",
       "      <td>0.003823</td>\n",
       "      <td>-0.012061</td>\n",
       "      <td>0.102174</td>\n",
       "      <td>0.098310</td>\n",
       "    </tr>\n",
       "    <tr>\n",
       "      <th>street</th>\n",
       "      <td>0.010102</td>\n",
       "      <td>0.012776</td>\n",
       "      <td>0.026098</td>\n",
       "      <td>-0.006198</td>\n",
       "      <td>0.009148</td>\n",
       "      <td>-0.042735</td>\n",
       "      <td>0.010407</td>\n",
       "      <td>0.005348</td>\n",
       "      <td>-0.003000</td>\n",
       "      <td>-0.004087</td>\n",
       "      <td>...</td>\n",
       "      <td>-0.023413</td>\n",
       "      <td>-0.008724</td>\n",
       "      <td>-0.000446</td>\n",
       "      <td>-0.010465</td>\n",
       "      <td>-0.026950</td>\n",
       "      <td>-0.013590</td>\n",
       "      <td>-0.010130</td>\n",
       "      <td>0.004554</td>\n",
       "      <td>-0.022830</td>\n",
       "      <td>-0.030865</td>\n",
       "    </tr>\n",
       "    <tr>\n",
       "      <th>balcony</th>\n",
       "      <td>-0.076180</td>\n",
       "      <td>-0.022026</td>\n",
       "      <td>-0.032322</td>\n",
       "      <td>0.047435</td>\n",
       "      <td>-0.033596</td>\n",
       "      <td>0.044808</td>\n",
       "      <td>-0.059028</td>\n",
       "      <td>-0.031678</td>\n",
       "      <td>0.030055</td>\n",
       "      <td>0.010456</td>\n",
       "      <td>...</td>\n",
       "      <td>0.114671</td>\n",
       "      <td>0.049419</td>\n",
       "      <td>0.114347</td>\n",
       "      <td>0.084289</td>\n",
       "      <td>0.111366</td>\n",
       "      <td>0.115473</td>\n",
       "      <td>0.037217</td>\n",
       "      <td>-0.017730</td>\n",
       "      <td>-0.100930</td>\n",
       "      <td>-0.105286</td>\n",
       "    </tr>\n",
       "    <tr>\n",
       "      <th>loggia</th>\n",
       "      <td>0.083580</td>\n",
       "      <td>0.021796</td>\n",
       "      <td>0.000876</td>\n",
       "      <td>-0.040673</td>\n",
       "      <td>0.038923</td>\n",
       "      <td>-0.015107</td>\n",
       "      <td>0.137871</td>\n",
       "      <td>-0.024562</td>\n",
       "      <td>0.061826</td>\n",
       "      <td>-0.035048</td>\n",
       "      <td>...</td>\n",
       "      <td>-0.038318</td>\n",
       "      <td>-0.032965</td>\n",
       "      <td>0.029563</td>\n",
       "      <td>0.050803</td>\n",
       "      <td>-0.088936</td>\n",
       "      <td>0.009472</td>\n",
       "      <td>0.052921</td>\n",
       "      <td>0.020212</td>\n",
       "      <td>0.120858</td>\n",
       "      <td>0.115643</td>\n",
       "    </tr>\n",
       "    <tr>\n",
       "      <th>rooms_sep</th>\n",
       "      <td>-0.235902</td>\n",
       "      <td>0.054378</td>\n",
       "      <td>-0.206056</td>\n",
       "      <td>0.022314</td>\n",
       "      <td>0.052358</td>\n",
       "      <td>0.192054</td>\n",
       "      <td>0.245452</td>\n",
       "      <td>-0.186841</td>\n",
       "      <td>0.285346</td>\n",
       "      <td>-0.059404</td>\n",
       "      <td>...</td>\n",
       "      <td>0.568223</td>\n",
       "      <td>0.145227</td>\n",
       "      <td>0.948431</td>\n",
       "      <td>0.776502</td>\n",
       "      <td>0.241217</td>\n",
       "      <td>0.783248</td>\n",
       "      <td>0.462315</td>\n",
       "      <td>-0.006523</td>\n",
       "      <td>0.037861</td>\n",
       "      <td>0.028983</td>\n",
       "    </tr>\n",
       "    <tr>\n",
       "      <th>rooms_unted</th>\n",
       "      <td>-0.035916</td>\n",
       "      <td>0.006725</td>\n",
       "      <td>-0.046827</td>\n",
       "      <td>0.049092</td>\n",
       "      <td>0.010979</td>\n",
       "      <td>0.002023</td>\n",
       "      <td>-0.047960</td>\n",
       "      <td>-0.097647</td>\n",
       "      <td>0.127808</td>\n",
       "      <td>-0.007162</td>\n",
       "      <td>...</td>\n",
       "      <td>0.096319</td>\n",
       "      <td>0.120096</td>\n",
       "      <td>0.270384</td>\n",
       "      <td>0.149413</td>\n",
       "      <td>0.136533</td>\n",
       "      <td>0.148857</td>\n",
       "      <td>-0.001310</td>\n",
       "      <td>-0.021540</td>\n",
       "      <td>-0.036238</td>\n",
       "      <td>-0.060748</td>\n",
       "    </tr>\n",
       "    <tr>\n",
       "      <th>price_advance</th>\n",
       "      <td>0.014394</td>\n",
       "      <td>-0.007801</td>\n",
       "      <td>0.001840</td>\n",
       "      <td>0.016345</td>\n",
       "      <td>-0.017577</td>\n",
       "      <td>0.005692</td>\n",
       "      <td>0.009995</td>\n",
       "      <td>-0.013550</td>\n",
       "      <td>0.018388</td>\n",
       "      <td>-0.001725</td>\n",
       "      <td>...</td>\n",
       "      <td>-0.000248</td>\n",
       "      <td>-0.011182</td>\n",
       "      <td>0.004324</td>\n",
       "      <td>-0.001485</td>\n",
       "      <td>-0.010515</td>\n",
       "      <td>0.006090</td>\n",
       "      <td>0.002558</td>\n",
       "      <td>0.009509</td>\n",
       "      <td>0.002881</td>\n",
       "      <td>0.001304</td>\n",
       "    </tr>\n",
       "    <tr>\n",
       "      <th>deposit</th>\n",
       "      <td>0.001966</td>\n",
       "      <td>0.001311</td>\n",
       "      <td>-0.005985</td>\n",
       "      <td>-0.002771</td>\n",
       "      <td>0.009707</td>\n",
       "      <td>-0.002346</td>\n",
       "      <td>-0.005174</td>\n",
       "      <td>0.003810</td>\n",
       "      <td>-0.002507</td>\n",
       "      <td>-0.002498</td>\n",
       "      <td>...</td>\n",
       "      <td>-0.000051</td>\n",
       "      <td>-0.003747</td>\n",
       "      <td>-0.006027</td>\n",
       "      <td>-0.001965</td>\n",
       "      <td>0.003155</td>\n",
       "      <td>-0.004090</td>\n",
       "      <td>0.001504</td>\n",
       "      <td>-0.002868</td>\n",
       "      <td>0.004270</td>\n",
       "      <td>0.008440</td>\n",
       "    </tr>\n",
       "    <tr>\n",
       "      <th>g_chute</th>\n",
       "      <td>-0.226155</td>\n",
       "      <td>-0.005579</td>\n",
       "      <td>-0.250040</td>\n",
       "      <td>0.273827</td>\n",
       "      <td>-0.016677</td>\n",
       "      <td>0.102946</td>\n",
       "      <td>-0.112592</td>\n",
       "      <td>-0.071781</td>\n",
       "      <td>0.059250</td>\n",
       "      <td>0.033611</td>\n",
       "      <td>...</td>\n",
       "      <td>0.164500</td>\n",
       "      <td>0.050053</td>\n",
       "      <td>0.150711</td>\n",
       "      <td>0.149722</td>\n",
       "      <td>0.203517</td>\n",
       "      <td>0.166828</td>\n",
       "      <td>0.135017</td>\n",
       "      <td>0.009872</td>\n",
       "      <td>0.005265</td>\n",
       "      <td>0.008519</td>\n",
       "    </tr>\n",
       "    <tr>\n",
       "      <th>parking_roof</th>\n",
       "      <td>0.002496</td>\n",
       "      <td>0.001214</td>\n",
       "      <td>-0.005489</td>\n",
       "      <td>-0.002799</td>\n",
       "      <td>-0.005318</td>\n",
       "      <td>0.017650</td>\n",
       "      <td>-0.005284</td>\n",
       "      <td>-0.012455</td>\n",
       "      <td>0.017706</td>\n",
       "      <td>-0.002487</td>\n",
       "      <td>...</td>\n",
       "      <td>-0.001813</td>\n",
       "      <td>-0.004126</td>\n",
       "      <td>-0.007131</td>\n",
       "      <td>-0.005008</td>\n",
       "      <td>0.002310</td>\n",
       "      <td>-0.006878</td>\n",
       "      <td>-0.009739</td>\n",
       "      <td>-0.003602</td>\n",
       "      <td>0.002977</td>\n",
       "      <td>-0.003528</td>\n",
       "    </tr>\n",
       "    <tr>\n",
       "      <th>parking_open</th>\n",
       "      <td>-0.156126</td>\n",
       "      <td>0.019598</td>\n",
       "      <td>0.022551</td>\n",
       "      <td>-0.061317</td>\n",
       "      <td>0.034974</td>\n",
       "      <td>-0.019626</td>\n",
       "      <td>0.011804</td>\n",
       "      <td>-0.038867</td>\n",
       "      <td>0.024127</td>\n",
       "      <td>0.027110</td>\n",
       "      <td>...</td>\n",
       "      <td>-0.004306</td>\n",
       "      <td>0.011371</td>\n",
       "      <td>0.020854</td>\n",
       "      <td>0.001325</td>\n",
       "      <td>-0.015595</td>\n",
       "      <td>0.017726</td>\n",
       "      <td>0.019710</td>\n",
       "      <td>0.020476</td>\n",
       "      <td>-0.022204</td>\n",
       "      <td>-0.049523</td>\n",
       "    </tr>\n",
       "    <tr>\n",
       "      <th>parking_ground</th>\n",
       "      <td>0.130969</td>\n",
       "      <td>-0.026890</td>\n",
       "      <td>0.220123</td>\n",
       "      <td>-0.056510</td>\n",
       "      <td>-0.050180</td>\n",
       "      <td>-0.181244</td>\n",
       "      <td>0.033995</td>\n",
       "      <td>0.159594</td>\n",
       "      <td>-0.125776</td>\n",
       "      <td>-0.081403</td>\n",
       "      <td>...</td>\n",
       "      <td>-0.219523</td>\n",
       "      <td>-0.236134</td>\n",
       "      <td>-0.195579</td>\n",
       "      <td>-0.238973</td>\n",
       "      <td>-0.250718</td>\n",
       "      <td>-0.226470</td>\n",
       "      <td>-0.245384</td>\n",
       "      <td>-0.000241</td>\n",
       "      <td>-0.155363</td>\n",
       "      <td>-0.244425</td>\n",
       "    </tr>\n",
       "    <tr>\n",
       "      <th>parking_mlevel</th>\n",
       "      <td>-0.009587</td>\n",
       "      <td>0.003463</td>\n",
       "      <td>-0.038685</td>\n",
       "      <td>-0.021713</td>\n",
       "      <td>0.012623</td>\n",
       "      <td>0.057449</td>\n",
       "      <td>-0.005739</td>\n",
       "      <td>-0.025214</td>\n",
       "      <td>0.028828</td>\n",
       "      <td>0.002826</td>\n",
       "      <td>...</td>\n",
       "      <td>0.003864</td>\n",
       "      <td>0.038041</td>\n",
       "      <td>0.010451</td>\n",
       "      <td>0.010051</td>\n",
       "      <td>0.016756</td>\n",
       "      <td>0.014053</td>\n",
       "      <td>0.032198</td>\n",
       "      <td>-0.000291</td>\n",
       "      <td>0.047454</td>\n",
       "      <td>0.063986</td>\n",
       "    </tr>\n",
       "    <tr>\n",
       "      <th>parking_ug</th>\n",
       "      <td>-0.057372</td>\n",
       "      <td>0.018442</td>\n",
       "      <td>-0.251968</td>\n",
       "      <td>0.102883</td>\n",
       "      <td>0.034153</td>\n",
       "      <td>0.202269</td>\n",
       "      <td>-0.043559</td>\n",
       "      <td>-0.151988</td>\n",
       "      <td>0.121349</td>\n",
       "      <td>0.075767</td>\n",
       "      <td>...</td>\n",
       "      <td>0.248661</td>\n",
       "      <td>0.251212</td>\n",
       "      <td>0.206234</td>\n",
       "      <td>0.266112</td>\n",
       "      <td>0.287264</td>\n",
       "      <td>0.241978</td>\n",
       "      <td>0.258299</td>\n",
       "      <td>-0.011129</td>\n",
       "      <td>0.177066</td>\n",
       "      <td>0.289267</td>\n",
       "    </tr>\n",
       "    <tr>\n",
       "      <th>tv</th>\n",
       "      <td>-0.144403</td>\n",
       "      <td>0.008542</td>\n",
       "      <td>-0.036851</td>\n",
       "      <td>-0.434270</td>\n",
       "      <td>0.219828</td>\n",
       "      <td>0.171933</td>\n",
       "      <td>-0.011909</td>\n",
       "      <td>-0.035905</td>\n",
       "      <td>0.054198</td>\n",
       "      <td>-0.010703</td>\n",
       "      <td>...</td>\n",
       "      <td>0.118124</td>\n",
       "      <td>0.008555</td>\n",
       "      <td>0.107241</td>\n",
       "      <td>0.127240</td>\n",
       "      <td>0.087685</td>\n",
       "      <td>0.127796</td>\n",
       "      <td>0.129025</td>\n",
       "      <td>-0.022293</td>\n",
       "      <td>0.034768</td>\n",
       "      <td>0.054789</td>\n",
       "    </tr>\n",
       "    <tr>\n",
       "      <th>frig</th>\n",
       "      <td>-0.076618</td>\n",
       "      <td>-0.007776</td>\n",
       "      <td>0.227893</td>\n",
       "      <td>-0.807762</td>\n",
       "      <td>0.251998</td>\n",
       "      <td>0.124385</td>\n",
       "      <td>-0.018518</td>\n",
       "      <td>0.036568</td>\n",
       "      <td>-0.012885</td>\n",
       "      <td>-0.036503</td>\n",
       "      <td>...</td>\n",
       "      <td>0.005660</td>\n",
       "      <td>-0.066104</td>\n",
       "      <td>-0.026159</td>\n",
       "      <td>0.000188</td>\n",
       "      <td>0.013123</td>\n",
       "      <td>0.006433</td>\n",
       "      <td>0.049615</td>\n",
       "      <td>0.006091</td>\n",
       "      <td>-0.012025</td>\n",
       "      <td>-0.018234</td>\n",
       "    </tr>\n",
       "    <tr>\n",
       "      <th>internet</th>\n",
       "      <td>0.152164</td>\n",
       "      <td>0.028055</td>\n",
       "      <td>-0.176670</td>\n",
       "      <td>0.112987</td>\n",
       "      <td>0.084157</td>\n",
       "      <td>0.019241</td>\n",
       "      <td>0.032748</td>\n",
       "      <td>-0.046438</td>\n",
       "      <td>0.056790</td>\n",
       "      <td>0.001066</td>\n",
       "      <td>...</td>\n",
       "      <td>0.049716</td>\n",
       "      <td>0.085983</td>\n",
       "      <td>0.065063</td>\n",
       "      <td>0.066376</td>\n",
       "      <td>0.039265</td>\n",
       "      <td>0.044561</td>\n",
       "      <td>0.012840</td>\n",
       "      <td>-0.041355</td>\n",
       "      <td>0.025810</td>\n",
       "      <td>0.025759</td>\n",
       "    </tr>\n",
       "    <tr>\n",
       "      <th>dishwasher</th>\n",
       "      <td>-0.124516</td>\n",
       "      <td>0.037277</td>\n",
       "      <td>-0.380067</td>\n",
       "      <td>0.015858</td>\n",
       "      <td>0.140655</td>\n",
       "      <td>0.318277</td>\n",
       "      <td>-0.000918</td>\n",
       "      <td>-0.173969</td>\n",
       "      <td>0.181755</td>\n",
       "      <td>0.038714</td>\n",
       "      <td>...</td>\n",
       "      <td>0.349051</td>\n",
       "      <td>0.202106</td>\n",
       "      <td>0.403068</td>\n",
       "      <td>0.417599</td>\n",
       "      <td>0.293389</td>\n",
       "      <td>0.412933</td>\n",
       "      <td>0.386943</td>\n",
       "      <td>-0.054824</td>\n",
       "      <td>0.146236</td>\n",
       "      <td>0.190266</td>\n",
       "    </tr>\n",
       "    <tr>\n",
       "      <th>house</th>\n",
       "      <td>-0.008997</td>\n",
       "      <td>0.010861</td>\n",
       "      <td>-0.007108</td>\n",
       "      <td>0.008046</td>\n",
       "      <td>-0.005877</td>\n",
       "      <td>0.010100</td>\n",
       "      <td>-0.006162</td>\n",
       "      <td>-0.008086</td>\n",
       "      <td>0.007692</td>\n",
       "      <td>0.002646</td>\n",
       "      <td>...</td>\n",
       "      <td>0.002220</td>\n",
       "      <td>0.002949</td>\n",
       "      <td>0.027180</td>\n",
       "      <td>0.025552</td>\n",
       "      <td>0.021266</td>\n",
       "      <td>0.029682</td>\n",
       "      <td>0.018717</td>\n",
       "      <td>-0.004582</td>\n",
       "      <td>-0.006785</td>\n",
       "      <td>-0.003345</td>\n",
       "    </tr>\n",
       "    <tr>\n",
       "      <th>shower_cabin</th>\n",
       "      <td>-0.068564</td>\n",
       "      <td>-0.020361</td>\n",
       "      <td>-0.282480</td>\n",
       "      <td>0.026976</td>\n",
       "      <td>0.052070</td>\n",
       "      <td>0.293900</td>\n",
       "      <td>-0.100168</td>\n",
       "      <td>-0.163775</td>\n",
       "      <td>0.162590</td>\n",
       "      <td>0.045984</td>\n",
       "      <td>...</td>\n",
       "      <td>0.346297</td>\n",
       "      <td>0.220004</td>\n",
       "      <td>0.285270</td>\n",
       "      <td>0.351468</td>\n",
       "      <td>0.389742</td>\n",
       "      <td>0.357079</td>\n",
       "      <td>0.295587</td>\n",
       "      <td>-0.016894</td>\n",
       "      <td>0.067112</td>\n",
       "      <td>0.108409</td>\n",
       "    </tr>\n",
       "    <tr>\n",
       "      <th>bathtub</th>\n",
       "      <td>0.294617</td>\n",
       "      <td>0.050695</td>\n",
       "      <td>0.065083</td>\n",
       "      <td>-0.001506</td>\n",
       "      <td>-0.025714</td>\n",
       "      <td>-0.053442</td>\n",
       "      <td>0.148128</td>\n",
       "      <td>-0.058682</td>\n",
       "      <td>0.088738</td>\n",
       "      <td>-0.017669</td>\n",
       "      <td>...</td>\n",
       "      <td>0.033562</td>\n",
       "      <td>0.053693</td>\n",
       "      <td>0.079246</td>\n",
       "      <td>0.075162</td>\n",
       "      <td>-0.060685</td>\n",
       "      <td>0.040945</td>\n",
       "      <td>0.007911</td>\n",
       "      <td>-0.011595</td>\n",
       "      <td>0.004477</td>\n",
       "      <td>-0.013602</td>\n",
       "    </tr>\n",
       "    <tr>\n",
       "      <th>furniture</th>\n",
       "      <td>0.167336</td>\n",
       "      <td>-0.006757</td>\n",
       "      <td>0.014902</td>\n",
       "      <td>-0.119773</td>\n",
       "      <td>0.040774</td>\n",
       "      <td>0.039955</td>\n",
       "      <td>-0.032978</td>\n",
       "      <td>0.029111</td>\n",
       "      <td>-0.024272</td>\n",
       "      <td>-0.013358</td>\n",
       "      <td>...</td>\n",
       "      <td>-0.035717</td>\n",
       "      <td>0.002693</td>\n",
       "      <td>-0.071837</td>\n",
       "      <td>-0.054591</td>\n",
       "      <td>-0.010565</td>\n",
       "      <td>-0.078754</td>\n",
       "      <td>-0.075608</td>\n",
       "      <td>-0.019300</td>\n",
       "      <td>-0.005097</td>\n",
       "      <td>-0.010771</td>\n",
       "    </tr>\n",
       "    <tr>\n",
       "      <th>ac</th>\n",
       "      <td>-0.039531</td>\n",
       "      <td>0.016904</td>\n",
       "      <td>-0.352930</td>\n",
       "      <td>0.004245</td>\n",
       "      <td>0.157776</td>\n",
       "      <td>0.268415</td>\n",
       "      <td>-0.084230</td>\n",
       "      <td>-0.178292</td>\n",
       "      <td>0.138203</td>\n",
       "      <td>0.093526</td>\n",
       "      <td>...</td>\n",
       "      <td>0.237793</td>\n",
       "      <td>0.165533</td>\n",
       "      <td>0.269104</td>\n",
       "      <td>0.287453</td>\n",
       "      <td>0.278374</td>\n",
       "      <td>0.284093</td>\n",
       "      <td>0.269788</td>\n",
       "      <td>-0.070769</td>\n",
       "      <td>0.159400</td>\n",
       "      <td>0.169937</td>\n",
       "    </tr>\n",
       "    <tr>\n",
       "      <th>telephone</th>\n",
       "      <td>-0.192199</td>\n",
       "      <td>0.039676</td>\n",
       "      <td>-0.084740</td>\n",
       "      <td>-0.144942</td>\n",
       "      <td>0.149434</td>\n",
       "      <td>0.053269</td>\n",
       "      <td>0.014958</td>\n",
       "      <td>-0.014482</td>\n",
       "      <td>0.076082</td>\n",
       "      <td>-0.065060</td>\n",
       "      <td>...</td>\n",
       "      <td>0.170981</td>\n",
       "      <td>0.022660</td>\n",
       "      <td>0.149339</td>\n",
       "      <td>0.175463</td>\n",
       "      <td>0.121201</td>\n",
       "      <td>0.170153</td>\n",
       "      <td>0.100350</td>\n",
       "      <td>-0.035782</td>\n",
       "      <td>0.003056</td>\n",
       "      <td>0.012789</td>\n",
       "    </tr>\n",
       "    <tr>\n",
       "      <th>washing_machine</th>\n",
       "      <td>0.074302</td>\n",
       "      <td>0.023196</td>\n",
       "      <td>-0.014014</td>\n",
       "      <td>-0.053089</td>\n",
       "      <td>0.052385</td>\n",
       "      <td>-0.000870</td>\n",
       "      <td>-0.019708</td>\n",
       "      <td>-0.014438</td>\n",
       "      <td>-0.004164</td>\n",
       "      <td>0.024776</td>\n",
       "      <td>...</td>\n",
       "      <td>-0.038346</td>\n",
       "      <td>-0.002672</td>\n",
       "      <td>-0.033867</td>\n",
       "      <td>-0.038529</td>\n",
       "      <td>0.002000</td>\n",
       "      <td>-0.043338</td>\n",
       "      <td>-0.036516</td>\n",
       "      <td>-0.023285</td>\n",
       "      <td>-0.018359</td>\n",
       "      <td>-0.031816</td>\n",
       "    </tr>\n",
       "    <tr>\n",
       "      <th>kitchen_furniture</th>\n",
       "      <td>0.022798</td>\n",
       "      <td>-0.009654</td>\n",
       "      <td>0.219174</td>\n",
       "      <td>-0.784341</td>\n",
       "      <td>0.245017</td>\n",
       "      <td>0.123259</td>\n",
       "      <td>-0.015368</td>\n",
       "      <td>0.054747</td>\n",
       "      <td>-0.017997</td>\n",
       "      <td>-0.056097</td>\n",
       "      <td>...</td>\n",
       "      <td>0.013840</td>\n",
       "      <td>-0.047279</td>\n",
       "      <td>-0.016109</td>\n",
       "      <td>0.013557</td>\n",
       "      <td>0.018182</td>\n",
       "      <td>0.001436</td>\n",
       "      <td>0.023436</td>\n",
       "      <td>-0.005015</td>\n",
       "      <td>-0.012799</td>\n",
       "      <td>-0.018252</td>\n",
       "    </tr>\n",
       "    <tr>\n",
       "      <th>ht_block</th>\n",
       "      <td>NaN</td>\n",
       "      <td>NaN</td>\n",
       "      <td>NaN</td>\n",
       "      <td>NaN</td>\n",
       "      <td>NaN</td>\n",
       "      <td>NaN</td>\n",
       "      <td>NaN</td>\n",
       "      <td>NaN</td>\n",
       "      <td>NaN</td>\n",
       "      <td>NaN</td>\n",
       "      <td>...</td>\n",
       "      <td>NaN</td>\n",
       "      <td>NaN</td>\n",
       "      <td>NaN</td>\n",
       "      <td>NaN</td>\n",
       "      <td>NaN</td>\n",
       "      <td>NaN</td>\n",
       "      <td>NaN</td>\n",
       "      <td>NaN</td>\n",
       "      <td>NaN</td>\n",
       "      <td>NaN</td>\n",
       "    </tr>\n",
       "    <tr>\n",
       "      <th>ht_wood</th>\n",
       "      <td>NaN</td>\n",
       "      <td>NaN</td>\n",
       "      <td>NaN</td>\n",
       "      <td>NaN</td>\n",
       "      <td>NaN</td>\n",
       "      <td>NaN</td>\n",
       "      <td>NaN</td>\n",
       "      <td>NaN</td>\n",
       "      <td>NaN</td>\n",
       "      <td>NaN</td>\n",
       "      <td>...</td>\n",
       "      <td>NaN</td>\n",
       "      <td>NaN</td>\n",
       "      <td>NaN</td>\n",
       "      <td>NaN</td>\n",
       "      <td>NaN</td>\n",
       "      <td>NaN</td>\n",
       "      <td>NaN</td>\n",
       "      <td>NaN</td>\n",
       "      <td>NaN</td>\n",
       "      <td>NaN</td>\n",
       "    </tr>\n",
       "    <tr>\n",
       "      <th>ht_mobrick</th>\n",
       "      <td>NaN</td>\n",
       "      <td>NaN</td>\n",
       "      <td>NaN</td>\n",
       "      <td>NaN</td>\n",
       "      <td>NaN</td>\n",
       "      <td>NaN</td>\n",
       "      <td>NaN</td>\n",
       "      <td>NaN</td>\n",
       "      <td>NaN</td>\n",
       "      <td>NaN</td>\n",
       "      <td>...</td>\n",
       "      <td>NaN</td>\n",
       "      <td>NaN</td>\n",
       "      <td>NaN</td>\n",
       "      <td>NaN</td>\n",
       "      <td>NaN</td>\n",
       "      <td>NaN</td>\n",
       "      <td>NaN</td>\n",
       "      <td>NaN</td>\n",
       "      <td>NaN</td>\n",
       "      <td>NaN</td>\n",
       "    </tr>\n",
       "    <tr>\n",
       "      <th>ht_mo</th>\n",
       "      <td>NaN</td>\n",
       "      <td>NaN</td>\n",
       "      <td>NaN</td>\n",
       "      <td>NaN</td>\n",
       "      <td>NaN</td>\n",
       "      <td>NaN</td>\n",
       "      <td>NaN</td>\n",
       "      <td>NaN</td>\n",
       "      <td>NaN</td>\n",
       "      <td>NaN</td>\n",
       "      <td>...</td>\n",
       "      <td>NaN</td>\n",
       "      <td>NaN</td>\n",
       "      <td>NaN</td>\n",
       "      <td>NaN</td>\n",
       "      <td>NaN</td>\n",
       "      <td>NaN</td>\n",
       "      <td>NaN</td>\n",
       "      <td>NaN</td>\n",
       "      <td>NaN</td>\n",
       "      <td>NaN</td>\n",
       "    </tr>\n",
       "    <tr>\n",
       "      <th>ht_panel</th>\n",
       "      <td>NaN</td>\n",
       "      <td>NaN</td>\n",
       "      <td>NaN</td>\n",
       "      <td>NaN</td>\n",
       "      <td>NaN</td>\n",
       "      <td>NaN</td>\n",
       "      <td>NaN</td>\n",
       "      <td>NaN</td>\n",
       "      <td>NaN</td>\n",
       "      <td>NaN</td>\n",
       "      <td>...</td>\n",
       "      <td>NaN</td>\n",
       "      <td>NaN</td>\n",
       "      <td>NaN</td>\n",
       "      <td>NaN</td>\n",
       "      <td>NaN</td>\n",
       "      <td>NaN</td>\n",
       "      <td>NaN</td>\n",
       "      <td>NaN</td>\n",
       "      <td>NaN</td>\n",
       "      <td>NaN</td>\n",
       "    </tr>\n",
       "    <tr>\n",
       "      <th>ht_stali</th>\n",
       "      <td>NaN</td>\n",
       "      <td>NaN</td>\n",
       "      <td>NaN</td>\n",
       "      <td>NaN</td>\n",
       "      <td>NaN</td>\n",
       "      <td>NaN</td>\n",
       "      <td>NaN</td>\n",
       "      <td>NaN</td>\n",
       "      <td>NaN</td>\n",
       "      <td>NaN</td>\n",
       "      <td>...</td>\n",
       "      <td>NaN</td>\n",
       "      <td>NaN</td>\n",
       "      <td>NaN</td>\n",
       "      <td>NaN</td>\n",
       "      <td>NaN</td>\n",
       "      <td>NaN</td>\n",
       "      <td>NaN</td>\n",
       "      <td>NaN</td>\n",
       "      <td>NaN</td>\n",
       "      <td>NaN</td>\n",
       "    </tr>\n",
       "    <tr>\n",
       "      <th>ht_schi</th>\n",
       "      <td>NaN</td>\n",
       "      <td>NaN</td>\n",
       "      <td>NaN</td>\n",
       "      <td>NaN</td>\n",
       "      <td>NaN</td>\n",
       "      <td>NaN</td>\n",
       "      <td>NaN</td>\n",
       "      <td>NaN</td>\n",
       "      <td>NaN</td>\n",
       "      <td>NaN</td>\n",
       "      <td>...</td>\n",
       "      <td>NaN</td>\n",
       "      <td>NaN</td>\n",
       "      <td>NaN</td>\n",
       "      <td>NaN</td>\n",
       "      <td>NaN</td>\n",
       "      <td>NaN</td>\n",
       "      <td>NaN</td>\n",
       "      <td>NaN</td>\n",
       "      <td>NaN</td>\n",
       "      <td>NaN</td>\n",
       "    </tr>\n",
       "    <tr>\n",
       "      <th>ht_old</th>\n",
       "      <td>NaN</td>\n",
       "      <td>NaN</td>\n",
       "      <td>NaN</td>\n",
       "      <td>NaN</td>\n",
       "      <td>NaN</td>\n",
       "      <td>NaN</td>\n",
       "      <td>NaN</td>\n",
       "      <td>NaN</td>\n",
       "      <td>NaN</td>\n",
       "      <td>NaN</td>\n",
       "      <td>...</td>\n",
       "      <td>NaN</td>\n",
       "      <td>NaN</td>\n",
       "      <td>NaN</td>\n",
       "      <td>NaN</td>\n",
       "      <td>NaN</td>\n",
       "      <td>NaN</td>\n",
       "      <td>NaN</td>\n",
       "      <td>NaN</td>\n",
       "      <td>NaN</td>\n",
       "      <td>NaN</td>\n",
       "    </tr>\n",
       "    <tr>\n",
       "      <th>ht_brick</th>\n",
       "      <td>NaN</td>\n",
       "      <td>NaN</td>\n",
       "      <td>NaN</td>\n",
       "      <td>NaN</td>\n",
       "      <td>NaN</td>\n",
       "      <td>NaN</td>\n",
       "      <td>NaN</td>\n",
       "      <td>NaN</td>\n",
       "      <td>NaN</td>\n",
       "      <td>NaN</td>\n",
       "      <td>...</td>\n",
       "      <td>NaN</td>\n",
       "      <td>NaN</td>\n",
       "      <td>NaN</td>\n",
       "      <td>NaN</td>\n",
       "      <td>NaN</td>\n",
       "      <td>NaN</td>\n",
       "      <td>NaN</td>\n",
       "      <td>NaN</td>\n",
       "      <td>NaN</td>\n",
       "      <td>NaN</td>\n",
       "    </tr>\n",
       "    <tr>\n",
       "      <th>elev_serv</th>\n",
       "      <td>-0.017928</td>\n",
       "      <td>-0.014759</td>\n",
       "      <td>-0.221582</td>\n",
       "      <td>0.117661</td>\n",
       "      <td>0.056311</td>\n",
       "      <td>0.115264</td>\n",
       "      <td>-0.042041</td>\n",
       "      <td>-0.069077</td>\n",
       "      <td>0.024260</td>\n",
       "      <td>0.069041</td>\n",
       "      <td>...</td>\n",
       "      <td>0.034212</td>\n",
       "      <td>0.061650</td>\n",
       "      <td>-0.023559</td>\n",
       "      <td>0.030001</td>\n",
       "      <td>0.096217</td>\n",
       "      <td>0.010799</td>\n",
       "      <td>0.149480</td>\n",
       "      <td>0.020718</td>\n",
       "      <td>0.283249</td>\n",
       "      <td>0.405787</td>\n",
       "    </tr>\n",
       "    <tr>\n",
       "      <th>elev_pass</th>\n",
       "      <td>0.024452</td>\n",
       "      <td>0.000413</td>\n",
       "      <td>-0.047907</td>\n",
       "      <td>-0.026989</td>\n",
       "      <td>-0.011413</td>\n",
       "      <td>0.108426</td>\n",
       "      <td>0.033301</td>\n",
       "      <td>-0.019347</td>\n",
       "      <td>-0.010033</td>\n",
       "      <td>0.038188</td>\n",
       "      <td>...</td>\n",
       "      <td>0.063469</td>\n",
       "      <td>0.009442</td>\n",
       "      <td>0.002747</td>\n",
       "      <td>0.033454</td>\n",
       "      <td>-0.005395</td>\n",
       "      <td>0.041910</td>\n",
       "      <td>0.110048</td>\n",
       "      <td>-0.027936</td>\n",
       "      <td>0.332378</td>\n",
       "      <td>0.426444</td>\n",
       "    </tr>\n",
       "    <tr>\n",
       "      <th>animal</th>\n",
       "      <td>-0.022466</td>\n",
       "      <td>0.012577</td>\n",
       "      <td>0.004428</td>\n",
       "      <td>0.016505</td>\n",
       "      <td>-0.004471</td>\n",
       "      <td>-0.016073</td>\n",
       "      <td>0.013577</td>\n",
       "      <td>-0.043142</td>\n",
       "      <td>0.079998</td>\n",
       "      <td>-0.029524</td>\n",
       "      <td>...</td>\n",
       "      <td>0.095646</td>\n",
       "      <td>0.050117</td>\n",
       "      <td>0.136818</td>\n",
       "      <td>0.112456</td>\n",
       "      <td>0.068330</td>\n",
       "      <td>0.123040</td>\n",
       "      <td>0.035907</td>\n",
       "      <td>-0.006572</td>\n",
       "      <td>-0.029946</td>\n",
       "      <td>-0.031830</td>\n",
       "    </tr>\n",
       "    <tr>\n",
       "      <th>child</th>\n",
       "      <td>0.052006</td>\n",
       "      <td>0.032641</td>\n",
       "      <td>0.028811</td>\n",
       "      <td>0.045575</td>\n",
       "      <td>-0.008087</td>\n",
       "      <td>-0.073239</td>\n",
       "      <td>0.102276</td>\n",
       "      <td>-0.058318</td>\n",
       "      <td>0.100033</td>\n",
       "      <td>-0.030831</td>\n",
       "      <td>...</td>\n",
       "      <td>0.030560</td>\n",
       "      <td>0.036168</td>\n",
       "      <td>0.211030</td>\n",
       "      <td>0.110225</td>\n",
       "      <td>-0.014755</td>\n",
       "      <td>0.097685</td>\n",
       "      <td>-0.002268</td>\n",
       "      <td>0.019326</td>\n",
       "      <td>-0.009734</td>\n",
       "      <td>-0.024049</td>\n",
       "    </tr>\n",
       "    <tr>\n",
       "      <th>price</th>\n",
       "      <td>-0.290302</td>\n",
       "      <td>0.035862</td>\n",
       "      <td>-0.236221</td>\n",
       "      <td>0.018308</td>\n",
       "      <td>0.017500</td>\n",
       "      <td>0.285718</td>\n",
       "      <td>0.073413</td>\n",
       "      <td>-0.163409</td>\n",
       "      <td>0.197831</td>\n",
       "      <td>0.005996</td>\n",
       "      <td>...</td>\n",
       "      <td>1.000000</td>\n",
       "      <td>0.189144</td>\n",
       "      <td>0.578277</td>\n",
       "      <td>0.784598</td>\n",
       "      <td>0.414692</td>\n",
       "      <td>0.766856</td>\n",
       "      <td>0.521398</td>\n",
       "      <td>-0.024180</td>\n",
       "      <td>0.053813</td>\n",
       "      <td>0.059080</td>\n",
       "    </tr>\n",
       "    <tr>\n",
       "      <th>ceiling_std</th>\n",
       "      <td>-0.031903</td>\n",
       "      <td>-0.015123</td>\n",
       "      <td>-0.130968</td>\n",
       "      <td>0.078523</td>\n",
       "      <td>0.021049</td>\n",
       "      <td>0.076200</td>\n",
       "      <td>0.023264</td>\n",
       "      <td>-0.176863</td>\n",
       "      <td>0.173043</td>\n",
       "      <td>0.052505</td>\n",
       "      <td>...</td>\n",
       "      <td>0.189144</td>\n",
       "      <td>1.000000</td>\n",
       "      <td>0.178098</td>\n",
       "      <td>0.211170</td>\n",
       "      <td>0.158127</td>\n",
       "      <td>0.171838</td>\n",
       "      <td>0.099858</td>\n",
       "      <td>-0.026502</td>\n",
       "      <td>0.003500</td>\n",
       "      <td>0.003315</td>\n",
       "    </tr>\n",
       "    <tr>\n",
       "      <th>rooms_std</th>\n",
       "      <td>-0.238784</td>\n",
       "      <td>0.054549</td>\n",
       "      <td>-0.213478</td>\n",
       "      <td>0.037088</td>\n",
       "      <td>0.053952</td>\n",
       "      <td>0.185762</td>\n",
       "      <td>0.221370</td>\n",
       "      <td>-0.211085</td>\n",
       "      <td>0.315605</td>\n",
       "      <td>-0.059533</td>\n",
       "      <td>...</td>\n",
       "      <td>0.578277</td>\n",
       "      <td>0.178098</td>\n",
       "      <td>1.000000</td>\n",
       "      <td>0.795887</td>\n",
       "      <td>0.275839</td>\n",
       "      <td>0.802212</td>\n",
       "      <td>0.445209</td>\n",
       "      <td>-0.013124</td>\n",
       "      <td>0.024994</td>\n",
       "      <td>0.008658</td>\n",
       "    </tr>\n",
       "    <tr>\n",
       "      <th>total_m2_std</th>\n",
       "      <td>-0.276639</td>\n",
       "      <td>0.053451</td>\n",
       "      <td>-0.243138</td>\n",
       "      <td>0.016825</td>\n",
       "      <td>0.059291</td>\n",
       "      <td>0.239298</td>\n",
       "      <td>0.143638</td>\n",
       "      <td>-0.203038</td>\n",
       "      <td>0.275066</td>\n",
       "      <td>-0.025327</td>\n",
       "      <td>...</td>\n",
       "      <td>0.784598</td>\n",
       "      <td>0.211170</td>\n",
       "      <td>0.795887</td>\n",
       "      <td>1.000000</td>\n",
       "      <td>0.438410</td>\n",
       "      <td>0.935229</td>\n",
       "      <td>0.599922</td>\n",
       "      <td>0.003315</td>\n",
       "      <td>0.084493</td>\n",
       "      <td>0.091788</td>\n",
       "    </tr>\n",
       "    <tr>\n",
       "      <th>toilet_unted_std</th>\n",
       "      <td>-0.191651</td>\n",
       "      <td>0.008988</td>\n",
       "      <td>-0.242053</td>\n",
       "      <td>-0.022103</td>\n",
       "      <td>0.091977</td>\n",
       "      <td>0.230776</td>\n",
       "      <td>-0.663609</td>\n",
       "      <td>-0.135224</td>\n",
       "      <td>0.149073</td>\n",
       "      <td>0.021357</td>\n",
       "      <td>...</td>\n",
       "      <td>0.414692</td>\n",
       "      <td>0.158127</td>\n",
       "      <td>0.275839</td>\n",
       "      <td>0.438410</td>\n",
       "      <td>1.000000</td>\n",
       "      <td>0.415877</td>\n",
       "      <td>0.324137</td>\n",
       "      <td>0.004855</td>\n",
       "      <td>0.047675</td>\n",
       "      <td>0.088371</td>\n",
       "    </tr>\n",
       "    <tr>\n",
       "      <th>live_m2_std</th>\n",
       "      <td>-0.299516</td>\n",
       "      <td>0.040110</td>\n",
       "      <td>-0.242462</td>\n",
       "      <td>0.009100</td>\n",
       "      <td>0.044571</td>\n",
       "      <td>0.266124</td>\n",
       "      <td>0.134003</td>\n",
       "      <td>-0.192046</td>\n",
       "      <td>0.260302</td>\n",
       "      <td>-0.024099</td>\n",
       "      <td>...</td>\n",
       "      <td>0.766856</td>\n",
       "      <td>0.171838</td>\n",
       "      <td>0.802212</td>\n",
       "      <td>0.935229</td>\n",
       "      <td>0.415877</td>\n",
       "      <td>1.000000</td>\n",
       "      <td>0.589922</td>\n",
       "      <td>-0.001117</td>\n",
       "      <td>0.076429</td>\n",
       "      <td>0.075285</td>\n",
       "    </tr>\n",
       "    <tr>\n",
       "      <th>kitchen_m2_std</th>\n",
       "      <td>-0.196826</td>\n",
       "      <td>0.010486</td>\n",
       "      <td>-0.259567</td>\n",
       "      <td>-0.048912</td>\n",
       "      <td>0.066158</td>\n",
       "      <td>0.316683</td>\n",
       "      <td>0.067006</td>\n",
       "      <td>-0.126608</td>\n",
       "      <td>0.154012</td>\n",
       "      <td>0.003823</td>\n",
       "      <td>...</td>\n",
       "      <td>0.521398</td>\n",
       "      <td>0.099858</td>\n",
       "      <td>0.445209</td>\n",
       "      <td>0.599922</td>\n",
       "      <td>0.324137</td>\n",
       "      <td>0.589922</td>\n",
       "      <td>1.000000</td>\n",
       "      <td>-0.002864</td>\n",
       "      <td>0.173331</td>\n",
       "      <td>0.236108</td>\n",
       "    </tr>\n",
       "    <tr>\n",
       "      <th>metro_walk_std</th>\n",
       "      <td>-0.003627</td>\n",
       "      <td>0.003876</td>\n",
       "      <td>0.047278</td>\n",
       "      <td>-0.008095</td>\n",
       "      <td>-0.024668</td>\n",
       "      <td>-0.023768</td>\n",
       "      <td>0.005743</td>\n",
       "      <td>0.009369</td>\n",
       "      <td>-0.000883</td>\n",
       "      <td>-0.012061</td>\n",
       "      <td>...</td>\n",
       "      <td>-0.024180</td>\n",
       "      <td>-0.026502</td>\n",
       "      <td>-0.013124</td>\n",
       "      <td>0.003315</td>\n",
       "      <td>0.004855</td>\n",
       "      <td>-0.001117</td>\n",
       "      <td>-0.002864</td>\n",
       "      <td>1.000000</td>\n",
       "      <td>-0.014177</td>\n",
       "      <td>-0.002700</td>\n",
       "    </tr>\n",
       "    <tr>\n",
       "      <th>floor_std</th>\n",
       "      <td>0.002202</td>\n",
       "      <td>-0.007058</td>\n",
       "      <td>-0.125312</td>\n",
       "      <td>-0.002643</td>\n",
       "      <td>0.028155</td>\n",
       "      <td>0.137659</td>\n",
       "      <td>0.012249</td>\n",
       "      <td>-0.102912</td>\n",
       "      <td>0.036755</td>\n",
       "      <td>0.102174</td>\n",
       "      <td>...</td>\n",
       "      <td>0.053813</td>\n",
       "      <td>0.003500</td>\n",
       "      <td>0.024994</td>\n",
       "      <td>0.084493</td>\n",
       "      <td>0.047675</td>\n",
       "      <td>0.076429</td>\n",
       "      <td>0.173331</td>\n",
       "      <td>-0.014177</td>\n",
       "      <td>1.000000</td>\n",
       "      <td>0.654217</td>\n",
       "    </tr>\n",
       "    <tr>\n",
       "      <th>tot_floor_std</th>\n",
       "      <td>-0.008493</td>\n",
       "      <td>-0.002804</td>\n",
       "      <td>-0.180225</td>\n",
       "      <td>-0.001718</td>\n",
       "      <td>0.044217</td>\n",
       "      <td>0.190834</td>\n",
       "      <td>0.003544</td>\n",
       "      <td>-0.090977</td>\n",
       "      <td>0.025365</td>\n",
       "      <td>0.098310</td>\n",
       "      <td>...</td>\n",
       "      <td>0.059080</td>\n",
       "      <td>0.003315</td>\n",
       "      <td>0.008658</td>\n",
       "      <td>0.091788</td>\n",
       "      <td>0.088371</td>\n",
       "      <td>0.075285</td>\n",
       "      <td>0.236108</td>\n",
       "      <td>-0.002700</td>\n",
       "      <td>0.654217</td>\n",
       "      <td>1.000000</td>\n",
       "    </tr>\n",
       "  </tbody>\n",
       "</table>\n",
       "<p>58 rows × 58 columns</p>\n",
       "</div>"
      ],
      "text/plain": [
       "                    utilities_included  rent_length  remont_cosm  remont_no  \\\n",
       "utilities_included            1.000000    -0.045163     0.121910   0.012131   \n",
       "rent_length                  -0.045163     1.000000    -0.010779   0.005894   \n",
       "remont_cosm                   0.121910    -0.010779     1.000000  -0.299983   \n",
       "remont_no                     0.012131     0.005894    -0.299983   1.000000   \n",
       "remont_euro                  -0.097857     0.023516    -0.569984  -0.290633   \n",
       "remont_design                -0.046350    -0.023124    -0.310971  -0.158563   \n",
       "toilet_sep                    0.058568     0.016893     0.078915   0.038374   \n",
       "window_back                   0.056172     0.014735     0.117418  -0.033183   \n",
       "windowb_bs                   -0.061921     0.003271    -0.096034   0.009222   \n",
       "window_street                -0.008876    -0.024189    -0.055972   0.035891   \n",
       "street                        0.010102     0.012776     0.026098  -0.006198   \n",
       "balcony                      -0.076180    -0.022026    -0.032322   0.047435   \n",
       "loggia                        0.083580     0.021796     0.000876  -0.040673   \n",
       "rooms_sep                    -0.235902     0.054378    -0.206056   0.022314   \n",
       "rooms_unted                  -0.035916     0.006725    -0.046827   0.049092   \n",
       "price_advance                 0.014394    -0.007801     0.001840   0.016345   \n",
       "deposit                       0.001966     0.001311    -0.005985  -0.002771   \n",
       "g_chute                      -0.226155    -0.005579    -0.250040   0.273827   \n",
       "parking_roof                  0.002496     0.001214    -0.005489  -0.002799   \n",
       "parking_open                 -0.156126     0.019598     0.022551  -0.061317   \n",
       "parking_ground                0.130969    -0.026890     0.220123  -0.056510   \n",
       "parking_mlevel               -0.009587     0.003463    -0.038685  -0.021713   \n",
       "parking_ug                   -0.057372     0.018442    -0.251968   0.102883   \n",
       "tv                           -0.144403     0.008542    -0.036851  -0.434270   \n",
       "frig                         -0.076618    -0.007776     0.227893  -0.807762   \n",
       "internet                      0.152164     0.028055    -0.176670   0.112987   \n",
       "dishwasher                   -0.124516     0.037277    -0.380067   0.015858   \n",
       "house                        -0.008997     0.010861    -0.007108   0.008046   \n",
       "shower_cabin                 -0.068564    -0.020361    -0.282480   0.026976   \n",
       "bathtub                       0.294617     0.050695     0.065083  -0.001506   \n",
       "furniture                     0.167336    -0.006757     0.014902  -0.119773   \n",
       "ac                           -0.039531     0.016904    -0.352930   0.004245   \n",
       "telephone                    -0.192199     0.039676    -0.084740  -0.144942   \n",
       "washing_machine               0.074302     0.023196    -0.014014  -0.053089   \n",
       "kitchen_furniture             0.022798    -0.009654     0.219174  -0.784341   \n",
       "ht_block                           NaN          NaN          NaN        NaN   \n",
       "ht_wood                            NaN          NaN          NaN        NaN   \n",
       "ht_mobrick                         NaN          NaN          NaN        NaN   \n",
       "ht_mo                              NaN          NaN          NaN        NaN   \n",
       "ht_panel                           NaN          NaN          NaN        NaN   \n",
       "ht_stali                           NaN          NaN          NaN        NaN   \n",
       "ht_schi                            NaN          NaN          NaN        NaN   \n",
       "ht_old                             NaN          NaN          NaN        NaN   \n",
       "ht_brick                           NaN          NaN          NaN        NaN   \n",
       "elev_serv                    -0.017928    -0.014759    -0.221582   0.117661   \n",
       "elev_pass                     0.024452     0.000413    -0.047907  -0.026989   \n",
       "animal                       -0.022466     0.012577     0.004428   0.016505   \n",
       "child                         0.052006     0.032641     0.028811   0.045575   \n",
       "price                        -0.290302     0.035862    -0.236221   0.018308   \n",
       "ceiling_std                  -0.031903    -0.015123    -0.130968   0.078523   \n",
       "rooms_std                    -0.238784     0.054549    -0.213478   0.037088   \n",
       "total_m2_std                 -0.276639     0.053451    -0.243138   0.016825   \n",
       "toilet_unted_std             -0.191651     0.008988    -0.242053  -0.022103   \n",
       "live_m2_std                  -0.299516     0.040110    -0.242462   0.009100   \n",
       "kitchen_m2_std               -0.196826     0.010486    -0.259567  -0.048912   \n",
       "metro_walk_std               -0.003627     0.003876     0.047278  -0.008095   \n",
       "floor_std                     0.002202    -0.007058    -0.125312  -0.002643   \n",
       "tot_floor_std                -0.008493    -0.002804    -0.180225  -0.001718   \n",
       "\n",
       "                    remont_euro  remont_design  toilet_sep  window_back  \\\n",
       "utilities_included    -0.097857      -0.046350    0.058568     0.056172   \n",
       "rent_length            0.023516      -0.023124    0.016893     0.014735   \n",
       "remont_cosm           -0.569984      -0.310971    0.078915     0.117418   \n",
       "remont_no             -0.290633      -0.158563    0.038374    -0.033183   \n",
       "remont_euro            1.000000      -0.301278   -0.051785    -0.022935   \n",
       "remont_design         -0.301278       1.000000   -0.075633    -0.098985   \n",
       "toilet_sep            -0.051785      -0.075633    1.000000    -0.032006   \n",
       "window_back           -0.022935      -0.098985   -0.032006     1.000000   \n",
       "windowb_bs             0.032174       0.079969    0.066411    -0.703404   \n",
       "window_street         -0.004096       0.048294   -0.029816    -0.604938   \n",
       "street                 0.009148      -0.042735    0.010407     0.005348   \n",
       "balcony               -0.033596       0.044808   -0.059028    -0.031678   \n",
       "loggia                 0.038923      -0.015107    0.137871    -0.024562   \n",
       "rooms_sep              0.052358       0.192054    0.245452    -0.186841   \n",
       "rooms_unted            0.010979       0.002023   -0.047960    -0.097647   \n",
       "price_advance         -0.017577       0.005692    0.009995    -0.013550   \n",
       "deposit                0.009707      -0.002346   -0.005174     0.003810   \n",
       "g_chute               -0.016677       0.102946   -0.112592    -0.071781   \n",
       "parking_roof          -0.005318       0.017650   -0.005284    -0.012455   \n",
       "parking_open           0.034974      -0.019626    0.011804    -0.038867   \n",
       "parking_ground        -0.050180      -0.181244    0.033995     0.159594   \n",
       "parking_mlevel         0.012623       0.057449   -0.005739    -0.025214   \n",
       "parking_ug             0.034153       0.202269   -0.043559    -0.151988   \n",
       "tv                     0.219828       0.171933   -0.011909    -0.035905   \n",
       "frig                   0.251998       0.124385   -0.018518     0.036568   \n",
       "internet               0.084157       0.019241    0.032748    -0.046438   \n",
       "dishwasher             0.140655       0.318277   -0.000918    -0.173969   \n",
       "house                 -0.005877       0.010100   -0.006162    -0.008086   \n",
       "shower_cabin           0.052070       0.293900   -0.100168    -0.163775   \n",
       "bathtub               -0.025714      -0.053442    0.148128    -0.058682   \n",
       "furniture              0.040774       0.039955   -0.032978     0.029111   \n",
       "ac                     0.157776       0.268415   -0.084230    -0.178292   \n",
       "telephone              0.149434       0.053269    0.014958    -0.014482   \n",
       "washing_machine        0.052385      -0.000870   -0.019708    -0.014438   \n",
       "kitchen_furniture      0.245017       0.123259   -0.015368     0.054747   \n",
       "ht_block                    NaN            NaN         NaN          NaN   \n",
       "ht_wood                     NaN            NaN         NaN          NaN   \n",
       "ht_mobrick                  NaN            NaN         NaN          NaN   \n",
       "ht_mo                       NaN            NaN         NaN          NaN   \n",
       "ht_panel                    NaN            NaN         NaN          NaN   \n",
       "ht_stali                    NaN            NaN         NaN          NaN   \n",
       "ht_schi                     NaN            NaN         NaN          NaN   \n",
       "ht_old                      NaN            NaN         NaN          NaN   \n",
       "ht_brick                    NaN            NaN         NaN          NaN   \n",
       "elev_serv              0.056311       0.115264   -0.042041    -0.069077   \n",
       "elev_pass             -0.011413       0.108426    0.033301    -0.019347   \n",
       "animal                -0.004471      -0.016073    0.013577    -0.043142   \n",
       "child                 -0.008087      -0.073239    0.102276    -0.058318   \n",
       "price                  0.017500       0.285718    0.073413    -0.163409   \n",
       "ceiling_std            0.021049       0.076200    0.023264    -0.176863   \n",
       "rooms_std              0.053952       0.185762    0.221370    -0.211085   \n",
       "total_m2_std           0.059291       0.239298    0.143638    -0.203038   \n",
       "toilet_unted_std       0.091977       0.230776   -0.663609    -0.135224   \n",
       "live_m2_std            0.044571       0.266124    0.134003    -0.192046   \n",
       "kitchen_m2_std         0.066158       0.316683    0.067006    -0.126608   \n",
       "metro_walk_std        -0.024668      -0.023768    0.005743     0.009369   \n",
       "floor_std              0.028155       0.137659    0.012249    -0.102912   \n",
       "tot_floor_std          0.044217       0.190834    0.003544    -0.090977   \n",
       "\n",
       "                    windowb_bs  window_street  ...     price  ceiling_std  \\\n",
       "utilities_included   -0.061921      -0.008876  ... -0.290302    -0.031903   \n",
       "rent_length           0.003271      -0.024189  ...  0.035862    -0.015123   \n",
       "remont_cosm          -0.096034      -0.055972  ... -0.236221    -0.130968   \n",
       "remont_no             0.009222       0.035891  ...  0.018308     0.078523   \n",
       "remont_euro           0.032174      -0.004096  ...  0.017500     0.021049   \n",
       "remont_design         0.079969       0.048294  ...  0.285718     0.076200   \n",
       "toilet_sep            0.066411      -0.029816  ...  0.073413     0.023264   \n",
       "window_back          -0.703404      -0.604938  ... -0.163409    -0.176863   \n",
       "windowb_bs            1.000000      -0.140467  ...  0.197831     0.173043   \n",
       "window_street        -0.140467       1.000000  ...  0.005996     0.052505   \n",
       "street               -0.003000      -0.004087  ... -0.023413    -0.008724   \n",
       "balcony               0.030055       0.010456  ...  0.114671     0.049419   \n",
       "loggia                0.061826      -0.035048  ... -0.038318    -0.032965   \n",
       "rooms_sep             0.285346      -0.059404  ...  0.568223     0.145227   \n",
       "rooms_unted           0.127808      -0.007162  ...  0.096319     0.120096   \n",
       "price_advance         0.018388      -0.001725  ... -0.000248    -0.011182   \n",
       "deposit              -0.002507      -0.002498  ... -0.000051    -0.003747   \n",
       "g_chute               0.059250       0.033611  ...  0.164500     0.050053   \n",
       "parking_roof          0.017706      -0.002487  ... -0.001813    -0.004126   \n",
       "parking_open          0.024127       0.027110  ... -0.004306     0.011371   \n",
       "parking_ground       -0.125776      -0.081403  ... -0.219523    -0.236134   \n",
       "parking_mlevel        0.028828       0.002826  ...  0.003864     0.038041   \n",
       "parking_ug            0.121349       0.075767  ...  0.248661     0.251212   \n",
       "tv                    0.054198      -0.010703  ...  0.118124     0.008555   \n",
       "frig                 -0.012885      -0.036503  ...  0.005660    -0.066104   \n",
       "internet              0.056790       0.001066  ...  0.049716     0.085983   \n",
       "dishwasher            0.181755       0.038714  ...  0.349051     0.202106   \n",
       "house                 0.007692       0.002646  ...  0.002220     0.002949   \n",
       "shower_cabin          0.162590       0.045984  ...  0.346297     0.220004   \n",
       "bathtub               0.088738      -0.017669  ...  0.033562     0.053693   \n",
       "furniture            -0.024272      -0.013358  ... -0.035717     0.002693   \n",
       "ac                    0.138203       0.093526  ...  0.237793     0.165533   \n",
       "telephone             0.076082      -0.065060  ...  0.170981     0.022660   \n",
       "washing_machine      -0.004164       0.024776  ... -0.038346    -0.002672   \n",
       "kitchen_furniture    -0.017997      -0.056097  ...  0.013840    -0.047279   \n",
       "ht_block                   NaN            NaN  ...       NaN          NaN   \n",
       "ht_wood                    NaN            NaN  ...       NaN          NaN   \n",
       "ht_mobrick                 NaN            NaN  ...       NaN          NaN   \n",
       "ht_mo                      NaN            NaN  ...       NaN          NaN   \n",
       "ht_panel                   NaN            NaN  ...       NaN          NaN   \n",
       "ht_stali                   NaN            NaN  ...       NaN          NaN   \n",
       "ht_schi                    NaN            NaN  ...       NaN          NaN   \n",
       "ht_old                     NaN            NaN  ...       NaN          NaN   \n",
       "ht_brick                   NaN            NaN  ...       NaN          NaN   \n",
       "elev_serv             0.024260       0.069041  ...  0.034212     0.061650   \n",
       "elev_pass            -0.010033       0.038188  ...  0.063469     0.009442   \n",
       "animal                0.079998      -0.029524  ...  0.095646     0.050117   \n",
       "child                 0.100033      -0.030831  ...  0.030560     0.036168   \n",
       "price                 0.197831       0.005996  ...  1.000000     0.189144   \n",
       "ceiling_std           0.173043       0.052505  ...  0.189144     1.000000   \n",
       "rooms_std             0.315605      -0.059533  ...  0.578277     0.178098   \n",
       "total_m2_std          0.275066      -0.025327  ...  0.784598     0.211170   \n",
       "toilet_unted_std      0.149073       0.021357  ...  0.414692     0.158127   \n",
       "live_m2_std           0.260302      -0.024099  ...  0.766856     0.171838   \n",
       "kitchen_m2_std        0.154012       0.003823  ...  0.521398     0.099858   \n",
       "metro_walk_std       -0.000883      -0.012061  ... -0.024180    -0.026502   \n",
       "floor_std             0.036755       0.102174  ...  0.053813     0.003500   \n",
       "tot_floor_std         0.025365       0.098310  ...  0.059080     0.003315   \n",
       "\n",
       "                    rooms_std  total_m2_std  toilet_unted_std  live_m2_std  \\\n",
       "utilities_included  -0.238784     -0.276639         -0.191651    -0.299516   \n",
       "rent_length          0.054549      0.053451          0.008988     0.040110   \n",
       "remont_cosm         -0.213478     -0.243138         -0.242053    -0.242462   \n",
       "remont_no            0.037088      0.016825         -0.022103     0.009100   \n",
       "remont_euro          0.053952      0.059291          0.091977     0.044571   \n",
       "remont_design        0.185762      0.239298          0.230776     0.266124   \n",
       "toilet_sep           0.221370      0.143638         -0.663609     0.134003   \n",
       "window_back         -0.211085     -0.203038         -0.135224    -0.192046   \n",
       "windowb_bs           0.315605      0.275066          0.149073     0.260302   \n",
       "window_street       -0.059533     -0.025327          0.021357    -0.024099   \n",
       "street              -0.000446     -0.010465         -0.026950    -0.013590   \n",
       "balcony              0.114347      0.084289          0.111366     0.115473   \n",
       "loggia               0.029563      0.050803         -0.088936     0.009472   \n",
       "rooms_sep            0.948431      0.776502          0.241217     0.783248   \n",
       "rooms_unted          0.270384      0.149413          0.136533     0.148857   \n",
       "price_advance        0.004324     -0.001485         -0.010515     0.006090   \n",
       "deposit             -0.006027     -0.001965          0.003155    -0.004090   \n",
       "g_chute              0.150711      0.149722          0.203517     0.166828   \n",
       "parking_roof        -0.007131     -0.005008          0.002310    -0.006878   \n",
       "parking_open         0.020854      0.001325         -0.015595     0.017726   \n",
       "parking_ground      -0.195579     -0.238973         -0.250718    -0.226470   \n",
       "parking_mlevel       0.010451      0.010051          0.016756     0.014053   \n",
       "parking_ug           0.206234      0.266112          0.287264     0.241978   \n",
       "tv                   0.107241      0.127240          0.087685     0.127796   \n",
       "frig                -0.026159      0.000188          0.013123     0.006433   \n",
       "internet             0.065063      0.066376          0.039265     0.044561   \n",
       "dishwasher           0.403068      0.417599          0.293389     0.412933   \n",
       "house                0.027180      0.025552          0.021266     0.029682   \n",
       "shower_cabin         0.285270      0.351468          0.389742     0.357079   \n",
       "bathtub              0.079246      0.075162         -0.060685     0.040945   \n",
       "furniture           -0.071837     -0.054591         -0.010565    -0.078754   \n",
       "ac                   0.269104      0.287453          0.278374     0.284093   \n",
       "telephone            0.149339      0.175463          0.121201     0.170153   \n",
       "washing_machine     -0.033867     -0.038529          0.002000    -0.043338   \n",
       "kitchen_furniture   -0.016109      0.013557          0.018182     0.001436   \n",
       "ht_block                  NaN           NaN               NaN          NaN   \n",
       "ht_wood                   NaN           NaN               NaN          NaN   \n",
       "ht_mobrick                NaN           NaN               NaN          NaN   \n",
       "ht_mo                     NaN           NaN               NaN          NaN   \n",
       "ht_panel                  NaN           NaN               NaN          NaN   \n",
       "ht_stali                  NaN           NaN               NaN          NaN   \n",
       "ht_schi                   NaN           NaN               NaN          NaN   \n",
       "ht_old                    NaN           NaN               NaN          NaN   \n",
       "ht_brick                  NaN           NaN               NaN          NaN   \n",
       "elev_serv           -0.023559      0.030001          0.096217     0.010799   \n",
       "elev_pass            0.002747      0.033454         -0.005395     0.041910   \n",
       "animal               0.136818      0.112456          0.068330     0.123040   \n",
       "child                0.211030      0.110225         -0.014755     0.097685   \n",
       "price                0.578277      0.784598          0.414692     0.766856   \n",
       "ceiling_std          0.178098      0.211170          0.158127     0.171838   \n",
       "rooms_std            1.000000      0.795887          0.275839     0.802212   \n",
       "total_m2_std         0.795887      1.000000          0.438410     0.935229   \n",
       "toilet_unted_std     0.275839      0.438410          1.000000     0.415877   \n",
       "live_m2_std          0.802212      0.935229          0.415877     1.000000   \n",
       "kitchen_m2_std       0.445209      0.599922          0.324137     0.589922   \n",
       "metro_walk_std      -0.013124      0.003315          0.004855    -0.001117   \n",
       "floor_std            0.024994      0.084493          0.047675     0.076429   \n",
       "tot_floor_std        0.008658      0.091788          0.088371     0.075285   \n",
       "\n",
       "                    kitchen_m2_std  metro_walk_std  floor_std  tot_floor_std  \n",
       "utilities_included       -0.196826       -0.003627   0.002202      -0.008493  \n",
       "rent_length               0.010486        0.003876  -0.007058      -0.002804  \n",
       "remont_cosm              -0.259567        0.047278  -0.125312      -0.180225  \n",
       "remont_no                -0.048912       -0.008095  -0.002643      -0.001718  \n",
       "remont_euro               0.066158       -0.024668   0.028155       0.044217  \n",
       "remont_design             0.316683       -0.023768   0.137659       0.190834  \n",
       "toilet_sep                0.067006        0.005743   0.012249       0.003544  \n",
       "window_back              -0.126608        0.009369  -0.102912      -0.090977  \n",
       "windowb_bs                0.154012       -0.000883   0.036755       0.025365  \n",
       "window_street             0.003823       -0.012061   0.102174       0.098310  \n",
       "street                   -0.010130        0.004554  -0.022830      -0.030865  \n",
       "balcony                   0.037217       -0.017730  -0.100930      -0.105286  \n",
       "loggia                    0.052921        0.020212   0.120858       0.115643  \n",
       "rooms_sep                 0.462315       -0.006523   0.037861       0.028983  \n",
       "rooms_unted              -0.001310       -0.021540  -0.036238      -0.060748  \n",
       "price_advance             0.002558        0.009509   0.002881       0.001304  \n",
       "deposit                   0.001504       -0.002868   0.004270       0.008440  \n",
       "g_chute                   0.135017        0.009872   0.005265       0.008519  \n",
       "parking_roof             -0.009739       -0.003602   0.002977      -0.003528  \n",
       "parking_open              0.019710        0.020476  -0.022204      -0.049523  \n",
       "parking_ground           -0.245384       -0.000241  -0.155363      -0.244425  \n",
       "parking_mlevel            0.032198       -0.000291   0.047454       0.063986  \n",
       "parking_ug                0.258299       -0.011129   0.177066       0.289267  \n",
       "tv                        0.129025       -0.022293   0.034768       0.054789  \n",
       "frig                      0.049615        0.006091  -0.012025      -0.018234  \n",
       "internet                  0.012840       -0.041355   0.025810       0.025759  \n",
       "dishwasher                0.386943       -0.054824   0.146236       0.190266  \n",
       "house                     0.018717       -0.004582  -0.006785      -0.003345  \n",
       "shower_cabin              0.295587       -0.016894   0.067112       0.108409  \n",
       "bathtub                   0.007911       -0.011595   0.004477      -0.013602  \n",
       "furniture                -0.075608       -0.019300  -0.005097      -0.010771  \n",
       "ac                        0.269788       -0.070769   0.159400       0.169937  \n",
       "telephone                 0.100350       -0.035782   0.003056       0.012789  \n",
       "washing_machine          -0.036516       -0.023285  -0.018359      -0.031816  \n",
       "kitchen_furniture         0.023436       -0.005015  -0.012799      -0.018252  \n",
       "ht_block                       NaN             NaN        NaN            NaN  \n",
       "ht_wood                        NaN             NaN        NaN            NaN  \n",
       "ht_mobrick                     NaN             NaN        NaN            NaN  \n",
       "ht_mo                          NaN             NaN        NaN            NaN  \n",
       "ht_panel                       NaN             NaN        NaN            NaN  \n",
       "ht_stali                       NaN             NaN        NaN            NaN  \n",
       "ht_schi                        NaN             NaN        NaN            NaN  \n",
       "ht_old                         NaN             NaN        NaN            NaN  \n",
       "ht_brick                       NaN             NaN        NaN            NaN  \n",
       "elev_serv                 0.149480        0.020718   0.283249       0.405787  \n",
       "elev_pass                 0.110048       -0.027936   0.332378       0.426444  \n",
       "animal                    0.035907       -0.006572  -0.029946      -0.031830  \n",
       "child                    -0.002268        0.019326  -0.009734      -0.024049  \n",
       "price                     0.521398       -0.024180   0.053813       0.059080  \n",
       "ceiling_std               0.099858       -0.026502   0.003500       0.003315  \n",
       "rooms_std                 0.445209       -0.013124   0.024994       0.008658  \n",
       "total_m2_std              0.599922        0.003315   0.084493       0.091788  \n",
       "toilet_unted_std          0.324137        0.004855   0.047675       0.088371  \n",
       "live_m2_std               0.589922       -0.001117   0.076429       0.075285  \n",
       "kitchen_m2_std            1.000000       -0.002864   0.173331       0.236108  \n",
       "metro_walk_std           -0.002864        1.000000  -0.014177      -0.002700  \n",
       "floor_std                 0.173331       -0.014177   1.000000       0.654217  \n",
       "tot_floor_std             0.236108       -0.002700   0.654217       1.000000  \n",
       "\n",
       "[58 rows x 58 columns]"
      ]
     },
     "execution_count": 232,
     "metadata": {},
     "output_type": "execute_result"
    }
   ],
   "source": [
    "correlation_matrix = data2.corr()\n",
    "# plot = plt.figure(figsize=(10, 8))\n",
    "# sns.heatmap(correlation_matrix, annot=True, cmap='coolwarm', fmt=\".2f\", linewidths=0.5)\n",
    "# plt.title(f'Тепловая карта корреляции')\n",
    "# plt.show()\n",
    "correlation_matrix"
   ]
  },
  {
   "cell_type": "code",
   "execution_count": null,
   "metadata": {},
   "outputs": [
    {
     "name": "stdout",
     "output_type": "stream",
     "text": [
      "                            OLS Regression Results                            \n",
      "==============================================================================\n",
      "Dep. Variable:                  price   R-squared:                       0.667\n",
      "Model:                            OLS   Adj. R-squared:                  0.666\n",
      "Method:                 Least Squares   F-statistic:                     886.6\n",
      "Date:                Mon, 30 Dec 2024   Prob (F-statistic):               0.00\n",
      "Time:                        10:14:09   Log-Likelihood:            -2.4783e+05\n",
      "No. Observations:               19530   AIC:                         4.958e+05\n",
      "Df Residuals:                   19485   BIC:                         4.961e+05\n",
      "Df Model:                          44                                         \n",
      "Covariance Type:            nonrobust                                         \n",
      "======================================================================================\n",
      "                         coef    std err          t      P>|t|      [0.025      0.975]\n",
      "--------------------------------------------------------------------------------------\n",
      "const               4.119e+04   5568.891      7.397      0.000    3.03e+04    5.21e+04\n",
      "utilities_included -3.376e+04   2217.533    -15.225      0.000   -3.81e+04   -2.94e+04\n",
      "rent_length          248.1041    382.342      0.649      0.516    -501.318     997.527\n",
      "remont_cosm        -2025.2747   1911.719     -1.059      0.289   -5772.407    1721.858\n",
      "remont_no           1.365e+04   2801.872      4.870      0.000    8153.884    1.91e+04\n",
      "remont_euro         -853.7380   1863.494     -0.458      0.647   -4506.346    2798.870\n",
      "remont_design       3.042e+04   2125.988     14.311      0.000    2.63e+04    3.46e+04\n",
      "toilet_sep          2.146e+04   1835.794     11.691      0.000    1.79e+04    2.51e+04\n",
      "window_back         1.287e+04   2054.234      6.266      0.000    8845.075    1.69e+04\n",
      "windowb_bs          1.008e+04   2241.372      4.499      0.000    5689.989    1.45e+04\n",
      "window_street       1.824e+04   2278.158      8.005      0.000    1.38e+04    2.27e+04\n",
      "street                -1.6320      1.199     -1.361      0.174      -3.983       0.718\n",
      "balcony            -7423.3899   1882.799     -3.943      0.000   -1.11e+04   -3732.943\n",
      "loggia             -1.762e+04   1733.557    -10.165      0.000    -2.1e+04   -1.42e+04\n",
      "rooms_sep           2.009e+04   3734.310      5.381      0.000    1.28e+04    2.74e+04\n",
      "rooms_unted         1.918e+04   3971.708      4.828      0.000    1.14e+04     2.7e+04\n",
      "price_advance        747.6193   2521.379      0.297      0.767   -4194.499    5689.738\n",
      "deposit             4.658e-06   8.04e-06      0.579      0.562   -1.11e-05    2.04e-05\n",
      "g_chute             3427.0675   1321.981      2.592      0.010     835.871    6018.264\n",
      "parking_roof        1.643e+04    6.4e+04      0.257      0.797   -1.09e+05    1.42e+05\n",
      "parking_open        3672.6922    1.5e+04      0.244      0.807   -2.58e+04    3.31e+04\n",
      "parking_ground      6438.2807   1.48e+04      0.434      0.664   -2.27e+04    3.55e+04\n",
      "parking_mlevel     -1407.7052   1.61e+04     -0.088      0.930   -3.29e+04    3.01e+04\n",
      "parking_ug          1.606e+04   1.49e+04      1.079      0.281   -1.31e+04    4.52e+04\n",
      "tv                   -16.1794   1515.809     -0.011      0.991   -2987.295    2954.936\n",
      "frig               -2972.7869   4291.874     -0.693      0.489   -1.14e+04    5439.654\n",
      "internet           -1428.2856   1631.580     -0.875      0.381   -4626.322    1769.751\n",
      "dishwasher         -2960.7283   1584.916     -1.868      0.062   -6067.299     145.843\n",
      "house                 -4.8861      1.014     -4.816      0.000      -6.875      -2.898\n",
      "shower_cabin        1.524e+04   1759.710      8.660      0.000    1.18e+04    1.87e+04\n",
      "bathtub             1.132e+04   1593.366      7.105      0.000    8197.550    1.44e+04\n",
      "furniture           8745.2677   2533.742      3.452      0.001    3778.916    1.37e+04\n",
      "ac                 -5861.6714   1444.653     -4.057      0.000   -8693.314   -3030.029\n",
      "telephone           6443.4161   1546.607      4.166      0.000    3411.934    9474.898\n",
      "washing_machine    -9186.2553   3377.147     -2.720      0.007   -1.58e+04   -2566.757\n",
      "kitchen_furniture   9710.3927   3877.068      2.505      0.012    2111.007    1.73e+04\n",
      "ht_block           -4.149e-12   3.95e-12     -1.049      0.294   -1.19e-11     3.6e-12\n",
      "ht_wood            -2.978e-13    2.5e-13     -1.190      0.234   -7.88e-13    1.93e-13\n",
      "ht_mobrick         -6.237e-13   2.17e-13     -2.872      0.004   -1.05e-12   -1.98e-13\n",
      "ht_mo              -1.701e-12   1.94e-13     -8.751      0.000   -2.08e-12   -1.32e-12\n",
      "ht_panel            2.946e-12   4.18e-13      7.047      0.000    2.13e-12    3.77e-12\n",
      "ht_stali            1.654e-12   3.64e-13      4.549      0.000    9.41e-13    2.37e-12\n",
      "ht_schi            -2.799e-12   2.11e-13    -13.270      0.000   -3.21e-12   -2.39e-12\n",
      "ht_old             -3.545e-12   3.15e-13    -11.260      0.000   -4.16e-12   -2.93e-12\n",
      "ht_brick            3.372e-12   2.97e-13     11.365      0.000    2.79e-12    3.95e-12\n",
      "elev_serv           1345.9548    936.637      1.437      0.151    -489.934    3181.844\n",
      "elev_pass           3312.8020    298.663     11.092      0.000    2727.396    3898.208\n",
      "animal              4229.7085   1312.542      3.223      0.001    1657.014    6802.403\n",
      "child              -7266.7158   1442.101     -5.039      0.000   -1.01e+04   -4440.074\n",
      "ceiling_std         1470.1841    612.676      2.400      0.016     269.287    2671.082\n",
      "rooms_std          -4.296e+04   3796.585    -11.315      0.000   -5.04e+04   -3.55e+04\n",
      "total_m2_std        7.363e+04   1778.125     41.408      0.000    7.01e+04    7.71e+04\n",
      "toilet_unted_std    1.508e+04   1165.754     12.939      0.000    1.28e+04    1.74e+04\n",
      "live_m2_std         3.526e+04   1720.305     20.494      0.000    3.19e+04    3.86e+04\n",
      "kitchen_m2_std      5111.3725    763.698      6.693      0.000    3614.460    6608.285\n",
      "metro_walk_std     -3228.9479    566.485     -5.700      0.000   -4339.307   -2118.589\n",
      "floor_std           -545.2186    752.488     -0.725      0.469   -2020.160     929.723\n",
      "tot_floor_std      -9370.0353    855.170    -10.957      0.000    -1.1e+04   -7693.829\n",
      "==============================================================================\n",
      "Omnibus:                    31160.785   Durbin-Watson:                   1.173\n",
      "Prob(Omnibus):                  0.000   Jarque-Bera (JB):         49588104.970\n",
      "Skew:                          10.010   Prob(JB):                         0.00\n",
      "Kurtosis:                     249.043   Cond. No.                     2.53e+16\n",
      "==============================================================================\n",
      "\n",
      "Notes:\n",
      "[1] Standard Errors assume that the covariance matrix of the errors is correctly specified.\n",
      "[2] The smallest eigenvalue is 1.49e-13. This might indicate that there are\n",
      "strong multicollinearity problems or that the design matrix is singular.\n"
     ]
    }
   ],
   "source": [
    "# пробуем модель\n",
    "y = data2['price']\n",
    "data2.drop('price', axis=1, inplace=True)\n",
    "\n",
    "\n",
    "live01 = sm.add_constant(data2)\n",
    "model_live01 = OLS(y, live01, hasconst=True)\n",
    "results_live01 = model_live01.fit()\n",
    "print(results_live01.summary())\n",
    "\n",
    "# R-squared:\n",
    "#   вер 1 от 27-12-2024 : 0.085 \n",
    "#   вер 2 от 28-12-2024 : 0.635\n",
    "#   вер 3 от 28-12-2024 : 0.643 (+toilets)\n",
    "#   вер 4 от 28-12-2024 : 0.647 (+balkony)\n",
    "#   вер 5 от 28-12-2024 : 0.658 (+rooms)\n",
    "#   вер 6 от 29-12-2024 : 0.661 (+metro)\n",
    "#   вер 7 от 29-12-2024 : 0.672 (+additionals)"
   ]
  },
  {
   "cell_type": "code",
   "execution_count": 234,
   "metadata": {},
   "outputs": [
    {
     "name": "stdout",
     "output_type": "stream",
     "text": [
      "<class 'pandas.core.frame.DataFrame'>\n",
      "RangeIndex: 19530 entries, 0 to 19529\n",
      "Data columns (total 57 columns):\n",
      " #   Column              Non-Null Count  Dtype  \n",
      "---  ------              --------------  -----  \n",
      " 0   utilities_included  19530 non-null  int64  \n",
      " 1   rent_length         19530 non-null  float64\n",
      " 2   remont_cosm         19530 non-null  int64  \n",
      " 3   remont_no           19530 non-null  int64  \n",
      " 4   remont_euro         19530 non-null  int64  \n",
      " 5   remont_design       19530 non-null  int64  \n",
      " 6   toilet_sep          19530 non-null  float64\n",
      " 7   window_back         19530 non-null  int64  \n",
      " 8   windowb_bs          19530 non-null  int64  \n",
      " 9   window_street       19530 non-null  int64  \n",
      " 10  street              19530 non-null  int64  \n",
      " 11  balcony             19530 non-null  float64\n",
      " 12  loggia              19530 non-null  float64\n",
      " 13  rooms_sep           19530 non-null  float64\n",
      " 14  rooms_unted         19530 non-null  float64\n",
      " 15  price_advance       19530 non-null  float64\n",
      " 16  deposit             19530 non-null  float64\n",
      " 17  g_chute             19530 non-null  int64  \n",
      " 18  parking_roof        19530 non-null  int64  \n",
      " 19  parking_open        19530 non-null  int64  \n",
      " 20  parking_ground      19530 non-null  int64  \n",
      " 21  parking_mlevel      19530 non-null  int64  \n",
      " 22  parking_ug          19530 non-null  int64  \n",
      " 23  tv                  19530 non-null  int64  \n",
      " 24  frig                19530 non-null  int64  \n",
      " 25  internet            19530 non-null  int64  \n",
      " 26  dishwasher          19530 non-null  int64  \n",
      " 27  house               19530 non-null  int64  \n",
      " 28  shower_cabin        19530 non-null  int64  \n",
      " 29  bathtub             19530 non-null  int64  \n",
      " 30  furniture           19530 non-null  int64  \n",
      " 31  ac                  19530 non-null  int64  \n",
      " 32  telephone           19530 non-null  int64  \n",
      " 33  washing_machine     19530 non-null  int64  \n",
      " 34  kitchen_furniture   19530 non-null  int64  \n",
      " 35  ht_block            19530 non-null  int64  \n",
      " 36  ht_wood             19530 non-null  int64  \n",
      " 37  ht_mobrick          19530 non-null  int64  \n",
      " 38  ht_mo               19530 non-null  int64  \n",
      " 39  ht_panel            19530 non-null  int64  \n",
      " 40  ht_stali            19530 non-null  int64  \n",
      " 41  ht_schi             19530 non-null  int64  \n",
      " 42  ht_old              19530 non-null  int64  \n",
      " 43  ht_brick            19530 non-null  int64  \n",
      " 44  elev_serv           19530 non-null  int64  \n",
      " 45  elev_pass           19530 non-null  int64  \n",
      " 46  animal              19530 non-null  int64  \n",
      " 47  child               19530 non-null  int64  \n",
      " 48  ceiling_std         19530 non-null  float64\n",
      " 49  rooms_std           19530 non-null  float64\n",
      " 50  total_m2_std        19530 non-null  float64\n",
      " 51  toilet_unted_std    19530 non-null  float64\n",
      " 52  live_m2_std         19530 non-null  float64\n",
      " 53  kitchen_m2_std      19530 non-null  float64\n",
      " 54  metro_walk_std      19530 non-null  float64\n",
      " 55  floor_std           19530 non-null  float64\n",
      " 56  tot_floor_std       19530 non-null  float64\n",
      "dtypes: float64(17), int64(40)\n",
      "memory usage: 8.5 MB\n"
     ]
    }
   ],
   "source": [
    "data2.info()"
   ]
  },
  {
   "cell_type": "code",
   "execution_count": 237,
   "metadata": {},
   "outputs": [],
   "source": [
    "# сохраним файл\n",
    "data2.to_csv('/home/andrey/Documents/Working/_data_edited Rev2.csv', index=False)"
   ]
  }
 ],
 "metadata": {
  "kernelspec": {
   "display_name": ".venv01",
   "language": "python",
   "name": "python3"
  },
  "language_info": {
   "codemirror_mode": {
    "name": "ipython",
    "version": 3
   },
   "file_extension": ".py",
   "mimetype": "text/x-python",
   "name": "python",
   "nbconvert_exporter": "python",
   "pygments_lexer": "ipython3",
   "version": "3.12.3"
  }
 },
 "nbformat": 4,
 "nbformat_minor": 4
}
